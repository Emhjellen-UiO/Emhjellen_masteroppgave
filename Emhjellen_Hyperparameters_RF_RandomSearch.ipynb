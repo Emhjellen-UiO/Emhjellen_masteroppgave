{
 "cells": [
  {
   "cell_type": "code",
   "execution_count": 4,
   "metadata": {},
   "outputs": [],
   "source": [
    "import numpy as np\n",
    "import pandas as pd\n",
    "import os\n",
    "import matplotlib.pyplot as plt\n",
    "from sklearn.preprocessing import StandardScaler\n",
    "\n",
    "\n",
    "from sklearn.ensemble import RandomForestClassifier\n",
    "\n",
    "from sklearn.model_selection import train_test_split,GridSearchCV\n",
    "from sklearn.metrics import roc_auc_score,accuracy_score,confusion_matrix\n",
    "from sklearn.metrics import recall_score,roc_curve,auc\n",
    "from pandas.plotting import scatter_matrix\n",
    "from sklearn.datasets import load_digits\n",
    "from sklearn.model_selection import RandomizedSearchCV\n"
   ]
  },
  {
   "cell_type": "code",
   "execution_count": 5,
   "metadata": {},
   "outputs": [],
   "source": [
    "train_X = pd.read_excel('ML_training_features.xlsx')\n",
    "train_y = pd.read_excel('ML_training_target.xlsx')"
   ]
  },
  {
   "cell_type": "code",
   "execution_count": 6,
   "metadata": {},
   "outputs": [],
   "source": [
    "validation_X = pd.read_excel('ML_validation_features.xlsx')\n",
    "validation_y = pd.read_excel('ML_validation_target.xlsx')"
   ]
  },
  {
   "cell_type": "code",
   "execution_count": 7,
   "metadata": {},
   "outputs": [],
   "source": [
    "validation_y = validation_y['ReleaseArea']\n",
    "train_y = train_y['ReleaseArea']"
   ]
  },
  {
   "cell_type": "code",
   "execution_count": 8,
   "metadata": {},
   "outputs": [
    {
     "data": {
      "text/plain": [
       "-0.42581479283416024"
      ]
     },
     "execution_count": 8,
     "metadata": {},
     "output_type": "execute_result"
    }
   ],
   "source": [
    "train_X['Distance_to_roads'].corr(train_y )"
   ]
  },
  {
   "cell_type": "code",
   "execution_count": null,
   "metadata": {},
   "outputs": [],
   "source": [
    "train_X['Flow_dir'].corr(train_y )"
   ]
  },
  {
   "cell_type": "code",
   "execution_count": null,
   "metadata": {},
   "outputs": [],
   "source": [
    "train_X['Flow_acc'].corr(train_y )"
   ]
  },
  {
   "cell_type": "code",
   "execution_count": null,
   "metadata": {},
   "outputs": [],
   "source": [
    "train_X['Slope'].corr(train_y )"
   ]
  },
  {
   "cell_type": "code",
   "execution_count": null,
   "metadata": {},
   "outputs": [],
   "source": [
    "train_X['Elevation'].corr(train_y )"
   ]
  },
  {
   "cell_type": "code",
   "execution_count": null,
   "metadata": {},
   "outputs": [],
   "source": [
    "train_X['Profile_curv'].corr(train_y )"
   ]
  },
  {
   "cell_type": "code",
   "execution_count": null,
   "metadata": {},
   "outputs": [],
   "source": [
    "train_X['Plan_curv'].corr(train_y )"
   ]
  },
  {
   "cell_type": "code",
   "execution_count": null,
   "metadata": {},
   "outputs": [],
   "source": [
    "train_X['TRI'].corr(train_y )"
   ]
  },
  {
   "cell_type": "code",
   "execution_count": null,
   "metadata": {},
   "outputs": [],
   "source": [
    "train_X.columns"
   ]
  },
  {
   "cell_type": "code",
   "execution_count": 9,
   "metadata": {},
   "outputs": [],
   "source": [
    "# feature combinations\n",
    "p1 = ['Slope']\n",
    "\n",
    "p2 = ['Slope','Elevation']\n",
    "\n",
    "p3 = ['Slope','North','East','North East','North West','South','South East','South West','West']\n",
    "\n",
    "p4 = ['Slope','Elevation','Plan_curv','Profile_curv','TRI','Distance_to_roads']\n",
    "\n",
    "p5 = ['Slope','Elevation','Plan_curv','Profile_curv','TRI','Flow_dir','Flow_acc','Distance_to_roads']\n",
    "\n",
    "p6 = ['Slope','Elevation','Plan_curv','Profile_curv','TRI']\n",
    "\n",
    "p7 = ['Elevation','North','East','North East','North West','South','South East','South West','West','Plan_curv','Profile_curv','TRI','Flow_dir','Flow_acc','Distance_to_roads']\n",
    "\n",
    "p8 = ['Slope','Elevation','North','East','North East','North West','South','South East','South West','West','Plan_curv','Profile_curv','TRI','Flow_dir','Flow_acc','Distance_to_roads',\n",
    "      'Granite','Granodiorite','Tonalite','Trondhjemite','Syenite','Monzonite','Monzodiorite','Quartz diorite','Diorite','Gabbro','Norite','Peridotite','Pyroksenite','Charnockite','Mangerite','Anorthosite','Mafic dyke (Diabase, Dolerite)','Pegmatite/aplite','Felsic volcanic rock','Rhyolite','Dacite','Intermediate volcanic rock','Andesite','Mafic volcanic rock','Basalt',\n",
    "                  'Pyroclastic rock','Volcanic breccia','Siltstone','Sandstone','Greywacke','Arkose','Konglomerate','Sedimentary breccia','Limestone','Tuffite','Shale','Phyllite','Mica schist','Garnet mica schist','Calcareous phyllite','Calcareous mica schist','Amphibole schist','Graphitic schist','Calcite marble',\n",
    "                 'Metasandstone','Metagreywacke','Meta-arkose','Quartzite','Quartz schist','Mica gneiss','Calc-silicate rock','Amphibole gneiss','Granitic gneiss','Granodioritic gneiss','Tonalitic gneiss','Quartz dioritic gneiss','Monzonitic gneiss','Dioritic gneis','Orthopyroxene gneiss','Migmatite','Augengneiss',\n",
    "                    'Banded gneiss','Greenschist','Greenstone','Amphibolite','Metagabbro','Eclogite','Serpentinite','Mylonite/Phyllonite','Cataclasite']\n",
    "\n",
    "feature_combinations = [p1,p2,p3,p4,p5,p6,p7,p8]"
   ]
  },
  {
   "cell_type": "code",
   "execution_count": 11,
   "metadata": {},
   "outputs": [
    {
     "name": "stdout",
     "output_type": "stream",
     "text": [
      "Fitting 5 folds for each of 10 candidates, totalling 50 fits\n",
      "[CV] n_estimators=66, min_samples_leaf=2, max_depth=36 ...............\n"
     ]
    },
    {
     "name": "stderr",
     "output_type": "stream",
     "text": [
      "[Parallel(n_jobs=1)]: Using backend SequentialBackend with 1 concurrent workers.\n"
     ]
    },
    {
     "name": "stdout",
     "output_type": "stream",
     "text": [
      "[CV]  n_estimators=66, min_samples_leaf=2, max_depth=36, score=0.893, total=   4.0s\n",
      "[CV] n_estimators=66, min_samples_leaf=2, max_depth=36 ...............\n"
     ]
    },
    {
     "name": "stderr",
     "output_type": "stream",
     "text": [
      "[Parallel(n_jobs=1)]: Done   1 out of   1 | elapsed:    3.9s remaining:    0.0s\n"
     ]
    },
    {
     "name": "stdout",
     "output_type": "stream",
     "text": [
      "[CV]  n_estimators=66, min_samples_leaf=2, max_depth=36, score=0.891, total=   1.2s\n",
      "[CV] n_estimators=66, min_samples_leaf=2, max_depth=36 ...............\n"
     ]
    },
    {
     "name": "stderr",
     "output_type": "stream",
     "text": [
      "[Parallel(n_jobs=1)]: Done   2 out of   2 | elapsed:    5.1s remaining:    0.0s\n"
     ]
    },
    {
     "name": "stdout",
     "output_type": "stream",
     "text": [
      "[CV]  n_estimators=66, min_samples_leaf=2, max_depth=36, score=0.893, total=   1.0s\n",
      "[CV] n_estimators=66, min_samples_leaf=2, max_depth=36 ...............\n",
      "[CV]  n_estimators=66, min_samples_leaf=2, max_depth=36, score=0.895, total=   1.0s\n",
      "[CV] n_estimators=66, min_samples_leaf=2, max_depth=36 ...............\n",
      "[CV]  n_estimators=66, min_samples_leaf=2, max_depth=36, score=0.892, total=   1.0s\n",
      "[CV] n_estimators=65, min_samples_leaf=1, max_depth=25 ...............\n",
      "[CV]  n_estimators=65, min_samples_leaf=1, max_depth=25, score=0.870, total=   0.9s\n",
      "[CV] n_estimators=65, min_samples_leaf=1, max_depth=25 ...............\n",
      "[CV]  n_estimators=65, min_samples_leaf=1, max_depth=25, score=0.864, total=   0.9s\n",
      "[CV] n_estimators=65, min_samples_leaf=1, max_depth=25 ...............\n",
      "[CV]  n_estimators=65, min_samples_leaf=1, max_depth=25, score=0.867, total=   1.0s\n",
      "[CV] n_estimators=65, min_samples_leaf=1, max_depth=25 ...............\n",
      "[CV]  n_estimators=65, min_samples_leaf=1, max_depth=25, score=0.876, total=   1.0s\n",
      "[CV] n_estimators=65, min_samples_leaf=1, max_depth=25 ...............\n",
      "[CV]  n_estimators=65, min_samples_leaf=1, max_depth=25, score=0.870, total=   1.0s\n",
      "[CV] n_estimators=59, min_samples_leaf=2, max_depth=28 ...............\n",
      "[CV]  n_estimators=59, min_samples_leaf=2, max_depth=28, score=0.896, total=   0.9s\n",
      "[CV] n_estimators=59, min_samples_leaf=2, max_depth=28 ...............\n",
      "[CV]  n_estimators=59, min_samples_leaf=2, max_depth=28, score=0.892, total=   0.9s\n",
      "[CV] n_estimators=59, min_samples_leaf=2, max_depth=28 ...............\n",
      "[CV]  n_estimators=59, min_samples_leaf=2, max_depth=28, score=0.894, total=   0.9s\n",
      "[CV] n_estimators=59, min_samples_leaf=2, max_depth=28 ...............\n",
      "[CV]  n_estimators=59, min_samples_leaf=2, max_depth=28, score=0.898, total=   0.9s\n",
      "[CV] n_estimators=59, min_samples_leaf=2, max_depth=28 ...............\n",
      "[CV]  n_estimators=59, min_samples_leaf=2, max_depth=28, score=0.894, total=   0.8s\n",
      "[CV] n_estimators=52, min_samples_leaf=1, max_depth=39 ...............\n",
      "[CV]  n_estimators=52, min_samples_leaf=1, max_depth=39, score=0.861, total=   0.8s\n",
      "[CV] n_estimators=52, min_samples_leaf=1, max_depth=39 ...............\n",
      "[CV]  n_estimators=52, min_samples_leaf=1, max_depth=39, score=0.855, total=   0.8s\n",
      "[CV] n_estimators=52, min_samples_leaf=1, max_depth=39 ...............\n",
      "[CV]  n_estimators=52, min_samples_leaf=1, max_depth=39, score=0.858, total=   0.8s\n",
      "[CV] n_estimators=52, min_samples_leaf=1, max_depth=39 ...............\n",
      "[CV]  n_estimators=52, min_samples_leaf=1, max_depth=39, score=0.869, total=   0.8s\n",
      "[CV] n_estimators=52, min_samples_leaf=1, max_depth=39 ...............\n",
      "[CV]  n_estimators=52, min_samples_leaf=1, max_depth=39, score=0.859, total=   0.8s\n",
      "[CV] n_estimators=51, min_samples_leaf=2, max_depth=10 ...............\n",
      "[CV]  n_estimators=51, min_samples_leaf=2, max_depth=10, score=0.907, total=   0.6s\n",
      "[CV] n_estimators=51, min_samples_leaf=2, max_depth=10 ...............\n",
      "[CV]  n_estimators=51, min_samples_leaf=2, max_depth=10, score=0.910, total=   0.6s\n",
      "[CV] n_estimators=51, min_samples_leaf=2, max_depth=10 ...............\n",
      "[CV]  n_estimators=51, min_samples_leaf=2, max_depth=10, score=0.910, total=   0.6s\n",
      "[CV] n_estimators=51, min_samples_leaf=2, max_depth=10 ...............\n",
      "[CV]  n_estimators=51, min_samples_leaf=2, max_depth=10, score=0.907, total=   0.6s\n",
      "[CV] n_estimators=51, min_samples_leaf=2, max_depth=10 ...............\n",
      "[CV]  n_estimators=51, min_samples_leaf=2, max_depth=10, score=0.914, total=   0.6s\n",
      "[CV] n_estimators=53, min_samples_leaf=1, max_depth=10 ...............\n",
      "[CV]  n_estimators=53, min_samples_leaf=1, max_depth=10, score=0.905, total=   0.6s\n",
      "[CV] n_estimators=53, min_samples_leaf=1, max_depth=10 ...............\n",
      "[CV]  n_estimators=53, min_samples_leaf=1, max_depth=10, score=0.909, total=   0.6s\n",
      "[CV] n_estimators=53, min_samples_leaf=1, max_depth=10 ...............\n",
      "[CV]  n_estimators=53, min_samples_leaf=1, max_depth=10, score=0.908, total=   0.6s\n",
      "[CV] n_estimators=53, min_samples_leaf=1, max_depth=10 ...............\n",
      "[CV]  n_estimators=53, min_samples_leaf=1, max_depth=10, score=0.907, total=   0.7s\n",
      "[CV] n_estimators=53, min_samples_leaf=1, max_depth=10 ...............\n",
      "[CV]  n_estimators=53, min_samples_leaf=1, max_depth=10, score=0.914, total=   0.6s\n",
      "[CV] n_estimators=42, min_samples_leaf=1, max_depth=39 ...............\n",
      "[CV]  n_estimators=42, min_samples_leaf=1, max_depth=39, score=0.862, total=   0.6s\n",
      "[CV] n_estimators=42, min_samples_leaf=1, max_depth=39 ...............\n",
      "[CV]  n_estimators=42, min_samples_leaf=1, max_depth=39, score=0.856, total=   0.6s\n",
      "[CV] n_estimators=42, min_samples_leaf=1, max_depth=39 ...............\n",
      "[CV]  n_estimators=42, min_samples_leaf=1, max_depth=39, score=0.858, total=   0.6s\n",
      "[CV] n_estimators=42, min_samples_leaf=1, max_depth=39 ...............\n",
      "[CV]  n_estimators=42, min_samples_leaf=1, max_depth=39, score=0.869, total=   0.6s\n",
      "[CV] n_estimators=42, min_samples_leaf=1, max_depth=39 ...............\n",
      "[CV]  n_estimators=42, min_samples_leaf=1, max_depth=39, score=0.859, total=   0.6s\n",
      "[CV] n_estimators=63, min_samples_leaf=1, max_depth=41 ...............\n",
      "[CV]  n_estimators=63, min_samples_leaf=1, max_depth=41, score=0.861, total=   0.9s\n",
      "[CV] n_estimators=63, min_samples_leaf=1, max_depth=41 ...............\n",
      "[CV]  n_estimators=63, min_samples_leaf=1, max_depth=41, score=0.855, total=   0.9s\n",
      "[CV] n_estimators=63, min_samples_leaf=1, max_depth=41 ...............\n",
      "[CV]  n_estimators=63, min_samples_leaf=1, max_depth=41, score=0.857, total=   0.9s\n",
      "[CV] n_estimators=63, min_samples_leaf=1, max_depth=41 ...............\n",
      "[CV]  n_estimators=63, min_samples_leaf=1, max_depth=41, score=0.869, total=   0.9s\n",
      "[CV] n_estimators=63, min_samples_leaf=1, max_depth=41 ...............\n",
      "[CV]  n_estimators=63, min_samples_leaf=1, max_depth=41, score=0.858, total=   0.9s\n",
      "[CV] n_estimators=69, min_samples_leaf=1, max_depth=12 ...............\n",
      "[CV]  n_estimators=69, min_samples_leaf=1, max_depth=12, score=0.902, total=   0.9s\n",
      "[CV] n_estimators=69, min_samples_leaf=1, max_depth=12 ...............\n",
      "[CV]  n_estimators=69, min_samples_leaf=1, max_depth=12, score=0.908, total=   0.8s\n",
      "[CV] n_estimators=69, min_samples_leaf=1, max_depth=12 ...............\n",
      "[CV]  n_estimators=69, min_samples_leaf=1, max_depth=12, score=0.905, total=   0.9s\n",
      "[CV] n_estimators=69, min_samples_leaf=1, max_depth=12 ...............\n",
      "[CV]  n_estimators=69, min_samples_leaf=1, max_depth=12, score=0.904, total=   0.9s\n",
      "[CV] n_estimators=69, min_samples_leaf=1, max_depth=12 ...............\n",
      "[CV]  n_estimators=69, min_samples_leaf=1, max_depth=12, score=0.910, total=   1.0s\n",
      "[CV] n_estimators=51, min_samples_leaf=2, max_depth=16 ...............\n",
      "[CV]  n_estimators=51, min_samples_leaf=2, max_depth=16, score=0.901, total=   0.7s\n",
      "[CV] n_estimators=51, min_samples_leaf=2, max_depth=16 ...............\n",
      "[CV]  n_estimators=51, min_samples_leaf=2, max_depth=16, score=0.905, total=   0.7s\n",
      "[CV] n_estimators=51, min_samples_leaf=2, max_depth=16 ...............\n",
      "[CV]  n_estimators=51, min_samples_leaf=2, max_depth=16, score=0.901, total=   0.7s\n",
      "[CV] n_estimators=51, min_samples_leaf=2, max_depth=16 ...............\n",
      "[CV]  n_estimators=51, min_samples_leaf=2, max_depth=16, score=0.900, total=   0.7s\n",
      "[CV] n_estimators=51, min_samples_leaf=2, max_depth=16 ...............\n",
      "[CV]  n_estimators=51, min_samples_leaf=2, max_depth=16, score=0.904, total=   0.7s\n"
     ]
    },
    {
     "name": "stderr",
     "output_type": "stream",
     "text": [
      "[Parallel(n_jobs=1)]: Done  50 out of  50 | elapsed:   43.0s finished\n"
     ]
    },
    {
     "name": "stdout",
     "output_type": "stream",
     "text": [
      "Fitting 5 folds for each of 10 candidates, totalling 50 fits\n",
      "[CV] n_estimators=64, min_samples_leaf=1, max_depth=38 ...............\n"
     ]
    },
    {
     "name": "stderr",
     "output_type": "stream",
     "text": [
      "[Parallel(n_jobs=1)]: Using backend SequentialBackend with 1 concurrent workers.\n"
     ]
    },
    {
     "name": "stdout",
     "output_type": "stream",
     "text": [
      "[CV]  n_estimators=64, min_samples_leaf=1, max_depth=38, score=0.913, total=   0.9s\n",
      "[CV] n_estimators=64, min_samples_leaf=1, max_depth=38 ...............\n"
     ]
    },
    {
     "name": "stderr",
     "output_type": "stream",
     "text": [
      "[Parallel(n_jobs=1)]: Done   1 out of   1 | elapsed:    0.8s remaining:    0.0s\n"
     ]
    },
    {
     "name": "stdout",
     "output_type": "stream",
     "text": [
      "[CV]  n_estimators=64, min_samples_leaf=1, max_depth=38, score=0.911, total=   0.8s\n",
      "[CV] n_estimators=64, min_samples_leaf=1, max_depth=38 ...............\n"
     ]
    },
    {
     "name": "stderr",
     "output_type": "stream",
     "text": [
      "[Parallel(n_jobs=1)]: Done   2 out of   2 | elapsed:    1.6s remaining:    0.0s\n"
     ]
    },
    {
     "name": "stdout",
     "output_type": "stream",
     "text": [
      "[CV]  n_estimators=64, min_samples_leaf=1, max_depth=38, score=0.910, total=   0.8s\n",
      "[CV] n_estimators=64, min_samples_leaf=1, max_depth=38 ...............\n",
      "[CV]  n_estimators=64, min_samples_leaf=1, max_depth=38, score=0.915, total=   0.9s\n",
      "[CV] n_estimators=64, min_samples_leaf=1, max_depth=38 ...............\n",
      "[CV]  n_estimators=64, min_samples_leaf=1, max_depth=38, score=0.915, total=   0.8s\n",
      "[CV] n_estimators=53, min_samples_leaf=2, max_depth=33 ...............\n",
      "[CV]  n_estimators=53, min_samples_leaf=2, max_depth=33, score=0.913, total=   0.7s\n",
      "[CV] n_estimators=53, min_samples_leaf=2, max_depth=33 ...............\n",
      "[CV]  n_estimators=53, min_samples_leaf=2, max_depth=33, score=0.915, total=   0.7s\n",
      "[CV] n_estimators=53, min_samples_leaf=2, max_depth=33 ...............\n",
      "[CV]  n_estimators=53, min_samples_leaf=2, max_depth=33, score=0.910, total=   0.7s\n",
      "[CV] n_estimators=53, min_samples_leaf=2, max_depth=33 ...............\n",
      "[CV]  n_estimators=53, min_samples_leaf=2, max_depth=33, score=0.919, total=   0.7s\n",
      "[CV] n_estimators=53, min_samples_leaf=2, max_depth=33 ...............\n",
      "[CV]  n_estimators=53, min_samples_leaf=2, max_depth=33, score=0.919, total=   0.7s\n",
      "[CV] n_estimators=52, min_samples_leaf=2, max_depth=23 ...............\n",
      "[CV]  n_estimators=52, min_samples_leaf=2, max_depth=23, score=0.915, total=   0.7s\n",
      "[CV] n_estimators=52, min_samples_leaf=2, max_depth=23 ...............\n",
      "[CV]  n_estimators=52, min_samples_leaf=2, max_depth=23, score=0.917, total=   0.7s\n",
      "[CV] n_estimators=52, min_samples_leaf=2, max_depth=23 ...............\n",
      "[CV]  n_estimators=52, min_samples_leaf=2, max_depth=23, score=0.910, total=   0.7s\n",
      "[CV] n_estimators=52, min_samples_leaf=2, max_depth=23 ...............\n",
      "[CV]  n_estimators=52, min_samples_leaf=2, max_depth=23, score=0.919, total=   0.7s\n",
      "[CV] n_estimators=52, min_samples_leaf=2, max_depth=23 ...............\n",
      "[CV]  n_estimators=52, min_samples_leaf=2, max_depth=23, score=0.920, total=   0.7s\n",
      "[CV] n_estimators=54, min_samples_leaf=1, max_depth=42 ...............\n",
      "[CV]  n_estimators=54, min_samples_leaf=1, max_depth=42, score=0.912, total=   0.7s\n",
      "[CV] n_estimators=54, min_samples_leaf=1, max_depth=42 ...............\n",
      "[CV]  n_estimators=54, min_samples_leaf=1, max_depth=42, score=0.913, total=   0.7s\n",
      "[CV] n_estimators=54, min_samples_leaf=1, max_depth=42 ...............\n",
      "[CV]  n_estimators=54, min_samples_leaf=1, max_depth=42, score=0.910, total=   0.7s\n",
      "[CV] n_estimators=54, min_samples_leaf=1, max_depth=42 ...............\n",
      "[CV]  n_estimators=54, min_samples_leaf=1, max_depth=42, score=0.914, total=   0.7s\n",
      "[CV] n_estimators=54, min_samples_leaf=1, max_depth=42 ...............\n",
      "[CV]  n_estimators=54, min_samples_leaf=1, max_depth=42, score=0.916, total=   0.7s\n",
      "[CV] n_estimators=60, min_samples_leaf=2, max_depth=21 ...............\n",
      "[CV]  n_estimators=60, min_samples_leaf=2, max_depth=21, score=0.914, total=   0.8s\n",
      "[CV] n_estimators=60, min_samples_leaf=2, max_depth=21 ...............\n",
      "[CV]  n_estimators=60, min_samples_leaf=2, max_depth=21, score=0.917, total=   0.8s\n",
      "[CV] n_estimators=60, min_samples_leaf=2, max_depth=21 ...............\n",
      "[CV]  n_estimators=60, min_samples_leaf=2, max_depth=21, score=0.913, total=   0.8s\n",
      "[CV] n_estimators=60, min_samples_leaf=2, max_depth=21 ...............\n",
      "[CV]  n_estimators=60, min_samples_leaf=2, max_depth=21, score=0.917, total=   0.7s\n",
      "[CV] n_estimators=60, min_samples_leaf=2, max_depth=21 ...............\n",
      "[CV]  n_estimators=60, min_samples_leaf=2, max_depth=21, score=0.921, total=   0.8s\n",
      "[CV] n_estimators=67, min_samples_leaf=2, max_depth=24 ...............\n",
      "[CV]  n_estimators=67, min_samples_leaf=2, max_depth=24, score=0.914, total=   0.9s\n",
      "[CV] n_estimators=67, min_samples_leaf=2, max_depth=24 ...............\n",
      "[CV]  n_estimators=67, min_samples_leaf=2, max_depth=24, score=0.918, total=   0.9s\n",
      "[CV] n_estimators=67, min_samples_leaf=2, max_depth=24 ...............\n",
      "[CV]  n_estimators=67, min_samples_leaf=2, max_depth=24, score=0.912, total=   0.9s\n",
      "[CV] n_estimators=67, min_samples_leaf=2, max_depth=24 ...............\n",
      "[CV]  n_estimators=67, min_samples_leaf=2, max_depth=24, score=0.918, total=   0.9s\n",
      "[CV] n_estimators=67, min_samples_leaf=2, max_depth=24 ...............\n",
      "[CV]  n_estimators=67, min_samples_leaf=2, max_depth=24, score=0.919, total=   0.9s\n",
      "[CV] n_estimators=58, min_samples_leaf=2, max_depth=16 ...............\n",
      "[CV]  n_estimators=58, min_samples_leaf=2, max_depth=16, score=0.920, total=   0.7s\n",
      "[CV] n_estimators=58, min_samples_leaf=2, max_depth=16 ...............\n",
      "[CV]  n_estimators=58, min_samples_leaf=2, max_depth=16, score=0.919, total=   0.7s\n",
      "[CV] n_estimators=58, min_samples_leaf=2, max_depth=16 ...............\n",
      "[CV]  n_estimators=58, min_samples_leaf=2, max_depth=16, score=0.915, total=   0.7s\n",
      "[CV] n_estimators=58, min_samples_leaf=2, max_depth=16 ...............\n",
      "[CV]  n_estimators=58, min_samples_leaf=2, max_depth=16, score=0.921, total=   0.7s\n",
      "[CV] n_estimators=58, min_samples_leaf=2, max_depth=16 ...............\n",
      "[CV]  n_estimators=58, min_samples_leaf=2, max_depth=16, score=0.922, total=   0.7s\n",
      "[CV] n_estimators=43, min_samples_leaf=1, max_depth=22 ...............\n",
      "[CV]  n_estimators=43, min_samples_leaf=1, max_depth=22, score=0.912, total=   0.6s\n",
      "[CV] n_estimators=43, min_samples_leaf=1, max_depth=22 ...............\n",
      "[CV]  n_estimators=43, min_samples_leaf=1, max_depth=22, score=0.913, total=   0.6s\n",
      "[CV] n_estimators=43, min_samples_leaf=1, max_depth=22 ...............\n",
      "[CV]  n_estimators=43, min_samples_leaf=1, max_depth=22, score=0.911, total=   0.6s\n",
      "[CV] n_estimators=43, min_samples_leaf=1, max_depth=22 ...............\n",
      "[CV]  n_estimators=43, min_samples_leaf=1, max_depth=22, score=0.918, total=   0.6s\n",
      "[CV] n_estimators=43, min_samples_leaf=1, max_depth=22 ...............\n",
      "[CV]  n_estimators=43, min_samples_leaf=1, max_depth=22, score=0.918, total=   0.6s\n",
      "[CV] n_estimators=43, min_samples_leaf=2, max_depth=46 ...............\n",
      "[CV]  n_estimators=43, min_samples_leaf=2, max_depth=46, score=0.913, total=   0.6s\n",
      "[CV] n_estimators=43, min_samples_leaf=2, max_depth=46 ...............\n",
      "[CV]  n_estimators=43, min_samples_leaf=2, max_depth=46, score=0.916, total=   0.6s\n",
      "[CV] n_estimators=43, min_samples_leaf=2, max_depth=46 ...............\n",
      "[CV]  n_estimators=43, min_samples_leaf=2, max_depth=46, score=0.911, total=   0.6s\n",
      "[CV] n_estimators=43, min_samples_leaf=2, max_depth=46 ...............\n",
      "[CV]  n_estimators=43, min_samples_leaf=2, max_depth=46, score=0.917, total=   0.6s\n",
      "[CV] n_estimators=43, min_samples_leaf=2, max_depth=46 ...............\n",
      "[CV]  n_estimators=43, min_samples_leaf=2, max_depth=46, score=0.918, total=   0.6s\n",
      "[CV] n_estimators=43, min_samples_leaf=2, max_depth=12 ...............\n",
      "[CV]  n_estimators=43, min_samples_leaf=2, max_depth=12, score=0.920, total=   0.5s\n",
      "[CV] n_estimators=43, min_samples_leaf=2, max_depth=12 ...............\n",
      "[CV]  n_estimators=43, min_samples_leaf=2, max_depth=12, score=0.920, total=   0.5s\n",
      "[CV] n_estimators=43, min_samples_leaf=2, max_depth=12 ...............\n",
      "[CV]  n_estimators=43, min_samples_leaf=2, max_depth=12, score=0.917, total=   0.5s\n",
      "[CV] n_estimators=43, min_samples_leaf=2, max_depth=12 ...............\n",
      "[CV]  n_estimators=43, min_samples_leaf=2, max_depth=12, score=0.920, total=   0.5s\n",
      "[CV] n_estimators=43, min_samples_leaf=2, max_depth=12 ...............\n",
      "[CV]  n_estimators=43, min_samples_leaf=2, max_depth=12, score=0.924, total=   0.5s\n"
     ]
    },
    {
     "name": "stderr",
     "output_type": "stream",
     "text": [
      "[Parallel(n_jobs=1)]: Done  50 out of  50 | elapsed:   34.8s finished\n"
     ]
    },
    {
     "name": "stdout",
     "output_type": "stream",
     "text": [
      "Fitting 5 folds for each of 10 candidates, totalling 50 fits\n",
      "[CV] n_estimators=47, min_samples_leaf=1, max_depth=46 ...............\n"
     ]
    },
    {
     "name": "stderr",
     "output_type": "stream",
     "text": [
      "[Parallel(n_jobs=1)]: Using backend SequentialBackend with 1 concurrent workers.\n"
     ]
    },
    {
     "name": "stdout",
     "output_type": "stream",
     "text": [
      "[CV]  n_estimators=47, min_samples_leaf=1, max_depth=46, score=0.868, total=   0.6s\n",
      "[CV] n_estimators=47, min_samples_leaf=1, max_depth=46 ...............\n"
     ]
    },
    {
     "name": "stderr",
     "output_type": "stream",
     "text": [
      "[Parallel(n_jobs=1)]: Done   1 out of   1 | elapsed:    0.5s remaining:    0.0s\n"
     ]
    },
    {
     "name": "stdout",
     "output_type": "stream",
     "text": [
      "[CV]  n_estimators=47, min_samples_leaf=1, max_depth=46, score=0.874, total=   0.6s\n",
      "[CV] n_estimators=47, min_samples_leaf=1, max_depth=46 ...............\n"
     ]
    },
    {
     "name": "stderr",
     "output_type": "stream",
     "text": [
      "[Parallel(n_jobs=1)]: Done   2 out of   2 | elapsed:    1.1s remaining:    0.0s\n"
     ]
    },
    {
     "name": "stdout",
     "output_type": "stream",
     "text": [
      "[CV]  n_estimators=47, min_samples_leaf=1, max_depth=46, score=0.868, total=   0.6s\n",
      "[CV] n_estimators=47, min_samples_leaf=1, max_depth=46 ...............\n",
      "[CV]  n_estimators=47, min_samples_leaf=1, max_depth=46, score=0.871, total=   0.6s\n",
      "[CV] n_estimators=47, min_samples_leaf=1, max_depth=46 ...............\n",
      "[CV]  n_estimators=47, min_samples_leaf=1, max_depth=46, score=0.884, total=   0.6s\n",
      "[CV] n_estimators=65, min_samples_leaf=1, max_depth=16 ...............\n",
      "[CV]  n_estimators=65, min_samples_leaf=1, max_depth=16, score=0.891, total=   0.8s\n",
      "[CV] n_estimators=65, min_samples_leaf=1, max_depth=16 ...............\n",
      "[CV]  n_estimators=65, min_samples_leaf=1, max_depth=16, score=0.893, total=   0.7s\n",
      "[CV] n_estimators=65, min_samples_leaf=1, max_depth=16 ...............\n",
      "[CV]  n_estimators=65, min_samples_leaf=1, max_depth=16, score=0.890, total=   0.8s\n",
      "[CV] n_estimators=65, min_samples_leaf=1, max_depth=16 ...............\n",
      "[CV]  n_estimators=65, min_samples_leaf=1, max_depth=16, score=0.891, total=   0.8s\n",
      "[CV] n_estimators=65, min_samples_leaf=1, max_depth=16 ...............\n",
      "[CV]  n_estimators=65, min_samples_leaf=1, max_depth=16, score=0.900, total=   0.8s\n",
      "[CV] n_estimators=66, min_samples_leaf=1, max_depth=44 ...............\n",
      "[CV]  n_estimators=66, min_samples_leaf=1, max_depth=44, score=0.867, total=   0.9s\n",
      "[CV] n_estimators=66, min_samples_leaf=1, max_depth=44 ...............\n",
      "[CV]  n_estimators=66, min_samples_leaf=1, max_depth=44, score=0.872, total=   0.8s\n",
      "[CV] n_estimators=66, min_samples_leaf=1, max_depth=44 ...............\n",
      "[CV]  n_estimators=66, min_samples_leaf=1, max_depth=44, score=0.866, total=   0.8s\n",
      "[CV] n_estimators=66, min_samples_leaf=1, max_depth=44 ...............\n",
      "[CV]  n_estimators=66, min_samples_leaf=1, max_depth=44, score=0.871, total=   0.8s\n",
      "[CV] n_estimators=66, min_samples_leaf=1, max_depth=44 ...............\n",
      "[CV]  n_estimators=66, min_samples_leaf=1, max_depth=44, score=0.884, total=   0.8s\n",
      "[CV] n_estimators=66, min_samples_leaf=1, max_depth=45 ...............\n",
      "[CV]  n_estimators=66, min_samples_leaf=1, max_depth=45, score=0.867, total=   0.8s\n",
      "[CV] n_estimators=66, min_samples_leaf=1, max_depth=45 ...............\n",
      "[CV]  n_estimators=66, min_samples_leaf=1, max_depth=45, score=0.872, total=   0.8s\n",
      "[CV] n_estimators=66, min_samples_leaf=1, max_depth=45 ...............\n",
      "[CV]  n_estimators=66, min_samples_leaf=1, max_depth=45, score=0.866, total=   0.8s\n",
      "[CV] n_estimators=66, min_samples_leaf=1, max_depth=45 ...............\n",
      "[CV]  n_estimators=66, min_samples_leaf=1, max_depth=45, score=0.871, total=   0.8s\n",
      "[CV] n_estimators=66, min_samples_leaf=1, max_depth=45 ...............\n",
      "[CV]  n_estimators=66, min_samples_leaf=1, max_depth=45, score=0.884, total=   0.8s\n",
      "[CV] n_estimators=65, min_samples_leaf=1, max_depth=33 ...............\n",
      "[CV]  n_estimators=65, min_samples_leaf=1, max_depth=33, score=0.868, total=   0.8s\n",
      "[CV] n_estimators=65, min_samples_leaf=1, max_depth=33 ...............\n",
      "[CV]  n_estimators=65, min_samples_leaf=1, max_depth=33, score=0.872, total=   0.8s\n",
      "[CV] n_estimators=65, min_samples_leaf=1, max_depth=33 ...............\n",
      "[CV]  n_estimators=65, min_samples_leaf=1, max_depth=33, score=0.867, total=   0.8s\n",
      "[CV] n_estimators=65, min_samples_leaf=1, max_depth=33 ...............\n",
      "[CV]  n_estimators=65, min_samples_leaf=1, max_depth=33, score=0.871, total=   0.8s\n",
      "[CV] n_estimators=65, min_samples_leaf=1, max_depth=33 ...............\n",
      "[CV]  n_estimators=65, min_samples_leaf=1, max_depth=33, score=0.884, total=   0.8s\n",
      "[CV] n_estimators=41, min_samples_leaf=1, max_depth=28 ...............\n",
      "[CV]  n_estimators=41, min_samples_leaf=1, max_depth=28, score=0.868, total=   0.5s\n",
      "[CV] n_estimators=41, min_samples_leaf=1, max_depth=28 ...............\n",
      "[CV]  n_estimators=41, min_samples_leaf=1, max_depth=28, score=0.874, total=   0.5s\n",
      "[CV] n_estimators=41, min_samples_leaf=1, max_depth=28 ...............\n",
      "[CV]  n_estimators=41, min_samples_leaf=1, max_depth=28, score=0.868, total=   0.5s\n",
      "[CV] n_estimators=41, min_samples_leaf=1, max_depth=28 ...............\n",
      "[CV]  n_estimators=41, min_samples_leaf=1, max_depth=28, score=0.871, total=   0.6s\n",
      "[CV] n_estimators=41, min_samples_leaf=1, max_depth=28 ...............\n",
      "[CV]  n_estimators=41, min_samples_leaf=1, max_depth=28, score=0.884, total=   0.6s\n",
      "[CV] n_estimators=49, min_samples_leaf=2, max_depth=12 ...............\n",
      "[CV]  n_estimators=49, min_samples_leaf=2, max_depth=12, score=0.912, total=   0.7s\n",
      "[CV] n_estimators=49, min_samples_leaf=2, max_depth=12 ...............\n",
      "[CV]  n_estimators=49, min_samples_leaf=2, max_depth=12, score=0.913, total=   0.7s\n",
      "[CV] n_estimators=49, min_samples_leaf=2, max_depth=12 ...............\n",
      "[CV]  n_estimators=49, min_samples_leaf=2, max_depth=12, score=0.910, total=   0.6s\n",
      "[CV] n_estimators=49, min_samples_leaf=2, max_depth=12 ...............\n",
      "[CV]  n_estimators=49, min_samples_leaf=2, max_depth=12, score=0.910, total=   0.6s\n",
      "[CV] n_estimators=49, min_samples_leaf=2, max_depth=12 ...............\n",
      "[CV]  n_estimators=49, min_samples_leaf=2, max_depth=12, score=0.915, total=   0.6s\n",
      "[CV] n_estimators=48, min_samples_leaf=2, max_depth=12 ...............\n",
      "[CV]  n_estimators=48, min_samples_leaf=2, max_depth=12, score=0.912, total=   0.6s\n",
      "[CV] n_estimators=48, min_samples_leaf=2, max_depth=12 ...............\n",
      "[CV]  n_estimators=48, min_samples_leaf=2, max_depth=12, score=0.913, total=   0.6s\n",
      "[CV] n_estimators=48, min_samples_leaf=2, max_depth=12 ...............\n",
      "[CV]  n_estimators=48, min_samples_leaf=2, max_depth=12, score=0.910, total=   0.6s\n",
      "[CV] n_estimators=48, min_samples_leaf=2, max_depth=12 ...............\n",
      "[CV]  n_estimators=48, min_samples_leaf=2, max_depth=12, score=0.910, total=   0.6s\n",
      "[CV] n_estimators=48, min_samples_leaf=2, max_depth=12 ...............\n",
      "[CV]  n_estimators=48, min_samples_leaf=2, max_depth=12, score=0.915, total=   0.6s\n",
      "[CV] n_estimators=40, min_samples_leaf=1, max_depth=36 ...............\n",
      "[CV]  n_estimators=40, min_samples_leaf=1, max_depth=36, score=0.868, total=   0.5s\n",
      "[CV] n_estimators=40, min_samples_leaf=1, max_depth=36 ...............\n",
      "[CV]  n_estimators=40, min_samples_leaf=1, max_depth=36, score=0.873, total=   0.5s\n",
      "[CV] n_estimators=40, min_samples_leaf=1, max_depth=36 ...............\n",
      "[CV]  n_estimators=40, min_samples_leaf=1, max_depth=36, score=0.867, total=   0.5s\n",
      "[CV] n_estimators=40, min_samples_leaf=1, max_depth=36 ...............\n",
      "[CV]  n_estimators=40, min_samples_leaf=1, max_depth=36, score=0.871, total=   0.5s\n",
      "[CV] n_estimators=40, min_samples_leaf=1, max_depth=36 ...............\n",
      "[CV]  n_estimators=40, min_samples_leaf=1, max_depth=36, score=0.884, total=   0.6s\n",
      "[CV] n_estimators=56, min_samples_leaf=2, max_depth=26 ...............\n",
      "[CV]  n_estimators=56, min_samples_leaf=2, max_depth=26, score=0.900, total=   0.7s\n",
      "[CV] n_estimators=56, min_samples_leaf=2, max_depth=26 ...............\n",
      "[CV]  n_estimators=56, min_samples_leaf=2, max_depth=26, score=0.901, total=   0.7s\n",
      "[CV] n_estimators=56, min_samples_leaf=2, max_depth=26 ...............\n",
      "[CV]  n_estimators=56, min_samples_leaf=2, max_depth=26, score=0.897, total=   0.7s\n",
      "[CV] n_estimators=56, min_samples_leaf=2, max_depth=26 ...............\n",
      "[CV]  n_estimators=56, min_samples_leaf=2, max_depth=26, score=0.893, total=   0.7s\n",
      "[CV] n_estimators=56, min_samples_leaf=2, max_depth=26 ...............\n",
      "[CV]  n_estimators=56, min_samples_leaf=2, max_depth=26, score=0.906, total=   0.7s\n"
     ]
    },
    {
     "name": "stderr",
     "output_type": "stream",
     "text": [
      "[Parallel(n_jobs=1)]: Done  50 out of  50 | elapsed:   33.6s finished\n"
     ]
    },
    {
     "name": "stdout",
     "output_type": "stream",
     "text": [
      "Fitting 5 folds for each of 10 candidates, totalling 50 fits\n",
      "[CV] n_estimators=40, min_samples_leaf=1, max_depth=25 ...............\n"
     ]
    },
    {
     "name": "stderr",
     "output_type": "stream",
     "text": [
      "[Parallel(n_jobs=1)]: Using backend SequentialBackend with 1 concurrent workers.\n"
     ]
    },
    {
     "name": "stdout",
     "output_type": "stream",
     "text": [
      "[CV]  n_estimators=40, min_samples_leaf=1, max_depth=25, score=0.942, total=   0.9s\n",
      "[CV] n_estimators=40, min_samples_leaf=1, max_depth=25 ...............\n"
     ]
    },
    {
     "name": "stderr",
     "output_type": "stream",
     "text": [
      "[Parallel(n_jobs=1)]: Done   1 out of   1 | elapsed:    0.8s remaining:    0.0s\n"
     ]
    },
    {
     "name": "stdout",
     "output_type": "stream",
     "text": [
      "[CV]  n_estimators=40, min_samples_leaf=1, max_depth=25, score=0.942, total=   1.0s\n",
      "[CV] n_estimators=40, min_samples_leaf=1, max_depth=25 ...............\n"
     ]
    },
    {
     "name": "stderr",
     "output_type": "stream",
     "text": [
      "[Parallel(n_jobs=1)]: Done   2 out of   2 | elapsed:    1.8s remaining:    0.0s\n"
     ]
    },
    {
     "name": "stdout",
     "output_type": "stream",
     "text": [
      "[CV]  n_estimators=40, min_samples_leaf=1, max_depth=25, score=0.937, total=   0.9s\n",
      "[CV] n_estimators=40, min_samples_leaf=1, max_depth=25 ...............\n",
      "[CV]  n_estimators=40, min_samples_leaf=1, max_depth=25, score=0.940, total=   0.9s\n",
      "[CV] n_estimators=40, min_samples_leaf=1, max_depth=25 ...............\n",
      "[CV]  n_estimators=40, min_samples_leaf=1, max_depth=25, score=0.947, total=   1.0s\n",
      "[CV] n_estimators=47, min_samples_leaf=1, max_depth=40 ...............\n",
      "[CV]  n_estimators=47, min_samples_leaf=1, max_depth=40, score=0.942, total=   1.1s\n",
      "[CV] n_estimators=47, min_samples_leaf=1, max_depth=40 ...............\n",
      "[CV]  n_estimators=47, min_samples_leaf=1, max_depth=40, score=0.943, total=   1.1s\n",
      "[CV] n_estimators=47, min_samples_leaf=1, max_depth=40 ...............\n",
      "[CV]  n_estimators=47, min_samples_leaf=1, max_depth=40, score=0.939, total=   1.2s\n",
      "[CV] n_estimators=47, min_samples_leaf=1, max_depth=40 ...............\n",
      "[CV]  n_estimators=47, min_samples_leaf=1, max_depth=40, score=0.943, total=   1.2s\n",
      "[CV] n_estimators=47, min_samples_leaf=1, max_depth=40 ...............\n",
      "[CV]  n_estimators=47, min_samples_leaf=1, max_depth=40, score=0.947, total=   1.3s\n",
      "[CV] n_estimators=51, min_samples_leaf=1, max_depth=41 ...............\n",
      "[CV]  n_estimators=51, min_samples_leaf=1, max_depth=41, score=0.941, total=   1.2s\n",
      "[CV] n_estimators=51, min_samples_leaf=1, max_depth=41 ...............\n",
      "[CV]  n_estimators=51, min_samples_leaf=1, max_depth=41, score=0.944, total=   1.3s\n",
      "[CV] n_estimators=51, min_samples_leaf=1, max_depth=41 ...............\n",
      "[CV]  n_estimators=51, min_samples_leaf=1, max_depth=41, score=0.940, total=   1.2s\n",
      "[CV] n_estimators=51, min_samples_leaf=1, max_depth=41 ...............\n",
      "[CV]  n_estimators=51, min_samples_leaf=1, max_depth=41, score=0.942, total=   1.1s\n",
      "[CV] n_estimators=51, min_samples_leaf=1, max_depth=41 ...............\n",
      "[CV]  n_estimators=51, min_samples_leaf=1, max_depth=41, score=0.948, total=   1.2s\n",
      "[CV] n_estimators=57, min_samples_leaf=1, max_depth=17 ...............\n",
      "[CV]  n_estimators=57, min_samples_leaf=1, max_depth=17, score=0.942, total=   1.3s\n",
      "[CV] n_estimators=57, min_samples_leaf=1, max_depth=17 ...............\n",
      "[CV]  n_estimators=57, min_samples_leaf=1, max_depth=17, score=0.944, total=   1.2s\n",
      "[CV] n_estimators=57, min_samples_leaf=1, max_depth=17 ...............\n",
      "[CV]  n_estimators=57, min_samples_leaf=1, max_depth=17, score=0.939, total=   1.2s\n",
      "[CV] n_estimators=57, min_samples_leaf=1, max_depth=17 ...............\n",
      "[CV]  n_estimators=57, min_samples_leaf=1, max_depth=17, score=0.940, total=   1.2s\n",
      "[CV] n_estimators=57, min_samples_leaf=1, max_depth=17 ...............\n",
      "[CV]  n_estimators=57, min_samples_leaf=1, max_depth=17, score=0.949, total=   1.3s\n",
      "[CV] n_estimators=57, min_samples_leaf=2, max_depth=24 ...............\n",
      "[CV]  n_estimators=57, min_samples_leaf=2, max_depth=24, score=0.942, total=   1.3s\n",
      "[CV] n_estimators=57, min_samples_leaf=2, max_depth=24 ...............\n",
      "[CV]  n_estimators=57, min_samples_leaf=2, max_depth=24, score=0.944, total=   1.2s\n",
      "[CV] n_estimators=57, min_samples_leaf=2, max_depth=24 ...............\n",
      "[CV]  n_estimators=57, min_samples_leaf=2, max_depth=24, score=0.940, total=   1.3s\n",
      "[CV] n_estimators=57, min_samples_leaf=2, max_depth=24 ...............\n",
      "[CV]  n_estimators=57, min_samples_leaf=2, max_depth=24, score=0.943, total=   1.3s\n",
      "[CV] n_estimators=57, min_samples_leaf=2, max_depth=24 ...............\n",
      "[CV]  n_estimators=57, min_samples_leaf=2, max_depth=24, score=0.948, total=   1.3s\n",
      "[CV] n_estimators=50, min_samples_leaf=2, max_depth=39 ...............\n",
      "[CV]  n_estimators=50, min_samples_leaf=2, max_depth=39, score=0.941, total=   1.1s\n",
      "[CV] n_estimators=50, min_samples_leaf=2, max_depth=39 ...............\n",
      "[CV]  n_estimators=50, min_samples_leaf=2, max_depth=39, score=0.943, total=   1.1s\n",
      "[CV] n_estimators=50, min_samples_leaf=2, max_depth=39 ...............\n",
      "[CV]  n_estimators=50, min_samples_leaf=2, max_depth=39, score=0.939, total=   1.2s\n",
      "[CV] n_estimators=50, min_samples_leaf=2, max_depth=39 ...............\n",
      "[CV]  n_estimators=50, min_samples_leaf=2, max_depth=39, score=0.943, total=   1.1s\n",
      "[CV] n_estimators=50, min_samples_leaf=2, max_depth=39 ...............\n",
      "[CV]  n_estimators=50, min_samples_leaf=2, max_depth=39, score=0.947, total=   1.1s\n",
      "[CV] n_estimators=64, min_samples_leaf=1, max_depth=20 ...............\n",
      "[CV]  n_estimators=64, min_samples_leaf=1, max_depth=20, score=0.942, total=   1.5s\n",
      "[CV] n_estimators=64, min_samples_leaf=1, max_depth=20 ...............\n",
      "[CV]  n_estimators=64, min_samples_leaf=1, max_depth=20, score=0.943, total=   1.4s\n",
      "[CV] n_estimators=64, min_samples_leaf=1, max_depth=20 ...............\n",
      "[CV]  n_estimators=64, min_samples_leaf=1, max_depth=20, score=0.941, total=   1.4s\n",
      "[CV] n_estimators=64, min_samples_leaf=1, max_depth=20 ...............\n",
      "[CV]  n_estimators=64, min_samples_leaf=1, max_depth=20, score=0.943, total=   1.4s\n",
      "[CV] n_estimators=64, min_samples_leaf=1, max_depth=20 ...............\n",
      "[CV]  n_estimators=64, min_samples_leaf=1, max_depth=20, score=0.948, total=   1.4s\n",
      "[CV] n_estimators=49, min_samples_leaf=2, max_depth=29 ...............\n",
      "[CV]  n_estimators=49, min_samples_leaf=2, max_depth=29, score=0.941, total=   1.1s\n",
      "[CV] n_estimators=49, min_samples_leaf=2, max_depth=29 ...............\n",
      "[CV]  n_estimators=49, min_samples_leaf=2, max_depth=29, score=0.943, total=   1.1s\n",
      "[CV] n_estimators=49, min_samples_leaf=2, max_depth=29 ...............\n",
      "[CV]  n_estimators=49, min_samples_leaf=2, max_depth=29, score=0.939, total=   1.1s\n",
      "[CV] n_estimators=49, min_samples_leaf=2, max_depth=29 ...............\n",
      "[CV]  n_estimators=49, min_samples_leaf=2, max_depth=29, score=0.943, total=   1.2s\n",
      "[CV] n_estimators=49, min_samples_leaf=2, max_depth=29 ...............\n",
      "[CV]  n_estimators=49, min_samples_leaf=2, max_depth=29, score=0.947, total=   1.1s\n",
      "[CV] n_estimators=55, min_samples_leaf=1, max_depth=6 ................\n",
      "[CV]  n_estimators=55, min_samples_leaf=1, max_depth=6, score=0.936, total=   0.9s\n",
      "[CV] n_estimators=55, min_samples_leaf=1, max_depth=6 ................\n",
      "[CV]  n_estimators=55, min_samples_leaf=1, max_depth=6, score=0.935, total=   0.9s\n",
      "[CV] n_estimators=55, min_samples_leaf=1, max_depth=6 ................\n",
      "[CV]  n_estimators=55, min_samples_leaf=1, max_depth=6, score=0.932, total=   0.8s\n",
      "[CV] n_estimators=55, min_samples_leaf=1, max_depth=6 ................\n",
      "[CV]  n_estimators=55, min_samples_leaf=1, max_depth=6, score=0.932, total=   0.8s\n",
      "[CV] n_estimators=55, min_samples_leaf=1, max_depth=6 ................\n",
      "[CV]  n_estimators=55, min_samples_leaf=1, max_depth=6, score=0.938, total=   0.8s\n",
      "[CV] n_estimators=45, min_samples_leaf=2, max_depth=17 ...............\n",
      "[CV]  n_estimators=45, min_samples_leaf=2, max_depth=17, score=0.939, total=   1.0s\n",
      "[CV] n_estimators=45, min_samples_leaf=2, max_depth=17 ...............\n",
      "[CV]  n_estimators=45, min_samples_leaf=2, max_depth=17, score=0.945, total=   1.0s\n",
      "[CV] n_estimators=45, min_samples_leaf=2, max_depth=17 ...............\n",
      "[CV]  n_estimators=45, min_samples_leaf=2, max_depth=17, score=0.939, total=   0.9s\n",
      "[CV] n_estimators=45, min_samples_leaf=2, max_depth=17 ...............\n",
      "[CV]  n_estimators=45, min_samples_leaf=2, max_depth=17, score=0.941, total=   0.9s\n",
      "[CV] n_estimators=45, min_samples_leaf=2, max_depth=17 ...............\n",
      "[CV]  n_estimators=45, min_samples_leaf=2, max_depth=17, score=0.948, total=   0.9s\n"
     ]
    },
    {
     "name": "stderr",
     "output_type": "stream",
     "text": [
      "[Parallel(n_jobs=1)]: Done  50 out of  50 | elapsed:   56.8s finished\n"
     ]
    },
    {
     "name": "stdout",
     "output_type": "stream",
     "text": [
      "Fitting 5 folds for each of 10 candidates, totalling 50 fits\n",
      "[CV] n_estimators=50, min_samples_leaf=2, max_depth=17 ...............\n"
     ]
    },
    {
     "name": "stderr",
     "output_type": "stream",
     "text": [
      "[Parallel(n_jobs=1)]: Using backend SequentialBackend with 1 concurrent workers.\n"
     ]
    },
    {
     "name": "stdout",
     "output_type": "stream",
     "text": [
      "[CV]  n_estimators=50, min_samples_leaf=2, max_depth=17, score=0.943, total=   0.9s\n",
      "[CV] n_estimators=50, min_samples_leaf=2, max_depth=17 ...............\n"
     ]
    },
    {
     "name": "stderr",
     "output_type": "stream",
     "text": [
      "[Parallel(n_jobs=1)]: Done   1 out of   1 | elapsed:    0.8s remaining:    0.0s\n"
     ]
    },
    {
     "name": "stdout",
     "output_type": "stream",
     "text": [
      "[CV]  n_estimators=50, min_samples_leaf=2, max_depth=17, score=0.945, total=   0.9s\n",
      "[CV] n_estimators=50, min_samples_leaf=2, max_depth=17 ...............\n"
     ]
    },
    {
     "name": "stderr",
     "output_type": "stream",
     "text": [
      "[Parallel(n_jobs=1)]: Done   2 out of   2 | elapsed:    1.6s remaining:    0.0s\n"
     ]
    },
    {
     "name": "stdout",
     "output_type": "stream",
     "text": [
      "[CV]  n_estimators=50, min_samples_leaf=2, max_depth=17, score=0.940, total=   0.9s\n",
      "[CV] n_estimators=50, min_samples_leaf=2, max_depth=17 ...............\n",
      "[CV]  n_estimators=50, min_samples_leaf=2, max_depth=17, score=0.945, total=   0.9s\n",
      "[CV] n_estimators=50, min_samples_leaf=2, max_depth=17 ...............\n",
      "[CV]  n_estimators=50, min_samples_leaf=2, max_depth=17, score=0.951, total=   0.9s\n",
      "[CV] n_estimators=42, min_samples_leaf=2, max_depth=36 ...............\n",
      "[CV]  n_estimators=42, min_samples_leaf=2, max_depth=36, score=0.941, total=   1.0s\n",
      "[CV] n_estimators=42, min_samples_leaf=2, max_depth=36 ...............\n",
      "[CV]  n_estimators=42, min_samples_leaf=2, max_depth=36, score=0.943, total=   1.0s\n",
      "[CV] n_estimators=42, min_samples_leaf=2, max_depth=36 ...............\n",
      "[CV]  n_estimators=42, min_samples_leaf=2, max_depth=36, score=0.942, total=   1.0s\n",
      "[CV] n_estimators=42, min_samples_leaf=2, max_depth=36 ...............\n",
      "[CV]  n_estimators=42, min_samples_leaf=2, max_depth=36, score=0.942, total=   1.1s\n",
      "[CV] n_estimators=42, min_samples_leaf=2, max_depth=36 ...............\n",
      "[CV]  n_estimators=42, min_samples_leaf=2, max_depth=36, score=0.949, total=   1.3s\n",
      "[CV] n_estimators=61, min_samples_leaf=1, max_depth=42 ...............\n",
      "[CV]  n_estimators=61, min_samples_leaf=1, max_depth=42, score=0.943, total=   1.9s\n",
      "[CV] n_estimators=61, min_samples_leaf=1, max_depth=42 ...............\n",
      "[CV]  n_estimators=61, min_samples_leaf=1, max_depth=42, score=0.945, total=   1.7s\n",
      "[CV] n_estimators=61, min_samples_leaf=1, max_depth=42 ...............\n",
      "[CV]  n_estimators=61, min_samples_leaf=1, max_depth=42, score=0.942, total=   1.6s\n",
      "[CV] n_estimators=61, min_samples_leaf=1, max_depth=42 ...............\n",
      "[CV]  n_estimators=61, min_samples_leaf=1, max_depth=42, score=0.945, total=   1.3s\n",
      "[CV] n_estimators=61, min_samples_leaf=1, max_depth=42 ...............\n",
      "[CV]  n_estimators=61, min_samples_leaf=1, max_depth=42, score=0.953, total=   1.1s\n",
      "[CV] n_estimators=46, min_samples_leaf=2, max_depth=29 ...............\n",
      "[CV]  n_estimators=46, min_samples_leaf=2, max_depth=29, score=0.941, total=   0.8s\n",
      "[CV] n_estimators=46, min_samples_leaf=2, max_depth=29 ...............\n",
      "[CV]  n_estimators=46, min_samples_leaf=2, max_depth=29, score=0.944, total=   1.0s\n",
      "[CV] n_estimators=46, min_samples_leaf=2, max_depth=29 ...............\n",
      "[CV]  n_estimators=46, min_samples_leaf=2, max_depth=29, score=0.941, total=   1.0s\n",
      "[CV] n_estimators=46, min_samples_leaf=2, max_depth=29 ...............\n",
      "[CV]  n_estimators=46, min_samples_leaf=2, max_depth=29, score=0.943, total=   0.9s\n",
      "[CV] n_estimators=46, min_samples_leaf=2, max_depth=29 ...............\n",
      "[CV]  n_estimators=46, min_samples_leaf=2, max_depth=29, score=0.950, total=   0.9s\n",
      "[CV] n_estimators=49, min_samples_leaf=1, max_depth=21 ...............\n",
      "[CV]  n_estimators=49, min_samples_leaf=1, max_depth=21, score=0.942, total=   0.9s\n",
      "[CV] n_estimators=49, min_samples_leaf=1, max_depth=21 ...............\n",
      "[CV]  n_estimators=49, min_samples_leaf=1, max_depth=21, score=0.945, total=   0.9s\n",
      "[CV] n_estimators=49, min_samples_leaf=1, max_depth=21 ...............\n",
      "[CV]  n_estimators=49, min_samples_leaf=1, max_depth=21, score=0.942, total=   1.1s\n",
      "[CV] n_estimators=49, min_samples_leaf=1, max_depth=21 ...............\n",
      "[CV]  n_estimators=49, min_samples_leaf=1, max_depth=21, score=0.946, total=   1.0s\n",
      "[CV] n_estimators=49, min_samples_leaf=1, max_depth=21 ...............\n",
      "[CV]  n_estimators=49, min_samples_leaf=1, max_depth=21, score=0.952, total=   0.9s\n",
      "[CV] n_estimators=50, min_samples_leaf=1, max_depth=41 ...............\n",
      "[CV]  n_estimators=50, min_samples_leaf=1, max_depth=41, score=0.943, total=   0.9s\n",
      "[CV] n_estimators=50, min_samples_leaf=1, max_depth=41 ...............\n",
      "[CV]  n_estimators=50, min_samples_leaf=1, max_depth=41, score=0.944, total=   0.9s\n",
      "[CV] n_estimators=50, min_samples_leaf=1, max_depth=41 ...............\n",
      "[CV]  n_estimators=50, min_samples_leaf=1, max_depth=41, score=0.943, total=   0.9s\n",
      "[CV] n_estimators=50, min_samples_leaf=1, max_depth=41 ...............\n",
      "[CV]  n_estimators=50, min_samples_leaf=1, max_depth=41, score=0.945, total=   1.1s\n",
      "[CV] n_estimators=50, min_samples_leaf=1, max_depth=41 ...............\n",
      "[CV]  n_estimators=50, min_samples_leaf=1, max_depth=41, score=0.952, total=   1.0s\n",
      "[CV] n_estimators=47, min_samples_leaf=2, max_depth=28 ...............\n",
      "[CV]  n_estimators=47, min_samples_leaf=2, max_depth=28, score=0.940, total=   0.9s\n",
      "[CV] n_estimators=47, min_samples_leaf=2, max_depth=28 ...............\n",
      "[CV]  n_estimators=47, min_samples_leaf=2, max_depth=28, score=0.944, total=   0.9s\n",
      "[CV] n_estimators=47, min_samples_leaf=2, max_depth=28 ...............\n",
      "[CV]  n_estimators=47, min_samples_leaf=2, max_depth=28, score=0.941, total=   0.9s\n",
      "[CV] n_estimators=47, min_samples_leaf=2, max_depth=28 ...............\n",
      "[CV]  n_estimators=47, min_samples_leaf=2, max_depth=28, score=0.943, total=   0.9s\n",
      "[CV] n_estimators=47, min_samples_leaf=2, max_depth=28 ...............\n",
      "[CV]  n_estimators=47, min_samples_leaf=2, max_depth=28, score=0.949, total=   1.0s\n",
      "[CV] n_estimators=51, min_samples_leaf=1, max_depth=13 ...............\n",
      "[CV]  n_estimators=51, min_samples_leaf=1, max_depth=13, score=0.941, total=   0.9s\n",
      "[CV] n_estimators=51, min_samples_leaf=1, max_depth=13 ...............\n",
      "[CV]  n_estimators=51, min_samples_leaf=1, max_depth=13, score=0.943, total=   0.9s\n",
      "[CV] n_estimators=51, min_samples_leaf=1, max_depth=13 ...............\n",
      "[CV]  n_estimators=51, min_samples_leaf=1, max_depth=13, score=0.939, total=   0.9s\n",
      "[CV] n_estimators=51, min_samples_leaf=1, max_depth=13 ...............\n",
      "[CV]  n_estimators=51, min_samples_leaf=1, max_depth=13, score=0.942, total=   0.9s\n",
      "[CV] n_estimators=51, min_samples_leaf=1, max_depth=13 ...............\n",
      "[CV]  n_estimators=51, min_samples_leaf=1, max_depth=13, score=0.948, total=   0.9s\n",
      "[CV] n_estimators=68, min_samples_leaf=2, max_depth=29 ...............\n",
      "[CV]  n_estimators=68, min_samples_leaf=2, max_depth=29, score=0.942, total=   1.3s\n",
      "[CV] n_estimators=68, min_samples_leaf=2, max_depth=29 ...............\n",
      "[CV]  n_estimators=68, min_samples_leaf=2, max_depth=29, score=0.944, total=   1.4s\n",
      "[CV] n_estimators=68, min_samples_leaf=2, max_depth=29 ...............\n",
      "[CV]  n_estimators=68, min_samples_leaf=2, max_depth=29, score=0.942, total=   1.4s\n",
      "[CV] n_estimators=68, min_samples_leaf=2, max_depth=29 ...............\n",
      "[CV]  n_estimators=68, min_samples_leaf=2, max_depth=29, score=0.944, total=   1.3s\n",
      "[CV] n_estimators=68, min_samples_leaf=2, max_depth=29 ...............\n",
      "[CV]  n_estimators=68, min_samples_leaf=2, max_depth=29, score=0.950, total=   1.3s\n",
      "[CV] n_estimators=65, min_samples_leaf=2, max_depth=24 ...............\n",
      "[CV]  n_estimators=65, min_samples_leaf=2, max_depth=24, score=0.943, total=   1.2s\n",
      "[CV] n_estimators=65, min_samples_leaf=2, max_depth=24 ...............\n",
      "[CV]  n_estimators=65, min_samples_leaf=2, max_depth=24, score=0.945, total=   1.2s\n",
      "[CV] n_estimators=65, min_samples_leaf=2, max_depth=24 ...............\n",
      "[CV]  n_estimators=65, min_samples_leaf=2, max_depth=24, score=0.941, total=   1.2s\n",
      "[CV] n_estimators=65, min_samples_leaf=2, max_depth=24 ...............\n",
      "[CV]  n_estimators=65, min_samples_leaf=2, max_depth=24, score=0.945, total=   1.5s\n",
      "[CV] n_estimators=65, min_samples_leaf=2, max_depth=24 ...............\n",
      "[CV]  n_estimators=65, min_samples_leaf=2, max_depth=24, score=0.951, total=   1.2s\n"
     ]
    },
    {
     "name": "stderr",
     "output_type": "stream",
     "text": [
      "[Parallel(n_jobs=1)]: Done  50 out of  50 | elapsed:   53.8s finished\n"
     ]
    },
    {
     "name": "stdout",
     "output_type": "stream",
     "text": [
      "Fitting 5 folds for each of 10 candidates, totalling 50 fits\n",
      "[CV] n_estimators=46, min_samples_leaf=2, max_depth=24 ...............\n"
     ]
    },
    {
     "name": "stderr",
     "output_type": "stream",
     "text": [
      "[Parallel(n_jobs=1)]: Using backend SequentialBackend with 1 concurrent workers.\n"
     ]
    },
    {
     "name": "stdout",
     "output_type": "stream",
     "text": [
      "[CV]  n_estimators=46, min_samples_leaf=2, max_depth=24, score=0.923, total=   1.1s\n",
      "[CV] n_estimators=46, min_samples_leaf=2, max_depth=24 ...............\n"
     ]
    },
    {
     "name": "stderr",
     "output_type": "stream",
     "text": [
      "[Parallel(n_jobs=1)]: Done   1 out of   1 | elapsed:    1.0s remaining:    0.0s\n"
     ]
    },
    {
     "name": "stdout",
     "output_type": "stream",
     "text": [
      "[CV]  n_estimators=46, min_samples_leaf=2, max_depth=24, score=0.925, total=   1.1s\n",
      "[CV] n_estimators=46, min_samples_leaf=2, max_depth=24 ...............\n"
     ]
    },
    {
     "name": "stderr",
     "output_type": "stream",
     "text": [
      "[Parallel(n_jobs=1)]: Done   2 out of   2 | elapsed:    2.0s remaining:    0.0s\n"
     ]
    },
    {
     "name": "stdout",
     "output_type": "stream",
     "text": [
      "[CV]  n_estimators=46, min_samples_leaf=2, max_depth=24, score=0.921, total=   1.1s\n",
      "[CV] n_estimators=46, min_samples_leaf=2, max_depth=24 ...............\n",
      "[CV]  n_estimators=46, min_samples_leaf=2, max_depth=24, score=0.927, total=   1.0s\n",
      "[CV] n_estimators=46, min_samples_leaf=2, max_depth=24 ...............\n",
      "[CV]  n_estimators=46, min_samples_leaf=2, max_depth=24, score=0.931, total=   1.0s\n",
      "[CV] n_estimators=50, min_samples_leaf=1, max_depth=12 ...............\n",
      "[CV]  n_estimators=50, min_samples_leaf=1, max_depth=12, score=0.925, total=   1.0s\n",
      "[CV] n_estimators=50, min_samples_leaf=1, max_depth=12 ...............\n",
      "[CV]  n_estimators=50, min_samples_leaf=1, max_depth=12, score=0.927, total=   1.0s\n",
      "[CV] n_estimators=50, min_samples_leaf=1, max_depth=12 ...............\n",
      "[CV]  n_estimators=50, min_samples_leaf=1, max_depth=12, score=0.922, total=   1.0s\n",
      "[CV] n_estimators=50, min_samples_leaf=1, max_depth=12 ...............\n",
      "[CV]  n_estimators=50, min_samples_leaf=1, max_depth=12, score=0.925, total=   1.1s\n",
      "[CV] n_estimators=50, min_samples_leaf=1, max_depth=12 ...............\n",
      "[CV]  n_estimators=50, min_samples_leaf=1, max_depth=12, score=0.931, total=   1.1s\n",
      "[CV] n_estimators=59, min_samples_leaf=1, max_depth=16 ...............\n",
      "[CV]  n_estimators=59, min_samples_leaf=1, max_depth=16, score=0.924, total=   1.3s\n",
      "[CV] n_estimators=59, min_samples_leaf=1, max_depth=16 ...............\n",
      "[CV]  n_estimators=59, min_samples_leaf=1, max_depth=16, score=0.925, total=   1.5s\n",
      "[CV] n_estimators=59, min_samples_leaf=1, max_depth=16 ...............\n",
      "[CV]  n_estimators=59, min_samples_leaf=1, max_depth=16, score=0.922, total=   1.3s\n",
      "[CV] n_estimators=59, min_samples_leaf=1, max_depth=16 ...............\n",
      "[CV]  n_estimators=59, min_samples_leaf=1, max_depth=16, score=0.926, total=   1.3s\n",
      "[CV] n_estimators=59, min_samples_leaf=1, max_depth=16 ...............\n",
      "[CV]  n_estimators=59, min_samples_leaf=1, max_depth=16, score=0.930, total=   1.5s\n",
      "[CV] n_estimators=44, min_samples_leaf=1, max_depth=49 ...............\n",
      "[CV]  n_estimators=44, min_samples_leaf=1, max_depth=49, score=0.924, total=   1.1s\n",
      "[CV] n_estimators=44, min_samples_leaf=1, max_depth=49 ...............\n",
      "[CV]  n_estimators=44, min_samples_leaf=1, max_depth=49, score=0.922, total=   1.1s\n",
      "[CV] n_estimators=44, min_samples_leaf=1, max_depth=49 ...............\n",
      "[CV]  n_estimators=44, min_samples_leaf=1, max_depth=49, score=0.919, total=   1.0s\n",
      "[CV] n_estimators=44, min_samples_leaf=1, max_depth=49 ...............\n",
      "[CV]  n_estimators=44, min_samples_leaf=1, max_depth=49, score=0.925, total=   1.1s\n",
      "[CV] n_estimators=44, min_samples_leaf=1, max_depth=49 ...............\n",
      "[CV]  n_estimators=44, min_samples_leaf=1, max_depth=49, score=0.932, total=   1.2s\n",
      "[CV] n_estimators=50, min_samples_leaf=2, max_depth=44 ...............\n",
      "[CV]  n_estimators=50, min_samples_leaf=2, max_depth=44, score=0.924, total=   1.1s\n",
      "[CV] n_estimators=50, min_samples_leaf=2, max_depth=44 ...............\n",
      "[CV]  n_estimators=50, min_samples_leaf=2, max_depth=44, score=0.924, total=   1.2s\n",
      "[CV] n_estimators=50, min_samples_leaf=2, max_depth=44 ...............\n",
      "[CV]  n_estimators=50, min_samples_leaf=2, max_depth=44, score=0.919, total=   1.1s\n",
      "[CV] n_estimators=50, min_samples_leaf=2, max_depth=44 ...............\n",
      "[CV]  n_estimators=50, min_samples_leaf=2, max_depth=44, score=0.926, total=   1.3s\n",
      "[CV] n_estimators=50, min_samples_leaf=2, max_depth=44 ...............\n",
      "[CV]  n_estimators=50, min_samples_leaf=2, max_depth=44, score=0.932, total=   1.1s\n",
      "[CV] n_estimators=44, min_samples_leaf=2, max_depth=8 ................\n",
      "[CV]  n_estimators=44, min_samples_leaf=2, max_depth=8, score=0.925, total=   0.8s\n",
      "[CV] n_estimators=44, min_samples_leaf=2, max_depth=8 ................\n",
      "[CV]  n_estimators=44, min_samples_leaf=2, max_depth=8, score=0.926, total=   0.8s\n",
      "[CV] n_estimators=44, min_samples_leaf=2, max_depth=8 ................\n",
      "[CV]  n_estimators=44, min_samples_leaf=2, max_depth=8, score=0.924, total=   0.8s\n",
      "[CV] n_estimators=44, min_samples_leaf=2, max_depth=8 ................\n",
      "[CV]  n_estimators=44, min_samples_leaf=2, max_depth=8, score=0.923, total=   0.8s\n",
      "[CV] n_estimators=44, min_samples_leaf=2, max_depth=8 ................\n",
      "[CV]  n_estimators=44, min_samples_leaf=2, max_depth=8, score=0.930, total=   0.8s\n",
      "[CV] n_estimators=46, min_samples_leaf=1, max_depth=14 ...............\n",
      "[CV]  n_estimators=46, min_samples_leaf=1, max_depth=14, score=0.924, total=   1.0s\n",
      "[CV] n_estimators=46, min_samples_leaf=1, max_depth=14 ...............\n",
      "[CV]  n_estimators=46, min_samples_leaf=1, max_depth=14, score=0.924, total=   1.0s\n",
      "[CV] n_estimators=46, min_samples_leaf=1, max_depth=14 ...............\n",
      "[CV]  n_estimators=46, min_samples_leaf=1, max_depth=14, score=0.923, total=   1.0s\n",
      "[CV] n_estimators=46, min_samples_leaf=1, max_depth=14 ...............\n",
      "[CV]  n_estimators=46, min_samples_leaf=1, max_depth=14, score=0.925, total=   1.0s\n",
      "[CV] n_estimators=46, min_samples_leaf=1, max_depth=14 ...............\n",
      "[CV]  n_estimators=46, min_samples_leaf=1, max_depth=14, score=0.931, total=   1.0s\n",
      "[CV] n_estimators=59, min_samples_leaf=1, max_depth=29 ...............\n",
      "[CV]  n_estimators=59, min_samples_leaf=1, max_depth=29, score=0.925, total=   1.4s\n",
      "[CV] n_estimators=59, min_samples_leaf=1, max_depth=29 ...............\n",
      "[CV]  n_estimators=59, min_samples_leaf=1, max_depth=29, score=0.921, total=   1.4s\n",
      "[CV] n_estimators=59, min_samples_leaf=1, max_depth=29 ...............\n",
      "[CV]  n_estimators=59, min_samples_leaf=1, max_depth=29, score=0.920, total=   1.3s\n",
      "[CV] n_estimators=59, min_samples_leaf=1, max_depth=29 ...............\n",
      "[CV]  n_estimators=59, min_samples_leaf=1, max_depth=29, score=0.926, total=   1.3s\n",
      "[CV] n_estimators=59, min_samples_leaf=1, max_depth=29 ...............\n",
      "[CV]  n_estimators=59, min_samples_leaf=1, max_depth=29, score=0.932, total=   1.3s\n",
      "[CV] n_estimators=43, min_samples_leaf=2, max_depth=40 ...............\n",
      "[CV]  n_estimators=43, min_samples_leaf=2, max_depth=40, score=0.923, total=   1.0s\n",
      "[CV] n_estimators=43, min_samples_leaf=2, max_depth=40 ...............\n",
      "[CV]  n_estimators=43, min_samples_leaf=2, max_depth=40, score=0.924, total=   0.9s\n",
      "[CV] n_estimators=43, min_samples_leaf=2, max_depth=40 ...............\n",
      "[CV]  n_estimators=43, min_samples_leaf=2, max_depth=40, score=0.920, total=   1.0s\n",
      "[CV] n_estimators=43, min_samples_leaf=2, max_depth=40 ...............\n",
      "[CV]  n_estimators=43, min_samples_leaf=2, max_depth=40, score=0.925, total=   1.0s\n",
      "[CV] n_estimators=43, min_samples_leaf=2, max_depth=40 ...............\n",
      "[CV]  n_estimators=43, min_samples_leaf=2, max_depth=40, score=0.932, total=   1.0s\n",
      "[CV] n_estimators=65, min_samples_leaf=1, max_depth=47 ...............\n",
      "[CV]  n_estimators=65, min_samples_leaf=1, max_depth=47, score=0.924, total=   1.7s\n",
      "[CV] n_estimators=65, min_samples_leaf=1, max_depth=47 ...............\n",
      "[CV]  n_estimators=65, min_samples_leaf=1, max_depth=47, score=0.921, total=   1.5s\n",
      "[CV] n_estimators=65, min_samples_leaf=1, max_depth=47 ...............\n",
      "[CV]  n_estimators=65, min_samples_leaf=1, max_depth=47, score=0.920, total=   1.5s\n",
      "[CV] n_estimators=65, min_samples_leaf=1, max_depth=47 ...............\n",
      "[CV]  n_estimators=65, min_samples_leaf=1, max_depth=47, score=0.927, total=   1.5s\n",
      "[CV] n_estimators=65, min_samples_leaf=1, max_depth=47 ...............\n",
      "[CV]  n_estimators=65, min_samples_leaf=1, max_depth=47, score=0.932, total=   1.5s\n"
     ]
    },
    {
     "name": "stderr",
     "output_type": "stream",
     "text": [
      "[Parallel(n_jobs=1)]: Done  50 out of  50 | elapsed:   57.0s finished\n"
     ]
    },
    {
     "name": "stdout",
     "output_type": "stream",
     "text": [
      "Fitting 5 folds for each of 10 candidates, totalling 50 fits\n",
      "[CV] n_estimators=68, min_samples_leaf=2, max_depth=27 ...............\n"
     ]
    },
    {
     "name": "stderr",
     "output_type": "stream",
     "text": [
      "[Parallel(n_jobs=1)]: Using backend SequentialBackend with 1 concurrent workers.\n"
     ]
    },
    {
     "name": "stdout",
     "output_type": "stream",
     "text": [
      "[CV]  n_estimators=68, min_samples_leaf=2, max_depth=27, score=0.898, total=   1.3s\n",
      "[CV] n_estimators=68, min_samples_leaf=2, max_depth=27 ...............\n"
     ]
    },
    {
     "name": "stderr",
     "output_type": "stream",
     "text": [
      "[Parallel(n_jobs=1)]: Done   1 out of   1 | elapsed:    1.2s remaining:    0.0s\n"
     ]
    },
    {
     "name": "stdout",
     "output_type": "stream",
     "text": [
      "[CV]  n_estimators=68, min_samples_leaf=2, max_depth=27, score=0.907, total=   1.2s\n",
      "[CV] n_estimators=68, min_samples_leaf=2, max_depth=27 ...............\n"
     ]
    },
    {
     "name": "stderr",
     "output_type": "stream",
     "text": [
      "[Parallel(n_jobs=1)]: Done   2 out of   2 | elapsed:    2.4s remaining:    0.0s\n"
     ]
    },
    {
     "name": "stdout",
     "output_type": "stream",
     "text": [
      "[CV]  n_estimators=68, min_samples_leaf=2, max_depth=27, score=0.893, total=   1.2s\n",
      "[CV] n_estimators=68, min_samples_leaf=2, max_depth=27 ...............\n",
      "[CV]  n_estimators=68, min_samples_leaf=2, max_depth=27, score=0.899, total=   1.4s\n",
      "[CV] n_estimators=68, min_samples_leaf=2, max_depth=27 ...............\n",
      "[CV]  n_estimators=68, min_samples_leaf=2, max_depth=27, score=0.913, total=   1.4s\n",
      "[CV] n_estimators=40, min_samples_leaf=1, max_depth=10 ...............\n",
      "[CV]  n_estimators=40, min_samples_leaf=1, max_depth=10, score=0.882, total=   0.7s\n",
      "[CV] n_estimators=40, min_samples_leaf=1, max_depth=10 ...............\n",
      "[CV]  n_estimators=40, min_samples_leaf=1, max_depth=10, score=0.889, total=   0.7s\n",
      "[CV] n_estimators=40, min_samples_leaf=1, max_depth=10 ...............\n",
      "[CV]  n_estimators=40, min_samples_leaf=1, max_depth=10, score=0.875, total=   0.7s\n",
      "[CV] n_estimators=40, min_samples_leaf=1, max_depth=10 ...............\n",
      "[CV]  n_estimators=40, min_samples_leaf=1, max_depth=10, score=0.882, total=   0.8s\n",
      "[CV] n_estimators=40, min_samples_leaf=1, max_depth=10 ...............\n",
      "[CV]  n_estimators=40, min_samples_leaf=1, max_depth=10, score=0.899, total=   0.7s\n",
      "[CV] n_estimators=57, min_samples_leaf=2, max_depth=21 ...............\n",
      "[CV]  n_estimators=57, min_samples_leaf=2, max_depth=21, score=0.896, total=   1.1s\n",
      "[CV] n_estimators=57, min_samples_leaf=2, max_depth=21 ...............\n",
      "[CV]  n_estimators=57, min_samples_leaf=2, max_depth=21, score=0.907, total=   1.0s\n",
      "[CV] n_estimators=57, min_samples_leaf=2, max_depth=21 ...............\n",
      "[CV]  n_estimators=57, min_samples_leaf=2, max_depth=21, score=0.895, total=   1.0s\n",
      "[CV] n_estimators=57, min_samples_leaf=2, max_depth=21 ...............\n",
      "[CV]  n_estimators=57, min_samples_leaf=2, max_depth=21, score=0.896, total=   1.0s\n",
      "[CV] n_estimators=57, min_samples_leaf=2, max_depth=21 ...............\n",
      "[CV]  n_estimators=57, min_samples_leaf=2, max_depth=21, score=0.916, total=   1.0s\n",
      "[CV] n_estimators=57, min_samples_leaf=2, max_depth=46 ...............\n",
      "[CV]  n_estimators=57, min_samples_leaf=2, max_depth=46, score=0.898, total=   1.0s\n",
      "[CV] n_estimators=57, min_samples_leaf=2, max_depth=46 ...............\n",
      "[CV]  n_estimators=57, min_samples_leaf=2, max_depth=46, score=0.906, total=   1.0s\n",
      "[CV] n_estimators=57, min_samples_leaf=2, max_depth=46 ...............\n",
      "[CV]  n_estimators=57, min_samples_leaf=2, max_depth=46, score=0.897, total=   1.0s\n",
      "[CV] n_estimators=57, min_samples_leaf=2, max_depth=46 ...............\n",
      "[CV]  n_estimators=57, min_samples_leaf=2, max_depth=46, score=0.899, total=   1.0s\n",
      "[CV] n_estimators=57, min_samples_leaf=2, max_depth=46 ...............\n",
      "[CV]  n_estimators=57, min_samples_leaf=2, max_depth=46, score=0.915, total=   1.0s\n",
      "[CV] n_estimators=46, min_samples_leaf=1, max_depth=12 ...............\n",
      "[CV]  n_estimators=46, min_samples_leaf=1, max_depth=12, score=0.883, total=   0.8s\n",
      "[CV] n_estimators=46, min_samples_leaf=1, max_depth=12 ...............\n",
      "[CV]  n_estimators=46, min_samples_leaf=1, max_depth=12, score=0.898, total=   0.8s\n",
      "[CV] n_estimators=46, min_samples_leaf=1, max_depth=12 ...............\n",
      "[CV]  n_estimators=46, min_samples_leaf=1, max_depth=12, score=0.882, total=   0.8s\n",
      "[CV] n_estimators=46, min_samples_leaf=1, max_depth=12 ...............\n",
      "[CV]  n_estimators=46, min_samples_leaf=1, max_depth=12, score=0.886, total=   0.8s\n",
      "[CV] n_estimators=46, min_samples_leaf=1, max_depth=12 ...............\n",
      "[CV]  n_estimators=46, min_samples_leaf=1, max_depth=12, score=0.906, total=   0.8s\n",
      "[CV] n_estimators=47, min_samples_leaf=2, max_depth=11 ...............\n",
      "[CV]  n_estimators=47, min_samples_leaf=2, max_depth=11, score=0.882, total=   0.8s\n",
      "[CV] n_estimators=47, min_samples_leaf=2, max_depth=11 ...............\n",
      "[CV]  n_estimators=47, min_samples_leaf=2, max_depth=11, score=0.894, total=   0.8s\n",
      "[CV] n_estimators=47, min_samples_leaf=2, max_depth=11 ...............\n",
      "[CV]  n_estimators=47, min_samples_leaf=2, max_depth=11, score=0.875, total=   0.8s\n",
      "[CV] n_estimators=47, min_samples_leaf=2, max_depth=11 ...............\n",
      "[CV]  n_estimators=47, min_samples_leaf=2, max_depth=11, score=0.886, total=   0.8s\n",
      "[CV] n_estimators=47, min_samples_leaf=2, max_depth=11 ...............\n",
      "[CV]  n_estimators=47, min_samples_leaf=2, max_depth=11, score=0.901, total=   0.8s\n",
      "[CV] n_estimators=56, min_samples_leaf=2, max_depth=18 ...............\n",
      "[CV]  n_estimators=56, min_samples_leaf=2, max_depth=18, score=0.895, total=   1.0s\n",
      "[CV] n_estimators=56, min_samples_leaf=2, max_depth=18 ...............\n",
      "[CV]  n_estimators=56, min_samples_leaf=2, max_depth=18, score=0.906, total=   0.9s\n",
      "[CV] n_estimators=56, min_samples_leaf=2, max_depth=18 ...............\n",
      "[CV]  n_estimators=56, min_samples_leaf=2, max_depth=18, score=0.889, total=   1.0s\n",
      "[CV] n_estimators=56, min_samples_leaf=2, max_depth=18 ...............\n",
      "[CV]  n_estimators=56, min_samples_leaf=2, max_depth=18, score=0.895, total=   1.0s\n",
      "[CV] n_estimators=56, min_samples_leaf=2, max_depth=18 ...............\n",
      "[CV]  n_estimators=56, min_samples_leaf=2, max_depth=18, score=0.910, total=   1.0s\n",
      "[CV] n_estimators=54, min_samples_leaf=2, max_depth=31 ...............\n",
      "[CV]  n_estimators=54, min_samples_leaf=2, max_depth=31, score=0.899, total=   1.0s\n",
      "[CV] n_estimators=54, min_samples_leaf=2, max_depth=31 ...............\n",
      "[CV]  n_estimators=54, min_samples_leaf=2, max_depth=31, score=0.906, total=   1.0s\n",
      "[CV] n_estimators=54, min_samples_leaf=2, max_depth=31 ...............\n",
      "[CV]  n_estimators=54, min_samples_leaf=2, max_depth=31, score=0.896, total=   1.0s\n",
      "[CV] n_estimators=54, min_samples_leaf=2, max_depth=31 ...............\n",
      "[CV]  n_estimators=54, min_samples_leaf=2, max_depth=31, score=0.900, total=   1.0s\n",
      "[CV] n_estimators=54, min_samples_leaf=2, max_depth=31 ...............\n",
      "[CV]  n_estimators=54, min_samples_leaf=2, max_depth=31, score=0.915, total=   1.0s\n",
      "[CV] n_estimators=56, min_samples_leaf=1, max_depth=28 ...............\n",
      "[CV]  n_estimators=56, min_samples_leaf=1, max_depth=28, score=0.899, total=   1.0s\n",
      "[CV] n_estimators=56, min_samples_leaf=1, max_depth=28 ...............\n",
      "[CV]  n_estimators=56, min_samples_leaf=1, max_depth=28, score=0.909, total=   1.0s\n",
      "[CV] n_estimators=56, min_samples_leaf=1, max_depth=28 ...............\n",
      "[CV]  n_estimators=56, min_samples_leaf=1, max_depth=28, score=0.894, total=   1.1s\n",
      "[CV] n_estimators=56, min_samples_leaf=1, max_depth=28 ...............\n",
      "[CV]  n_estimators=56, min_samples_leaf=1, max_depth=28, score=0.899, total=   1.0s\n",
      "[CV] n_estimators=56, min_samples_leaf=1, max_depth=28 ...............\n",
      "[CV]  n_estimators=56, min_samples_leaf=1, max_depth=28, score=0.915, total=   1.0s\n",
      "[CV] n_estimators=49, min_samples_leaf=2, max_depth=33 ...............\n",
      "[CV]  n_estimators=49, min_samples_leaf=2, max_depth=33, score=0.900, total=   0.9s\n",
      "[CV] n_estimators=49, min_samples_leaf=2, max_depth=33 ...............\n",
      "[CV]  n_estimators=49, min_samples_leaf=2, max_depth=33, score=0.907, total=   0.9s\n",
      "[CV] n_estimators=49, min_samples_leaf=2, max_depth=33 ...............\n",
      "[CV]  n_estimators=49, min_samples_leaf=2, max_depth=33, score=0.896, total=   0.9s\n",
      "[CV] n_estimators=49, min_samples_leaf=2, max_depth=33 ...............\n",
      "[CV]  n_estimators=49, min_samples_leaf=2, max_depth=33, score=0.898, total=   0.9s\n",
      "[CV] n_estimators=49, min_samples_leaf=2, max_depth=33 ...............\n",
      "[CV]  n_estimators=49, min_samples_leaf=2, max_depth=33, score=0.916, total=   0.9s\n"
     ]
    },
    {
     "name": "stderr",
     "output_type": "stream",
     "text": [
      "[Parallel(n_jobs=1)]: Done  50 out of  50 | elapsed:   47.6s finished\n"
     ]
    },
    {
     "name": "stdout",
     "output_type": "stream",
     "text": [
      "Fitting 5 folds for each of 10 candidates, totalling 50 fits\n",
      "[CV] n_estimators=47, min_samples_leaf=1, max_depth=41 ...............\n"
     ]
    },
    {
     "name": "stderr",
     "output_type": "stream",
     "text": [
      "[Parallel(n_jobs=1)]: Using backend SequentialBackend with 1 concurrent workers.\n"
     ]
    },
    {
     "name": "stdout",
     "output_type": "stream",
     "text": [
      "[CV]  n_estimators=47, min_samples_leaf=1, max_depth=41, score=0.963, total=   1.1s\n",
      "[CV] n_estimators=47, min_samples_leaf=1, max_depth=41 ...............\n"
     ]
    },
    {
     "name": "stderr",
     "output_type": "stream",
     "text": [
      "[Parallel(n_jobs=1)]: Done   1 out of   1 | elapsed:    1.0s remaining:    0.0s\n"
     ]
    },
    {
     "name": "stdout",
     "output_type": "stream",
     "text": [
      "[CV]  n_estimators=47, min_samples_leaf=1, max_depth=41, score=0.966, total=   1.1s\n",
      "[CV] n_estimators=47, min_samples_leaf=1, max_depth=41 ...............\n"
     ]
    },
    {
     "name": "stderr",
     "output_type": "stream",
     "text": [
      "[Parallel(n_jobs=1)]: Done   2 out of   2 | elapsed:    2.2s remaining:    0.0s\n"
     ]
    },
    {
     "name": "stdout",
     "output_type": "stream",
     "text": [
      "[CV]  n_estimators=47, min_samples_leaf=1, max_depth=41, score=0.962, total=   1.1s\n",
      "[CV] n_estimators=47, min_samples_leaf=1, max_depth=41 ...............\n",
      "[CV]  n_estimators=47, min_samples_leaf=1, max_depth=41, score=0.965, total=   1.1s\n",
      "[CV] n_estimators=47, min_samples_leaf=1, max_depth=41 ...............\n",
      "[CV]  n_estimators=47, min_samples_leaf=1, max_depth=41, score=0.970, total=   1.1s\n",
      "[CV] n_estimators=48, min_samples_leaf=2, max_depth=41 ...............\n",
      "[CV]  n_estimators=48, min_samples_leaf=2, max_depth=41, score=0.961, total=   1.1s\n",
      "[CV] n_estimators=48, min_samples_leaf=2, max_depth=41 ...............\n",
      "[CV]  n_estimators=48, min_samples_leaf=2, max_depth=41, score=0.963, total=   1.1s\n",
      "[CV] n_estimators=48, min_samples_leaf=2, max_depth=41 ...............\n",
      "[CV]  n_estimators=48, min_samples_leaf=2, max_depth=41, score=0.957, total=   1.1s\n",
      "[CV] n_estimators=48, min_samples_leaf=2, max_depth=41 ...............\n",
      "[CV]  n_estimators=48, min_samples_leaf=2, max_depth=41, score=0.962, total=   1.1s\n",
      "[CV] n_estimators=48, min_samples_leaf=2, max_depth=41 ...............\n",
      "[CV]  n_estimators=48, min_samples_leaf=2, max_depth=41, score=0.965, total=   1.1s\n",
      "[CV] n_estimators=60, min_samples_leaf=1, max_depth=7 ................\n",
      "[CV]  n_estimators=60, min_samples_leaf=1, max_depth=7, score=0.940, total=   1.1s\n",
      "[CV] n_estimators=60, min_samples_leaf=1, max_depth=7 ................\n",
      "[CV]  n_estimators=60, min_samples_leaf=1, max_depth=7, score=0.940, total=   1.1s\n",
      "[CV] n_estimators=60, min_samples_leaf=1, max_depth=7 ................\n",
      "[CV]  n_estimators=60, min_samples_leaf=1, max_depth=7, score=0.938, total=   1.0s\n",
      "[CV] n_estimators=60, min_samples_leaf=1, max_depth=7 ................\n",
      "[CV]  n_estimators=60, min_samples_leaf=1, max_depth=7, score=0.937, total=   1.0s\n",
      "[CV] n_estimators=60, min_samples_leaf=1, max_depth=7 ................\n",
      "[CV]  n_estimators=60, min_samples_leaf=1, max_depth=7, score=0.940, total=   1.1s\n",
      "[CV] n_estimators=67, min_samples_leaf=1, max_depth=47 ...............\n",
      "[CV]  n_estimators=67, min_samples_leaf=1, max_depth=47, score=0.963, total=   1.5s\n",
      "[CV] n_estimators=67, min_samples_leaf=1, max_depth=47 ...............\n",
      "[CV]  n_estimators=67, min_samples_leaf=1, max_depth=47, score=0.966, total=   1.5s\n",
      "[CV] n_estimators=67, min_samples_leaf=1, max_depth=47 ...............\n",
      "[CV]  n_estimators=67, min_samples_leaf=1, max_depth=47, score=0.962, total=   1.5s\n",
      "[CV] n_estimators=67, min_samples_leaf=1, max_depth=47 ...............\n",
      "[CV]  n_estimators=67, min_samples_leaf=1, max_depth=47, score=0.967, total=   1.5s\n",
      "[CV] n_estimators=67, min_samples_leaf=1, max_depth=47 ...............\n",
      "[CV]  n_estimators=67, min_samples_leaf=1, max_depth=47, score=0.971, total=   1.6s\n",
      "[CV] n_estimators=64, min_samples_leaf=1, max_depth=16 ...............\n",
      "[CV]  n_estimators=64, min_samples_leaf=1, max_depth=16, score=0.957, total=   1.6s\n",
      "[CV] n_estimators=64, min_samples_leaf=1, max_depth=16 ...............\n",
      "[CV]  n_estimators=64, min_samples_leaf=1, max_depth=16, score=0.962, total=   1.5s\n",
      "[CV] n_estimators=64, min_samples_leaf=1, max_depth=16 ...............\n",
      "[CV]  n_estimators=64, min_samples_leaf=1, max_depth=16, score=0.958, total=   1.5s\n",
      "[CV] n_estimators=64, min_samples_leaf=1, max_depth=16 ...............\n",
      "[CV]  n_estimators=64, min_samples_leaf=1, max_depth=16, score=0.962, total=   1.7s\n",
      "[CV] n_estimators=64, min_samples_leaf=1, max_depth=16 ...............\n",
      "[CV]  n_estimators=64, min_samples_leaf=1, max_depth=16, score=0.965, total=   1.6s\n",
      "[CV] n_estimators=45, min_samples_leaf=2, max_depth=31 ...............\n",
      "[CV]  n_estimators=45, min_samples_leaf=2, max_depth=31, score=0.961, total=   1.1s\n",
      "[CV] n_estimators=45, min_samples_leaf=2, max_depth=31 ...............\n",
      "[CV]  n_estimators=45, min_samples_leaf=2, max_depth=31, score=0.963, total=   1.1s\n",
      "[CV] n_estimators=45, min_samples_leaf=2, max_depth=31 ...............\n",
      "[CV]  n_estimators=45, min_samples_leaf=2, max_depth=31, score=0.957, total=   1.2s\n",
      "[CV] n_estimators=45, min_samples_leaf=2, max_depth=31 ...............\n",
      "[CV]  n_estimators=45, min_samples_leaf=2, max_depth=31, score=0.962, total=   1.2s\n",
      "[CV] n_estimators=45, min_samples_leaf=2, max_depth=31 ...............\n",
      "[CV]  n_estimators=45, min_samples_leaf=2, max_depth=31, score=0.964, total=   1.2s\n",
      "[CV] n_estimators=60, min_samples_leaf=1, max_depth=9 ................\n",
      "[CV]  n_estimators=60, min_samples_leaf=1, max_depth=9, score=0.946, total=   1.3s\n",
      "[CV] n_estimators=60, min_samples_leaf=1, max_depth=9 ................\n",
      "[CV]  n_estimators=60, min_samples_leaf=1, max_depth=9, score=0.944, total=   1.2s\n",
      "[CV] n_estimators=60, min_samples_leaf=1, max_depth=9 ................\n",
      "[CV]  n_estimators=60, min_samples_leaf=1, max_depth=9, score=0.942, total=   1.2s\n",
      "[CV] n_estimators=60, min_samples_leaf=1, max_depth=9 ................\n",
      "[CV]  n_estimators=60, min_samples_leaf=1, max_depth=9, score=0.942, total=   1.2s\n",
      "[CV] n_estimators=60, min_samples_leaf=1, max_depth=9 ................\n",
      "[CV]  n_estimators=60, min_samples_leaf=1, max_depth=9, score=0.947, total=   1.2s\n",
      "[CV] n_estimators=42, min_samples_leaf=2, max_depth=48 ...............\n",
      "[CV]  n_estimators=42, min_samples_leaf=2, max_depth=48, score=0.961, total=   1.1s\n",
      "[CV] n_estimators=42, min_samples_leaf=2, max_depth=48 ...............\n",
      "[CV]  n_estimators=42, min_samples_leaf=2, max_depth=48, score=0.963, total=   1.1s\n",
      "[CV] n_estimators=42, min_samples_leaf=2, max_depth=48 ...............\n",
      "[CV]  n_estimators=42, min_samples_leaf=2, max_depth=48, score=0.957, total=   1.1s\n",
      "[CV] n_estimators=42, min_samples_leaf=2, max_depth=48 ...............\n",
      "[CV]  n_estimators=42, min_samples_leaf=2, max_depth=48, score=0.962, total=   1.1s\n",
      "[CV] n_estimators=42, min_samples_leaf=2, max_depth=48 ...............\n",
      "[CV]  n_estimators=42, min_samples_leaf=2, max_depth=48, score=0.965, total=   1.1s\n",
      "[CV] n_estimators=57, min_samples_leaf=1, max_depth=36 ...............\n",
      "[CV]  n_estimators=57, min_samples_leaf=1, max_depth=36, score=0.963, total=   1.4s\n",
      "[CV] n_estimators=57, min_samples_leaf=1, max_depth=36 ...............\n",
      "[CV]  n_estimators=57, min_samples_leaf=1, max_depth=36, score=0.967, total=   1.4s\n",
      "[CV] n_estimators=57, min_samples_leaf=1, max_depth=36 ...............\n",
      "[CV]  n_estimators=57, min_samples_leaf=1, max_depth=36, score=0.962, total=   1.5s\n",
      "[CV] n_estimators=57, min_samples_leaf=1, max_depth=36 ...............\n",
      "[CV]  n_estimators=57, min_samples_leaf=1, max_depth=36, score=0.966, total=   1.4s\n",
      "[CV] n_estimators=57, min_samples_leaf=1, max_depth=36 ...............\n",
      "[CV]  n_estimators=57, min_samples_leaf=1, max_depth=36, score=0.970, total=   1.4s\n",
      "[CV] n_estimators=61, min_samples_leaf=1, max_depth=46 ...............\n",
      "[CV]  n_estimators=61, min_samples_leaf=1, max_depth=46, score=0.962, total=   1.5s\n",
      "[CV] n_estimators=61, min_samples_leaf=1, max_depth=46 ...............\n",
      "[CV]  n_estimators=61, min_samples_leaf=1, max_depth=46, score=0.966, total=   1.5s\n",
      "[CV] n_estimators=61, min_samples_leaf=1, max_depth=46 ...............\n",
      "[CV]  n_estimators=61, min_samples_leaf=1, max_depth=46, score=0.962, total=   1.5s\n",
      "[CV] n_estimators=61, min_samples_leaf=1, max_depth=46 ...............\n",
      "[CV]  n_estimators=61, min_samples_leaf=1, max_depth=46, score=0.967, total=   1.5s\n",
      "[CV] n_estimators=61, min_samples_leaf=1, max_depth=46 ...............\n",
      "[CV]  n_estimators=61, min_samples_leaf=1, max_depth=46, score=0.971, total=   1.5s\n"
     ]
    },
    {
     "name": "stderr",
     "output_type": "stream",
     "text": [
      "[Parallel(n_jobs=1)]: Done  50 out of  50 | elapsed:  1.1min finished\n"
     ]
    }
   ],
   "source": [
    "\n",
    "best_params = []\n",
    "cv_results = []\n",
    "best_score = []\n",
    "\n",
    "for i in feature_combinations:\n",
    "    \n",
    "    train_X_i = train_X[i]\n",
    "    #validation_X = validation_X[i]\n",
    "    \n",
    "    \n",
    "    AUTO_SCALING = True\n",
    "    if AUTO_SCALING:\n",
    "        scaler = StandardScaler()\n",
    "        scaler.fit(train_X_i)\n",
    "        train_X_i = scaler.transform(train_X_i)\n",
    "        \n",
    "        \n",
    "    clf= RandomForestClassifier(n_jobs=-1, random_state=0)\n",
    "    \n",
    "    param_grid = {\"n_estimators\": np.arange(40, 70, 1),\n",
    "              \"max_depth\": np.arange(5, 50, 1),\n",
    "              \"min_samples_leaf\": np.arange(1,3,1)}\n",
    "    \n",
    "    clf = RandomizedSearchCV(estimator=clf, param_distributions=param_grid,verbose=3, cv = 5, scoring = 'f1')\n",
    "    \n",
    "    #clf = GridSearchCV(estimator=clf, param_grid=param_grid,verbose=2, cv = 5)\n",
    "    clf.fit(train_X_i,train_y)\n",
    "    best_params.append(clf.best_params_)\n",
    "    cv_results.append(clf.cv_results_)\n",
    "    best_score.append(clf.best_score_)\n"
   ]
  },
  {
   "cell_type": "code",
   "execution_count": 15,
   "metadata": {},
   "outputs": [],
   "source": [
    "best_params_df = pd.DataFrame(best_params)\n",
    "best_params_df.to_excel('RF_best_params_RandomSearch.xlsx')"
   ]
  },
  {
   "cell_type": "code",
   "execution_count": 16,
   "metadata": {},
   "outputs": [],
   "source": [
    "df_cv = pd.DataFrame(cv_results)\n",
    "df_cv.to_excel('RF_cv_scores_RandomSearch.xlsx')"
   ]
  },
  {
   "cell_type": "code",
   "execution_count": 17,
   "metadata": {},
   "outputs": [],
   "source": [
    "best_score_df = pd.DataFrame(best_score)\n",
    "best_score_df.to_excel('RF_best_cv_scores_RandomSearch.xlsx')"
   ]
  },
  {
   "cell_type": "code",
   "execution_count": null,
   "metadata": {},
   "outputs": [],
   "source": []
  }
 ],
 "metadata": {
  "kernelspec": {
   "display_name": "Python 3",
   "language": "python",
   "name": "python3"
  },
  "language_info": {
   "codemirror_mode": {
    "name": "ipython",
    "version": 3
   },
   "file_extension": ".py",
   "mimetype": "text/x-python",
   "name": "python",
   "nbconvert_exporter": "python",
   "pygments_lexer": "ipython3",
   "version": "3.8.3"
  }
 },
 "nbformat": 4,
 "nbformat_minor": 4
}
