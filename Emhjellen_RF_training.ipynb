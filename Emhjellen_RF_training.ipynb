{
 "cells": [
  {
   "cell_type": "markdown",
   "metadata": {},
   "source": [
    "### Training RF-models\n",
    "\n",
    "Linn Alexandra Emhjellen, 2021. "
   ]
  },
  {
   "cell_type": "code",
   "execution_count": 1,
   "metadata": {},
   "outputs": [],
   "source": [
    "import os\n",
    "import numpy as np\n",
    "import pandas as pd\n",
    "import matplotlib.pyplot as plt\n",
    "import joblib"
   ]
  },
  {
   "cell_type": "code",
   "execution_count": 2,
   "metadata": {},
   "outputs": [],
   "source": [
    "from sklearn.ensemble import RandomForestClassifier,RandomForestRegressor\n",
    "from sklearn.preprocessing import StandardScaler\n",
    "from sklearn.metrics import roc_auc_score,accuracy_score,confusion_matrix\n",
    "from sklearn.metrics import recall_score,roc_curve,auc\n",
    "from pandas.plotting import scatter_matrix\n",
    "from sklearn.metrics import plot_confusion_matrix\n",
    "from sklearn.metrics import f1_score\n",
    "from sklearn.metrics import r2_score\n",
    "from sklearn.metrics import accuracy_score\n",
    "from sklearn.metrics import precision_score\n",
    "from sklearn.metrics import recall_score\n",
    "from sklearn.metrics import plot_roc_curve\n",
    "from sklearn.model_selection import cross_val_score\n",
    "from sklearn.model_selection import cross_val_predict\n",
    "from sklearn import metrics\n",
    "import seaborn as sns"
   ]
  },
  {
   "cell_type": "markdown",
   "metadata": {},
   "source": [
    "### Loading calibration set"
   ]
  },
  {
   "cell_type": "code",
   "execution_count": 3,
   "metadata": {},
   "outputs": [],
   "source": [
    "train_X = pd.read_excel('ML_training_features.xlsx')\n",
    "train_y = pd.read_excel('ML_training_target.xlsx')"
   ]
  },
  {
   "cell_type": "markdown",
   "metadata": {},
   "source": [
    "### Loading validation set"
   ]
  },
  {
   "cell_type": "code",
   "execution_count": 4,
   "metadata": {},
   "outputs": [],
   "source": [
    "validation_X = pd.read_excel('ML_validation_features.xlsx')\n",
    "validation_y = pd.read_excel('ML_validation_target.xlsx')"
   ]
  },
  {
   "cell_type": "markdown",
   "metadata": {},
   "source": [
    "#### y-label"
   ]
  },
  {
   "cell_type": "code",
   "execution_count": 5,
   "metadata": {},
   "outputs": [],
   "source": [
    "validation_y = validation_y['ReleaseArea']\n",
    "train_y = train_y['ReleaseArea']"
   ]
  },
  {
   "cell_type": "markdown",
   "metadata": {},
   "source": [
    "#### The optimized hyperparameters from RandomSearch with cross-validation"
   ]
  },
  {
   "cell_type": "code",
   "execution_count": 6,
   "metadata": {},
   "outputs": [],
   "source": [
    "best_params_RF = pd.read_excel('RF_best_params_RandomSearch.xlsx')\n",
    "best_params_RF = best_params_RF.drop(columns = 'Unnamed: 0')\n",
    "\n",
    "best_param_grid = best_params_RF.to_dict(orient = 'records')"
   ]
  },
  {
   "cell_type": "markdown",
   "metadata": {},
   "source": [
    "#### Defining feature combinations"
   ]
  },
  {
   "cell_type": "code",
   "execution_count": 7,
   "metadata": {},
   "outputs": [],
   "source": [
    "\n",
    "p1 = ['Slope']\n",
    "\n",
    "p2 = ['Slope','Elevation']\n",
    "\n",
    "p3 = ['Slope','North','East','North East','North West','South','South East','South West','West']\n",
    "\n",
    "p4 = ['Slope','Elevation','Plan_curv','Profile_curv','TRI','Distance_to_roads']\n",
    "\n",
    "p5 = ['Slope','Elevation','Plan_curv','Profile_curv','TRI','Flow_dir','Flow_acc','Distance_to_roads']\n",
    "\n",
    "p6 = ['Slope','Elevation','Plan_curv','Profile_curv','TRI']\n",
    "\n",
    "p7 = ['Elevation','North','East','North East','North West','South','South East','South West','West','Plan_curv','Profile_curv','TRI','Flow_dir','Flow_acc','Distance_to_roads']\n",
    "\n",
    "p8 = ['Slope','Elevation','North','East','North East','North West','South','South East','South West','West','Plan_curv','Profile_curv','TRI','Flow_dir','Flow_acc','Distance_to_roads',\n",
    "      'Granite','Granodiorite','Tonalite','Trondhjemite','Syenite','Monzonite','Monzodiorite','Quartz diorite','Diorite','Gabbro','Norite','Peridotite','Pyroksenite','Charnockite','Mangerite','Anorthosite','Mafic dyke (Diabase, Dolerite)','Pegmatite/aplite','Felsic volcanic rock','Rhyolite','Dacite','Intermediate volcanic rock','Andesite','Mafic volcanic rock','Basalt',\n",
    "                  'Pyroclastic rock','Volcanic breccia','Siltstone','Sandstone','Greywacke','Arkose','Konglomerate','Sedimentary breccia','Limestone','Tuffite','Shale','Phyllite','Mica schist','Garnet mica schist','Calcareous phyllite','Calcareous mica schist','Amphibole schist','Graphitic schist','Calcite marble',\n",
    "                 'Metasandstone','Metagreywacke','Meta-arkose','Quartzite','Quartz schist','Mica gneiss','Calc-silicate rock','Amphibole gneiss','Granitic gneiss','Granodioritic gneiss','Tonalitic gneiss','Quartz dioritic gneiss','Monzonitic gneiss','Dioritic gneis','Orthopyroxene gneiss','Migmatite','Augengneiss',\n",
    "                    'Banded gneiss','Greenschist','Greenstone','Amphibolite','Metagabbro','Eclogite','Serpentinite','Mylonite/Phyllonite','Cataclasite']\n",
    "\n",
    "feature_combinations = [p1,p2,p3,p4,p5,p6,p7,p8]"
   ]
  },
  {
   "cell_type": "markdown",
   "metadata": {},
   "source": [
    "### Training of models"
   ]
  },
  {
   "cell_type": "code",
   "execution_count": 9,
   "metadata": {},
   "outputs": [],
   "source": [
    "clf_models = []\n",
    "pred_release_training_RF = []\n",
    "pred_release_testing_RF = []\n",
    "pred_release_prob_RF = []\n",
    "accuracy_scores_training = []\n",
    "accuracy_scores_test = []\n",
    "confusion_matrixes_training = []\n",
    "confusion_matrixes_test = []\n",
    "feature_importances = []\n",
    "roc_auc_scores = []\n",
    "\n",
    "f1_scores = []\n",
    "ROC_curves = []\n",
    "CV_scores = []\n",
    "R2_scores = []\n",
    "accuracy_scores = []\n",
    "precision_scores = []\n",
    "recall_scores = []\n",
    "\n",
    "n = 0\n",
    "for i in feature_combinations:\n",
    "    \n",
    "    X_train = train_X[i]\n",
    "    X_test = validation_X[i]\n",
    "\n",
    "    AUTO_SCALING = True\n",
    "    if AUTO_SCALING:\n",
    "        scaler = StandardScaler()\n",
    "        scaler.fit(X_train)\n",
    "        X_training = scaler.transform(X_train)\n",
    "        X_testing = scaler.transform(X_test)\n",
    "       \n",
    "    \n",
    "    clf_RF = RandomForestClassifier(n_jobs=-1, n_estimators = best_params_RF.iloc[n][0], min_samples_leaf = best_params_RF.iloc[n][1],max_depth = best_params_RF.iloc[n][2],  random_state=0, oob_score=True,)\n",
    "    clf_RF.fit(X_training, train_y)\n",
    "    clf_models.append(clf_RF)\n",
    "    \n",
    "    pred_release_at_training_RF = clf_RF.predict(X_training)\n",
    "    pred_release_training_RF.append(pred_release_at_training_RF)\n",
    "    \n",
    "    pred_release_at_validation_RF = clf_RF.predict(X_testing)\n",
    "    pred_release_testing_RF.append(pred_release_at_validation_RF)\n",
    "    \n",
    "    pred_prob_RF = clf_RF.predict_proba(X_testing)\n",
    "    pred_release_prob_RF.append(pred_prob_RF)\n",
    "    \n",
    "    a_s = accuracy_score(train_y, pred_release_at_training_RF)\n",
    "    accuracy_scores_training.append(a_s)\n",
    "    \n",
    "    c_m = confusion_matrix(train_y,pred_release_at_training_RF)\n",
    "    confusion_matrixes_training.append(c_m)\n",
    "    \n",
    "    a_s1 = accuracy_score(validation_y, pred_release_at_validation_RF)\n",
    "    accuracy_scores_test.append(a_s1)\n",
    "    \n",
    "    c_m1 = confusion_matrix(validation_y,pred_release_at_validation_RF)\n",
    "    confusion_matrixes_test.append(c_m1)\n",
    "    \n",
    "    feature_imp = pd.Series(clf_RF.feature_importances_,index= i).sort_values(ascending=False)\n",
    "    feature_importances.append(feature_imp)\n",
    "    \n",
    "    CV = cross_val_score(estimator= clf_RF, X=X_training, y=train_y)\n",
    "    CV_scores.append(CV)\n",
    "    \n",
    "    f1 = f1_score(validation_y, pred_release_at_validation_RF, average='macro')\n",
    "    f1_scores.append(f1)\n",
    "    \n",
    "    CLF_ROC = plot_roc_curve(clf_RF, X_testing, validation_y, color = 'r')\n",
    "    plt.close()\n",
    "    ROC_curves.append(CLF_ROC)\n",
    "    \n",
    "    r2 = r2_score(validation_y, pred_release_at_validation_RF)\n",
    "    R2_scores.append(r2)\n",
    "    \n",
    "    acc = accuracy_score(validation_y, pred_release_at_validation_RF)\n",
    "    accuracy_scores.append(acc)\n",
    "    \n",
    "    precision = precision_score(validation_y, pred_release_at_validation_RF)\n",
    "    precision_scores.append(precision)\n",
    "    \n",
    "    recall = recall_score(validation_y, pred_release_at_validation_RF)\n",
    "    recall_scores.append(recall)\n",
    "    \n",
    "    roc_auc = roc_auc_score(validation_y, pred_release_at_validation_RF)\n",
    "    roc_auc_scores.append(roc_auc)\n",
    "    \n",
    "    n += 1"
   ]
  },
  {
   "cell_type": "markdown",
   "metadata": {},
   "source": [
    "### Save final models and metrics"
   ]
  },
  {
   "cell_type": "code",
   "execution_count": null,
   "metadata": {},
   "outputs": [],
   "source": [
    "# save models\n",
    "joblib.dump(clf_models[0], \"RF_p1_Emhjellen2.joblib\",compress=3)\n",
    "joblib.dump(clf_models[1], \"RF_p2_Emhjellen2.joblib\",compress=3)\n",
    "joblib.dump(clf_models[2], \"RF_p3_Emhjellen2.joblib\",compress=3)\n",
    "joblib.dump(clf_models[3], \"RF_p4_Emhjellen2.joblib\",compress=3)\n",
    "joblib.dump(clf_models[4], \"RF_p5_Emhjellen2.joblib\",compress=3)\n",
    "joblib.dump(clf_models[5], \"RF_p6_Emhjellen2.joblib\",compress=3)\n",
    "joblib.dump(clf_models[6], \"RF_p7_Emhjellen2.joblib\",compress=3)\n",
    "joblib.dump(clf_models[7], \"RF_p8_Emhjellen2.joblib\",compress=3)\n",
    "\n",
    "# ../saved_models/RF_p6_Emhjellen2.joblib\",compress=3)"
   ]
  },
  {
   "cell_type": "code",
   "execution_count": 14,
   "metadata": {},
   "outputs": [],
   "source": [
    "# plot of confusion matrixes from training\n",
    "n = 0;\n",
    "for i in confusion_matrixes_training:\n",
    "    n += 1\n",
    "    group_names = ['True Neg','False Pos','False Neg','True Pos']\n",
    "    group_counts = ['{0:0.0f}'.format(value) for value in\n",
    "                i.flatten()]\n",
    "    group_percentages = ['{0:.2%}'.format(value) for value in\n",
    "                     i.flatten()/np.sum(i)]\n",
    "    labels = [f'{v1}\\n{v2}\\n{v3}' for v1, v2, v3 in\n",
    "    zip(group_names,group_counts,group_percentages)]\n",
    "    labels = np.asarray(labels).reshape(2,2)\n",
    "    plt.figure()\n",
    "    plot = sns.heatmap(i, annot=labels, fmt='', cmap='Blues')\n",
    "    plt.savefig('saved_figures_2/confusion_matrix_RF_feature_combination_training'+ 'p'+ str(n) +'.pdf', format = 'pdf', dpi = 1200)\n",
    "    plt.close()"
   ]
  },
  {
   "cell_type": "code",
   "execution_count": 15,
   "metadata": {},
   "outputs": [],
   "source": [
    "# plot of confusion matrixes from test\n",
    "n = 0;\n",
    "for i in confusion_matrixes_test:\n",
    "    n += 1\n",
    "    group_names = ['True Neg','False Pos','False Neg','True Pos']\n",
    "    group_counts = ['{0:0.0f}'.format(value) for value in\n",
    "                i.flatten()]\n",
    "    group_percentages = ['{0:.2%}'.format(value) for value in\n",
    "                     i.flatten()/np.sum(i)]\n",
    "    labels = [f'{v1}\\n{v2}\\n{v3}' for v1, v2, v3 in\n",
    "    zip(group_names,group_counts,group_percentages)]\n",
    "    labels = np.asarray(labels).reshape(2,2)\n",
    "    plt.figure()\n",
    "    plot = sns.heatmap(i, annot=labels, fmt='', cmap='Blues')\n",
    "    plt.savefig('saved_figures_2/confusion_matrix_RF_feature_combination_validation'+ 'p'+ str(n) +'.pdf', format = 'pdf', dpi = 1200)\n",
    "    plt.close()\n",
    "    \n",
    "    #plt.savefig('saved_figures/confusion_matrix_RF_feature_combination_validation'+ 'p'+ str(n) +'.png')"
   ]
  },
  {
   "cell_type": "code",
   "execution_count": 16,
   "metadata": {},
   "outputs": [],
   "source": [
    "# bar plot of feature importances\n",
    "\n",
    "n = 0;\n",
    "for i in feature_importances:\n",
    "    n += 1\n",
    "    sns.barplot(x=i, y=i.index)\n",
    "    # Add labels to your graph\n",
    "    plt.xlabel('Feature Importance Score')\n",
    "    plt.ylabel('Features')\n",
    "    plt.title(\"Visualizing Important Features, Random Forest Classifier\")\n",
    "    plt.savefig('saved_figures_2/feature_importances'+ 'p'+ str(n) +'.png')\n",
    "    plt.close()"
   ]
  },
  {
   "cell_type": "code",
   "execution_count": 17,
   "metadata": {},
   "outputs": [
    {
     "data": {
      "image/png": "[encoded data removed]",
      "text/plain": [
       "<Figure size 432x288 with 1 Axes>"
      ]
     },
     "metadata": {
      "needs_background": "light"
     },
     "output_type": "display_data"
    }
   ],
   "source": [
    "# bar plot of f1 scores\n",
    "\n",
    "fig = sns.barplot(x=np.arange(1,9), y=f1_scores,palette=\"Blues_d\")\n",
    "    \n",
    "plt.xlabel('Feature Combination',fontsize = 18)\n",
    "plt.ylabel('F1 score',fontsize = 18)\n",
    "plt.title(\"\")\n",
    "ticks = np.arange(0, 1, 0.05)\n",
    "fig.set_yticks(ticks, minor=True)\n",
    "fig.grid(which='both',axis='y',linestyle='dashed')\n",
    "plt.rc('axes', axisbelow=True)\n",
    "plt.savefig('saved_figures_2/f1_scores_RF.pdf', format = 'pdf', dpi = 1200)\n",
    "#plt.close()"
   ]
  },
  {
   "cell_type": "code",
   "execution_count": 18,
   "metadata": {},
   "outputs": [
    {
     "data": {
      "image/png": "[encoded data removed]",
      "text/plain": [
       "<Figure size 432x288 with 1 Axes>"
      ]
     },
     "metadata": {
      "needs_background": "light"
     },
     "output_type": "display_data"
    }
   ],
   "source": [
    "# plot of ROC curves\n",
    "\n",
    "ax = plt.gca()\n",
    "n = 0\n",
    "for i in ROC_curves:\n",
    "    n += 1\n",
    "    i.plot(ax=ax, alpha=0.8, label = 'Random Forest Classifier '+ 'pc'+ str(n))\n",
    "plt.savefig('saved_figures_2/ROC_curve_feature_combinations_RF.png')   "
   ]
  },
  {
   "cell_type": "code",
   "execution_count": 19,
   "metadata": {},
   "outputs": [],
   "source": [
    "cv_scores_RF = pd.DataFrame(CV_scores)\n",
    "cv_scores_RF.to_excel('RF_CV_scores_training2.xlsx')"
   ]
  },
  {
   "cell_type": "code",
   "execution_count": 20,
   "metadata": {},
   "outputs": [],
   "source": [
    "f1_scores_RF = pd.DataFrame(f1_scores)\n",
    "f1_scores_RF.to_excel('RF_F1_scores2.xlsx')"
   ]
  },
  {
   "cell_type": "code",
   "execution_count": 21,
   "metadata": {},
   "outputs": [],
   "source": [
    "accuracy_scores_RF = pd.DataFrame(accuracy_scores)\n",
    "accuracy_scores_RF.to_excel('RF_accuracy_scores2.xlsx')"
   ]
  },
  {
   "cell_type": "code",
   "execution_count": 22,
   "metadata": {},
   "outputs": [],
   "source": [
    "precision_scores_RF = pd.DataFrame(precision_scores)\n",
    "precision_scores_RF.to_excel('RF_precision_scores2.xlsx')"
   ]
  },
  {
   "cell_type": "code",
   "execution_count": 23,
   "metadata": {},
   "outputs": [],
   "source": [
    "recall_scores_RF = pd.DataFrame(recall_scores)\n",
    "recall_scores_RF.to_excel('RF_recall_scores2.xlsx')"
   ]
  },
  {
   "cell_type": "code",
   "execution_count": 24,
   "metadata": {},
   "outputs": [],
   "source": [
    "R2_scores_RF = pd.DataFrame(R2_scores)\n",
    "R2_scores_RF.to_excel('RF_R2_scores2.xlsx')"
   ]
  },
  {
   "cell_type": "code",
   "execution_count": null,
   "metadata": {},
   "outputs": [],
   "source": [
    "roc_auc_scores = pd.DataFrame(roc_auc_scores)\n",
    "roc_auc_scores.to_excel('RF_roc_auc_scores.xlsx')"
   ]
  },
  {
   "cell_type": "markdown",
   "metadata": {},
   "source": [
    "## Prediction results"
   ]
  },
  {
   "cell_type": "code",
   "execution_count": 10,
   "metadata": {},
   "outputs": [],
   "source": [
    "validation_y = pd.read_excel('ML_validation_target.xlsx')\n",
    "df_coor = validation_y[['POINT_X', 'POINT_Y']]"
   ]
  },
  {
   "cell_type": "code",
   "execution_count": 11,
   "metadata": {},
   "outputs": [
    {
     "name": "stderr",
     "output_type": "stream",
     "text": [
      "<ipython-input-11-19d60ae8ace2>:3: SettingWithCopyWarning: \n",
      "A value is trying to be set on a copy of a slice from a DataFrame.\n",
      "Try using .loc[row_indexer,col_indexer] = value instead\n",
      "\n",
      "See the caveats in the documentation: https://pandas.pydata.org/pandas-docs/stable/user_guide/indexing.html#returning-a-view-versus-a-copy\n",
      "  df_coor['RF_prob_p1'] = pred_release_prob_RF[0][:,1]\n"
     ]
    }
   ],
   "source": [
    "# extracting the values that are probability for rockfall, class 1\n",
    "\n",
    "df_coor['RF_prob_p1'] = pred_release_prob_RF[0][:,1]\n",
    "df_coor['RF_prob_p2'] = pred_release_prob_RF[1][:,1]\n",
    "df_coor['RF_prob_p3'] = pred_release_prob_RF[2][:,1]\n",
    "df_coor['RF_prob_p4'] = pred_release_prob_RF[3][:,1]\n",
    "df_coor['RF_prob_p5'] = pred_release_prob_RF[4][:,1]\n",
    "df_coor['RF_prob_p6'] = pred_release_prob_RF[5][:,1]\n",
    "df_coor['RF_prob_p7'] = pred_release_prob_RF[6][:,1]\n",
    "df_coor['RF_prob_p8'] = pred_release_prob_RF[7][:,1]"
   ]
  },
  {
   "cell_type": "code",
   "execution_count": 12,
   "metadata": {},
   "outputs": [],
   "source": [
    "df_coor['RF_prediction_p1'] = pred_release_testing_RF[0]\n",
    "df_coor['RF_prediction_p2'] = pred_release_testing_RF[1]\n",
    "df_coor['RF_prediction_p3'] = pred_release_testing_RF[2]\n",
    "df_coor['RF_prediction_p4'] = pred_release_testing_RF[3]\n",
    "df_coor['RF_prediction_p5'] = pred_release_testing_RF[4]\n",
    "df_coor['RF_prediction_p6'] = pred_release_testing_RF[5]\n",
    "df_coor['RF_prediction_p7'] = pred_release_testing_RF[6]\n",
    "df_coor['RF_prediction_p8'] = pred_release_testing_RF[7]"
   ]
  },
  {
   "cell_type": "code",
   "execution_count": null,
   "metadata": {},
   "outputs": [],
   "source": [
    "#df_coor.to_excel('prediction_results_validation_RF2.xlsx')"
   ]
  },
  {
   "cell_type": "code",
   "execution_count": null,
   "metadata": {},
   "outputs": [],
   "source": [
    "#df_coor = pd.read_excel('prediction_results_validation_RF2.xlsx')"
   ]
  },
  {
   "cell_type": "code",
   "execution_count": 13,
   "metadata": {},
   "outputs": [],
   "source": [
    "df_coor = df_coor[['POINT_X', 'POINT_Y', 'RF_prob_p1',\n",
    "       'RF_prob_p2', 'RF_prob_p3', 'RF_prob_p4', 'RF_prob_p5', 'RF_prob_p6',\n",
    "       'RF_prob_p7', 'RF_prob_p8', 'RF_prediction_p1', 'RF_prediction_p2',\n",
    "       'RF_prediction_p3', 'RF_prediction_p4', 'RF_prediction_p5',\n",
    "       'RF_prediction_p6', 'RF_prediction_p7', 'RF_prediction_p8']].copy()"
   ]
  },
  {
   "cell_type": "code",
   "execution_count": 14,
   "metadata": {},
   "outputs": [],
   "source": [
    "df_coor['ReleaseArea'] = validation_y['ReleaseArea'] "
   ]
  },
  {
   "cell_type": "code",
   "execution_count": 15,
   "metadata": {},
   "outputs": [],
   "source": [
    "result1 = []\n",
    "for row in range(0,len(df_coor)):\n",
    "    if df_coor['ReleaseArea'].iloc[row] == 1 and df_coor['RF_prediction_p1'].iloc[row] == 1:\n",
    "        result1.append('TP')\n",
    "    elif df_coor['ReleaseArea'].iloc[row] == 0 and df_coor['RF_prediction_p1'].iloc[row] == 0:\n",
    "        result1.append('TN')\n",
    "    elif df_coor['RF_prediction_p1'].iloc[row] == 1 and df_coor['ReleaseArea'].iloc[row] == 0:\n",
    "        result1.append('FP')\n",
    "    elif df_coor['RF_prediction_p1'].iloc[row] == 0 and df_coor['ReleaseArea'].iloc[row] == 1:\n",
    "        result1.append('FN')\n",
    "    else:\n",
    "        print('NaN')\n",
    "        \n",
    "        \n",
    "df_coor['result_p1'] = result1"
   ]
  },
  {
   "cell_type": "code",
   "execution_count": 16,
   "metadata": {},
   "outputs": [
    {
     "ename": "IndentationError",
     "evalue": "expected an indented block (<ipython-input-16-48e7646046fa>, line 13)",
     "output_type": "error",
     "traceback": [
      "\u001b[1;36m  File \u001b[1;32m\"<ipython-input-16-48e7646046fa>\"\u001b[1;36m, line \u001b[1;32m13\u001b[0m\n\u001b[1;33m    df_coor['result_p2'] = result2\u001b[0m\n\u001b[1;37m                                  ^\u001b[0m\n\u001b[1;31mIndentationError\u001b[0m\u001b[1;31m:\u001b[0m expected an indented block\n"
     ]
    }
   ],
   "source": [
    "result2 = []\n",
    "for row in range(0,len(df_coor)):\n",
    "    if df_coor['ReleaseArea'].iloc[row] == 1 and df_coor['RF_prediction_p2'].iloc[row] == 1:\n",
    "        result2.append('TP')\n",
    "    elif df_coor['ReleaseArea'].iloc[row] == 0 and df_coor['RF_prediction_p2'].iloc[row] == 0:\n",
    "        result2.append('TN')\n",
    "    elif df_coor['RF_prediction_p2'].iloc[row] == 1 and df_coor['ReleaseArea'].iloc[row] == 0:\n",
    "        result2.append('FP')\n",
    "    elif df_coor['RF_prediction_p2'].iloc[row] == 0 and df_coor['ReleaseArea'].iloc[row] == 1:\n",
    "        result2.append('FN')\n",
    "    else:\n",
    "        print('NaN')\n",
    "df_coor['result_p2'] = result2"
   ]
  },
  {
   "cell_type": "code",
   "execution_count": null,
   "metadata": {},
   "outputs": [],
   "source": [
    "result3 = []\n",
    "for row in range(0,len(df_coor)):\n",
    "    if df_coor['ReleaseArea'].iloc[row] == 1 and df_coor['RF_prediction_p3'].iloc[row] == 1:\n",
    "        result3.append('TP')\n",
    "    elif df_coor['ReleaseArea'].iloc[row] == 0 and df_coor['RF_prediction_p3'].iloc[row] == 0:\n",
    "        result3.append('TN')\n",
    "    elif df_coor['RF_prediction_p3'].iloc[row] == 1 and df_coor['ReleaseArea'].iloc[row] == 0:\n",
    "        result3.append('FP')\n",
    "    elif df_coor['RF_prediction_p3'].iloc[row] == 0 and df_coor['ReleaseArea'].iloc[row] == 1:\n",
    "        result3.append('FN')\n",
    "    else:\n",
    "        print('NaN')\n",
    "        \n",
    "        \n",
    "df_coor['result_p3'] = result3"
   ]
  },
  {
   "cell_type": "code",
   "execution_count": 17,
   "metadata": {},
   "outputs": [],
   "source": [
    "result4 = []\n",
    "for row in range(0,len(df_coor)):\n",
    "    if df_coor['ReleaseArea'].iloc[row] == 1 and df_coor['RF_prediction_p4'].iloc[row] == 1:\n",
    "        result4.append('TP')\n",
    "    elif df_coor['ReleaseArea'].iloc[row] == 0 and df_coor['RF_prediction_p4'].iloc[row] == 0:\n",
    "        result4.append('TN')\n",
    "    elif df_coor['RF_prediction_p4'].iloc[row] == 1 and df_coor['ReleaseArea'].iloc[row] == 0:\n",
    "        result4.append('FP')\n",
    "    elif df_coor['RF_prediction_p4'].iloc[row] == 0 and df_coor['ReleaseArea'].iloc[row] == 1:\n",
    "        result4.append('FN')\n",
    "    else:\n",
    "        print('NaN')\n",
    "        \n",
    "        \n",
    "df_coor['result_p4'] = result4"
   ]
  },
  {
   "cell_type": "code",
   "execution_count": 40,
   "metadata": {},
   "outputs": [],
   "source": [
    "result5 = []\n",
    "for row in range(0,len(df_coor)):\n",
    "    if df_coor['ReleaseArea'].iloc[row] == 1 and df_coor['RF_prediction_p5'].iloc[row] == 1:\n",
    "        result5.append('TP')\n",
    "    elif df_coor['ReleaseArea'].iloc[row] == 0 and df_coor['RF_prediction_p5'].iloc[row] == 0:\n",
    "        result5.append('TN')\n",
    "    elif df_coor['RF_prediction_p5'].iloc[row] == 1 and df_coor['ReleaseArea'].iloc[row] == 0:\n",
    "        result5.append('FP')\n",
    "    elif df_coor['RF_prediction_p5'].iloc[row] == 0 and df_coor['ReleaseArea'].iloc[row] == 1:\n",
    "        result5.append('FN')\n",
    "    else:\n",
    "        print('NaN')\n",
    "        \n",
    "        \n",
    "df_coor['result_p5'] = result5"
   ]
  },
  {
   "cell_type": "code",
   "execution_count": 41,
   "metadata": {},
   "outputs": [],
   "source": [
    "result6 = []\n",
    "for row in range(0,len(df_coor)):\n",
    "    if df_coor['ReleaseArea'].iloc[row] == 1 and df_coor['RF_prediction_p6'].iloc[row] == 1:\n",
    "        result6.append('TP')\n",
    "    elif df_coor['ReleaseArea'].iloc[row] == 0 and df_coor['RF_prediction_p6'].iloc[row] == 0:\n",
    "        result6.append('TN')\n",
    "    elif df_coor['RF_prediction_p6'].iloc[row] == 1 and df_coor['ReleaseArea'].iloc[row] == 0:\n",
    "        result6.append('FP')\n",
    "    elif df_coor['RF_prediction_p6'].iloc[row] == 0 and df_coor['ReleaseArea'].iloc[row] == 1:\n",
    "        result6.append('FN')\n",
    "    else:\n",
    "        print('NaN')\n",
    "        \n",
    "        \n",
    "df_coor['result_p6'] = result6"
   ]
  },
  {
   "cell_type": "code",
   "execution_count": 42,
   "metadata": {},
   "outputs": [],
   "source": [
    "result7 = []\n",
    "for row in range(0,len(df_coor)):\n",
    "    if df_coor['ReleaseArea'].iloc[row] == 1 and df_coor['RF_prediction_p7'].iloc[row] == 1:\n",
    "        result7.append('TP')\n",
    "    elif df_coor['ReleaseArea'].iloc[row] == 0 and df_coor['RF_prediction_p7'].iloc[row] == 0:\n",
    "        result7.append('TN')\n",
    "    elif df_coor['RF_prediction_p7'].iloc[row] == 1 and df_coor['ReleaseArea'].iloc[row] == 0:\n",
    "        result7.append('FP')\n",
    "    elif df_coor['RF_prediction_p7'].iloc[row] == 0 and df_coor['ReleaseArea'].iloc[row] == 1:\n",
    "        result7.append('FN')\n",
    "    else:\n",
    "        print('NaN')\n",
    "        \n",
    "        \n",
    "df_coor['result_p7'] = result7"
   ]
  },
  {
   "cell_type": "code",
   "execution_count": 43,
   "metadata": {},
   "outputs": [],
   "source": [
    "result8 = []\n",
    "for row in range(0,len(df_coor)):\n",
    "    if df_coor['ReleaseArea'].iloc[row] == 1 and df_coor['RF_prediction_p8'].iloc[row] == 1:\n",
    "        result8.append('TP')\n",
    "    elif df_coor['ReleaseArea'].iloc[row] == 0 and df_coor['RF_prediction_p8'].iloc[row] == 0:\n",
    "        result8.append('TN')\n",
    "    elif df_coor['RF_prediction_p8'].iloc[row] == 1 and df_coor['ReleaseArea'].iloc[row] == 0:\n",
    "        result8.append('FP')\n",
    "    elif df_coor['RF_prediction_p8'].iloc[row] == 0 and df_coor['ReleaseArea'].iloc[row] == 1:\n",
    "        result8.append('FN')\n",
    "    else:\n",
    "        print('NaN')\n",
    "        \n",
    "        \n",
    "df_coor['result_p8'] = result8"
   ]
  },
  {
   "cell_type": "code",
   "execution_count": 44,
   "metadata": {},
   "outputs": [],
   "source": [
    "df_coor.to_excel('prediction_results_validation_RF2.xlsx')"
   ]
  }
 ],
 "metadata": {
  "kernelspec": {
   "display_name": "Python 3",
   "language": "python",
   "name": "python3"
  },
  "language_info": {
   "codemirror_mode": {
    "name": "ipython",
    "version": 3
   },
   "file_extension": ".py",
   "mimetype": "text/x-python",
   "name": "python",
   "nbconvert_exporter": "python",
   "pygments_lexer": "ipython3",
   "version": "3.8.3"
  }
 },
 "nbformat": 4,
 "nbformat_minor": 4
}
