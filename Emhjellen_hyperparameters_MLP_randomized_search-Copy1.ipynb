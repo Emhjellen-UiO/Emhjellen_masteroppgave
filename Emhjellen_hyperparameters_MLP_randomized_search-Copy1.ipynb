{
 "cells": [
  {
   "cell_type": "code",
   "execution_count": 1,
   "metadata": {},
   "outputs": [],
   "source": [
    "import numpy as np\n",
    "import pandas as pd\n",
    "import os\n",
    "import matplotlib.pyplot as plt\n",
    "from sklearn.preprocessing import StandardScaler\n",
    "from sklearn.model_selection import RandomizedSearchCV\n",
    "from sklearn.neural_network import MLPClassifier"
   ]
  },
  {
   "cell_type": "code",
   "execution_count": 2,
   "metadata": {},
   "outputs": [],
   "source": [
    "train_X = pd.read_excel('ML_training_features.xlsx')\n",
    "train_y = pd.read_excel('ML_training_target.xlsx')"
   ]
  },
  {
   "cell_type": "code",
   "execution_count": 3,
   "metadata": {},
   "outputs": [],
   "source": [
    "validation_X = pd.read_excel('ML_validation_features.xlsx')\n",
    "validation_y = pd.read_excel('ML_validation_target.xlsx')"
   ]
  },
  {
   "cell_type": "code",
   "execution_count": 4,
   "metadata": {},
   "outputs": [],
   "source": [
    "validation_y = validation_y['ReleaseArea']\n",
    "train_y = train_y['ReleaseArea']"
   ]
  },
  {
   "cell_type": "code",
   "execution_count": 5,
   "metadata": {},
   "outputs": [],
   "source": [
    "# feature combinations\n",
    "p1 = ['Slope']\n",
    "\n",
    "p2 = ['Slope','Elevation']\n",
    "\n",
    "p3 = ['Slope','North','East','North East','North West','South','South East','South West','West']\n",
    "\n",
    "p4 = ['Slope','Elevation','Plan_curv','Profile_curv','TRI','Distance_to_roads']\n",
    "\n",
    "p5 = ['Slope','Elevation','Plan_curv','Profile_curv','TRI','Flow_dir','Flow_acc','Distance_to_roads']\n",
    "\n",
    "p6 = ['Slope','Elevation','Plan_curv','Profile_curv','TRI']\n",
    "\n",
    "p7 = ['Elevation','North','East','North East','North West','South','South East','South West','West','Plan_curv','Profile_curv','TRI','Flow_dir','Flow_acc','Distance_to_roads']\n",
    "\n",
    "p8 = ['Slope','Elevation','North','East','North East','North West','South','South East','South West','West','Plan_curv','Profile_curv','TRI','Flow_dir','Flow_acc','Distance_to_roads',\n",
    "      'Granite','Granodiorite','Tonalite','Trondhjemite','Syenite','Monzonite','Monzodiorite','Quartz diorite','Diorite','Gabbro','Norite','Peridotite','Pyroksenite','Charnockite','Mangerite','Anorthosite','Mafic dyke (Diabase, Dolerite)','Pegmatite/aplite','Felsic volcanic rock','Rhyolite','Dacite','Intermediate volcanic rock','Andesite','Mafic volcanic rock','Basalt',\n",
    "                  'Pyroclastic rock','Volcanic breccia','Siltstone','Sandstone','Greywacke','Arkose','Konglomerate','Sedimentary breccia','Limestone','Tuffite','Shale','Phyllite','Mica schist','Garnet mica schist','Calcareous phyllite','Calcareous mica schist','Amphibole schist','Graphitic schist','Calcite marble',\n",
    "                 'Metasandstone','Metagreywacke','Meta-arkose','Quartzite','Quartz schist','Mica gneiss','Calc-silicate rock','Amphibole gneiss','Granitic gneiss','Granodioritic gneiss','Tonalitic gneiss','Quartz dioritic gneiss','Monzonitic gneiss','Dioritic gneis','Orthopyroxene gneiss','Migmatite','Augengneiss',\n",
    "                    'Banded gneiss','Greenschist','Greenstone','Amphibolite','Metagabbro','Eclogite','Serpentinite','Mylonite/Phyllonite','Cataclasite']\n",
    "\n",
    "feature_combinations = [p1,p2,p3,p4,p5,p6,p7,p8]"
   ]
  },
  {
   "cell_type": "code",
   "execution_count": 6,
   "metadata": {},
   "outputs": [
    {
     "name": "stdout",
     "output_type": "stream",
     "text": [
      "Fitting 5 folds for each of 10 candidates, totalling 50 fits\n",
      "[CV] solver=adam, hidden_layer_sizes=64, alpha=1.5 ...................\n"
     ]
    },
    {
     "name": "stderr",
     "output_type": "stream",
     "text": [
      "[Parallel(n_jobs=1)]: Using backend SequentialBackend with 1 concurrent workers.\n"
     ]
    },
    {
     "name": "stdout",
     "output_type": "stream",
     "text": [
      "[CV]  solver=adam, hidden_layer_sizes=64, alpha=1.5, score=0.903, total=   4.0s\n",
      "[CV] solver=adam, hidden_layer_sizes=64, alpha=1.5 ...................\n"
     ]
    },
    {
     "name": "stderr",
     "output_type": "stream",
     "text": [
      "[Parallel(n_jobs=1)]: Done   1 out of   1 | elapsed:    3.9s remaining:    0.0s\n"
     ]
    },
    {
     "name": "stdout",
     "output_type": "stream",
     "text": [
      "[CV]  solver=adam, hidden_layer_sizes=64, alpha=1.5, score=0.907, total=   2.9s\n",
      "[CV] solver=adam, hidden_layer_sizes=64, alpha=1.5 ...................\n"
     ]
    },
    {
     "name": "stderr",
     "output_type": "stream",
     "text": [
      "[Parallel(n_jobs=1)]: Done   2 out of   2 | elapsed:    6.8s remaining:    0.0s\n"
     ]
    },
    {
     "name": "stdout",
     "output_type": "stream",
     "text": [
      "[CV]  solver=adam, hidden_layer_sizes=64, alpha=1.5, score=0.912, total=   3.6s\n",
      "[CV] solver=adam, hidden_layer_sizes=64, alpha=1.5 ...................\n",
      "[CV]  solver=adam, hidden_layer_sizes=64, alpha=1.5, score=0.909, total=   4.0s\n",
      "[CV] solver=adam, hidden_layer_sizes=64, alpha=1.5 ...................\n",
      "[CV]  solver=adam, hidden_layer_sizes=64, alpha=1.5, score=0.916, total=   3.3s\n",
      "[CV] solver=lbfgs, hidden_layer_sizes=62, alpha=1.0 ..................\n",
      "[CV]  solver=lbfgs, hidden_layer_sizes=62, alpha=1.0, score=0.910, total=   1.8s\n",
      "[CV] solver=lbfgs, hidden_layer_sizes=62, alpha=1.0 ..................\n",
      "[CV]  solver=lbfgs, hidden_layer_sizes=62, alpha=1.0, score=0.915, total=   4.4s\n",
      "[CV] solver=lbfgs, hidden_layer_sizes=62, alpha=1.0 ..................\n",
      "[CV]  solver=lbfgs, hidden_layer_sizes=62, alpha=1.0, score=0.914, total=   6.4s\n",
      "[CV] solver=lbfgs, hidden_layer_sizes=62, alpha=1.0 ..................\n",
      "[CV]  solver=lbfgs, hidden_layer_sizes=62, alpha=1.0, score=0.911, total=   7.0s\n",
      "[CV] solver=lbfgs, hidden_layer_sizes=62, alpha=1.0 ..................\n",
      "[CV]  solver=lbfgs, hidden_layer_sizes=62, alpha=1.0, score=0.917, total=   4.6s\n",
      "[CV] solver=lbfgs, hidden_layer_sizes=46, alpha=1.5 ..................\n",
      "[CV]  solver=lbfgs, hidden_layer_sizes=46, alpha=1.5, score=0.911, total=   4.1s\n",
      "[CV] solver=lbfgs, hidden_layer_sizes=46, alpha=1.5 ..................\n",
      "[CV]  solver=lbfgs, hidden_layer_sizes=46, alpha=1.5, score=0.915, total=   4.4s\n",
      "[CV] solver=lbfgs, hidden_layer_sizes=46, alpha=1.5 ..................\n",
      "[CV]  solver=lbfgs, hidden_layer_sizes=46, alpha=1.5, score=0.914, total=   4.6s\n",
      "[CV] solver=lbfgs, hidden_layer_sizes=46, alpha=1.5 ..................\n",
      "[CV]  solver=lbfgs, hidden_layer_sizes=46, alpha=1.5, score=0.911, total=   6.9s\n",
      "[CV] solver=lbfgs, hidden_layer_sizes=46, alpha=1.5 ..................\n",
      "[CV]  solver=lbfgs, hidden_layer_sizes=46, alpha=1.5, score=0.917, total=   4.3s\n",
      "[CV] solver=adam, hidden_layer_sizes=44, alpha=1.5 ...................\n",
      "[CV]  solver=adam, hidden_layer_sizes=44, alpha=1.5, score=0.905, total=   4.9s\n",
      "[CV] solver=adam, hidden_layer_sizes=44, alpha=1.5 ...................\n",
      "[CV]  solver=adam, hidden_layer_sizes=44, alpha=1.5, score=0.907, total=   3.3s\n",
      "[CV] solver=adam, hidden_layer_sizes=44, alpha=1.5 ...................\n",
      "[CV]  solver=adam, hidden_layer_sizes=44, alpha=1.5, score=0.912, total=   4.9s\n",
      "[CV] solver=adam, hidden_layer_sizes=44, alpha=1.5 ...................\n",
      "[CV]  solver=adam, hidden_layer_sizes=44, alpha=1.5, score=0.907, total=   6.2s\n",
      "[CV] solver=adam, hidden_layer_sizes=44, alpha=1.5 ...................\n",
      "[CV]  solver=adam, hidden_layer_sizes=44, alpha=1.5, score=0.916, total=   4.0s\n",
      "[CV] solver=lbfgs, hidden_layer_sizes=65, alpha=1.5 ..................\n",
      "[CV]  solver=lbfgs, hidden_layer_sizes=65, alpha=1.5, score=0.911, total=   4.8s\n",
      "[CV] solver=lbfgs, hidden_layer_sizes=65, alpha=1.5 ..................\n",
      "[CV]  solver=lbfgs, hidden_layer_sizes=65, alpha=1.5, score=0.915, total=   7.2s\n",
      "[CV] solver=lbfgs, hidden_layer_sizes=65, alpha=1.5 ..................\n",
      "[CV]  solver=lbfgs, hidden_layer_sizes=65, alpha=1.5, score=0.914, total=   5.6s\n",
      "[CV] solver=lbfgs, hidden_layer_sizes=65, alpha=1.5 ..................\n",
      "[CV]  solver=lbfgs, hidden_layer_sizes=65, alpha=1.5, score=0.911, total=   8.4s\n",
      "[CV] solver=lbfgs, hidden_layer_sizes=65, alpha=1.5 ..................\n",
      "[CV]  solver=lbfgs, hidden_layer_sizes=65, alpha=1.5, score=0.917, total=   5.3s\n",
      "[CV] solver=adam, hidden_layer_sizes=53, alpha=1.0 ...................\n",
      "[CV]  solver=adam, hidden_layer_sizes=53, alpha=1.0, score=0.904, total=   3.0s\n",
      "[CV] solver=adam, hidden_layer_sizes=53, alpha=1.0 ...................\n",
      "[CV]  solver=adam, hidden_layer_sizes=53, alpha=1.0, score=0.907, total=   4.3s\n",
      "[CV] solver=adam, hidden_layer_sizes=53, alpha=1.0 ...................\n",
      "[CV]  solver=adam, hidden_layer_sizes=53, alpha=1.0, score=0.912, total=   4.8s\n",
      "[CV] solver=adam, hidden_layer_sizes=53, alpha=1.0 ...................\n",
      "[CV]  solver=adam, hidden_layer_sizes=53, alpha=1.0, score=0.907, total=   3.2s\n",
      "[CV] solver=adam, hidden_layer_sizes=53, alpha=1.0 ...................\n",
      "[CV]  solver=adam, hidden_layer_sizes=53, alpha=1.0, score=0.918, total=   3.7s\n",
      "[CV] solver=adam, hidden_layer_sizes=52, alpha=1.5 ...................\n",
      "[CV]  solver=adam, hidden_layer_sizes=52, alpha=1.5, score=0.906, total=   3.8s\n",
      "[CV] solver=adam, hidden_layer_sizes=52, alpha=1.5 ...................\n",
      "[CV]  solver=adam, hidden_layer_sizes=52, alpha=1.5, score=0.906, total=   4.2s\n",
      "[CV] solver=adam, hidden_layer_sizes=52, alpha=1.5 ...................\n",
      "[CV]  solver=adam, hidden_layer_sizes=52, alpha=1.5, score=0.912, total=   4.1s\n",
      "[CV] solver=adam, hidden_layer_sizes=52, alpha=1.5 ...................\n",
      "[CV]  solver=adam, hidden_layer_sizes=52, alpha=1.5, score=0.908, total=   3.8s\n",
      "[CV] solver=adam, hidden_layer_sizes=52, alpha=1.5 ...................\n",
      "[CV]  solver=adam, hidden_layer_sizes=52, alpha=1.5, score=0.915, total=   3.7s\n",
      "[CV] solver=lbfgs, hidden_layer_sizes=48, alpha=0.0 ..................\n",
      "[CV]  solver=lbfgs, hidden_layer_sizes=48, alpha=0.0, score=0.910, total=   1.6s\n",
      "[CV] solver=lbfgs, hidden_layer_sizes=48, alpha=0.0 ..................\n",
      "[CV]  solver=lbfgs, hidden_layer_sizes=48, alpha=0.0, score=0.915, total=   7.6s\n",
      "[CV] solver=lbfgs, hidden_layer_sizes=48, alpha=0.0 ..................\n",
      "[CV]  solver=lbfgs, hidden_layer_sizes=48, alpha=0.0, score=0.914, total=   3.9s\n",
      "[CV] solver=lbfgs, hidden_layer_sizes=48, alpha=0.0 ..................\n",
      "[CV]  solver=lbfgs, hidden_layer_sizes=48, alpha=0.0, score=0.911, total=   9.3s\n",
      "[CV] solver=lbfgs, hidden_layer_sizes=48, alpha=0.0 ..................\n",
      "[CV]  solver=lbfgs, hidden_layer_sizes=48, alpha=0.0, score=0.917, total=   6.1s\n",
      "[CV] solver=adam, hidden_layer_sizes=37, alpha=0.0 ...................\n",
      "[CV]  solver=adam, hidden_layer_sizes=37, alpha=0.0, score=0.911, total=   2.7s\n",
      "[CV] solver=adam, hidden_layer_sizes=37, alpha=0.0 ...................\n",
      "[CV]  solver=adam, hidden_layer_sizes=37, alpha=0.0, score=0.915, total=   3.4s\n",
      "[CV] solver=adam, hidden_layer_sizes=37, alpha=0.0 ...................\n",
      "[CV]  solver=adam, hidden_layer_sizes=37, alpha=0.0, score=0.914, total=   1.8s\n",
      "[CV] solver=adam, hidden_layer_sizes=37, alpha=0.0 ...................\n",
      "[CV]  solver=adam, hidden_layer_sizes=37, alpha=0.0, score=0.911, total=   2.6s\n",
      "[CV] solver=adam, hidden_layer_sizes=37, alpha=0.0 ...................\n",
      "[CV]  solver=adam, hidden_layer_sizes=37, alpha=0.0, score=0.917, total=   3.2s\n",
      "[CV] solver=adam, hidden_layer_sizes=60, alpha=0.5 ...................\n",
      "[CV]  solver=adam, hidden_layer_sizes=60, alpha=0.5, score=0.908, total=   4.1s\n",
      "[CV] solver=adam, hidden_layer_sizes=60, alpha=0.5 ...................\n",
      "[CV]  solver=adam, hidden_layer_sizes=60, alpha=0.5, score=0.908, total=   3.4s\n",
      "[CV] solver=adam, hidden_layer_sizes=60, alpha=0.5 ...................\n",
      "[CV]  solver=adam, hidden_layer_sizes=60, alpha=0.5, score=0.912, total=   4.7s\n",
      "[CV] solver=adam, hidden_layer_sizes=60, alpha=0.5 ...................\n",
      "[CV]  solver=adam, hidden_layer_sizes=60, alpha=0.5, score=0.908, total=   5.8s\n",
      "[CV] solver=adam, hidden_layer_sizes=60, alpha=0.5 ...................\n",
      "[CV]  solver=adam, hidden_layer_sizes=60, alpha=0.5, score=0.918, total=   4.3s\n"
     ]
    },
    {
     "name": "stderr",
     "output_type": "stream",
     "text": [
      "[Parallel(n_jobs=1)]: Done  50 out of  50 | elapsed:  3.7min finished\n"
     ]
    },
    {
     "name": "stdout",
     "output_type": "stream",
     "text": [
      "Fitting 5 folds for each of 10 candidates, totalling 50 fits\n",
      "[CV] solver=lbfgs, hidden_layer_sizes=37, alpha=0.5 ..................\n"
     ]
    },
    {
     "name": "stderr",
     "output_type": "stream",
     "text": [
      "[Parallel(n_jobs=1)]: Using backend SequentialBackend with 1 concurrent workers.\n"
     ]
    },
    {
     "name": "stdout",
     "output_type": "stream",
     "text": [
      "[CV]  solver=lbfgs, hidden_layer_sizes=37, alpha=0.5, score=0.922, total=  14.2s\n",
      "[CV] solver=lbfgs, hidden_layer_sizes=37, alpha=0.5 ..................\n"
     ]
    },
    {
     "name": "stderr",
     "output_type": "stream",
     "text": [
      "[Parallel(n_jobs=1)]: Done   1 out of   1 | elapsed:   14.1s remaining:    0.0s\n"
     ]
    },
    {
     "name": "stdout",
     "output_type": "stream",
     "text": [
      "[CV]  solver=lbfgs, hidden_layer_sizes=37, alpha=0.5, score=0.922, total=  19.2s\n",
      "[CV] solver=lbfgs, hidden_layer_sizes=37, alpha=0.5 ..................\n"
     ]
    },
    {
     "name": "stderr",
     "output_type": "stream",
     "text": [
      "[Parallel(n_jobs=1)]: Done   2 out of   2 | elapsed:   33.3s remaining:    0.0s\n"
     ]
    },
    {
     "name": "stdout",
     "output_type": "stream",
     "text": [
      "[CV]  solver=lbfgs, hidden_layer_sizes=37, alpha=0.5, score=0.922, total=  20.4s\n",
      "[CV] solver=lbfgs, hidden_layer_sizes=37, alpha=0.5 ..................\n",
      "[CV]  solver=lbfgs, hidden_layer_sizes=37, alpha=0.5, score=0.919, total=  18.6s\n",
      "[CV] solver=lbfgs, hidden_layer_sizes=37, alpha=0.5 ..................\n",
      "[CV]  solver=lbfgs, hidden_layer_sizes=37, alpha=0.5, score=0.927, total=  39.3s\n",
      "[CV] solver=lbfgs, hidden_layer_sizes=57, alpha=1.5 ..................\n",
      "[CV]  solver=lbfgs, hidden_layer_sizes=57, alpha=1.5, score=0.921, total=  19.3s\n",
      "[CV] solver=lbfgs, hidden_layer_sizes=57, alpha=1.5 ..................\n",
      "[CV]  solver=lbfgs, hidden_layer_sizes=57, alpha=1.5, score=0.920, total=  11.6s\n",
      "[CV] solver=lbfgs, hidden_layer_sizes=57, alpha=1.5 ..................\n",
      "[CV]  solver=lbfgs, hidden_layer_sizes=57, alpha=1.5, score=0.922, total=  15.4s\n",
      "[CV] solver=lbfgs, hidden_layer_sizes=57, alpha=1.5 ..................\n",
      "[CV]  solver=lbfgs, hidden_layer_sizes=57, alpha=1.5, score=0.918, total=  26.2s\n",
      "[CV] solver=lbfgs, hidden_layer_sizes=57, alpha=1.5 ..................\n",
      "[CV]  solver=lbfgs, hidden_layer_sizes=57, alpha=1.5, score=0.926, total=  25.1s\n",
      "[CV] solver=adam, hidden_layer_sizes=31, alpha=0.5 ...................\n",
      "[CV]  solver=adam, hidden_layer_sizes=31, alpha=0.5, score=0.915, total=  11.3s\n",
      "[CV] solver=adam, hidden_layer_sizes=31, alpha=0.5 ...................\n",
      "[CV]  solver=adam, hidden_layer_sizes=31, alpha=0.5, score=0.915, total=  21.8s\n",
      "[CV] solver=adam, hidden_layer_sizes=31, alpha=0.5 ...................\n",
      "[CV]  solver=adam, hidden_layer_sizes=31, alpha=0.5, score=0.918, total=  19.9s\n",
      "[CV] solver=adam, hidden_layer_sizes=31, alpha=0.5 ...................\n",
      "[CV]  solver=adam, hidden_layer_sizes=31, alpha=0.5, score=0.914, total=  12.2s\n",
      "[CV] solver=adam, hidden_layer_sizes=31, alpha=0.5 ...................\n",
      "[CV]  solver=adam, hidden_layer_sizes=31, alpha=0.5, score=0.921, total=   4.5s\n",
      "[CV] solver=lbfgs, hidden_layer_sizes=53, alpha=0.0 ..................\n"
     ]
    },
    {
     "name": "stderr",
     "output_type": "stream",
     "text": [
      "C:\\Users\\LEm\\Anaconda3\\lib\\site-packages\\sklearn\\model_selection\\_validation.py:548: FitFailedWarning: Estimator fit failed. The score on this train-test partition for these parameters will be set to nan. Details: \n",
      "Traceback (most recent call last):\n",
      "  File \"C:\\Users\\LEm\\Anaconda3\\lib\\site-packages\\sklearn\\model_selection\\_validation.py\", line 531, in _fit_and_score\n",
      "    estimator.fit(X_train, y_train, **fit_params)\n",
      "  File \"C:\\Users\\LEm\\Anaconda3\\lib\\site-packages\\sklearn\\neural_network\\_multilayer_perceptron.py\", line 1027, in fit\n",
      "    return self._fit(X, y, incremental=(self.warm_start and\n",
      "  File \"C:\\Users\\LEm\\Anaconda3\\lib\\site-packages\\sklearn\\neural_network\\_multilayer_perceptron.py\", line 375, in _fit\n",
      "    self._fit_lbfgs(X, y, activations, deltas, coef_grads,\n",
      "  File \"C:\\Users\\LEm\\Anaconda3\\lib\\site-packages\\sklearn\\neural_network\\_multilayer_perceptron.py\", line 471, in _fit_lbfgs\n",
      "    self.n_iter_ = _check_optimize_result(\"lbfgs\", opt_res, self.max_iter)\n",
      "  File \"C:\\Users\\LEm\\Anaconda3\\lib\\site-packages\\sklearn\\utils\\optimize.py\", line 243, in _check_optimize_result\n",
      "    ).format(solver, result.status, result.message.decode(\"latin1\"))\n",
      "AttributeError: 'str' object has no attribute 'decode'\n",
      "\n",
      "  warnings.warn(\"Estimator fit failed. The score on this train-test\"\n"
     ]
    },
    {
     "name": "stdout",
     "output_type": "stream",
     "text": [
      "[CV]  solver=lbfgs, hidden_layer_sizes=53, alpha=0.0, score=nan, total= 1.3min\n",
      "[CV] solver=lbfgs, hidden_layer_sizes=53, alpha=0.0 ..................\n"
     ]
    },
    {
     "name": "stderr",
     "output_type": "stream",
     "text": [
      "C:\\Users\\LEm\\Anaconda3\\lib\\site-packages\\sklearn\\model_selection\\_validation.py:548: FitFailedWarning: Estimator fit failed. The score on this train-test partition for these parameters will be set to nan. Details: \n",
      "Traceback (most recent call last):\n",
      "  File \"C:\\Users\\LEm\\Anaconda3\\lib\\site-packages\\sklearn\\model_selection\\_validation.py\", line 531, in _fit_and_score\n",
      "    estimator.fit(X_train, y_train, **fit_params)\n",
      "  File \"C:\\Users\\LEm\\Anaconda3\\lib\\site-packages\\sklearn\\neural_network\\_multilayer_perceptron.py\", line 1027, in fit\n",
      "    return self._fit(X, y, incremental=(self.warm_start and\n",
      "  File \"C:\\Users\\LEm\\Anaconda3\\lib\\site-packages\\sklearn\\neural_network\\_multilayer_perceptron.py\", line 375, in _fit\n",
      "    self._fit_lbfgs(X, y, activations, deltas, coef_grads,\n",
      "  File \"C:\\Users\\LEm\\Anaconda3\\lib\\site-packages\\sklearn\\neural_network\\_multilayer_perceptron.py\", line 471, in _fit_lbfgs\n",
      "    self.n_iter_ = _check_optimize_result(\"lbfgs\", opt_res, self.max_iter)\n",
      "  File \"C:\\Users\\LEm\\Anaconda3\\lib\\site-packages\\sklearn\\utils\\optimize.py\", line 243, in _check_optimize_result\n",
      "    ).format(solver, result.status, result.message.decode(\"latin1\"))\n",
      "AttributeError: 'str' object has no attribute 'decode'\n",
      "\n",
      "  warnings.warn(\"Estimator fit failed. The score on this train-test\"\n"
     ]
    },
    {
     "name": "stdout",
     "output_type": "stream",
     "text": [
      "[CV]  solver=lbfgs, hidden_layer_sizes=53, alpha=0.0, score=nan, total= 1.3min\n",
      "[CV] solver=lbfgs, hidden_layer_sizes=53, alpha=0.0 ..................\n",
      "[CV]  solver=lbfgs, hidden_layer_sizes=53, alpha=0.0, score=0.922, total= 1.5min\n",
      "[CV] solver=lbfgs, hidden_layer_sizes=53, alpha=0.0 ..................\n"
     ]
    },
    {
     "name": "stderr",
     "output_type": "stream",
     "text": [
      "C:\\Users\\LEm\\Anaconda3\\lib\\site-packages\\sklearn\\model_selection\\_validation.py:548: FitFailedWarning: Estimator fit failed. The score on this train-test partition for these parameters will be set to nan. Details: \n",
      "Traceback (most recent call last):\n",
      "  File \"C:\\Users\\LEm\\Anaconda3\\lib\\site-packages\\sklearn\\model_selection\\_validation.py\", line 531, in _fit_and_score\n",
      "    estimator.fit(X_train, y_train, **fit_params)\n",
      "  File \"C:\\Users\\LEm\\Anaconda3\\lib\\site-packages\\sklearn\\neural_network\\_multilayer_perceptron.py\", line 1027, in fit\n",
      "    return self._fit(X, y, incremental=(self.warm_start and\n",
      "  File \"C:\\Users\\LEm\\Anaconda3\\lib\\site-packages\\sklearn\\neural_network\\_multilayer_perceptron.py\", line 375, in _fit\n",
      "    self._fit_lbfgs(X, y, activations, deltas, coef_grads,\n",
      "  File \"C:\\Users\\LEm\\Anaconda3\\lib\\site-packages\\sklearn\\neural_network\\_multilayer_perceptron.py\", line 471, in _fit_lbfgs\n",
      "    self.n_iter_ = _check_optimize_result(\"lbfgs\", opt_res, self.max_iter)\n",
      "  File \"C:\\Users\\LEm\\Anaconda3\\lib\\site-packages\\sklearn\\utils\\optimize.py\", line 243, in _check_optimize_result\n",
      "    ).format(solver, result.status, result.message.decode(\"latin1\"))\n",
      "AttributeError: 'str' object has no attribute 'decode'\n",
      "\n",
      "  warnings.warn(\"Estimator fit failed. The score on this train-test\"\n"
     ]
    },
    {
     "name": "stdout",
     "output_type": "stream",
     "text": [
      "[CV]  solver=lbfgs, hidden_layer_sizes=53, alpha=0.0, score=nan, total= 1.4min\n",
      "[CV] solver=lbfgs, hidden_layer_sizes=53, alpha=0.0 ..................\n"
     ]
    },
    {
     "name": "stderr",
     "output_type": "stream",
     "text": [
      "C:\\Users\\LEm\\Anaconda3\\lib\\site-packages\\sklearn\\model_selection\\_validation.py:548: FitFailedWarning: Estimator fit failed. The score on this train-test partition for these parameters will be set to nan. Details: \n",
      "Traceback (most recent call last):\n",
      "  File \"C:\\Users\\LEm\\Anaconda3\\lib\\site-packages\\sklearn\\model_selection\\_validation.py\", line 531, in _fit_and_score\n",
      "    estimator.fit(X_train, y_train, **fit_params)\n",
      "  File \"C:\\Users\\LEm\\Anaconda3\\lib\\site-packages\\sklearn\\neural_network\\_multilayer_perceptron.py\", line 1027, in fit\n",
      "    return self._fit(X, y, incremental=(self.warm_start and\n",
      "  File \"C:\\Users\\LEm\\Anaconda3\\lib\\site-packages\\sklearn\\neural_network\\_multilayer_perceptron.py\", line 375, in _fit\n",
      "    self._fit_lbfgs(X, y, activations, deltas, coef_grads,\n",
      "  File \"C:\\Users\\LEm\\Anaconda3\\lib\\site-packages\\sklearn\\neural_network\\_multilayer_perceptron.py\", line 471, in _fit_lbfgs\n",
      "    self.n_iter_ = _check_optimize_result(\"lbfgs\", opt_res, self.max_iter)\n",
      "  File \"C:\\Users\\LEm\\Anaconda3\\lib\\site-packages\\sklearn\\utils\\optimize.py\", line 243, in _check_optimize_result\n",
      "    ).format(solver, result.status, result.message.decode(\"latin1\"))\n",
      "AttributeError: 'str' object has no attribute 'decode'\n",
      "\n",
      "  warnings.warn(\"Estimator fit failed. The score on this train-test\"\n"
     ]
    },
    {
     "name": "stdout",
     "output_type": "stream",
     "text": [
      "[CV]  solver=lbfgs, hidden_layer_sizes=53, alpha=0.0, score=nan, total= 1.5min\n",
      "[CV] solver=lbfgs, hidden_layer_sizes=41, alpha=0.5 ..................\n",
      "[CV]  solver=lbfgs, hidden_layer_sizes=41, alpha=0.5, score=0.921, total=  16.4s\n",
      "[CV] solver=lbfgs, hidden_layer_sizes=41, alpha=0.5 ..................\n",
      "[CV]  solver=lbfgs, hidden_layer_sizes=41, alpha=0.5, score=0.921, total=  20.4s\n",
      "[CV] solver=lbfgs, hidden_layer_sizes=41, alpha=0.5 ..................\n",
      "[CV]  solver=lbfgs, hidden_layer_sizes=41, alpha=0.5, score=0.923, total=  32.4s\n",
      "[CV] solver=lbfgs, hidden_layer_sizes=41, alpha=0.5 ..................\n",
      "[CV]  solver=lbfgs, hidden_layer_sizes=41, alpha=0.5, score=0.919, total=  22.3s\n",
      "[CV] solver=lbfgs, hidden_layer_sizes=41, alpha=0.5 ..................\n",
      "[CV]  solver=lbfgs, hidden_layer_sizes=41, alpha=0.5, score=0.927, total=  24.7s\n",
      "[CV] solver=adam, hidden_layer_sizes=60, alpha=0.0 ...................\n",
      "[CV]  solver=adam, hidden_layer_sizes=60, alpha=0.0, score=0.920, total=   4.5s\n",
      "[CV] solver=adam, hidden_layer_sizes=60, alpha=0.0 ...................\n",
      "[CV]  solver=adam, hidden_layer_sizes=60, alpha=0.0, score=0.920, total=   4.0s\n",
      "[CV] solver=adam, hidden_layer_sizes=60, alpha=0.0 ...................\n",
      "[CV]  solver=adam, hidden_layer_sizes=60, alpha=0.0, score=0.920, total=  10.1s\n",
      "[CV] solver=adam, hidden_layer_sizes=60, alpha=0.0 ...................\n",
      "[CV]  solver=adam, hidden_layer_sizes=60, alpha=0.0, score=0.920, total=   6.8s\n",
      "[CV] solver=adam, hidden_layer_sizes=60, alpha=0.0 ...................\n",
      "[CV]  solver=adam, hidden_layer_sizes=60, alpha=0.0, score=0.923, total=   3.8s\n",
      "[CV] solver=lbfgs, hidden_layer_sizes=62, alpha=0.5 ..................\n",
      "[CV]  solver=lbfgs, hidden_layer_sizes=62, alpha=0.5, score=0.920, total=  30.9s\n",
      "[CV] solver=lbfgs, hidden_layer_sizes=62, alpha=0.5 ..................\n",
      "[CV]  solver=lbfgs, hidden_layer_sizes=62, alpha=0.5, score=0.922, total=  33.7s\n",
      "[CV] solver=lbfgs, hidden_layer_sizes=62, alpha=0.5 ..................\n",
      "[CV]  solver=lbfgs, hidden_layer_sizes=62, alpha=0.5, score=0.924, total=  50.5s\n",
      "[CV] solver=lbfgs, hidden_layer_sizes=62, alpha=0.5 ..................\n",
      "[CV]  solver=lbfgs, hidden_layer_sizes=62, alpha=0.5, score=0.920, total=  29.0s\n",
      "[CV] solver=lbfgs, hidden_layer_sizes=62, alpha=0.5 ..................\n",
      "[CV]  solver=lbfgs, hidden_layer_sizes=62, alpha=0.5, score=0.927, total=  20.5s\n",
      "[CV] solver=adam, hidden_layer_sizes=65, alpha=0.5 ...................\n",
      "[CV]  solver=adam, hidden_layer_sizes=65, alpha=0.5, score=0.916, total=   4.9s\n",
      "[CV] solver=adam, hidden_layer_sizes=65, alpha=0.5 ...................\n",
      "[CV]  solver=adam, hidden_layer_sizes=65, alpha=0.5, score=0.917, total=   4.9s\n",
      "[CV] solver=adam, hidden_layer_sizes=65, alpha=0.5 ...................\n",
      "[CV]  solver=adam, hidden_layer_sizes=65, alpha=0.5, score=0.918, total=   4.1s\n",
      "[CV] solver=adam, hidden_layer_sizes=65, alpha=0.5 ...................\n",
      "[CV]  solver=adam, hidden_layer_sizes=65, alpha=0.5, score=0.915, total=   6.5s\n",
      "[CV] solver=adam, hidden_layer_sizes=65, alpha=0.5 ...................\n",
      "[CV]  solver=adam, hidden_layer_sizes=65, alpha=0.5, score=0.921, total=   6.1s\n",
      "[CV] solver=lbfgs, hidden_layer_sizes=51, alpha=1.5 ..................\n",
      "[CV]  solver=lbfgs, hidden_layer_sizes=51, alpha=1.5, score=0.920, total=  11.4s\n",
      "[CV] solver=lbfgs, hidden_layer_sizes=51, alpha=1.5 ..................\n",
      "[CV]  solver=lbfgs, hidden_layer_sizes=51, alpha=1.5, score=0.920, total=  13.2s\n",
      "[CV] solver=lbfgs, hidden_layer_sizes=51, alpha=1.5 ..................\n",
      "[CV]  solver=lbfgs, hidden_layer_sizes=51, alpha=1.5, score=0.922, total=  16.2s\n",
      "[CV] solver=lbfgs, hidden_layer_sizes=51, alpha=1.5 ..................\n",
      "[CV]  solver=lbfgs, hidden_layer_sizes=51, alpha=1.5, score=0.918, total=  10.9s\n",
      "[CV] solver=lbfgs, hidden_layer_sizes=51, alpha=1.5 ..................\n",
      "[CV]  solver=lbfgs, hidden_layer_sizes=51, alpha=1.5, score=0.928, total=   8.4s\n",
      "[CV] solver=adam, hidden_layer_sizes=48, alpha=0.5 ...................\n",
      "[CV]  solver=adam, hidden_layer_sizes=48, alpha=0.5, score=0.911, total=   3.5s\n",
      "[CV] solver=adam, hidden_layer_sizes=48, alpha=0.5 ...................\n",
      "[CV]  solver=adam, hidden_layer_sizes=48, alpha=0.5, score=0.915, total=   4.4s\n",
      "[CV] solver=adam, hidden_layer_sizes=48, alpha=0.5 ...................\n",
      "[CV]  solver=adam, hidden_layer_sizes=48, alpha=0.5, score=0.918, total=   4.3s\n",
      "[CV] solver=adam, hidden_layer_sizes=48, alpha=0.5 ...................\n",
      "[CV]  solver=adam, hidden_layer_sizes=48, alpha=0.5, score=0.914, total=   3.1s\n",
      "[CV] solver=adam, hidden_layer_sizes=48, alpha=0.5 ...................\n",
      "[CV]  solver=adam, hidden_layer_sizes=48, alpha=0.5, score=0.921, total=   6.5s\n"
     ]
    },
    {
     "name": "stderr",
     "output_type": "stream",
     "text": [
      "[Parallel(n_jobs=1)]: Done  50 out of  50 | elapsed: 18.5min finished\n"
     ]
    },
    {
     "name": "stdout",
     "output_type": "stream",
     "text": [
      "Fitting 5 folds for each of 10 candidates, totalling 50 fits\n",
      "[CV] solver=adam, hidden_layer_sizes=41, alpha=1.0 ...................\n"
     ]
    },
    {
     "name": "stderr",
     "output_type": "stream",
     "text": [
      "[Parallel(n_jobs=1)]: Using backend SequentialBackend with 1 concurrent workers.\n"
     ]
    },
    {
     "name": "stdout",
     "output_type": "stream",
     "text": [
      "[CV]  solver=adam, hidden_layer_sizes=41, alpha=1.0, score=0.909, total=   4.4s\n",
      "[CV] solver=adam, hidden_layer_sizes=41, alpha=1.0 ...................\n"
     ]
    },
    {
     "name": "stderr",
     "output_type": "stream",
     "text": [
      "[Parallel(n_jobs=1)]: Done   1 out of   1 | elapsed:    4.3s remaining:    0.0s\n"
     ]
    },
    {
     "name": "stdout",
     "output_type": "stream",
     "text": [
      "[CV]  solver=adam, hidden_layer_sizes=41, alpha=1.0, score=0.914, total=   5.0s\n",
      "[CV] solver=adam, hidden_layer_sizes=41, alpha=1.0 ...................\n"
     ]
    },
    {
     "name": "stderr",
     "output_type": "stream",
     "text": [
      "[Parallel(n_jobs=1)]: Done   2 out of   2 | elapsed:    9.3s remaining:    0.0s\n"
     ]
    },
    {
     "name": "stdout",
     "output_type": "stream",
     "text": [
      "[CV]  solver=adam, hidden_layer_sizes=41, alpha=1.0, score=0.912, total=   4.1s\n",
      "[CV] solver=adam, hidden_layer_sizes=41, alpha=1.0 ...................\n",
      "[CV]  solver=adam, hidden_layer_sizes=41, alpha=1.0, score=0.914, total=   3.5s\n",
      "[CV] solver=adam, hidden_layer_sizes=41, alpha=1.0 ...................\n",
      "[CV]  solver=adam, hidden_layer_sizes=41, alpha=1.0, score=0.918, total=   5.3s\n",
      "[CV] solver=lbfgs, hidden_layer_sizes=62, alpha=1.5 ..................\n",
      "[CV]  solver=lbfgs, hidden_layer_sizes=62, alpha=1.5, score=0.915, total=  13.5s\n",
      "[CV] solver=lbfgs, hidden_layer_sizes=62, alpha=1.5 ..................\n",
      "[CV]  solver=lbfgs, hidden_layer_sizes=62, alpha=1.5, score=0.916, total=  14.4s\n",
      "[CV] solver=lbfgs, hidden_layer_sizes=62, alpha=1.5 ..................\n",
      "[CV]  solver=lbfgs, hidden_layer_sizes=62, alpha=1.5, score=0.914, total=  11.1s\n",
      "[CV] solver=lbfgs, hidden_layer_sizes=62, alpha=1.5 ..................\n",
      "[CV]  solver=lbfgs, hidden_layer_sizes=62, alpha=1.5, score=0.915, total=  11.0s\n",
      "[CV] solver=lbfgs, hidden_layer_sizes=62, alpha=1.5 ..................\n",
      "[CV]  solver=lbfgs, hidden_layer_sizes=62, alpha=1.5, score=0.922, total=  13.7s\n",
      "[CV] solver=adam, hidden_layer_sizes=43, alpha=1.0 ...................\n",
      "[CV]  solver=adam, hidden_layer_sizes=43, alpha=1.0, score=0.912, total=   3.6s\n",
      "[CV] solver=adam, hidden_layer_sizes=43, alpha=1.0 ...................\n",
      "[CV]  solver=adam, hidden_layer_sizes=43, alpha=1.0, score=0.916, total=   4.1s\n",
      "[CV] solver=adam, hidden_layer_sizes=43, alpha=1.0 ...................\n",
      "[CV]  solver=adam, hidden_layer_sizes=43, alpha=1.0, score=0.911, total=   5.5s\n",
      "[CV] solver=adam, hidden_layer_sizes=43, alpha=1.0 ...................\n",
      "[CV]  solver=adam, hidden_layer_sizes=43, alpha=1.0, score=0.912, total=   5.0s\n",
      "[CV] solver=adam, hidden_layer_sizes=43, alpha=1.0 ...................\n",
      "[CV]  solver=adam, hidden_layer_sizes=43, alpha=1.0, score=0.920, total=   6.1s\n",
      "[CV] solver=lbfgs, hidden_layer_sizes=45, alpha=1.0 ..................\n",
      "[CV]  solver=lbfgs, hidden_layer_sizes=45, alpha=1.0, score=0.916, total=  24.9s\n",
      "[CV] solver=lbfgs, hidden_layer_sizes=45, alpha=1.0 ..................\n",
      "[CV]  solver=lbfgs, hidden_layer_sizes=45, alpha=1.0, score=0.915, total=   9.2s\n",
      "[CV] solver=lbfgs, hidden_layer_sizes=45, alpha=1.0 ..................\n",
      "[CV]  solver=lbfgs, hidden_layer_sizes=45, alpha=1.0, score=0.914, total=  17.6s\n",
      "[CV] solver=lbfgs, hidden_layer_sizes=45, alpha=1.0 ..................\n",
      "[CV]  solver=lbfgs, hidden_layer_sizes=45, alpha=1.0, score=0.914, total=  12.0s\n",
      "[CV] solver=lbfgs, hidden_layer_sizes=45, alpha=1.0 ..................\n",
      "[CV]  solver=lbfgs, hidden_layer_sizes=45, alpha=1.0, score=0.921, total=   9.8s\n",
      "[CV] solver=lbfgs, hidden_layer_sizes=50, alpha=1.0 ..................\n",
      "[CV]  solver=lbfgs, hidden_layer_sizes=50, alpha=1.0, score=0.915, total=  32.2s\n",
      "[CV] solver=lbfgs, hidden_layer_sizes=50, alpha=1.0 ..................\n",
      "[CV]  solver=lbfgs, hidden_layer_sizes=50, alpha=1.0, score=0.916, total=  20.8s\n",
      "[CV] solver=lbfgs, hidden_layer_sizes=50, alpha=1.0 ..................\n",
      "[CV]  solver=lbfgs, hidden_layer_sizes=50, alpha=1.0, score=0.914, total=  49.9s\n",
      "[CV] solver=lbfgs, hidden_layer_sizes=50, alpha=1.0 ..................\n",
      "[CV]  solver=lbfgs, hidden_layer_sizes=50, alpha=1.0, score=0.915, total=  36.9s\n",
      "[CV] solver=lbfgs, hidden_layer_sizes=50, alpha=1.0 ..................\n",
      "[CV]  solver=lbfgs, hidden_layer_sizes=50, alpha=1.0, score=0.922, total=  37.8s\n",
      "[CV] solver=adam, hidden_layer_sizes=34, alpha=0.5 ...................\n",
      "[CV]  solver=adam, hidden_layer_sizes=34, alpha=0.5, score=0.914, total=  53.9s\n",
      "[CV] solver=adam, hidden_layer_sizes=34, alpha=0.5 ...................\n",
      "[CV]  solver=adam, hidden_layer_sizes=34, alpha=0.5, score=0.918, total=  49.8s\n",
      "[CV] solver=adam, hidden_layer_sizes=34, alpha=0.5 ...................\n",
      "[CV]  solver=adam, hidden_layer_sizes=34, alpha=0.5, score=0.912, total=  40.5s\n",
      "[CV] solver=adam, hidden_layer_sizes=34, alpha=0.5 ...................\n",
      "[CV]  solver=adam, hidden_layer_sizes=34, alpha=0.5, score=0.912, total=  24.4s\n",
      "[CV] solver=adam, hidden_layer_sizes=34, alpha=0.5 ...................\n",
      "[CV]  solver=adam, hidden_layer_sizes=34, alpha=0.5, score=0.919, total=  23.9s\n",
      "[CV] solver=lbfgs, hidden_layer_sizes=57, alpha=1.0 ..................\n",
      "[CV]  solver=lbfgs, hidden_layer_sizes=57, alpha=1.0, score=0.915, total=  19.5s\n",
      "[CV] solver=lbfgs, hidden_layer_sizes=57, alpha=1.0 ..................\n",
      "[CV]  solver=lbfgs, hidden_layer_sizes=57, alpha=1.0, score=0.916, total=  18.5s\n",
      "[CV] solver=lbfgs, hidden_layer_sizes=57, alpha=1.0 ..................\n",
      "[CV]  solver=lbfgs, hidden_layer_sizes=57, alpha=1.0, score=0.914, total=  16.1s\n",
      "[CV] solver=lbfgs, hidden_layer_sizes=57, alpha=1.0 ..................\n",
      "[CV]  solver=lbfgs, hidden_layer_sizes=57, alpha=1.0, score=0.915, total=   9.2s\n",
      "[CV] solver=lbfgs, hidden_layer_sizes=57, alpha=1.0 ..................\n",
      "[CV]  solver=lbfgs, hidden_layer_sizes=57, alpha=1.0, score=0.921, total=  24.7s\n",
      "[CV] solver=adam, hidden_layer_sizes=46, alpha=0.5 ...................\n",
      "[CV]  solver=adam, hidden_layer_sizes=46, alpha=0.5, score=0.913, total=   3.9s\n",
      "[CV] solver=adam, hidden_layer_sizes=46, alpha=0.5 ...................\n",
      "[CV]  solver=adam, hidden_layer_sizes=46, alpha=0.5, score=0.914, total=   5.2s\n",
      "[CV] solver=adam, hidden_layer_sizes=46, alpha=0.5 ...................\n",
      "[CV]  solver=adam, hidden_layer_sizes=46, alpha=0.5, score=0.911, total=   4.8s\n",
      "[CV] solver=adam, hidden_layer_sizes=46, alpha=0.5 ...................\n",
      "[CV]  solver=adam, hidden_layer_sizes=46, alpha=0.5, score=0.912, total=   4.5s\n",
      "[CV] solver=adam, hidden_layer_sizes=46, alpha=0.5 ...................\n",
      "[CV]  solver=adam, hidden_layer_sizes=46, alpha=0.5, score=0.919, total=   5.7s\n",
      "[CV] solver=adam, hidden_layer_sizes=52, alpha=0.5 ...................\n",
      "[CV]  solver=adam, hidden_layer_sizes=52, alpha=0.5, score=0.912, total=   4.3s\n",
      "[CV] solver=adam, hidden_layer_sizes=52, alpha=0.5 ...................\n",
      "[CV]  solver=adam, hidden_layer_sizes=52, alpha=0.5, score=0.916, total=   4.6s\n",
      "[CV] solver=adam, hidden_layer_sizes=52, alpha=0.5 ...................\n",
      "[CV]  solver=adam, hidden_layer_sizes=52, alpha=0.5, score=0.913, total=   5.4s\n",
      "[CV] solver=adam, hidden_layer_sizes=52, alpha=0.5 ...................\n",
      "[CV]  solver=adam, hidden_layer_sizes=52, alpha=0.5, score=0.914, total=   7.3s\n",
      "[CV] solver=adam, hidden_layer_sizes=52, alpha=0.5 ...................\n",
      "[CV]  solver=adam, hidden_layer_sizes=52, alpha=0.5, score=0.917, total=   8.7s\n",
      "[CV] solver=lbfgs, hidden_layer_sizes=39, alpha=0.0 ..................\n",
      "[CV]  solver=lbfgs, hidden_layer_sizes=39, alpha=0.0, score=0.915, total=   7.3s\n",
      "[CV] solver=lbfgs, hidden_layer_sizes=39, alpha=0.0 ..................\n"
     ]
    },
    {
     "name": "stderr",
     "output_type": "stream",
     "text": [
      "C:\\Users\\LEm\\Anaconda3\\lib\\site-packages\\sklearn\\model_selection\\_validation.py:548: FitFailedWarning: Estimator fit failed. The score on this train-test partition for these parameters will be set to nan. Details: \n",
      "Traceback (most recent call last):\n",
      "  File \"C:\\Users\\LEm\\Anaconda3\\lib\\site-packages\\sklearn\\model_selection\\_validation.py\", line 531, in _fit_and_score\n",
      "    estimator.fit(X_train, y_train, **fit_params)\n",
      "  File \"C:\\Users\\LEm\\Anaconda3\\lib\\site-packages\\sklearn\\neural_network\\_multilayer_perceptron.py\", line 1027, in fit\n",
      "    return self._fit(X, y, incremental=(self.warm_start and\n",
      "  File \"C:\\Users\\LEm\\Anaconda3\\lib\\site-packages\\sklearn\\neural_network\\_multilayer_perceptron.py\", line 375, in _fit\n",
      "    self._fit_lbfgs(X, y, activations, deltas, coef_grads,\n",
      "  File \"C:\\Users\\LEm\\Anaconda3\\lib\\site-packages\\sklearn\\neural_network\\_multilayer_perceptron.py\", line 471, in _fit_lbfgs\n",
      "    self.n_iter_ = _check_optimize_result(\"lbfgs\", opt_res, self.max_iter)\n",
      "  File \"C:\\Users\\LEm\\Anaconda3\\lib\\site-packages\\sklearn\\utils\\optimize.py\", line 243, in _check_optimize_result\n",
      "    ).format(solver, result.status, result.message.decode(\"latin1\"))\n",
      "AttributeError: 'str' object has no attribute 'decode'\n",
      "\n",
      "  warnings.warn(\"Estimator fit failed. The score on this train-test\"\n"
     ]
    },
    {
     "name": "stdout",
     "output_type": "stream",
     "text": [
      "[CV]  solver=lbfgs, hidden_layer_sizes=39, alpha=0.0, score=nan, total=  53.9s\n",
      "[CV] solver=lbfgs, hidden_layer_sizes=39, alpha=0.0 ..................\n",
      "[CV]  solver=lbfgs, hidden_layer_sizes=39, alpha=0.0, score=0.913, total=  43.1s\n",
      "[CV] solver=lbfgs, hidden_layer_sizes=39, alpha=0.0 ..................\n"
     ]
    },
    {
     "name": "stderr",
     "output_type": "stream",
     "text": [
      "C:\\Users\\LEm\\Anaconda3\\lib\\site-packages\\sklearn\\model_selection\\_validation.py:548: FitFailedWarning: Estimator fit failed. The score on this train-test partition for these parameters will be set to nan. Details: \n",
      "Traceback (most recent call last):\n",
      "  File \"C:\\Users\\LEm\\Anaconda3\\lib\\site-packages\\sklearn\\model_selection\\_validation.py\", line 531, in _fit_and_score\n",
      "    estimator.fit(X_train, y_train, **fit_params)\n",
      "  File \"C:\\Users\\LEm\\Anaconda3\\lib\\site-packages\\sklearn\\neural_network\\_multilayer_perceptron.py\", line 1027, in fit\n",
      "    return self._fit(X, y, incremental=(self.warm_start and\n",
      "  File \"C:\\Users\\LEm\\Anaconda3\\lib\\site-packages\\sklearn\\neural_network\\_multilayer_perceptron.py\", line 375, in _fit\n",
      "    self._fit_lbfgs(X, y, activations, deltas, coef_grads,\n",
      "  File \"C:\\Users\\LEm\\Anaconda3\\lib\\site-packages\\sklearn\\neural_network\\_multilayer_perceptron.py\", line 471, in _fit_lbfgs\n",
      "    self.n_iter_ = _check_optimize_result(\"lbfgs\", opt_res, self.max_iter)\n",
      "  File \"C:\\Users\\LEm\\Anaconda3\\lib\\site-packages\\sklearn\\utils\\optimize.py\", line 243, in _check_optimize_result\n",
      "    ).format(solver, result.status, result.message.decode(\"latin1\"))\n",
      "AttributeError: 'str' object has no attribute 'decode'\n",
      "\n",
      "  warnings.warn(\"Estimator fit failed. The score on this train-test\"\n"
     ]
    },
    {
     "name": "stdout",
     "output_type": "stream",
     "text": [
      "[CV]  solver=lbfgs, hidden_layer_sizes=39, alpha=0.0, score=nan, total= 1.5min\n",
      "[CV] solver=lbfgs, hidden_layer_sizes=39, alpha=0.0 ..................\n"
     ]
    },
    {
     "name": "stderr",
     "output_type": "stream",
     "text": [
      "C:\\Users\\LEm\\Anaconda3\\lib\\site-packages\\sklearn\\model_selection\\_validation.py:548: FitFailedWarning: Estimator fit failed. The score on this train-test partition for these parameters will be set to nan. Details: \n",
      "Traceback (most recent call last):\n",
      "  File \"C:\\Users\\LEm\\Anaconda3\\lib\\site-packages\\sklearn\\model_selection\\_validation.py\", line 531, in _fit_and_score\n",
      "    estimator.fit(X_train, y_train, **fit_params)\n",
      "  File \"C:\\Users\\LEm\\Anaconda3\\lib\\site-packages\\sklearn\\neural_network\\_multilayer_perceptron.py\", line 1027, in fit\n",
      "    return self._fit(X, y, incremental=(self.warm_start and\n",
      "  File \"C:\\Users\\LEm\\Anaconda3\\lib\\site-packages\\sklearn\\neural_network\\_multilayer_perceptron.py\", line 375, in _fit\n",
      "    self._fit_lbfgs(X, y, activations, deltas, coef_grads,\n",
      "  File \"C:\\Users\\LEm\\Anaconda3\\lib\\site-packages\\sklearn\\neural_network\\_multilayer_perceptron.py\", line 471, in _fit_lbfgs\n",
      "    self.n_iter_ = _check_optimize_result(\"lbfgs\", opt_res, self.max_iter)\n",
      "  File \"C:\\Users\\LEm\\Anaconda3\\lib\\site-packages\\sklearn\\utils\\optimize.py\", line 243, in _check_optimize_result\n",
      "    ).format(solver, result.status, result.message.decode(\"latin1\"))\n",
      "AttributeError: 'str' object has no attribute 'decode'\n",
      "\n",
      "  warnings.warn(\"Estimator fit failed. The score on this train-test\"\n",
      "[Parallel(n_jobs=1)]: Done  50 out of  50 | elapsed: 16.1min finished\n"
     ]
    },
    {
     "name": "stdout",
     "output_type": "stream",
     "text": [
      "[CV]  solver=lbfgs, hidden_layer_sizes=39, alpha=0.0, score=nan, total= 1.2min\n",
      "Fitting 5 folds for each of 10 candidates, totalling 50 fits\n",
      "[CV] solver=adam, hidden_layer_sizes=54, alpha=1.5 ...................\n"
     ]
    },
    {
     "name": "stderr",
     "output_type": "stream",
     "text": [
      "[Parallel(n_jobs=1)]: Using backend SequentialBackend with 1 concurrent workers.\n"
     ]
    },
    {
     "name": "stdout",
     "output_type": "stream",
     "text": [
      "[CV]  solver=adam, hidden_layer_sizes=54, alpha=1.5, score=0.918, total=   5.5s\n",
      "[CV] solver=adam, hidden_layer_sizes=54, alpha=1.5 ...................\n"
     ]
    },
    {
     "name": "stderr",
     "output_type": "stream",
     "text": [
      "[Parallel(n_jobs=1)]: Done   1 out of   1 | elapsed:    5.4s remaining:    0.0s\n"
     ]
    },
    {
     "name": "stdout",
     "output_type": "stream",
     "text": [
      "[CV]  solver=adam, hidden_layer_sizes=54, alpha=1.5, score=0.923, total=   5.6s\n",
      "[CV] solver=adam, hidden_layer_sizes=54, alpha=1.5 ...................\n"
     ]
    },
    {
     "name": "stderr",
     "output_type": "stream",
     "text": [
      "[Parallel(n_jobs=1)]: Done   2 out of   2 | elapsed:   11.0s remaining:    0.0s\n"
     ]
    },
    {
     "name": "stdout",
     "output_type": "stream",
     "text": [
      "[CV]  solver=adam, hidden_layer_sizes=54, alpha=1.5, score=0.920, total=   5.0s\n",
      "[CV] solver=adam, hidden_layer_sizes=54, alpha=1.5 ...................\n",
      "[CV]  solver=adam, hidden_layer_sizes=54, alpha=1.5, score=0.920, total=   4.9s\n",
      "[CV] solver=adam, hidden_layer_sizes=54, alpha=1.5 ...................\n",
      "[CV]  solver=adam, hidden_layer_sizes=54, alpha=1.5, score=0.928, total=   5.3s\n",
      "[CV] solver=lbfgs, hidden_layer_sizes=68, alpha=1.5 ..................\n"
     ]
    },
    {
     "name": "stderr",
     "output_type": "stream",
     "text": [
      "C:\\Users\\LEm\\Anaconda3\\lib\\site-packages\\sklearn\\model_selection\\_validation.py:548: FitFailedWarning: Estimator fit failed. The score on this train-test partition for these parameters will be set to nan. Details: \n",
      "Traceback (most recent call last):\n",
      "  File \"C:\\Users\\LEm\\Anaconda3\\lib\\site-packages\\sklearn\\model_selection\\_validation.py\", line 531, in _fit_and_score\n",
      "    estimator.fit(X_train, y_train, **fit_params)\n",
      "  File \"C:\\Users\\LEm\\Anaconda3\\lib\\site-packages\\sklearn\\neural_network\\_multilayer_perceptron.py\", line 1027, in fit\n",
      "    return self._fit(X, y, incremental=(self.warm_start and\n",
      "  File \"C:\\Users\\LEm\\Anaconda3\\lib\\site-packages\\sklearn\\neural_network\\_multilayer_perceptron.py\", line 375, in _fit\n",
      "    self._fit_lbfgs(X, y, activations, deltas, coef_grads,\n",
      "  File \"C:\\Users\\LEm\\Anaconda3\\lib\\site-packages\\sklearn\\neural_network\\_multilayer_perceptron.py\", line 471, in _fit_lbfgs\n",
      "    self.n_iter_ = _check_optimize_result(\"lbfgs\", opt_res, self.max_iter)\n",
      "  File \"C:\\Users\\LEm\\Anaconda3\\lib\\site-packages\\sklearn\\utils\\optimize.py\", line 243, in _check_optimize_result\n",
      "    ).format(solver, result.status, result.message.decode(\"latin1\"))\n",
      "AttributeError: 'str' object has no attribute 'decode'\n",
      "\n",
      "  warnings.warn(\"Estimator fit failed. The score on this train-test\"\n"
     ]
    },
    {
     "name": "stdout",
     "output_type": "stream",
     "text": [
      "[CV]  solver=lbfgs, hidden_layer_sizes=68, alpha=1.5, score=nan, total= 1.4min\n",
      "[CV] solver=lbfgs, hidden_layer_sizes=68, alpha=1.5 ..................\n"
     ]
    },
    {
     "name": "stderr",
     "output_type": "stream",
     "text": [
      "C:\\Users\\LEm\\Anaconda3\\lib\\site-packages\\sklearn\\model_selection\\_validation.py:548: FitFailedWarning: Estimator fit failed. The score on this train-test partition for these parameters will be set to nan. Details: \n",
      "Traceback (most recent call last):\n",
      "  File \"C:\\Users\\LEm\\Anaconda3\\lib\\site-packages\\sklearn\\model_selection\\_validation.py\", line 531, in _fit_and_score\n",
      "    estimator.fit(X_train, y_train, **fit_params)\n",
      "  File \"C:\\Users\\LEm\\Anaconda3\\lib\\site-packages\\sklearn\\neural_network\\_multilayer_perceptron.py\", line 1027, in fit\n",
      "    return self._fit(X, y, incremental=(self.warm_start and\n",
      "  File \"C:\\Users\\LEm\\Anaconda3\\lib\\site-packages\\sklearn\\neural_network\\_multilayer_perceptron.py\", line 375, in _fit\n",
      "    self._fit_lbfgs(X, y, activations, deltas, coef_grads,\n",
      "  File \"C:\\Users\\LEm\\Anaconda3\\lib\\site-packages\\sklearn\\neural_network\\_multilayer_perceptron.py\", line 471, in _fit_lbfgs\n",
      "    self.n_iter_ = _check_optimize_result(\"lbfgs\", opt_res, self.max_iter)\n",
      "  File \"C:\\Users\\LEm\\Anaconda3\\lib\\site-packages\\sklearn\\utils\\optimize.py\", line 243, in _check_optimize_result\n",
      "    ).format(solver, result.status, result.message.decode(\"latin1\"))\n",
      "AttributeError: 'str' object has no attribute 'decode'\n",
      "\n",
      "  warnings.warn(\"Estimator fit failed. The score on this train-test\"\n"
     ]
    },
    {
     "name": "stdout",
     "output_type": "stream",
     "text": [
      "[CV]  solver=lbfgs, hidden_layer_sizes=68, alpha=1.5, score=nan, total= 1.4min\n",
      "[CV] solver=lbfgs, hidden_layer_sizes=68, alpha=1.5 ..................\n"
     ]
    },
    {
     "name": "stderr",
     "output_type": "stream",
     "text": [
      "C:\\Users\\LEm\\Anaconda3\\lib\\site-packages\\sklearn\\model_selection\\_validation.py:548: FitFailedWarning: Estimator fit failed. The score on this train-test partition for these parameters will be set to nan. Details: \n",
      "Traceback (most recent call last):\n",
      "  File \"C:\\Users\\LEm\\Anaconda3\\lib\\site-packages\\sklearn\\model_selection\\_validation.py\", line 531, in _fit_and_score\n",
      "    estimator.fit(X_train, y_train, **fit_params)\n",
      "  File \"C:\\Users\\LEm\\Anaconda3\\lib\\site-packages\\sklearn\\neural_network\\_multilayer_perceptron.py\", line 1027, in fit\n",
      "    return self._fit(X, y, incremental=(self.warm_start and\n",
      "  File \"C:\\Users\\LEm\\Anaconda3\\lib\\site-packages\\sklearn\\neural_network\\_multilayer_perceptron.py\", line 375, in _fit\n",
      "    self._fit_lbfgs(X, y, activations, deltas, coef_grads,\n",
      "  File \"C:\\Users\\LEm\\Anaconda3\\lib\\site-packages\\sklearn\\neural_network\\_multilayer_perceptron.py\", line 471, in _fit_lbfgs\n",
      "    self.n_iter_ = _check_optimize_result(\"lbfgs\", opt_res, self.max_iter)\n",
      "  File \"C:\\Users\\LEm\\Anaconda3\\lib\\site-packages\\sklearn\\utils\\optimize.py\", line 243, in _check_optimize_result\n",
      "    ).format(solver, result.status, result.message.decode(\"latin1\"))\n",
      "AttributeError: 'str' object has no attribute 'decode'\n",
      "\n",
      "  warnings.warn(\"Estimator fit failed. The score on this train-test\"\n"
     ]
    },
    {
     "name": "stdout",
     "output_type": "stream",
     "text": [
      "[CV]  solver=lbfgs, hidden_layer_sizes=68, alpha=1.5, score=nan, total= 1.4min\n",
      "[CV] solver=lbfgs, hidden_layer_sizes=68, alpha=1.5 ..................\n",
      "[CV]  solver=lbfgs, hidden_layer_sizes=68, alpha=1.5, score=0.938, total=  44.4s\n",
      "[CV] solver=lbfgs, hidden_layer_sizes=68, alpha=1.5 ..................\n"
     ]
    },
    {
     "name": "stderr",
     "output_type": "stream",
     "text": [
      "C:\\Users\\LEm\\Anaconda3\\lib\\site-packages\\sklearn\\model_selection\\_validation.py:548: FitFailedWarning: Estimator fit failed. The score on this train-test partition for these parameters will be set to nan. Details: \n",
      "Traceback (most recent call last):\n",
      "  File \"C:\\Users\\LEm\\Anaconda3\\lib\\site-packages\\sklearn\\model_selection\\_validation.py\", line 531, in _fit_and_score\n",
      "    estimator.fit(X_train, y_train, **fit_params)\n",
      "  File \"C:\\Users\\LEm\\Anaconda3\\lib\\site-packages\\sklearn\\neural_network\\_multilayer_perceptron.py\", line 1027, in fit\n",
      "    return self._fit(X, y, incremental=(self.warm_start and\n",
      "  File \"C:\\Users\\LEm\\Anaconda3\\lib\\site-packages\\sklearn\\neural_network\\_multilayer_perceptron.py\", line 375, in _fit\n",
      "    self._fit_lbfgs(X, y, activations, deltas, coef_grads,\n",
      "  File \"C:\\Users\\LEm\\Anaconda3\\lib\\site-packages\\sklearn\\neural_network\\_multilayer_perceptron.py\", line 471, in _fit_lbfgs\n",
      "    self.n_iter_ = _check_optimize_result(\"lbfgs\", opt_res, self.max_iter)\n",
      "  File \"C:\\Users\\LEm\\Anaconda3\\lib\\site-packages\\sklearn\\utils\\optimize.py\", line 243, in _check_optimize_result\n",
      "    ).format(solver, result.status, result.message.decode(\"latin1\"))\n",
      "AttributeError: 'str' object has no attribute 'decode'\n",
      "\n",
      "  warnings.warn(\"Estimator fit failed. The score on this train-test\"\n"
     ]
    },
    {
     "name": "stdout",
     "output_type": "stream",
     "text": [
      "[CV]  solver=lbfgs, hidden_layer_sizes=68, alpha=1.5, score=nan, total= 1.4min\n",
      "[CV] solver=lbfgs, hidden_layer_sizes=33, alpha=0.5 ..................\n"
     ]
    },
    {
     "name": "stderr",
     "output_type": "stream",
     "text": [
      "C:\\Users\\LEm\\Anaconda3\\lib\\site-packages\\sklearn\\model_selection\\_validation.py:548: FitFailedWarning: Estimator fit failed. The score on this train-test partition for these parameters will be set to nan. Details: \n",
      "Traceback (most recent call last):\n",
      "  File \"C:\\Users\\LEm\\Anaconda3\\lib\\site-packages\\sklearn\\model_selection\\_validation.py\", line 531, in _fit_and_score\n",
      "    estimator.fit(X_train, y_train, **fit_params)\n",
      "  File \"C:\\Users\\LEm\\Anaconda3\\lib\\site-packages\\sklearn\\neural_network\\_multilayer_perceptron.py\", line 1027, in fit\n",
      "    return self._fit(X, y, incremental=(self.warm_start and\n",
      "  File \"C:\\Users\\LEm\\Anaconda3\\lib\\site-packages\\sklearn\\neural_network\\_multilayer_perceptron.py\", line 375, in _fit\n",
      "    self._fit_lbfgs(X, y, activations, deltas, coef_grads,\n",
      "  File \"C:\\Users\\LEm\\Anaconda3\\lib\\site-packages\\sklearn\\neural_network\\_multilayer_perceptron.py\", line 471, in _fit_lbfgs\n",
      "    self.n_iter_ = _check_optimize_result(\"lbfgs\", opt_res, self.max_iter)\n",
      "  File \"C:\\Users\\LEm\\Anaconda3\\lib\\site-packages\\sklearn\\utils\\optimize.py\", line 243, in _check_optimize_result\n",
      "    ).format(solver, result.status, result.message.decode(\"latin1\"))\n",
      "AttributeError: 'str' object has no attribute 'decode'\n",
      "\n",
      "  warnings.warn(\"Estimator fit failed. The score on this train-test\"\n"
     ]
    },
    {
     "name": "stdout",
     "output_type": "stream",
     "text": [
      "[CV]  solver=lbfgs, hidden_layer_sizes=33, alpha=0.5, score=nan, total=  43.5s\n",
      "[CV] solver=lbfgs, hidden_layer_sizes=33, alpha=0.5 ..................\n"
     ]
    },
    {
     "name": "stderr",
     "output_type": "stream",
     "text": [
      "C:\\Users\\LEm\\Anaconda3\\lib\\site-packages\\sklearn\\model_selection\\_validation.py:548: FitFailedWarning: Estimator fit failed. The score on this train-test partition for these parameters will be set to nan. Details: \n",
      "Traceback (most recent call last):\n",
      "  File \"C:\\Users\\LEm\\Anaconda3\\lib\\site-packages\\sklearn\\model_selection\\_validation.py\", line 531, in _fit_and_score\n",
      "    estimator.fit(X_train, y_train, **fit_params)\n",
      "  File \"C:\\Users\\LEm\\Anaconda3\\lib\\site-packages\\sklearn\\neural_network\\_multilayer_perceptron.py\", line 1027, in fit\n",
      "    return self._fit(X, y, incremental=(self.warm_start and\n",
      "  File \"C:\\Users\\LEm\\Anaconda3\\lib\\site-packages\\sklearn\\neural_network\\_multilayer_perceptron.py\", line 375, in _fit\n",
      "    self._fit_lbfgs(X, y, activations, deltas, coef_grads,\n",
      "  File \"C:\\Users\\LEm\\Anaconda3\\lib\\site-packages\\sklearn\\neural_network\\_multilayer_perceptron.py\", line 471, in _fit_lbfgs\n",
      "    self.n_iter_ = _check_optimize_result(\"lbfgs\", opt_res, self.max_iter)\n",
      "  File \"C:\\Users\\LEm\\Anaconda3\\lib\\site-packages\\sklearn\\utils\\optimize.py\", line 243, in _check_optimize_result\n",
      "    ).format(solver, result.status, result.message.decode(\"latin1\"))\n",
      "AttributeError: 'str' object has no attribute 'decode'\n",
      "\n",
      "  warnings.warn(\"Estimator fit failed. The score on this train-test\"\n"
     ]
    },
    {
     "name": "stdout",
     "output_type": "stream",
     "text": [
      "[CV]  solver=lbfgs, hidden_layer_sizes=33, alpha=0.5, score=nan, total=  42.9s\n",
      "[CV] solver=lbfgs, hidden_layer_sizes=33, alpha=0.5 ..................\n"
     ]
    },
    {
     "name": "stderr",
     "output_type": "stream",
     "text": [
      "C:\\Users\\LEm\\Anaconda3\\lib\\site-packages\\sklearn\\model_selection\\_validation.py:548: FitFailedWarning: Estimator fit failed. The score on this train-test partition for these parameters will be set to nan. Details: \n",
      "Traceback (most recent call last):\n",
      "  File \"C:\\Users\\LEm\\Anaconda3\\lib\\site-packages\\sklearn\\model_selection\\_validation.py\", line 531, in _fit_and_score\n",
      "    estimator.fit(X_train, y_train, **fit_params)\n",
      "  File \"C:\\Users\\LEm\\Anaconda3\\lib\\site-packages\\sklearn\\neural_network\\_multilayer_perceptron.py\", line 1027, in fit\n",
      "    return self._fit(X, y, incremental=(self.warm_start and\n",
      "  File \"C:\\Users\\LEm\\Anaconda3\\lib\\site-packages\\sklearn\\neural_network\\_multilayer_perceptron.py\", line 375, in _fit\n",
      "    self._fit_lbfgs(X, y, activations, deltas, coef_grads,\n",
      "  File \"C:\\Users\\LEm\\Anaconda3\\lib\\site-packages\\sklearn\\neural_network\\_multilayer_perceptron.py\", line 471, in _fit_lbfgs\n",
      "    self.n_iter_ = _check_optimize_result(\"lbfgs\", opt_res, self.max_iter)\n",
      "  File \"C:\\Users\\LEm\\Anaconda3\\lib\\site-packages\\sklearn\\utils\\optimize.py\", line 243, in _check_optimize_result\n",
      "    ).format(solver, result.status, result.message.decode(\"latin1\"))\n",
      "AttributeError: 'str' object has no attribute 'decode'\n",
      "\n",
      "  warnings.warn(\"Estimator fit failed. The score on this train-test\"\n"
     ]
    },
    {
     "name": "stdout",
     "output_type": "stream",
     "text": [
      "[CV]  solver=lbfgs, hidden_layer_sizes=33, alpha=0.5, score=nan, total=  42.6s\n",
      "[CV] solver=lbfgs, hidden_layer_sizes=33, alpha=0.5 ..................\n",
      "[CV]  solver=lbfgs, hidden_layer_sizes=33, alpha=0.5, score=0.934, total=  40.2s\n",
      "[CV] solver=lbfgs, hidden_layer_sizes=33, alpha=0.5 ..................\n"
     ]
    },
    {
     "name": "stderr",
     "output_type": "stream",
     "text": [
      "C:\\Users\\LEm\\Anaconda3\\lib\\site-packages\\sklearn\\model_selection\\_validation.py:548: FitFailedWarning: Estimator fit failed. The score on this train-test partition for these parameters will be set to nan. Details: \n",
      "Traceback (most recent call last):\n",
      "  File \"C:\\Users\\LEm\\Anaconda3\\lib\\site-packages\\sklearn\\model_selection\\_validation.py\", line 531, in _fit_and_score\n",
      "    estimator.fit(X_train, y_train, **fit_params)\n",
      "  File \"C:\\Users\\LEm\\Anaconda3\\lib\\site-packages\\sklearn\\neural_network\\_multilayer_perceptron.py\", line 1027, in fit\n",
      "    return self._fit(X, y, incremental=(self.warm_start and\n",
      "  File \"C:\\Users\\LEm\\Anaconda3\\lib\\site-packages\\sklearn\\neural_network\\_multilayer_perceptron.py\", line 375, in _fit\n",
      "    self._fit_lbfgs(X, y, activations, deltas, coef_grads,\n",
      "  File \"C:\\Users\\LEm\\Anaconda3\\lib\\site-packages\\sklearn\\neural_network\\_multilayer_perceptron.py\", line 471, in _fit_lbfgs\n",
      "    self.n_iter_ = _check_optimize_result(\"lbfgs\", opt_res, self.max_iter)\n",
      "  File \"C:\\Users\\LEm\\Anaconda3\\lib\\site-packages\\sklearn\\utils\\optimize.py\", line 243, in _check_optimize_result\n",
      "    ).format(solver, result.status, result.message.decode(\"latin1\"))\n",
      "AttributeError: 'str' object has no attribute 'decode'\n",
      "\n",
      "  warnings.warn(\"Estimator fit failed. The score on this train-test\"\n"
     ]
    },
    {
     "name": "stdout",
     "output_type": "stream",
     "text": [
      "[CV]  solver=lbfgs, hidden_layer_sizes=33, alpha=0.5, score=nan, total=  44.0s\n",
      "[CV] solver=lbfgs, hidden_layer_sizes=38, alpha=0.0 ..................\n"
     ]
    },
    {
     "name": "stderr",
     "output_type": "stream",
     "text": [
      "C:\\Users\\LEm\\Anaconda3\\lib\\site-packages\\sklearn\\model_selection\\_validation.py:548: FitFailedWarning: Estimator fit failed. The score on this train-test partition for these parameters will be set to nan. Details: \n",
      "Traceback (most recent call last):\n",
      "  File \"C:\\Users\\LEm\\Anaconda3\\lib\\site-packages\\sklearn\\model_selection\\_validation.py\", line 531, in _fit_and_score\n",
      "    estimator.fit(X_train, y_train, **fit_params)\n",
      "  File \"C:\\Users\\LEm\\Anaconda3\\lib\\site-packages\\sklearn\\neural_network\\_multilayer_perceptron.py\", line 1027, in fit\n",
      "    return self._fit(X, y, incremental=(self.warm_start and\n",
      "  File \"C:\\Users\\LEm\\Anaconda3\\lib\\site-packages\\sklearn\\neural_network\\_multilayer_perceptron.py\", line 375, in _fit\n",
      "    self._fit_lbfgs(X, y, activations, deltas, coef_grads,\n",
      "  File \"C:\\Users\\LEm\\Anaconda3\\lib\\site-packages\\sklearn\\neural_network\\_multilayer_perceptron.py\", line 471, in _fit_lbfgs\n",
      "    self.n_iter_ = _check_optimize_result(\"lbfgs\", opt_res, self.max_iter)\n",
      "  File \"C:\\Users\\LEm\\Anaconda3\\lib\\site-packages\\sklearn\\utils\\optimize.py\", line 243, in _check_optimize_result\n",
      "    ).format(solver, result.status, result.message.decode(\"latin1\"))\n",
      "AttributeError: 'str' object has no attribute 'decode'\n",
      "\n",
      "  warnings.warn(\"Estimator fit failed. The score on this train-test\"\n"
     ]
    },
    {
     "name": "stdout",
     "output_type": "stream",
     "text": [
      "[CV]  solver=lbfgs, hidden_layer_sizes=38, alpha=0.0, score=nan, total=  51.5s\n",
      "[CV] solver=lbfgs, hidden_layer_sizes=38, alpha=0.0 ..................\n"
     ]
    },
    {
     "name": "stderr",
     "output_type": "stream",
     "text": [
      "C:\\Users\\LEm\\Anaconda3\\lib\\site-packages\\sklearn\\model_selection\\_validation.py:548: FitFailedWarning: Estimator fit failed. The score on this train-test partition for these parameters will be set to nan. Details: \n",
      "Traceback (most recent call last):\n",
      "  File \"C:\\Users\\LEm\\Anaconda3\\lib\\site-packages\\sklearn\\model_selection\\_validation.py\", line 531, in _fit_and_score\n",
      "    estimator.fit(X_train, y_train, **fit_params)\n",
      "  File \"C:\\Users\\LEm\\Anaconda3\\lib\\site-packages\\sklearn\\neural_network\\_multilayer_perceptron.py\", line 1027, in fit\n",
      "    return self._fit(X, y, incremental=(self.warm_start and\n",
      "  File \"C:\\Users\\LEm\\Anaconda3\\lib\\site-packages\\sklearn\\neural_network\\_multilayer_perceptron.py\", line 375, in _fit\n",
      "    self._fit_lbfgs(X, y, activations, deltas, coef_grads,\n",
      "  File \"C:\\Users\\LEm\\Anaconda3\\lib\\site-packages\\sklearn\\neural_network\\_multilayer_perceptron.py\", line 471, in _fit_lbfgs\n",
      "    self.n_iter_ = _check_optimize_result(\"lbfgs\", opt_res, self.max_iter)\n",
      "  File \"C:\\Users\\LEm\\Anaconda3\\lib\\site-packages\\sklearn\\utils\\optimize.py\", line 243, in _check_optimize_result\n",
      "    ).format(solver, result.status, result.message.decode(\"latin1\"))\n",
      "AttributeError: 'str' object has no attribute 'decode'\n",
      "\n",
      "  warnings.warn(\"Estimator fit failed. The score on this train-test\"\n"
     ]
    },
    {
     "name": "stdout",
     "output_type": "stream",
     "text": [
      "[CV]  solver=lbfgs, hidden_layer_sizes=38, alpha=0.0, score=nan, total=  49.4s\n",
      "[CV] solver=lbfgs, hidden_layer_sizes=38, alpha=0.0 ..................\n"
     ]
    },
    {
     "name": "stderr",
     "output_type": "stream",
     "text": [
      "C:\\Users\\LEm\\Anaconda3\\lib\\site-packages\\sklearn\\model_selection\\_validation.py:548: FitFailedWarning: Estimator fit failed. The score on this train-test partition for these parameters will be set to nan. Details: \n",
      "Traceback (most recent call last):\n",
      "  File \"C:\\Users\\LEm\\Anaconda3\\lib\\site-packages\\sklearn\\model_selection\\_validation.py\", line 531, in _fit_and_score\n",
      "    estimator.fit(X_train, y_train, **fit_params)\n",
      "  File \"C:\\Users\\LEm\\Anaconda3\\lib\\site-packages\\sklearn\\neural_network\\_multilayer_perceptron.py\", line 1027, in fit\n",
      "    return self._fit(X, y, incremental=(self.warm_start and\n",
      "  File \"C:\\Users\\LEm\\Anaconda3\\lib\\site-packages\\sklearn\\neural_network\\_multilayer_perceptron.py\", line 375, in _fit\n",
      "    self._fit_lbfgs(X, y, activations, deltas, coef_grads,\n",
      "  File \"C:\\Users\\LEm\\Anaconda3\\lib\\site-packages\\sklearn\\neural_network\\_multilayer_perceptron.py\", line 471, in _fit_lbfgs\n",
      "    self.n_iter_ = _check_optimize_result(\"lbfgs\", opt_res, self.max_iter)\n",
      "  File \"C:\\Users\\LEm\\Anaconda3\\lib\\site-packages\\sklearn\\utils\\optimize.py\", line 243, in _check_optimize_result\n",
      "    ).format(solver, result.status, result.message.decode(\"latin1\"))\n",
      "AttributeError: 'str' object has no attribute 'decode'\n",
      "\n",
      "  warnings.warn(\"Estimator fit failed. The score on this train-test\"\n"
     ]
    },
    {
     "name": "stdout",
     "output_type": "stream",
     "text": [
      "[CV]  solver=lbfgs, hidden_layer_sizes=38, alpha=0.0, score=nan, total=  49.8s\n",
      "[CV] solver=lbfgs, hidden_layer_sizes=38, alpha=0.0 ..................\n"
     ]
    },
    {
     "name": "stderr",
     "output_type": "stream",
     "text": [
      "C:\\Users\\LEm\\Anaconda3\\lib\\site-packages\\sklearn\\model_selection\\_validation.py:548: FitFailedWarning: Estimator fit failed. The score on this train-test partition for these parameters will be set to nan. Details: \n",
      "Traceback (most recent call last):\n",
      "  File \"C:\\Users\\LEm\\Anaconda3\\lib\\site-packages\\sklearn\\model_selection\\_validation.py\", line 531, in _fit_and_score\n",
      "    estimator.fit(X_train, y_train, **fit_params)\n",
      "  File \"C:\\Users\\LEm\\Anaconda3\\lib\\site-packages\\sklearn\\neural_network\\_multilayer_perceptron.py\", line 1027, in fit\n",
      "    return self._fit(X, y, incremental=(self.warm_start and\n",
      "  File \"C:\\Users\\LEm\\Anaconda3\\lib\\site-packages\\sklearn\\neural_network\\_multilayer_perceptron.py\", line 375, in _fit\n",
      "    self._fit_lbfgs(X, y, activations, deltas, coef_grads,\n",
      "  File \"C:\\Users\\LEm\\Anaconda3\\lib\\site-packages\\sklearn\\neural_network\\_multilayer_perceptron.py\", line 471, in _fit_lbfgs\n",
      "    self.n_iter_ = _check_optimize_result(\"lbfgs\", opt_res, self.max_iter)\n",
      "  File \"C:\\Users\\LEm\\Anaconda3\\lib\\site-packages\\sklearn\\utils\\optimize.py\", line 243, in _check_optimize_result\n",
      "    ).format(solver, result.status, result.message.decode(\"latin1\"))\n",
      "AttributeError: 'str' object has no attribute 'decode'\n",
      "\n",
      "  warnings.warn(\"Estimator fit failed. The score on this train-test\"\n"
     ]
    },
    {
     "name": "stdout",
     "output_type": "stream",
     "text": [
      "[CV]  solver=lbfgs, hidden_layer_sizes=38, alpha=0.0, score=nan, total=  49.8s\n",
      "[CV] solver=lbfgs, hidden_layer_sizes=38, alpha=0.0 ..................\n"
     ]
    },
    {
     "name": "stderr",
     "output_type": "stream",
     "text": [
      "C:\\Users\\LEm\\Anaconda3\\lib\\site-packages\\sklearn\\model_selection\\_validation.py:548: FitFailedWarning: Estimator fit failed. The score on this train-test partition for these parameters will be set to nan. Details: \n",
      "Traceback (most recent call last):\n",
      "  File \"C:\\Users\\LEm\\Anaconda3\\lib\\site-packages\\sklearn\\model_selection\\_validation.py\", line 531, in _fit_and_score\n",
      "    estimator.fit(X_train, y_train, **fit_params)\n",
      "  File \"C:\\Users\\LEm\\Anaconda3\\lib\\site-packages\\sklearn\\neural_network\\_multilayer_perceptron.py\", line 1027, in fit\n",
      "    return self._fit(X, y, incremental=(self.warm_start and\n",
      "  File \"C:\\Users\\LEm\\Anaconda3\\lib\\site-packages\\sklearn\\neural_network\\_multilayer_perceptron.py\", line 375, in _fit\n",
      "    self._fit_lbfgs(X, y, activations, deltas, coef_grads,\n",
      "  File \"C:\\Users\\LEm\\Anaconda3\\lib\\site-packages\\sklearn\\neural_network\\_multilayer_perceptron.py\", line 471, in _fit_lbfgs\n",
      "    self.n_iter_ = _check_optimize_result(\"lbfgs\", opt_res, self.max_iter)\n",
      "  File \"C:\\Users\\LEm\\Anaconda3\\lib\\site-packages\\sklearn\\utils\\optimize.py\", line 243, in _check_optimize_result\n",
      "    ).format(solver, result.status, result.message.decode(\"latin1\"))\n",
      "AttributeError: 'str' object has no attribute 'decode'\n",
      "\n",
      "  warnings.warn(\"Estimator fit failed. The score on this train-test\"\n"
     ]
    },
    {
     "name": "stdout",
     "output_type": "stream",
     "text": [
      "[CV]  solver=lbfgs, hidden_layer_sizes=38, alpha=0.0, score=nan, total=  48.8s\n",
      "[CV] solver=lbfgs, hidden_layer_sizes=46, alpha=0.5 ..................\n"
     ]
    },
    {
     "name": "stderr",
     "output_type": "stream",
     "text": [
      "C:\\Users\\LEm\\Anaconda3\\lib\\site-packages\\sklearn\\model_selection\\_validation.py:548: FitFailedWarning: Estimator fit failed. The score on this train-test partition for these parameters will be set to nan. Details: \n",
      "Traceback (most recent call last):\n",
      "  File \"C:\\Users\\LEm\\Anaconda3\\lib\\site-packages\\sklearn\\model_selection\\_validation.py\", line 531, in _fit_and_score\n",
      "    estimator.fit(X_train, y_train, **fit_params)\n",
      "  File \"C:\\Users\\LEm\\Anaconda3\\lib\\site-packages\\sklearn\\neural_network\\_multilayer_perceptron.py\", line 1027, in fit\n",
      "    return self._fit(X, y, incremental=(self.warm_start and\n",
      "  File \"C:\\Users\\LEm\\Anaconda3\\lib\\site-packages\\sklearn\\neural_network\\_multilayer_perceptron.py\", line 375, in _fit\n",
      "    self._fit_lbfgs(X, y, activations, deltas, coef_grads,\n",
      "  File \"C:\\Users\\LEm\\Anaconda3\\lib\\site-packages\\sklearn\\neural_network\\_multilayer_perceptron.py\", line 471, in _fit_lbfgs\n",
      "    self.n_iter_ = _check_optimize_result(\"lbfgs\", opt_res, self.max_iter)\n",
      "  File \"C:\\Users\\LEm\\Anaconda3\\lib\\site-packages\\sklearn\\utils\\optimize.py\", line 243, in _check_optimize_result\n",
      "    ).format(solver, result.status, result.message.decode(\"latin1\"))\n",
      "AttributeError: 'str' object has no attribute 'decode'\n",
      "\n",
      "  warnings.warn(\"Estimator fit failed. The score on this train-test\"\n"
     ]
    },
    {
     "name": "stdout",
     "output_type": "stream",
     "text": [
      "[CV]  solver=lbfgs, hidden_layer_sizes=46, alpha=0.5, score=nan, total=  58.7s\n",
      "[CV] solver=lbfgs, hidden_layer_sizes=46, alpha=0.5 ..................\n"
     ]
    },
    {
     "name": "stderr",
     "output_type": "stream",
     "text": [
      "C:\\Users\\LEm\\Anaconda3\\lib\\site-packages\\sklearn\\model_selection\\_validation.py:548: FitFailedWarning: Estimator fit failed. The score on this train-test partition for these parameters will be set to nan. Details: \n",
      "Traceback (most recent call last):\n",
      "  File \"C:\\Users\\LEm\\Anaconda3\\lib\\site-packages\\sklearn\\model_selection\\_validation.py\", line 531, in _fit_and_score\n",
      "    estimator.fit(X_train, y_train, **fit_params)\n",
      "  File \"C:\\Users\\LEm\\Anaconda3\\lib\\site-packages\\sklearn\\neural_network\\_multilayer_perceptron.py\", line 1027, in fit\n",
      "    return self._fit(X, y, incremental=(self.warm_start and\n",
      "  File \"C:\\Users\\LEm\\Anaconda3\\lib\\site-packages\\sklearn\\neural_network\\_multilayer_perceptron.py\", line 375, in _fit\n",
      "    self._fit_lbfgs(X, y, activations, deltas, coef_grads,\n",
      "  File \"C:\\Users\\LEm\\Anaconda3\\lib\\site-packages\\sklearn\\neural_network\\_multilayer_perceptron.py\", line 471, in _fit_lbfgs\n",
      "    self.n_iter_ = _check_optimize_result(\"lbfgs\", opt_res, self.max_iter)\n",
      "  File \"C:\\Users\\LEm\\Anaconda3\\lib\\site-packages\\sklearn\\utils\\optimize.py\", line 243, in _check_optimize_result\n",
      "    ).format(solver, result.status, result.message.decode(\"latin1\"))\n",
      "AttributeError: 'str' object has no attribute 'decode'\n",
      "\n",
      "  warnings.warn(\"Estimator fit failed. The score on this train-test\"\n"
     ]
    },
    {
     "name": "stdout",
     "output_type": "stream",
     "text": [
      "[CV]  solver=lbfgs, hidden_layer_sizes=46, alpha=0.5, score=nan, total= 1.0min\n",
      "[CV] solver=lbfgs, hidden_layer_sizes=46, alpha=0.5 ..................\n"
     ]
    },
    {
     "name": "stderr",
     "output_type": "stream",
     "text": [
      "C:\\Users\\LEm\\Anaconda3\\lib\\site-packages\\sklearn\\model_selection\\_validation.py:548: FitFailedWarning: Estimator fit failed. The score on this train-test partition for these parameters will be set to nan. Details: \n",
      "Traceback (most recent call last):\n",
      "  File \"C:\\Users\\LEm\\Anaconda3\\lib\\site-packages\\sklearn\\model_selection\\_validation.py\", line 531, in _fit_and_score\n",
      "    estimator.fit(X_train, y_train, **fit_params)\n",
      "  File \"C:\\Users\\LEm\\Anaconda3\\lib\\site-packages\\sklearn\\neural_network\\_multilayer_perceptron.py\", line 1027, in fit\n",
      "    return self._fit(X, y, incremental=(self.warm_start and\n",
      "  File \"C:\\Users\\LEm\\Anaconda3\\lib\\site-packages\\sklearn\\neural_network\\_multilayer_perceptron.py\", line 375, in _fit\n",
      "    self._fit_lbfgs(X, y, activations, deltas, coef_grads,\n",
      "  File \"C:\\Users\\LEm\\Anaconda3\\lib\\site-packages\\sklearn\\neural_network\\_multilayer_perceptron.py\", line 471, in _fit_lbfgs\n",
      "    self.n_iter_ = _check_optimize_result(\"lbfgs\", opt_res, self.max_iter)\n",
      "  File \"C:\\Users\\LEm\\Anaconda3\\lib\\site-packages\\sklearn\\utils\\optimize.py\", line 243, in _check_optimize_result\n",
      "    ).format(solver, result.status, result.message.decode(\"latin1\"))\n",
      "AttributeError: 'str' object has no attribute 'decode'\n",
      "\n",
      "  warnings.warn(\"Estimator fit failed. The score on this train-test\"\n"
     ]
    },
    {
     "name": "stdout",
     "output_type": "stream",
     "text": [
      "[CV]  solver=lbfgs, hidden_layer_sizes=46, alpha=0.5, score=nan, total=  59.5s\n",
      "[CV] solver=lbfgs, hidden_layer_sizes=46, alpha=0.5 ..................\n"
     ]
    },
    {
     "name": "stderr",
     "output_type": "stream",
     "text": [
      "C:\\Users\\LEm\\Anaconda3\\lib\\site-packages\\sklearn\\model_selection\\_validation.py:548: FitFailedWarning: Estimator fit failed. The score on this train-test partition for these parameters will be set to nan. Details: \n",
      "Traceback (most recent call last):\n",
      "  File \"C:\\Users\\LEm\\Anaconda3\\lib\\site-packages\\sklearn\\model_selection\\_validation.py\", line 531, in _fit_and_score\n",
      "    estimator.fit(X_train, y_train, **fit_params)\n",
      "  File \"C:\\Users\\LEm\\Anaconda3\\lib\\site-packages\\sklearn\\neural_network\\_multilayer_perceptron.py\", line 1027, in fit\n",
      "    return self._fit(X, y, incremental=(self.warm_start and\n",
      "  File \"C:\\Users\\LEm\\Anaconda3\\lib\\site-packages\\sklearn\\neural_network\\_multilayer_perceptron.py\", line 375, in _fit\n",
      "    self._fit_lbfgs(X, y, activations, deltas, coef_grads,\n",
      "  File \"C:\\Users\\LEm\\Anaconda3\\lib\\site-packages\\sklearn\\neural_network\\_multilayer_perceptron.py\", line 471, in _fit_lbfgs\n",
      "    self.n_iter_ = _check_optimize_result(\"lbfgs\", opt_res, self.max_iter)\n",
      "  File \"C:\\Users\\LEm\\Anaconda3\\lib\\site-packages\\sklearn\\utils\\optimize.py\", line 243, in _check_optimize_result\n",
      "    ).format(solver, result.status, result.message.decode(\"latin1\"))\n",
      "AttributeError: 'str' object has no attribute 'decode'\n",
      "\n",
      "  warnings.warn(\"Estimator fit failed. The score on this train-test\"\n"
     ]
    },
    {
     "name": "stdout",
     "output_type": "stream",
     "text": [
      "[CV]  solver=lbfgs, hidden_layer_sizes=46, alpha=0.5, score=nan, total=  57.8s\n",
      "[CV] solver=lbfgs, hidden_layer_sizes=46, alpha=0.5 ..................\n"
     ]
    },
    {
     "name": "stderr",
     "output_type": "stream",
     "text": [
      "C:\\Users\\LEm\\Anaconda3\\lib\\site-packages\\sklearn\\model_selection\\_validation.py:548: FitFailedWarning: Estimator fit failed. The score on this train-test partition for these parameters will be set to nan. Details: \n",
      "Traceback (most recent call last):\n",
      "  File \"C:\\Users\\LEm\\Anaconda3\\lib\\site-packages\\sklearn\\model_selection\\_validation.py\", line 531, in _fit_and_score\n",
      "    estimator.fit(X_train, y_train, **fit_params)\n",
      "  File \"C:\\Users\\LEm\\Anaconda3\\lib\\site-packages\\sklearn\\neural_network\\_multilayer_perceptron.py\", line 1027, in fit\n",
      "    return self._fit(X, y, incremental=(self.warm_start and\n",
      "  File \"C:\\Users\\LEm\\Anaconda3\\lib\\site-packages\\sklearn\\neural_network\\_multilayer_perceptron.py\", line 375, in _fit\n",
      "    self._fit_lbfgs(X, y, activations, deltas, coef_grads,\n",
      "  File \"C:\\Users\\LEm\\Anaconda3\\lib\\site-packages\\sklearn\\neural_network\\_multilayer_perceptron.py\", line 471, in _fit_lbfgs\n",
      "    self.n_iter_ = _check_optimize_result(\"lbfgs\", opt_res, self.max_iter)\n",
      "  File \"C:\\Users\\LEm\\Anaconda3\\lib\\site-packages\\sklearn\\utils\\optimize.py\", line 243, in _check_optimize_result\n",
      "    ).format(solver, result.status, result.message.decode(\"latin1\"))\n",
      "AttributeError: 'str' object has no attribute 'decode'\n",
      "\n",
      "  warnings.warn(\"Estimator fit failed. The score on this train-test\"\n"
     ]
    },
    {
     "name": "stdout",
     "output_type": "stream",
     "text": [
      "[CV]  solver=lbfgs, hidden_layer_sizes=46, alpha=0.5, score=nan, total= 1.0min\n",
      "[CV] solver=adam, hidden_layer_sizes=34, alpha=1.5 ...................\n",
      "[CV]  solver=adam, hidden_layer_sizes=34, alpha=1.5, score=0.914, total=   3.6s\n",
      "[CV] solver=adam, hidden_layer_sizes=34, alpha=1.5 ...................\n",
      "[CV]  solver=adam, hidden_layer_sizes=34, alpha=1.5, score=0.921, total=   4.3s\n",
      "[CV] solver=adam, hidden_layer_sizes=34, alpha=1.5 ...................\n",
      "[CV]  solver=adam, hidden_layer_sizes=34, alpha=1.5, score=0.920, total=   3.6s\n",
      "[CV] solver=adam, hidden_layer_sizes=34, alpha=1.5 ...................\n",
      "[CV]  solver=adam, hidden_layer_sizes=34, alpha=1.5, score=0.918, total=   3.5s\n",
      "[CV] solver=adam, hidden_layer_sizes=34, alpha=1.5 ...................\n",
      "[CV]  solver=adam, hidden_layer_sizes=34, alpha=1.5, score=0.928, total=   4.5s\n",
      "[CV] solver=lbfgs, hidden_layer_sizes=61, alpha=0.5 ..................\n"
     ]
    },
    {
     "name": "stderr",
     "output_type": "stream",
     "text": [
      "C:\\Users\\LEm\\Anaconda3\\lib\\site-packages\\sklearn\\model_selection\\_validation.py:548: FitFailedWarning: Estimator fit failed. The score on this train-test partition for these parameters will be set to nan. Details: \n",
      "Traceback (most recent call last):\n",
      "  File \"C:\\Users\\LEm\\Anaconda3\\lib\\site-packages\\sklearn\\model_selection\\_validation.py\", line 531, in _fit_and_score\n",
      "    estimator.fit(X_train, y_train, **fit_params)\n",
      "  File \"C:\\Users\\LEm\\Anaconda3\\lib\\site-packages\\sklearn\\neural_network\\_multilayer_perceptron.py\", line 1027, in fit\n",
      "    return self._fit(X, y, incremental=(self.warm_start and\n",
      "  File \"C:\\Users\\LEm\\Anaconda3\\lib\\site-packages\\sklearn\\neural_network\\_multilayer_perceptron.py\", line 375, in _fit\n",
      "    self._fit_lbfgs(X, y, activations, deltas, coef_grads,\n",
      "  File \"C:\\Users\\LEm\\Anaconda3\\lib\\site-packages\\sklearn\\neural_network\\_multilayer_perceptron.py\", line 471, in _fit_lbfgs\n",
      "    self.n_iter_ = _check_optimize_result(\"lbfgs\", opt_res, self.max_iter)\n",
      "  File \"C:\\Users\\LEm\\Anaconda3\\lib\\site-packages\\sklearn\\utils\\optimize.py\", line 243, in _check_optimize_result\n",
      "    ).format(solver, result.status, result.message.decode(\"latin1\"))\n",
      "AttributeError: 'str' object has no attribute 'decode'\n",
      "\n",
      "  warnings.warn(\"Estimator fit failed. The score on this train-test\"\n"
     ]
    },
    {
     "name": "stdout",
     "output_type": "stream",
     "text": [
      "[CV]  solver=lbfgs, hidden_layer_sizes=61, alpha=0.5, score=nan, total= 1.3min\n",
      "[CV] solver=lbfgs, hidden_layer_sizes=61, alpha=0.5 ..................\n"
     ]
    },
    {
     "name": "stderr",
     "output_type": "stream",
     "text": [
      "C:\\Users\\LEm\\Anaconda3\\lib\\site-packages\\sklearn\\model_selection\\_validation.py:548: FitFailedWarning: Estimator fit failed. The score on this train-test partition for these parameters will be set to nan. Details: \n",
      "Traceback (most recent call last):\n",
      "  File \"C:\\Users\\LEm\\Anaconda3\\lib\\site-packages\\sklearn\\model_selection\\_validation.py\", line 531, in _fit_and_score\n",
      "    estimator.fit(X_train, y_train, **fit_params)\n",
      "  File \"C:\\Users\\LEm\\Anaconda3\\lib\\site-packages\\sklearn\\neural_network\\_multilayer_perceptron.py\", line 1027, in fit\n",
      "    return self._fit(X, y, incremental=(self.warm_start and\n",
      "  File \"C:\\Users\\LEm\\Anaconda3\\lib\\site-packages\\sklearn\\neural_network\\_multilayer_perceptron.py\", line 375, in _fit\n",
      "    self._fit_lbfgs(X, y, activations, deltas, coef_grads,\n",
      "  File \"C:\\Users\\LEm\\Anaconda3\\lib\\site-packages\\sklearn\\neural_network\\_multilayer_perceptron.py\", line 471, in _fit_lbfgs\n",
      "    self.n_iter_ = _check_optimize_result(\"lbfgs\", opt_res, self.max_iter)\n",
      "  File \"C:\\Users\\LEm\\Anaconda3\\lib\\site-packages\\sklearn\\utils\\optimize.py\", line 243, in _check_optimize_result\n",
      "    ).format(solver, result.status, result.message.decode(\"latin1\"))\n",
      "AttributeError: 'str' object has no attribute 'decode'\n",
      "\n",
      "  warnings.warn(\"Estimator fit failed. The score on this train-test\"\n"
     ]
    },
    {
     "name": "stdout",
     "output_type": "stream",
     "text": [
      "[CV]  solver=lbfgs, hidden_layer_sizes=61, alpha=0.5, score=nan, total= 1.2min\n",
      "[CV] solver=lbfgs, hidden_layer_sizes=61, alpha=0.5 ..................\n"
     ]
    },
    {
     "name": "stderr",
     "output_type": "stream",
     "text": [
      "C:\\Users\\LEm\\Anaconda3\\lib\\site-packages\\sklearn\\model_selection\\_validation.py:548: FitFailedWarning: Estimator fit failed. The score on this train-test partition for these parameters will be set to nan. Details: \n",
      "Traceback (most recent call last):\n",
      "  File \"C:\\Users\\LEm\\Anaconda3\\lib\\site-packages\\sklearn\\model_selection\\_validation.py\", line 531, in _fit_and_score\n",
      "    estimator.fit(X_train, y_train, **fit_params)\n",
      "  File \"C:\\Users\\LEm\\Anaconda3\\lib\\site-packages\\sklearn\\neural_network\\_multilayer_perceptron.py\", line 1027, in fit\n",
      "    return self._fit(X, y, incremental=(self.warm_start and\n",
      "  File \"C:\\Users\\LEm\\Anaconda3\\lib\\site-packages\\sklearn\\neural_network\\_multilayer_perceptron.py\", line 375, in _fit\n",
      "    self._fit_lbfgs(X, y, activations, deltas, coef_grads,\n",
      "  File \"C:\\Users\\LEm\\Anaconda3\\lib\\site-packages\\sklearn\\neural_network\\_multilayer_perceptron.py\", line 471, in _fit_lbfgs\n",
      "    self.n_iter_ = _check_optimize_result(\"lbfgs\", opt_res, self.max_iter)\n",
      "  File \"C:\\Users\\LEm\\Anaconda3\\lib\\site-packages\\sklearn\\utils\\optimize.py\", line 243, in _check_optimize_result\n",
      "    ).format(solver, result.status, result.message.decode(\"latin1\"))\n",
      "AttributeError: 'str' object has no attribute 'decode'\n",
      "\n",
      "  warnings.warn(\"Estimator fit failed. The score on this train-test\"\n"
     ]
    },
    {
     "name": "stdout",
     "output_type": "stream",
     "text": [
      "[CV]  solver=lbfgs, hidden_layer_sizes=61, alpha=0.5, score=nan, total= 1.3min\n",
      "[CV] solver=lbfgs, hidden_layer_sizes=61, alpha=0.5 ..................\n"
     ]
    },
    {
     "name": "stderr",
     "output_type": "stream",
     "text": [
      "C:\\Users\\LEm\\Anaconda3\\lib\\site-packages\\sklearn\\model_selection\\_validation.py:548: FitFailedWarning: Estimator fit failed. The score on this train-test partition for these parameters will be set to nan. Details: \n",
      "Traceback (most recent call last):\n",
      "  File \"C:\\Users\\LEm\\Anaconda3\\lib\\site-packages\\sklearn\\model_selection\\_validation.py\", line 531, in _fit_and_score\n",
      "    estimator.fit(X_train, y_train, **fit_params)\n",
      "  File \"C:\\Users\\LEm\\Anaconda3\\lib\\site-packages\\sklearn\\neural_network\\_multilayer_perceptron.py\", line 1027, in fit\n",
      "    return self._fit(X, y, incremental=(self.warm_start and\n",
      "  File \"C:\\Users\\LEm\\Anaconda3\\lib\\site-packages\\sklearn\\neural_network\\_multilayer_perceptron.py\", line 375, in _fit\n",
      "    self._fit_lbfgs(X, y, activations, deltas, coef_grads,\n",
      "  File \"C:\\Users\\LEm\\Anaconda3\\lib\\site-packages\\sklearn\\neural_network\\_multilayer_perceptron.py\", line 471, in _fit_lbfgs\n",
      "    self.n_iter_ = _check_optimize_result(\"lbfgs\", opt_res, self.max_iter)\n",
      "  File \"C:\\Users\\LEm\\Anaconda3\\lib\\site-packages\\sklearn\\utils\\optimize.py\", line 243, in _check_optimize_result\n",
      "    ).format(solver, result.status, result.message.decode(\"latin1\"))\n",
      "AttributeError: 'str' object has no attribute 'decode'\n",
      "\n",
      "  warnings.warn(\"Estimator fit failed. The score on this train-test\"\n"
     ]
    },
    {
     "name": "stdout",
     "output_type": "stream",
     "text": [
      "[CV]  solver=lbfgs, hidden_layer_sizes=61, alpha=0.5, score=nan, total= 1.3min\n",
      "[CV] solver=lbfgs, hidden_layer_sizes=61, alpha=0.5 ..................\n"
     ]
    },
    {
     "name": "stderr",
     "output_type": "stream",
     "text": [
      "C:\\Users\\LEm\\Anaconda3\\lib\\site-packages\\sklearn\\model_selection\\_validation.py:548: FitFailedWarning: Estimator fit failed. The score on this train-test partition for these parameters will be set to nan. Details: \n",
      "Traceback (most recent call last):\n",
      "  File \"C:\\Users\\LEm\\Anaconda3\\lib\\site-packages\\sklearn\\model_selection\\_validation.py\", line 531, in _fit_and_score\n",
      "    estimator.fit(X_train, y_train, **fit_params)\n",
      "  File \"C:\\Users\\LEm\\Anaconda3\\lib\\site-packages\\sklearn\\neural_network\\_multilayer_perceptron.py\", line 1027, in fit\n",
      "    return self._fit(X, y, incremental=(self.warm_start and\n",
      "  File \"C:\\Users\\LEm\\Anaconda3\\lib\\site-packages\\sklearn\\neural_network\\_multilayer_perceptron.py\", line 375, in _fit\n",
      "    self._fit_lbfgs(X, y, activations, deltas, coef_grads,\n",
      "  File \"C:\\Users\\LEm\\Anaconda3\\lib\\site-packages\\sklearn\\neural_network\\_multilayer_perceptron.py\", line 471, in _fit_lbfgs\n",
      "    self.n_iter_ = _check_optimize_result(\"lbfgs\", opt_res, self.max_iter)\n",
      "  File \"C:\\Users\\LEm\\Anaconda3\\lib\\site-packages\\sklearn\\utils\\optimize.py\", line 243, in _check_optimize_result\n",
      "    ).format(solver, result.status, result.message.decode(\"latin1\"))\n",
      "AttributeError: 'str' object has no attribute 'decode'\n",
      "\n",
      "  warnings.warn(\"Estimator fit failed. The score on this train-test\"\n"
     ]
    },
    {
     "name": "stdout",
     "output_type": "stream",
     "text": [
      "[CV]  solver=lbfgs, hidden_layer_sizes=61, alpha=0.5, score=nan, total= 1.3min\n",
      "[CV] solver=adam, hidden_layer_sizes=53, alpha=1.0 ...................\n",
      "[CV]  solver=adam, hidden_layer_sizes=53, alpha=1.0, score=0.919, total=   3.6s\n",
      "[CV] solver=adam, hidden_layer_sizes=53, alpha=1.0 ...................\n",
      "[CV]  solver=adam, hidden_layer_sizes=53, alpha=1.0, score=0.925, total=   5.9s\n",
      "[CV] solver=adam, hidden_layer_sizes=53, alpha=1.0 ...................\n",
      "[CV]  solver=adam, hidden_layer_sizes=53, alpha=1.0, score=0.921, total=   4.5s\n",
      "[CV] solver=adam, hidden_layer_sizes=53, alpha=1.0 ...................\n",
      "[CV]  solver=adam, hidden_layer_sizes=53, alpha=1.0, score=0.923, total=   4.4s\n",
      "[CV] solver=adam, hidden_layer_sizes=53, alpha=1.0 ...................\n",
      "[CV]  solver=adam, hidden_layer_sizes=53, alpha=1.0, score=0.929, total=   4.5s\n",
      "[CV] solver=lbfgs, hidden_layer_sizes=38, alpha=1.0 ..................\n"
     ]
    },
    {
     "name": "stderr",
     "output_type": "stream",
     "text": [
      "C:\\Users\\LEm\\Anaconda3\\lib\\site-packages\\sklearn\\model_selection\\_validation.py:548: FitFailedWarning: Estimator fit failed. The score on this train-test partition for these parameters will be set to nan. Details: \n",
      "Traceback (most recent call last):\n",
      "  File \"C:\\Users\\LEm\\Anaconda3\\lib\\site-packages\\sklearn\\model_selection\\_validation.py\", line 531, in _fit_and_score\n",
      "    estimator.fit(X_train, y_train, **fit_params)\n",
      "  File \"C:\\Users\\LEm\\Anaconda3\\lib\\site-packages\\sklearn\\neural_network\\_multilayer_perceptron.py\", line 1027, in fit\n",
      "    return self._fit(X, y, incremental=(self.warm_start and\n",
      "  File \"C:\\Users\\LEm\\Anaconda3\\lib\\site-packages\\sklearn\\neural_network\\_multilayer_perceptron.py\", line 375, in _fit\n",
      "    self._fit_lbfgs(X, y, activations, deltas, coef_grads,\n",
      "  File \"C:\\Users\\LEm\\Anaconda3\\lib\\site-packages\\sklearn\\neural_network\\_multilayer_perceptron.py\", line 471, in _fit_lbfgs\n",
      "    self.n_iter_ = _check_optimize_result(\"lbfgs\", opt_res, self.max_iter)\n",
      "  File \"C:\\Users\\LEm\\Anaconda3\\lib\\site-packages\\sklearn\\utils\\optimize.py\", line 243, in _check_optimize_result\n",
      "    ).format(solver, result.status, result.message.decode(\"latin1\"))\n",
      "AttributeError: 'str' object has no attribute 'decode'\n",
      "\n",
      "  warnings.warn(\"Estimator fit failed. The score on this train-test\"\n"
     ]
    },
    {
     "name": "stdout",
     "output_type": "stream",
     "text": [
      "[CV]  solver=lbfgs, hidden_layer_sizes=38, alpha=1.0, score=nan, total=  49.0s\n",
      "[CV] solver=lbfgs, hidden_layer_sizes=38, alpha=1.0 ..................\n"
     ]
    },
    {
     "name": "stderr",
     "output_type": "stream",
     "text": [
      "C:\\Users\\LEm\\Anaconda3\\lib\\site-packages\\sklearn\\model_selection\\_validation.py:548: FitFailedWarning: Estimator fit failed. The score on this train-test partition for these parameters will be set to nan. Details: \n",
      "Traceback (most recent call last):\n",
      "  File \"C:\\Users\\LEm\\Anaconda3\\lib\\site-packages\\sklearn\\model_selection\\_validation.py\", line 531, in _fit_and_score\n",
      "    estimator.fit(X_train, y_train, **fit_params)\n",
      "  File \"C:\\Users\\LEm\\Anaconda3\\lib\\site-packages\\sklearn\\neural_network\\_multilayer_perceptron.py\", line 1027, in fit\n",
      "    return self._fit(X, y, incremental=(self.warm_start and\n",
      "  File \"C:\\Users\\LEm\\Anaconda3\\lib\\site-packages\\sklearn\\neural_network\\_multilayer_perceptron.py\", line 375, in _fit\n",
      "    self._fit_lbfgs(X, y, activations, deltas, coef_grads,\n",
      "  File \"C:\\Users\\LEm\\Anaconda3\\lib\\site-packages\\sklearn\\neural_network\\_multilayer_perceptron.py\", line 471, in _fit_lbfgs\n",
      "    self.n_iter_ = _check_optimize_result(\"lbfgs\", opt_res, self.max_iter)\n",
      "  File \"C:\\Users\\LEm\\Anaconda3\\lib\\site-packages\\sklearn\\utils\\optimize.py\", line 243, in _check_optimize_result\n",
      "    ).format(solver, result.status, result.message.decode(\"latin1\"))\n",
      "AttributeError: 'str' object has no attribute 'decode'\n",
      "\n",
      "  warnings.warn(\"Estimator fit failed. The score on this train-test\"\n"
     ]
    },
    {
     "name": "stdout",
     "output_type": "stream",
     "text": [
      "[CV]  solver=lbfgs, hidden_layer_sizes=38, alpha=1.0, score=nan, total=  49.3s\n",
      "[CV] solver=lbfgs, hidden_layer_sizes=38, alpha=1.0 ..................\n"
     ]
    },
    {
     "name": "stderr",
     "output_type": "stream",
     "text": [
      "C:\\Users\\LEm\\Anaconda3\\lib\\site-packages\\sklearn\\model_selection\\_validation.py:548: FitFailedWarning: Estimator fit failed. The score on this train-test partition for these parameters will be set to nan. Details: \n",
      "Traceback (most recent call last):\n",
      "  File \"C:\\Users\\LEm\\Anaconda3\\lib\\site-packages\\sklearn\\model_selection\\_validation.py\", line 531, in _fit_and_score\n",
      "    estimator.fit(X_train, y_train, **fit_params)\n",
      "  File \"C:\\Users\\LEm\\Anaconda3\\lib\\site-packages\\sklearn\\neural_network\\_multilayer_perceptron.py\", line 1027, in fit\n",
      "    return self._fit(X, y, incremental=(self.warm_start and\n",
      "  File \"C:\\Users\\LEm\\Anaconda3\\lib\\site-packages\\sklearn\\neural_network\\_multilayer_perceptron.py\", line 375, in _fit\n",
      "    self._fit_lbfgs(X, y, activations, deltas, coef_grads,\n",
      "  File \"C:\\Users\\LEm\\Anaconda3\\lib\\site-packages\\sklearn\\neural_network\\_multilayer_perceptron.py\", line 471, in _fit_lbfgs\n",
      "    self.n_iter_ = _check_optimize_result(\"lbfgs\", opt_res, self.max_iter)\n",
      "  File \"C:\\Users\\LEm\\Anaconda3\\lib\\site-packages\\sklearn\\utils\\optimize.py\", line 243, in _check_optimize_result\n",
      "    ).format(solver, result.status, result.message.decode(\"latin1\"))\n",
      "AttributeError: 'str' object has no attribute 'decode'\n",
      "\n",
      "  warnings.warn(\"Estimator fit failed. The score on this train-test\"\n"
     ]
    },
    {
     "name": "stdout",
     "output_type": "stream",
     "text": [
      "[CV]  solver=lbfgs, hidden_layer_sizes=38, alpha=1.0, score=nan, total=  49.3s\n",
      "[CV] solver=lbfgs, hidden_layer_sizes=38, alpha=1.0 ..................\n"
     ]
    },
    {
     "name": "stderr",
     "output_type": "stream",
     "text": [
      "C:\\Users\\LEm\\Anaconda3\\lib\\site-packages\\sklearn\\model_selection\\_validation.py:548: FitFailedWarning: Estimator fit failed. The score on this train-test partition for these parameters will be set to nan. Details: \n",
      "Traceback (most recent call last):\n",
      "  File \"C:\\Users\\LEm\\Anaconda3\\lib\\site-packages\\sklearn\\model_selection\\_validation.py\", line 531, in _fit_and_score\n",
      "    estimator.fit(X_train, y_train, **fit_params)\n",
      "  File \"C:\\Users\\LEm\\Anaconda3\\lib\\site-packages\\sklearn\\neural_network\\_multilayer_perceptron.py\", line 1027, in fit\n",
      "    return self._fit(X, y, incremental=(self.warm_start and\n",
      "  File \"C:\\Users\\LEm\\Anaconda3\\lib\\site-packages\\sklearn\\neural_network\\_multilayer_perceptron.py\", line 375, in _fit\n",
      "    self._fit_lbfgs(X, y, activations, deltas, coef_grads,\n",
      "  File \"C:\\Users\\LEm\\Anaconda3\\lib\\site-packages\\sklearn\\neural_network\\_multilayer_perceptron.py\", line 471, in _fit_lbfgs\n",
      "    self.n_iter_ = _check_optimize_result(\"lbfgs\", opt_res, self.max_iter)\n",
      "  File \"C:\\Users\\LEm\\Anaconda3\\lib\\site-packages\\sklearn\\utils\\optimize.py\", line 243, in _check_optimize_result\n",
      "    ).format(solver, result.status, result.message.decode(\"latin1\"))\n",
      "AttributeError: 'str' object has no attribute 'decode'\n",
      "\n",
      "  warnings.warn(\"Estimator fit failed. The score on this train-test\"\n"
     ]
    },
    {
     "name": "stdout",
     "output_type": "stream",
     "text": [
      "[CV]  solver=lbfgs, hidden_layer_sizes=38, alpha=1.0, score=nan, total=  49.5s\n",
      "[CV] solver=lbfgs, hidden_layer_sizes=38, alpha=1.0 ..................\n"
     ]
    },
    {
     "name": "stderr",
     "output_type": "stream",
     "text": [
      "C:\\Users\\LEm\\Anaconda3\\lib\\site-packages\\sklearn\\model_selection\\_validation.py:548: FitFailedWarning: Estimator fit failed. The score on this train-test partition for these parameters will be set to nan. Details: \n",
      "Traceback (most recent call last):\n",
      "  File \"C:\\Users\\LEm\\Anaconda3\\lib\\site-packages\\sklearn\\model_selection\\_validation.py\", line 531, in _fit_and_score\n",
      "    estimator.fit(X_train, y_train, **fit_params)\n",
      "  File \"C:\\Users\\LEm\\Anaconda3\\lib\\site-packages\\sklearn\\neural_network\\_multilayer_perceptron.py\", line 1027, in fit\n",
      "    return self._fit(X, y, incremental=(self.warm_start and\n",
      "  File \"C:\\Users\\LEm\\Anaconda3\\lib\\site-packages\\sklearn\\neural_network\\_multilayer_perceptron.py\", line 375, in _fit\n",
      "    self._fit_lbfgs(X, y, activations, deltas, coef_grads,\n",
      "  File \"C:\\Users\\LEm\\Anaconda3\\lib\\site-packages\\sklearn\\neural_network\\_multilayer_perceptron.py\", line 471, in _fit_lbfgs\n",
      "    self.n_iter_ = _check_optimize_result(\"lbfgs\", opt_res, self.max_iter)\n",
      "  File \"C:\\Users\\LEm\\Anaconda3\\lib\\site-packages\\sklearn\\utils\\optimize.py\", line 243, in _check_optimize_result\n",
      "    ).format(solver, result.status, result.message.decode(\"latin1\"))\n",
      "AttributeError: 'str' object has no attribute 'decode'\n",
      "\n",
      "  warnings.warn(\"Estimator fit failed. The score on this train-test\"\n"
     ]
    },
    {
     "name": "stdout",
     "output_type": "stream",
     "text": [
      "[CV]  solver=lbfgs, hidden_layer_sizes=38, alpha=1.0, score=nan, total=  49.4s\n",
      "[CV] solver=lbfgs, hidden_layer_sizes=49, alpha=0.5 ..................\n"
     ]
    },
    {
     "name": "stderr",
     "output_type": "stream",
     "text": [
      "C:\\Users\\LEm\\Anaconda3\\lib\\site-packages\\sklearn\\model_selection\\_validation.py:548: FitFailedWarning: Estimator fit failed. The score on this train-test partition for these parameters will be set to nan. Details: \n",
      "Traceback (most recent call last):\n",
      "  File \"C:\\Users\\LEm\\Anaconda3\\lib\\site-packages\\sklearn\\model_selection\\_validation.py\", line 531, in _fit_and_score\n",
      "    estimator.fit(X_train, y_train, **fit_params)\n",
      "  File \"C:\\Users\\LEm\\Anaconda3\\lib\\site-packages\\sklearn\\neural_network\\_multilayer_perceptron.py\", line 1027, in fit\n",
      "    return self._fit(X, y, incremental=(self.warm_start and\n",
      "  File \"C:\\Users\\LEm\\Anaconda3\\lib\\site-packages\\sklearn\\neural_network\\_multilayer_perceptron.py\", line 375, in _fit\n",
      "    self._fit_lbfgs(X, y, activations, deltas, coef_grads,\n",
      "  File \"C:\\Users\\LEm\\Anaconda3\\lib\\site-packages\\sklearn\\neural_network\\_multilayer_perceptron.py\", line 471, in _fit_lbfgs\n",
      "    self.n_iter_ = _check_optimize_result(\"lbfgs\", opt_res, self.max_iter)\n",
      "  File \"C:\\Users\\LEm\\Anaconda3\\lib\\site-packages\\sklearn\\utils\\optimize.py\", line 243, in _check_optimize_result\n",
      "    ).format(solver, result.status, result.message.decode(\"latin1\"))\n",
      "AttributeError: 'str' object has no attribute 'decode'\n",
      "\n",
      "  warnings.warn(\"Estimator fit failed. The score on this train-test\"\n"
     ]
    },
    {
     "name": "stdout",
     "output_type": "stream",
     "text": [
      "[CV]  solver=lbfgs, hidden_layer_sizes=49, alpha=0.5, score=nan, total= 1.1min\n",
      "[CV] solver=lbfgs, hidden_layer_sizes=49, alpha=0.5 ..................\n"
     ]
    },
    {
     "name": "stderr",
     "output_type": "stream",
     "text": [
      "C:\\Users\\LEm\\Anaconda3\\lib\\site-packages\\sklearn\\model_selection\\_validation.py:548: FitFailedWarning: Estimator fit failed. The score on this train-test partition for these parameters will be set to nan. Details: \n",
      "Traceback (most recent call last):\n",
      "  File \"C:\\Users\\LEm\\Anaconda3\\lib\\site-packages\\sklearn\\model_selection\\_validation.py\", line 531, in _fit_and_score\n",
      "    estimator.fit(X_train, y_train, **fit_params)\n",
      "  File \"C:\\Users\\LEm\\Anaconda3\\lib\\site-packages\\sklearn\\neural_network\\_multilayer_perceptron.py\", line 1027, in fit\n",
      "    return self._fit(X, y, incremental=(self.warm_start and\n",
      "  File \"C:\\Users\\LEm\\Anaconda3\\lib\\site-packages\\sklearn\\neural_network\\_multilayer_perceptron.py\", line 375, in _fit\n",
      "    self._fit_lbfgs(X, y, activations, deltas, coef_grads,\n",
      "  File \"C:\\Users\\LEm\\Anaconda3\\lib\\site-packages\\sklearn\\neural_network\\_multilayer_perceptron.py\", line 471, in _fit_lbfgs\n",
      "    self.n_iter_ = _check_optimize_result(\"lbfgs\", opt_res, self.max_iter)\n",
      "  File \"C:\\Users\\LEm\\Anaconda3\\lib\\site-packages\\sklearn\\utils\\optimize.py\", line 243, in _check_optimize_result\n",
      "    ).format(solver, result.status, result.message.decode(\"latin1\"))\n",
      "AttributeError: 'str' object has no attribute 'decode'\n",
      "\n",
      "  warnings.warn(\"Estimator fit failed. The score on this train-test\"\n"
     ]
    },
    {
     "name": "stdout",
     "output_type": "stream",
     "text": [
      "[CV]  solver=lbfgs, hidden_layer_sizes=49, alpha=0.5, score=nan, total= 1.1min\n",
      "[CV] solver=lbfgs, hidden_layer_sizes=49, alpha=0.5 ..................\n"
     ]
    },
    {
     "name": "stderr",
     "output_type": "stream",
     "text": [
      "C:\\Users\\LEm\\Anaconda3\\lib\\site-packages\\sklearn\\model_selection\\_validation.py:548: FitFailedWarning: Estimator fit failed. The score on this train-test partition for these parameters will be set to nan. Details: \n",
      "Traceback (most recent call last):\n",
      "  File \"C:\\Users\\LEm\\Anaconda3\\lib\\site-packages\\sklearn\\model_selection\\_validation.py\", line 531, in _fit_and_score\n",
      "    estimator.fit(X_train, y_train, **fit_params)\n",
      "  File \"C:\\Users\\LEm\\Anaconda3\\lib\\site-packages\\sklearn\\neural_network\\_multilayer_perceptron.py\", line 1027, in fit\n",
      "    return self._fit(X, y, incremental=(self.warm_start and\n",
      "  File \"C:\\Users\\LEm\\Anaconda3\\lib\\site-packages\\sklearn\\neural_network\\_multilayer_perceptron.py\", line 375, in _fit\n",
      "    self._fit_lbfgs(X, y, activations, deltas, coef_grads,\n",
      "  File \"C:\\Users\\LEm\\Anaconda3\\lib\\site-packages\\sklearn\\neural_network\\_multilayer_perceptron.py\", line 471, in _fit_lbfgs\n",
      "    self.n_iter_ = _check_optimize_result(\"lbfgs\", opt_res, self.max_iter)\n",
      "  File \"C:\\Users\\LEm\\Anaconda3\\lib\\site-packages\\sklearn\\utils\\optimize.py\", line 243, in _check_optimize_result\n",
      "    ).format(solver, result.status, result.message.decode(\"latin1\"))\n",
      "AttributeError: 'str' object has no attribute 'decode'\n",
      "\n",
      "  warnings.warn(\"Estimator fit failed. The score on this train-test\"\n"
     ]
    },
    {
     "name": "stdout",
     "output_type": "stream",
     "text": [
      "[CV]  solver=lbfgs, hidden_layer_sizes=49, alpha=0.5, score=nan, total= 1.1min\n",
      "[CV] solver=lbfgs, hidden_layer_sizes=49, alpha=0.5 ..................\n",
      "[CV]  solver=lbfgs, hidden_layer_sizes=49, alpha=0.5, score=0.936, total=  57.9s\n",
      "[CV] solver=lbfgs, hidden_layer_sizes=49, alpha=0.5 ..................\n"
     ]
    },
    {
     "name": "stderr",
     "output_type": "stream",
     "text": [
      "C:\\Users\\LEm\\Anaconda3\\lib\\site-packages\\sklearn\\model_selection\\_validation.py:548: FitFailedWarning: Estimator fit failed. The score on this train-test partition for these parameters will be set to nan. Details: \n",
      "Traceback (most recent call last):\n",
      "  File \"C:\\Users\\LEm\\Anaconda3\\lib\\site-packages\\sklearn\\model_selection\\_validation.py\", line 531, in _fit_and_score\n",
      "    estimator.fit(X_train, y_train, **fit_params)\n",
      "  File \"C:\\Users\\LEm\\Anaconda3\\lib\\site-packages\\sklearn\\neural_network\\_multilayer_perceptron.py\", line 1027, in fit\n",
      "    return self._fit(X, y, incremental=(self.warm_start and\n",
      "  File \"C:\\Users\\LEm\\Anaconda3\\lib\\site-packages\\sklearn\\neural_network\\_multilayer_perceptron.py\", line 375, in _fit\n",
      "    self._fit_lbfgs(X, y, activations, deltas, coef_grads,\n",
      "  File \"C:\\Users\\LEm\\Anaconda3\\lib\\site-packages\\sklearn\\neural_network\\_multilayer_perceptron.py\", line 471, in _fit_lbfgs\n",
      "    self.n_iter_ = _check_optimize_result(\"lbfgs\", opt_res, self.max_iter)\n",
      "  File \"C:\\Users\\LEm\\Anaconda3\\lib\\site-packages\\sklearn\\utils\\optimize.py\", line 243, in _check_optimize_result\n",
      "    ).format(solver, result.status, result.message.decode(\"latin1\"))\n",
      "AttributeError: 'str' object has no attribute 'decode'\n",
      "\n",
      "  warnings.warn(\"Estimator fit failed. The score on this train-test\"\n",
      "[Parallel(n_jobs=1)]: Done  50 out of  50 | elapsed: 36.0min finished\n"
     ]
    },
    {
     "name": "stdout",
     "output_type": "stream",
     "text": [
      "[CV]  solver=lbfgs, hidden_layer_sizes=49, alpha=0.5, score=nan, total= 1.0min\n",
      "Fitting 5 folds for each of 10 candidates, totalling 50 fits\n",
      "[CV] solver=lbfgs, hidden_layer_sizes=55, alpha=0.5 ..................\n"
     ]
    },
    {
     "name": "stderr",
     "output_type": "stream",
     "text": [
      "[Parallel(n_jobs=1)]: Using backend SequentialBackend with 1 concurrent workers.\n",
      "C:\\Users\\LEm\\Anaconda3\\lib\\site-packages\\sklearn\\model_selection\\_validation.py:548: FitFailedWarning: Estimator fit failed. The score on this train-test partition for these parameters will be set to nan. Details: \n",
      "Traceback (most recent call last):\n",
      "  File \"C:\\Users\\LEm\\Anaconda3\\lib\\site-packages\\sklearn\\model_selection\\_validation.py\", line 531, in _fit_and_score\n",
      "    estimator.fit(X_train, y_train, **fit_params)\n",
      "  File \"C:\\Users\\LEm\\Anaconda3\\lib\\site-packages\\sklearn\\neural_network\\_multilayer_perceptron.py\", line 1027, in fit\n",
      "    return self._fit(X, y, incremental=(self.warm_start and\n",
      "  File \"C:\\Users\\LEm\\Anaconda3\\lib\\site-packages\\sklearn\\neural_network\\_multilayer_perceptron.py\", line 375, in _fit\n",
      "    self._fit_lbfgs(X, y, activations, deltas, coef_grads,\n",
      "  File \"C:\\Users\\LEm\\Anaconda3\\lib\\site-packages\\sklearn\\neural_network\\_multilayer_perceptron.py\", line 471, in _fit_lbfgs\n",
      "    self.n_iter_ = _check_optimize_result(\"lbfgs\", opt_res, self.max_iter)\n",
      "  File \"C:\\Users\\LEm\\Anaconda3\\lib\\site-packages\\sklearn\\utils\\optimize.py\", line 243, in _check_optimize_result\n",
      "    ).format(solver, result.status, result.message.decode(\"latin1\"))\n",
      "AttributeError: 'str' object has no attribute 'decode'\n",
      "\n",
      "  warnings.warn(\"Estimator fit failed. The score on this train-test\"\n",
      "[Parallel(n_jobs=1)]: Done   1 out of   1 | elapsed:  1.2min remaining:    0.0s\n"
     ]
    },
    {
     "name": "stdout",
     "output_type": "stream",
     "text": [
      "[CV]  solver=lbfgs, hidden_layer_sizes=55, alpha=0.5, score=nan, total= 1.2min\n",
      "[CV] solver=lbfgs, hidden_layer_sizes=55, alpha=0.5 ..................\n"
     ]
    },
    {
     "name": "stderr",
     "output_type": "stream",
     "text": [
      "C:\\Users\\LEm\\Anaconda3\\lib\\site-packages\\sklearn\\model_selection\\_validation.py:548: FitFailedWarning: Estimator fit failed. The score on this train-test partition for these parameters will be set to nan. Details: \n",
      "Traceback (most recent call last):\n",
      "  File \"C:\\Users\\LEm\\Anaconda3\\lib\\site-packages\\sklearn\\model_selection\\_validation.py\", line 531, in _fit_and_score\n",
      "    estimator.fit(X_train, y_train, **fit_params)\n",
      "  File \"C:\\Users\\LEm\\Anaconda3\\lib\\site-packages\\sklearn\\neural_network\\_multilayer_perceptron.py\", line 1027, in fit\n",
      "    return self._fit(X, y, incremental=(self.warm_start and\n",
      "  File \"C:\\Users\\LEm\\Anaconda3\\lib\\site-packages\\sklearn\\neural_network\\_multilayer_perceptron.py\", line 375, in _fit\n",
      "    self._fit_lbfgs(X, y, activations, deltas, coef_grads,\n",
      "  File \"C:\\Users\\LEm\\Anaconda3\\lib\\site-packages\\sklearn\\neural_network\\_multilayer_perceptron.py\", line 471, in _fit_lbfgs\n",
      "    self.n_iter_ = _check_optimize_result(\"lbfgs\", opt_res, self.max_iter)\n",
      "  File \"C:\\Users\\LEm\\Anaconda3\\lib\\site-packages\\sklearn\\utils\\optimize.py\", line 243, in _check_optimize_result\n",
      "    ).format(solver, result.status, result.message.decode(\"latin1\"))\n",
      "AttributeError: 'str' object has no attribute 'decode'\n",
      "\n",
      "  warnings.warn(\"Estimator fit failed. The score on this train-test\"\n",
      "[Parallel(n_jobs=1)]: Done   2 out of   2 | elapsed:  2.4min remaining:    0.0s\n"
     ]
    },
    {
     "name": "stdout",
     "output_type": "stream",
     "text": [
      "[CV]  solver=lbfgs, hidden_layer_sizes=55, alpha=0.5, score=nan, total= 1.2min\n",
      "[CV] solver=lbfgs, hidden_layer_sizes=55, alpha=0.5 ..................\n"
     ]
    },
    {
     "name": "stderr",
     "output_type": "stream",
     "text": [
      "C:\\Users\\LEm\\Anaconda3\\lib\\site-packages\\sklearn\\model_selection\\_validation.py:548: FitFailedWarning: Estimator fit failed. The score on this train-test partition for these parameters will be set to nan. Details: \n",
      "Traceback (most recent call last):\n",
      "  File \"C:\\Users\\LEm\\Anaconda3\\lib\\site-packages\\sklearn\\model_selection\\_validation.py\", line 531, in _fit_and_score\n",
      "    estimator.fit(X_train, y_train, **fit_params)\n",
      "  File \"C:\\Users\\LEm\\Anaconda3\\lib\\site-packages\\sklearn\\neural_network\\_multilayer_perceptron.py\", line 1027, in fit\n",
      "    return self._fit(X, y, incremental=(self.warm_start and\n",
      "  File \"C:\\Users\\LEm\\Anaconda3\\lib\\site-packages\\sklearn\\neural_network\\_multilayer_perceptron.py\", line 375, in _fit\n",
      "    self._fit_lbfgs(X, y, activations, deltas, coef_grads,\n",
      "  File \"C:\\Users\\LEm\\Anaconda3\\lib\\site-packages\\sklearn\\neural_network\\_multilayer_perceptron.py\", line 471, in _fit_lbfgs\n",
      "    self.n_iter_ = _check_optimize_result(\"lbfgs\", opt_res, self.max_iter)\n",
      "  File \"C:\\Users\\LEm\\Anaconda3\\lib\\site-packages\\sklearn\\utils\\optimize.py\", line 243, in _check_optimize_result\n",
      "    ).format(solver, result.status, result.message.decode(\"latin1\"))\n",
      "AttributeError: 'str' object has no attribute 'decode'\n",
      "\n",
      "  warnings.warn(\"Estimator fit failed. The score on this train-test\"\n"
     ]
    },
    {
     "name": "stdout",
     "output_type": "stream",
     "text": [
      "[CV]  solver=lbfgs, hidden_layer_sizes=55, alpha=0.5, score=nan, total= 1.1min\n",
      "[CV] solver=lbfgs, hidden_layer_sizes=55, alpha=0.5 ..................\n"
     ]
    },
    {
     "name": "stderr",
     "output_type": "stream",
     "text": [
      "C:\\Users\\LEm\\Anaconda3\\lib\\site-packages\\sklearn\\model_selection\\_validation.py:548: FitFailedWarning: Estimator fit failed. The score on this train-test partition for these parameters will be set to nan. Details: \n",
      "Traceback (most recent call last):\n",
      "  File \"C:\\Users\\LEm\\Anaconda3\\lib\\site-packages\\sklearn\\model_selection\\_validation.py\", line 531, in _fit_and_score\n",
      "    estimator.fit(X_train, y_train, **fit_params)\n",
      "  File \"C:\\Users\\LEm\\Anaconda3\\lib\\site-packages\\sklearn\\neural_network\\_multilayer_perceptron.py\", line 1027, in fit\n",
      "    return self._fit(X, y, incremental=(self.warm_start and\n",
      "  File \"C:\\Users\\LEm\\Anaconda3\\lib\\site-packages\\sklearn\\neural_network\\_multilayer_perceptron.py\", line 375, in _fit\n",
      "    self._fit_lbfgs(X, y, activations, deltas, coef_grads,\n",
      "  File \"C:\\Users\\LEm\\Anaconda3\\lib\\site-packages\\sklearn\\neural_network\\_multilayer_perceptron.py\", line 471, in _fit_lbfgs\n",
      "    self.n_iter_ = _check_optimize_result(\"lbfgs\", opt_res, self.max_iter)\n",
      "  File \"C:\\Users\\LEm\\Anaconda3\\lib\\site-packages\\sklearn\\utils\\optimize.py\", line 243, in _check_optimize_result\n",
      "    ).format(solver, result.status, result.message.decode(\"latin1\"))\n",
      "AttributeError: 'str' object has no attribute 'decode'\n",
      "\n",
      "  warnings.warn(\"Estimator fit failed. The score on this train-test\"\n"
     ]
    },
    {
     "name": "stdout",
     "output_type": "stream",
     "text": [
      "[CV]  solver=lbfgs, hidden_layer_sizes=55, alpha=0.5, score=nan, total= 1.2min\n",
      "[CV] solver=lbfgs, hidden_layer_sizes=55, alpha=0.5 ..................\n"
     ]
    },
    {
     "name": "stderr",
     "output_type": "stream",
     "text": [
      "C:\\Users\\LEm\\Anaconda3\\lib\\site-packages\\sklearn\\model_selection\\_validation.py:548: FitFailedWarning: Estimator fit failed. The score on this train-test partition for these parameters will be set to nan. Details: \n",
      "Traceback (most recent call last):\n",
      "  File \"C:\\Users\\LEm\\Anaconda3\\lib\\site-packages\\sklearn\\model_selection\\_validation.py\", line 531, in _fit_and_score\n",
      "    estimator.fit(X_train, y_train, **fit_params)\n",
      "  File \"C:\\Users\\LEm\\Anaconda3\\lib\\site-packages\\sklearn\\neural_network\\_multilayer_perceptron.py\", line 1027, in fit\n",
      "    return self._fit(X, y, incremental=(self.warm_start and\n",
      "  File \"C:\\Users\\LEm\\Anaconda3\\lib\\site-packages\\sklearn\\neural_network\\_multilayer_perceptron.py\", line 375, in _fit\n",
      "    self._fit_lbfgs(X, y, activations, deltas, coef_grads,\n",
      "  File \"C:\\Users\\LEm\\Anaconda3\\lib\\site-packages\\sklearn\\neural_network\\_multilayer_perceptron.py\", line 471, in _fit_lbfgs\n",
      "    self.n_iter_ = _check_optimize_result(\"lbfgs\", opt_res, self.max_iter)\n",
      "  File \"C:\\Users\\LEm\\Anaconda3\\lib\\site-packages\\sklearn\\utils\\optimize.py\", line 243, in _check_optimize_result\n",
      "    ).format(solver, result.status, result.message.decode(\"latin1\"))\n",
      "AttributeError: 'str' object has no attribute 'decode'\n",
      "\n",
      "  warnings.warn(\"Estimator fit failed. The score on this train-test\"\n"
     ]
    },
    {
     "name": "stdout",
     "output_type": "stream",
     "text": [
      "[CV]  solver=lbfgs, hidden_layer_sizes=55, alpha=0.5, score=nan, total= 1.3min\n",
      "[CV] solver=lbfgs, hidden_layer_sizes=62, alpha=1.5 ..................\n"
     ]
    },
    {
     "name": "stderr",
     "output_type": "stream",
     "text": [
      "C:\\Users\\LEm\\Anaconda3\\lib\\site-packages\\sklearn\\model_selection\\_validation.py:548: FitFailedWarning: Estimator fit failed. The score on this train-test partition for these parameters will be set to nan. Details: \n",
      "Traceback (most recent call last):\n",
      "  File \"C:\\Users\\LEm\\Anaconda3\\lib\\site-packages\\sklearn\\model_selection\\_validation.py\", line 531, in _fit_and_score\n",
      "    estimator.fit(X_train, y_train, **fit_params)\n",
      "  File \"C:\\Users\\LEm\\Anaconda3\\lib\\site-packages\\sklearn\\neural_network\\_multilayer_perceptron.py\", line 1027, in fit\n",
      "    return self._fit(X, y, incremental=(self.warm_start and\n",
      "  File \"C:\\Users\\LEm\\Anaconda3\\lib\\site-packages\\sklearn\\neural_network\\_multilayer_perceptron.py\", line 375, in _fit\n",
      "    self._fit_lbfgs(X, y, activations, deltas, coef_grads,\n",
      "  File \"C:\\Users\\LEm\\Anaconda3\\lib\\site-packages\\sklearn\\neural_network\\_multilayer_perceptron.py\", line 471, in _fit_lbfgs\n",
      "    self.n_iter_ = _check_optimize_result(\"lbfgs\", opt_res, self.max_iter)\n",
      "  File \"C:\\Users\\LEm\\Anaconda3\\lib\\site-packages\\sklearn\\utils\\optimize.py\", line 243, in _check_optimize_result\n",
      "    ).format(solver, result.status, result.message.decode(\"latin1\"))\n",
      "AttributeError: 'str' object has no attribute 'decode'\n",
      "\n",
      "  warnings.warn(\"Estimator fit failed. The score on this train-test\"\n"
     ]
    },
    {
     "name": "stdout",
     "output_type": "stream",
     "text": [
      "[CV]  solver=lbfgs, hidden_layer_sizes=62, alpha=1.5, score=nan, total= 1.3min\n",
      "[CV] solver=lbfgs, hidden_layer_sizes=62, alpha=1.5 ..................\n"
     ]
    },
    {
     "name": "stderr",
     "output_type": "stream",
     "text": [
      "C:\\Users\\LEm\\Anaconda3\\lib\\site-packages\\sklearn\\model_selection\\_validation.py:548: FitFailedWarning: Estimator fit failed. The score on this train-test partition for these parameters will be set to nan. Details: \n",
      "Traceback (most recent call last):\n",
      "  File \"C:\\Users\\LEm\\Anaconda3\\lib\\site-packages\\sklearn\\model_selection\\_validation.py\", line 531, in _fit_and_score\n",
      "    estimator.fit(X_train, y_train, **fit_params)\n",
      "  File \"C:\\Users\\LEm\\Anaconda3\\lib\\site-packages\\sklearn\\neural_network\\_multilayer_perceptron.py\", line 1027, in fit\n",
      "    return self._fit(X, y, incremental=(self.warm_start and\n",
      "  File \"C:\\Users\\LEm\\Anaconda3\\lib\\site-packages\\sklearn\\neural_network\\_multilayer_perceptron.py\", line 375, in _fit\n",
      "    self._fit_lbfgs(X, y, activations, deltas, coef_grads,\n",
      "  File \"C:\\Users\\LEm\\Anaconda3\\lib\\site-packages\\sklearn\\neural_network\\_multilayer_perceptron.py\", line 471, in _fit_lbfgs\n",
      "    self.n_iter_ = _check_optimize_result(\"lbfgs\", opt_res, self.max_iter)\n",
      "  File \"C:\\Users\\LEm\\Anaconda3\\lib\\site-packages\\sklearn\\utils\\optimize.py\", line 243, in _check_optimize_result\n",
      "    ).format(solver, result.status, result.message.decode(\"latin1\"))\n",
      "AttributeError: 'str' object has no attribute 'decode'\n",
      "\n",
      "  warnings.warn(\"Estimator fit failed. The score on this train-test\"\n"
     ]
    },
    {
     "name": "stdout",
     "output_type": "stream",
     "text": [
      "[CV]  solver=lbfgs, hidden_layer_sizes=62, alpha=1.5, score=nan, total= 1.3min\n",
      "[CV] solver=lbfgs, hidden_layer_sizes=62, alpha=1.5 ..................\n"
     ]
    },
    {
     "name": "stderr",
     "output_type": "stream",
     "text": [
      "C:\\Users\\LEm\\Anaconda3\\lib\\site-packages\\sklearn\\model_selection\\_validation.py:548: FitFailedWarning: Estimator fit failed. The score on this train-test partition for these parameters will be set to nan. Details: \n",
      "Traceback (most recent call last):\n",
      "  File \"C:\\Users\\LEm\\Anaconda3\\lib\\site-packages\\sklearn\\model_selection\\_validation.py\", line 531, in _fit_and_score\n",
      "    estimator.fit(X_train, y_train, **fit_params)\n",
      "  File \"C:\\Users\\LEm\\Anaconda3\\lib\\site-packages\\sklearn\\neural_network\\_multilayer_perceptron.py\", line 1027, in fit\n",
      "    return self._fit(X, y, incremental=(self.warm_start and\n",
      "  File \"C:\\Users\\LEm\\Anaconda3\\lib\\site-packages\\sklearn\\neural_network\\_multilayer_perceptron.py\", line 375, in _fit\n",
      "    self._fit_lbfgs(X, y, activations, deltas, coef_grads,\n",
      "  File \"C:\\Users\\LEm\\Anaconda3\\lib\\site-packages\\sklearn\\neural_network\\_multilayer_perceptron.py\", line 471, in _fit_lbfgs\n",
      "    self.n_iter_ = _check_optimize_result(\"lbfgs\", opt_res, self.max_iter)\n",
      "  File \"C:\\Users\\LEm\\Anaconda3\\lib\\site-packages\\sklearn\\utils\\optimize.py\", line 243, in _check_optimize_result\n",
      "    ).format(solver, result.status, result.message.decode(\"latin1\"))\n",
      "AttributeError: 'str' object has no attribute 'decode'\n",
      "\n",
      "  warnings.warn(\"Estimator fit failed. The score on this train-test\"\n"
     ]
    },
    {
     "name": "stdout",
     "output_type": "stream",
     "text": [
      "[CV]  solver=lbfgs, hidden_layer_sizes=62, alpha=1.5, score=nan, total= 1.5min\n",
      "[CV] solver=lbfgs, hidden_layer_sizes=62, alpha=1.5 ..................\n"
     ]
    },
    {
     "name": "stderr",
     "output_type": "stream",
     "text": [
      "C:\\Users\\LEm\\Anaconda3\\lib\\site-packages\\sklearn\\model_selection\\_validation.py:548: FitFailedWarning: Estimator fit failed. The score on this train-test partition for these parameters will be set to nan. Details: \n",
      "Traceback (most recent call last):\n",
      "  File \"C:\\Users\\LEm\\Anaconda3\\lib\\site-packages\\sklearn\\model_selection\\_validation.py\", line 531, in _fit_and_score\n",
      "    estimator.fit(X_train, y_train, **fit_params)\n",
      "  File \"C:\\Users\\LEm\\Anaconda3\\lib\\site-packages\\sklearn\\neural_network\\_multilayer_perceptron.py\", line 1027, in fit\n",
      "    return self._fit(X, y, incremental=(self.warm_start and\n",
      "  File \"C:\\Users\\LEm\\Anaconda3\\lib\\site-packages\\sklearn\\neural_network\\_multilayer_perceptron.py\", line 375, in _fit\n",
      "    self._fit_lbfgs(X, y, activations, deltas, coef_grads,\n",
      "  File \"C:\\Users\\LEm\\Anaconda3\\lib\\site-packages\\sklearn\\neural_network\\_multilayer_perceptron.py\", line 471, in _fit_lbfgs\n",
      "    self.n_iter_ = _check_optimize_result(\"lbfgs\", opt_res, self.max_iter)\n",
      "  File \"C:\\Users\\LEm\\Anaconda3\\lib\\site-packages\\sklearn\\utils\\optimize.py\", line 243, in _check_optimize_result\n",
      "    ).format(solver, result.status, result.message.decode(\"latin1\"))\n",
      "AttributeError: 'str' object has no attribute 'decode'\n",
      "\n",
      "  warnings.warn(\"Estimator fit failed. The score on this train-test\"\n"
     ]
    },
    {
     "name": "stdout",
     "output_type": "stream",
     "text": [
      "[CV]  solver=lbfgs, hidden_layer_sizes=62, alpha=1.5, score=nan, total= 1.3min\n",
      "[CV] solver=lbfgs, hidden_layer_sizes=62, alpha=1.5 ..................\n"
     ]
    },
    {
     "name": "stderr",
     "output_type": "stream",
     "text": [
      "C:\\Users\\LEm\\Anaconda3\\lib\\site-packages\\sklearn\\model_selection\\_validation.py:548: FitFailedWarning: Estimator fit failed. The score on this train-test partition for these parameters will be set to nan. Details: \n",
      "Traceback (most recent call last):\n",
      "  File \"C:\\Users\\LEm\\Anaconda3\\lib\\site-packages\\sklearn\\model_selection\\_validation.py\", line 531, in _fit_and_score\n",
      "    estimator.fit(X_train, y_train, **fit_params)\n",
      "  File \"C:\\Users\\LEm\\Anaconda3\\lib\\site-packages\\sklearn\\neural_network\\_multilayer_perceptron.py\", line 1027, in fit\n",
      "    return self._fit(X, y, incremental=(self.warm_start and\n",
      "  File \"C:\\Users\\LEm\\Anaconda3\\lib\\site-packages\\sklearn\\neural_network\\_multilayer_perceptron.py\", line 375, in _fit\n",
      "    self._fit_lbfgs(X, y, activations, deltas, coef_grads,\n",
      "  File \"C:\\Users\\LEm\\Anaconda3\\lib\\site-packages\\sklearn\\neural_network\\_multilayer_perceptron.py\", line 471, in _fit_lbfgs\n",
      "    self.n_iter_ = _check_optimize_result(\"lbfgs\", opt_res, self.max_iter)\n",
      "  File \"C:\\Users\\LEm\\Anaconda3\\lib\\site-packages\\sklearn\\utils\\optimize.py\", line 243, in _check_optimize_result\n",
      "    ).format(solver, result.status, result.message.decode(\"latin1\"))\n",
      "AttributeError: 'str' object has no attribute 'decode'\n",
      "\n",
      "  warnings.warn(\"Estimator fit failed. The score on this train-test\"\n"
     ]
    },
    {
     "name": "stdout",
     "output_type": "stream",
     "text": [
      "[CV]  solver=lbfgs, hidden_layer_sizes=62, alpha=1.5, score=nan, total= 1.3min\n",
      "[CV] solver=lbfgs, hidden_layer_sizes=47, alpha=0.0 ..................\n"
     ]
    },
    {
     "name": "stderr",
     "output_type": "stream",
     "text": [
      "C:\\Users\\LEm\\Anaconda3\\lib\\site-packages\\sklearn\\model_selection\\_validation.py:548: FitFailedWarning: Estimator fit failed. The score on this train-test partition for these parameters will be set to nan. Details: \n",
      "Traceback (most recent call last):\n",
      "  File \"C:\\Users\\LEm\\Anaconda3\\lib\\site-packages\\sklearn\\model_selection\\_validation.py\", line 531, in _fit_and_score\n",
      "    estimator.fit(X_train, y_train, **fit_params)\n",
      "  File \"C:\\Users\\LEm\\Anaconda3\\lib\\site-packages\\sklearn\\neural_network\\_multilayer_perceptron.py\", line 1027, in fit\n",
      "    return self._fit(X, y, incremental=(self.warm_start and\n",
      "  File \"C:\\Users\\LEm\\Anaconda3\\lib\\site-packages\\sklearn\\neural_network\\_multilayer_perceptron.py\", line 375, in _fit\n",
      "    self._fit_lbfgs(X, y, activations, deltas, coef_grads,\n",
      "  File \"C:\\Users\\LEm\\Anaconda3\\lib\\site-packages\\sklearn\\neural_network\\_multilayer_perceptron.py\", line 471, in _fit_lbfgs\n",
      "    self.n_iter_ = _check_optimize_result(\"lbfgs\", opt_res, self.max_iter)\n",
      "  File \"C:\\Users\\LEm\\Anaconda3\\lib\\site-packages\\sklearn\\utils\\optimize.py\", line 243, in _check_optimize_result\n",
      "    ).format(solver, result.status, result.message.decode(\"latin1\"))\n",
      "AttributeError: 'str' object has no attribute 'decode'\n",
      "\n",
      "  warnings.warn(\"Estimator fit failed. The score on this train-test\"\n"
     ]
    },
    {
     "name": "stdout",
     "output_type": "stream",
     "text": [
      "[CV]  solver=lbfgs, hidden_layer_sizes=47, alpha=0.0, score=nan, total= 1.0min\n",
      "[CV] solver=lbfgs, hidden_layer_sizes=47, alpha=0.0 ..................\n"
     ]
    },
    {
     "name": "stderr",
     "output_type": "stream",
     "text": [
      "C:\\Users\\LEm\\Anaconda3\\lib\\site-packages\\sklearn\\model_selection\\_validation.py:548: FitFailedWarning: Estimator fit failed. The score on this train-test partition for these parameters will be set to nan. Details: \n",
      "Traceback (most recent call last):\n",
      "  File \"C:\\Users\\LEm\\Anaconda3\\lib\\site-packages\\sklearn\\model_selection\\_validation.py\", line 531, in _fit_and_score\n",
      "    estimator.fit(X_train, y_train, **fit_params)\n",
      "  File \"C:\\Users\\LEm\\Anaconda3\\lib\\site-packages\\sklearn\\neural_network\\_multilayer_perceptron.py\", line 1027, in fit\n",
      "    return self._fit(X, y, incremental=(self.warm_start and\n",
      "  File \"C:\\Users\\LEm\\Anaconda3\\lib\\site-packages\\sklearn\\neural_network\\_multilayer_perceptron.py\", line 375, in _fit\n",
      "    self._fit_lbfgs(X, y, activations, deltas, coef_grads,\n",
      "  File \"C:\\Users\\LEm\\Anaconda3\\lib\\site-packages\\sklearn\\neural_network\\_multilayer_perceptron.py\", line 471, in _fit_lbfgs\n",
      "    self.n_iter_ = _check_optimize_result(\"lbfgs\", opt_res, self.max_iter)\n",
      "  File \"C:\\Users\\LEm\\Anaconda3\\lib\\site-packages\\sklearn\\utils\\optimize.py\", line 243, in _check_optimize_result\n",
      "    ).format(solver, result.status, result.message.decode(\"latin1\"))\n",
      "AttributeError: 'str' object has no attribute 'decode'\n",
      "\n",
      "  warnings.warn(\"Estimator fit failed. The score on this train-test\"\n"
     ]
    },
    {
     "name": "stdout",
     "output_type": "stream",
     "text": [
      "[CV]  solver=lbfgs, hidden_layer_sizes=47, alpha=0.0, score=nan, total= 1.0min\n",
      "[CV] solver=lbfgs, hidden_layer_sizes=47, alpha=0.0 ..................\n"
     ]
    },
    {
     "name": "stderr",
     "output_type": "stream",
     "text": [
      "C:\\Users\\LEm\\Anaconda3\\lib\\site-packages\\sklearn\\model_selection\\_validation.py:548: FitFailedWarning: Estimator fit failed. The score on this train-test partition for these parameters will be set to nan. Details: \n",
      "Traceback (most recent call last):\n",
      "  File \"C:\\Users\\LEm\\Anaconda3\\lib\\site-packages\\sklearn\\model_selection\\_validation.py\", line 531, in _fit_and_score\n",
      "    estimator.fit(X_train, y_train, **fit_params)\n",
      "  File \"C:\\Users\\LEm\\Anaconda3\\lib\\site-packages\\sklearn\\neural_network\\_multilayer_perceptron.py\", line 1027, in fit\n",
      "    return self._fit(X, y, incremental=(self.warm_start and\n",
      "  File \"C:\\Users\\LEm\\Anaconda3\\lib\\site-packages\\sklearn\\neural_network\\_multilayer_perceptron.py\", line 375, in _fit\n",
      "    self._fit_lbfgs(X, y, activations, deltas, coef_grads,\n",
      "  File \"C:\\Users\\LEm\\Anaconda3\\lib\\site-packages\\sklearn\\neural_network\\_multilayer_perceptron.py\", line 471, in _fit_lbfgs\n",
      "    self.n_iter_ = _check_optimize_result(\"lbfgs\", opt_res, self.max_iter)\n",
      "  File \"C:\\Users\\LEm\\Anaconda3\\lib\\site-packages\\sklearn\\utils\\optimize.py\", line 243, in _check_optimize_result\n",
      "    ).format(solver, result.status, result.message.decode(\"latin1\"))\n",
      "AttributeError: 'str' object has no attribute 'decode'\n",
      "\n",
      "  warnings.warn(\"Estimator fit failed. The score on this train-test\"\n"
     ]
    },
    {
     "name": "stdout",
     "output_type": "stream",
     "text": [
      "[CV]  solver=lbfgs, hidden_layer_sizes=47, alpha=0.0, score=nan, total= 1.0min\n",
      "[CV] solver=lbfgs, hidden_layer_sizes=47, alpha=0.0 ..................\n"
     ]
    },
    {
     "name": "stderr",
     "output_type": "stream",
     "text": [
      "C:\\Users\\LEm\\Anaconda3\\lib\\site-packages\\sklearn\\model_selection\\_validation.py:548: FitFailedWarning: Estimator fit failed. The score on this train-test partition for these parameters will be set to nan. Details: \n",
      "Traceback (most recent call last):\n",
      "  File \"C:\\Users\\LEm\\Anaconda3\\lib\\site-packages\\sklearn\\model_selection\\_validation.py\", line 531, in _fit_and_score\n",
      "    estimator.fit(X_train, y_train, **fit_params)\n",
      "  File \"C:\\Users\\LEm\\Anaconda3\\lib\\site-packages\\sklearn\\neural_network\\_multilayer_perceptron.py\", line 1027, in fit\n",
      "    return self._fit(X, y, incremental=(self.warm_start and\n",
      "  File \"C:\\Users\\LEm\\Anaconda3\\lib\\site-packages\\sklearn\\neural_network\\_multilayer_perceptron.py\", line 375, in _fit\n",
      "    self._fit_lbfgs(X, y, activations, deltas, coef_grads,\n",
      "  File \"C:\\Users\\LEm\\Anaconda3\\lib\\site-packages\\sklearn\\neural_network\\_multilayer_perceptron.py\", line 471, in _fit_lbfgs\n",
      "    self.n_iter_ = _check_optimize_result(\"lbfgs\", opt_res, self.max_iter)\n",
      "  File \"C:\\Users\\LEm\\Anaconda3\\lib\\site-packages\\sklearn\\utils\\optimize.py\", line 243, in _check_optimize_result\n",
      "    ).format(solver, result.status, result.message.decode(\"latin1\"))\n",
      "AttributeError: 'str' object has no attribute 'decode'\n",
      "\n",
      "  warnings.warn(\"Estimator fit failed. The score on this train-test\"\n"
     ]
    },
    {
     "name": "stdout",
     "output_type": "stream",
     "text": [
      "[CV]  solver=lbfgs, hidden_layer_sizes=47, alpha=0.0, score=nan, total= 1.1min\n",
      "[CV] solver=lbfgs, hidden_layer_sizes=47, alpha=0.0 ..................\n"
     ]
    },
    {
     "name": "stderr",
     "output_type": "stream",
     "text": [
      "C:\\Users\\LEm\\Anaconda3\\lib\\site-packages\\sklearn\\model_selection\\_validation.py:548: FitFailedWarning: Estimator fit failed. The score on this train-test partition for these parameters will be set to nan. Details: \n",
      "Traceback (most recent call last):\n",
      "  File \"C:\\Users\\LEm\\Anaconda3\\lib\\site-packages\\sklearn\\model_selection\\_validation.py\", line 531, in _fit_and_score\n",
      "    estimator.fit(X_train, y_train, **fit_params)\n",
      "  File \"C:\\Users\\LEm\\Anaconda3\\lib\\site-packages\\sklearn\\neural_network\\_multilayer_perceptron.py\", line 1027, in fit\n",
      "    return self._fit(X, y, incremental=(self.warm_start and\n",
      "  File \"C:\\Users\\LEm\\Anaconda3\\lib\\site-packages\\sklearn\\neural_network\\_multilayer_perceptron.py\", line 375, in _fit\n",
      "    self._fit_lbfgs(X, y, activations, deltas, coef_grads,\n",
      "  File \"C:\\Users\\LEm\\Anaconda3\\lib\\site-packages\\sklearn\\neural_network\\_multilayer_perceptron.py\", line 471, in _fit_lbfgs\n",
      "    self.n_iter_ = _check_optimize_result(\"lbfgs\", opt_res, self.max_iter)\n",
      "  File \"C:\\Users\\LEm\\Anaconda3\\lib\\site-packages\\sklearn\\utils\\optimize.py\", line 243, in _check_optimize_result\n",
      "    ).format(solver, result.status, result.message.decode(\"latin1\"))\n",
      "AttributeError: 'str' object has no attribute 'decode'\n",
      "\n",
      "  warnings.warn(\"Estimator fit failed. The score on this train-test\"\n"
     ]
    },
    {
     "name": "stdout",
     "output_type": "stream",
     "text": [
      "[CV]  solver=lbfgs, hidden_layer_sizes=47, alpha=0.0, score=nan, total= 1.0min\n",
      "[CV] solver=adam, hidden_layer_sizes=40, alpha=0.0 ...................\n",
      "[CV]  solver=adam, hidden_layer_sizes=40, alpha=0.0, score=0.939, total=  22.5s\n",
      "[CV] solver=adam, hidden_layer_sizes=40, alpha=0.0 ...................\n",
      "[CV]  solver=adam, hidden_layer_sizes=40, alpha=0.0, score=0.942, total=  16.5s\n",
      "[CV] solver=adam, hidden_layer_sizes=40, alpha=0.0 ...................\n",
      "[CV]  solver=adam, hidden_layer_sizes=40, alpha=0.0, score=0.941, total=  29.2s\n",
      "[CV] solver=adam, hidden_layer_sizes=40, alpha=0.0 ...................\n",
      "[CV]  solver=adam, hidden_layer_sizes=40, alpha=0.0, score=0.941, total=  33.1s\n",
      "[CV] solver=adam, hidden_layer_sizes=40, alpha=0.0 ...................\n",
      "[CV]  solver=adam, hidden_layer_sizes=40, alpha=0.0, score=0.943, total=  25.9s\n",
      "[CV] solver=adam, hidden_layer_sizes=54, alpha=0.0 ...................\n",
      "[CV]  solver=adam, hidden_layer_sizes=54, alpha=0.0, score=0.941, total=  34.7s\n",
      "[CV] solver=adam, hidden_layer_sizes=54, alpha=0.0 ...................\n",
      "[CV]  solver=adam, hidden_layer_sizes=54, alpha=0.0, score=0.944, total=  31.8s\n",
      "[CV] solver=adam, hidden_layer_sizes=54, alpha=0.0 ...................\n",
      "[CV]  solver=adam, hidden_layer_sizes=54, alpha=0.0, score=0.943, total=  34.4s\n",
      "[CV] solver=adam, hidden_layer_sizes=54, alpha=0.0 ...................\n",
      "[CV]  solver=adam, hidden_layer_sizes=54, alpha=0.0, score=0.941, total=  29.3s\n",
      "[CV] solver=adam, hidden_layer_sizes=54, alpha=0.0 ...................\n",
      "[CV]  solver=adam, hidden_layer_sizes=54, alpha=0.0, score=0.946, total=  24.2s\n",
      "[CV] solver=adam, hidden_layer_sizes=41, alpha=1.0 ...................\n",
      "[CV]  solver=adam, hidden_layer_sizes=41, alpha=1.0, score=0.919, total=   4.1s\n",
      "[CV] solver=adam, hidden_layer_sizes=41, alpha=1.0 ...................\n",
      "[CV]  solver=adam, hidden_layer_sizes=41, alpha=1.0, score=0.925, total=   4.0s\n",
      "[CV] solver=adam, hidden_layer_sizes=41, alpha=1.0 ...................\n",
      "[CV]  solver=adam, hidden_layer_sizes=41, alpha=1.0, score=0.922, total=   5.0s\n",
      "[CV] solver=adam, hidden_layer_sizes=41, alpha=1.0 ...................\n",
      "[CV]  solver=adam, hidden_layer_sizes=41, alpha=1.0, score=0.922, total=   4.2s\n",
      "[CV] solver=adam, hidden_layer_sizes=41, alpha=1.0 ...................\n",
      "[CV]  solver=adam, hidden_layer_sizes=41, alpha=1.0, score=0.929, total=   3.8s\n",
      "[CV] solver=lbfgs, hidden_layer_sizes=62, alpha=1.0 ..................\n"
     ]
    },
    {
     "name": "stderr",
     "output_type": "stream",
     "text": [
      "C:\\Users\\LEm\\Anaconda3\\lib\\site-packages\\sklearn\\model_selection\\_validation.py:548: FitFailedWarning: Estimator fit failed. The score on this train-test partition for these parameters will be set to nan. Details: \n",
      "Traceback (most recent call last):\n",
      "  File \"C:\\Users\\LEm\\Anaconda3\\lib\\site-packages\\sklearn\\model_selection\\_validation.py\", line 531, in _fit_and_score\n",
      "    estimator.fit(X_train, y_train, **fit_params)\n",
      "  File \"C:\\Users\\LEm\\Anaconda3\\lib\\site-packages\\sklearn\\neural_network\\_multilayer_perceptron.py\", line 1027, in fit\n",
      "    return self._fit(X, y, incremental=(self.warm_start and\n",
      "  File \"C:\\Users\\LEm\\Anaconda3\\lib\\site-packages\\sklearn\\neural_network\\_multilayer_perceptron.py\", line 375, in _fit\n",
      "    self._fit_lbfgs(X, y, activations, deltas, coef_grads,\n",
      "  File \"C:\\Users\\LEm\\Anaconda3\\lib\\site-packages\\sklearn\\neural_network\\_multilayer_perceptron.py\", line 471, in _fit_lbfgs\n",
      "    self.n_iter_ = _check_optimize_result(\"lbfgs\", opt_res, self.max_iter)\n",
      "  File \"C:\\Users\\LEm\\Anaconda3\\lib\\site-packages\\sklearn\\utils\\optimize.py\", line 243, in _check_optimize_result\n",
      "    ).format(solver, result.status, result.message.decode(\"latin1\"))\n",
      "AttributeError: 'str' object has no attribute 'decode'\n",
      "\n",
      "  warnings.warn(\"Estimator fit failed. The score on this train-test\"\n"
     ]
    },
    {
     "name": "stdout",
     "output_type": "stream",
     "text": [
      "[CV]  solver=lbfgs, hidden_layer_sizes=62, alpha=1.0, score=nan, total= 1.2min\n",
      "[CV] solver=lbfgs, hidden_layer_sizes=62, alpha=1.0 ..................\n"
     ]
    },
    {
     "name": "stderr",
     "output_type": "stream",
     "text": [
      "C:\\Users\\LEm\\Anaconda3\\lib\\site-packages\\sklearn\\model_selection\\_validation.py:548: FitFailedWarning: Estimator fit failed. The score on this train-test partition for these parameters will be set to nan. Details: \n",
      "Traceback (most recent call last):\n",
      "  File \"C:\\Users\\LEm\\Anaconda3\\lib\\site-packages\\sklearn\\model_selection\\_validation.py\", line 531, in _fit_and_score\n",
      "    estimator.fit(X_train, y_train, **fit_params)\n",
      "  File \"C:\\Users\\LEm\\Anaconda3\\lib\\site-packages\\sklearn\\neural_network\\_multilayer_perceptron.py\", line 1027, in fit\n",
      "    return self._fit(X, y, incremental=(self.warm_start and\n",
      "  File \"C:\\Users\\LEm\\Anaconda3\\lib\\site-packages\\sklearn\\neural_network\\_multilayer_perceptron.py\", line 375, in _fit\n",
      "    self._fit_lbfgs(X, y, activations, deltas, coef_grads,\n",
      "  File \"C:\\Users\\LEm\\Anaconda3\\lib\\site-packages\\sklearn\\neural_network\\_multilayer_perceptron.py\", line 471, in _fit_lbfgs\n",
      "    self.n_iter_ = _check_optimize_result(\"lbfgs\", opt_res, self.max_iter)\n",
      "  File \"C:\\Users\\LEm\\Anaconda3\\lib\\site-packages\\sklearn\\utils\\optimize.py\", line 243, in _check_optimize_result\n",
      "    ).format(solver, result.status, result.message.decode(\"latin1\"))\n",
      "AttributeError: 'str' object has no attribute 'decode'\n",
      "\n",
      "  warnings.warn(\"Estimator fit failed. The score on this train-test\"\n"
     ]
    },
    {
     "name": "stdout",
     "output_type": "stream",
     "text": [
      "[CV]  solver=lbfgs, hidden_layer_sizes=62, alpha=1.0, score=nan, total= 1.3min\n",
      "[CV] solver=lbfgs, hidden_layer_sizes=62, alpha=1.0 ..................\n"
     ]
    },
    {
     "name": "stderr",
     "output_type": "stream",
     "text": [
      "C:\\Users\\LEm\\Anaconda3\\lib\\site-packages\\sklearn\\model_selection\\_validation.py:548: FitFailedWarning: Estimator fit failed. The score on this train-test partition for these parameters will be set to nan. Details: \n",
      "Traceback (most recent call last):\n",
      "  File \"C:\\Users\\LEm\\Anaconda3\\lib\\site-packages\\sklearn\\model_selection\\_validation.py\", line 531, in _fit_and_score\n",
      "    estimator.fit(X_train, y_train, **fit_params)\n",
      "  File \"C:\\Users\\LEm\\Anaconda3\\lib\\site-packages\\sklearn\\neural_network\\_multilayer_perceptron.py\", line 1027, in fit\n",
      "    return self._fit(X, y, incremental=(self.warm_start and\n",
      "  File \"C:\\Users\\LEm\\Anaconda3\\lib\\site-packages\\sklearn\\neural_network\\_multilayer_perceptron.py\", line 375, in _fit\n",
      "    self._fit_lbfgs(X, y, activations, deltas, coef_grads,\n",
      "  File \"C:\\Users\\LEm\\Anaconda3\\lib\\site-packages\\sklearn\\neural_network\\_multilayer_perceptron.py\", line 471, in _fit_lbfgs\n",
      "    self.n_iter_ = _check_optimize_result(\"lbfgs\", opt_res, self.max_iter)\n",
      "  File \"C:\\Users\\LEm\\Anaconda3\\lib\\site-packages\\sklearn\\utils\\optimize.py\", line 243, in _check_optimize_result\n",
      "    ).format(solver, result.status, result.message.decode(\"latin1\"))\n",
      "AttributeError: 'str' object has no attribute 'decode'\n",
      "\n",
      "  warnings.warn(\"Estimator fit failed. The score on this train-test\"\n"
     ]
    },
    {
     "name": "stdout",
     "output_type": "stream",
     "text": [
      "[CV]  solver=lbfgs, hidden_layer_sizes=62, alpha=1.0, score=nan, total= 1.3min\n",
      "[CV] solver=lbfgs, hidden_layer_sizes=62, alpha=1.0 ..................\n"
     ]
    },
    {
     "name": "stderr",
     "output_type": "stream",
     "text": [
      "C:\\Users\\LEm\\Anaconda3\\lib\\site-packages\\sklearn\\model_selection\\_validation.py:548: FitFailedWarning: Estimator fit failed. The score on this train-test partition for these parameters will be set to nan. Details: \n",
      "Traceback (most recent call last):\n",
      "  File \"C:\\Users\\LEm\\Anaconda3\\lib\\site-packages\\sklearn\\model_selection\\_validation.py\", line 531, in _fit_and_score\n",
      "    estimator.fit(X_train, y_train, **fit_params)\n",
      "  File \"C:\\Users\\LEm\\Anaconda3\\lib\\site-packages\\sklearn\\neural_network\\_multilayer_perceptron.py\", line 1027, in fit\n",
      "    return self._fit(X, y, incremental=(self.warm_start and\n",
      "  File \"C:\\Users\\LEm\\Anaconda3\\lib\\site-packages\\sklearn\\neural_network\\_multilayer_perceptron.py\", line 375, in _fit\n",
      "    self._fit_lbfgs(X, y, activations, deltas, coef_grads,\n",
      "  File \"C:\\Users\\LEm\\Anaconda3\\lib\\site-packages\\sklearn\\neural_network\\_multilayer_perceptron.py\", line 471, in _fit_lbfgs\n",
      "    self.n_iter_ = _check_optimize_result(\"lbfgs\", opt_res, self.max_iter)\n",
      "  File \"C:\\Users\\LEm\\Anaconda3\\lib\\site-packages\\sklearn\\utils\\optimize.py\", line 243, in _check_optimize_result\n",
      "    ).format(solver, result.status, result.message.decode(\"latin1\"))\n",
      "AttributeError: 'str' object has no attribute 'decode'\n",
      "\n",
      "  warnings.warn(\"Estimator fit failed. The score on this train-test\"\n"
     ]
    },
    {
     "name": "stdout",
     "output_type": "stream",
     "text": [
      "[CV]  solver=lbfgs, hidden_layer_sizes=62, alpha=1.0, score=nan, total= 1.2min\n",
      "[CV] solver=lbfgs, hidden_layer_sizes=62, alpha=1.0 ..................\n"
     ]
    },
    {
     "name": "stderr",
     "output_type": "stream",
     "text": [
      "C:\\Users\\LEm\\Anaconda3\\lib\\site-packages\\sklearn\\model_selection\\_validation.py:548: FitFailedWarning: Estimator fit failed. The score on this train-test partition for these parameters will be set to nan. Details: \n",
      "Traceback (most recent call last):\n",
      "  File \"C:\\Users\\LEm\\Anaconda3\\lib\\site-packages\\sklearn\\model_selection\\_validation.py\", line 531, in _fit_and_score\n",
      "    estimator.fit(X_train, y_train, **fit_params)\n",
      "  File \"C:\\Users\\LEm\\Anaconda3\\lib\\site-packages\\sklearn\\neural_network\\_multilayer_perceptron.py\", line 1027, in fit\n",
      "    return self._fit(X, y, incremental=(self.warm_start and\n",
      "  File \"C:\\Users\\LEm\\Anaconda3\\lib\\site-packages\\sklearn\\neural_network\\_multilayer_perceptron.py\", line 375, in _fit\n",
      "    self._fit_lbfgs(X, y, activations, deltas, coef_grads,\n",
      "  File \"C:\\Users\\LEm\\Anaconda3\\lib\\site-packages\\sklearn\\neural_network\\_multilayer_perceptron.py\", line 471, in _fit_lbfgs\n",
      "    self.n_iter_ = _check_optimize_result(\"lbfgs\", opt_res, self.max_iter)\n",
      "  File \"C:\\Users\\LEm\\Anaconda3\\lib\\site-packages\\sklearn\\utils\\optimize.py\", line 243, in _check_optimize_result\n",
      "    ).format(solver, result.status, result.message.decode(\"latin1\"))\n",
      "AttributeError: 'str' object has no attribute 'decode'\n",
      "\n",
      "  warnings.warn(\"Estimator fit failed. The score on this train-test\"\n"
     ]
    },
    {
     "name": "stdout",
     "output_type": "stream",
     "text": [
      "[CV]  solver=lbfgs, hidden_layer_sizes=62, alpha=1.0, score=nan, total= 1.2min\n",
      "[CV] solver=adam, hidden_layer_sizes=53, alpha=1.0 ...................\n",
      "[CV]  solver=adam, hidden_layer_sizes=53, alpha=1.0, score=0.920, total=   4.6s\n",
      "[CV] solver=adam, hidden_layer_sizes=53, alpha=1.0 ...................\n",
      "[CV]  solver=adam, hidden_layer_sizes=53, alpha=1.0, score=0.925, total=   4.8s\n",
      "[CV] solver=adam, hidden_layer_sizes=53, alpha=1.0 ...................\n",
      "[CV]  solver=adam, hidden_layer_sizes=53, alpha=1.0, score=0.922, total=   4.9s\n",
      "[CV] solver=adam, hidden_layer_sizes=53, alpha=1.0 ...................\n",
      "[CV]  solver=adam, hidden_layer_sizes=53, alpha=1.0, score=0.922, total=   4.4s\n",
      "[CV] solver=adam, hidden_layer_sizes=53, alpha=1.0 ...................\n",
      "[CV]  solver=adam, hidden_layer_sizes=53, alpha=1.0, score=0.930, total=   4.8s\n",
      "[CV] solver=adam, hidden_layer_sizes=51, alpha=1.5 ...................\n",
      "[CV]  solver=adam, hidden_layer_sizes=51, alpha=1.5, score=0.918, total=   4.6s\n",
      "[CV] solver=adam, hidden_layer_sizes=51, alpha=1.5 ...................\n",
      "[CV]  solver=adam, hidden_layer_sizes=51, alpha=1.5, score=0.922, total=   5.0s\n",
      "[CV] solver=adam, hidden_layer_sizes=51, alpha=1.5 ...................\n",
      "[CV]  solver=adam, hidden_layer_sizes=51, alpha=1.5, score=0.919, total=   4.4s\n",
      "[CV] solver=adam, hidden_layer_sizes=51, alpha=1.5 ...................\n",
      "[CV]  solver=adam, hidden_layer_sizes=51, alpha=1.5, score=0.920, total=   4.0s\n",
      "[CV] solver=adam, hidden_layer_sizes=51, alpha=1.5 ...................\n",
      "[CV]  solver=adam, hidden_layer_sizes=51, alpha=1.5, score=0.928, total=   4.1s\n",
      "[CV] solver=lbfgs, hidden_layer_sizes=60, alpha=1.5 ..................\n"
     ]
    },
    {
     "name": "stderr",
     "output_type": "stream",
     "text": [
      "C:\\Users\\LEm\\Anaconda3\\lib\\site-packages\\sklearn\\model_selection\\_validation.py:548: FitFailedWarning: Estimator fit failed. The score on this train-test partition for these parameters will be set to nan. Details: \n",
      "Traceback (most recent call last):\n",
      "  File \"C:\\Users\\LEm\\Anaconda3\\lib\\site-packages\\sklearn\\model_selection\\_validation.py\", line 531, in _fit_and_score\n",
      "    estimator.fit(X_train, y_train, **fit_params)\n",
      "  File \"C:\\Users\\LEm\\Anaconda3\\lib\\site-packages\\sklearn\\neural_network\\_multilayer_perceptron.py\", line 1027, in fit\n",
      "    return self._fit(X, y, incremental=(self.warm_start and\n",
      "  File \"C:\\Users\\LEm\\Anaconda3\\lib\\site-packages\\sklearn\\neural_network\\_multilayer_perceptron.py\", line 375, in _fit\n",
      "    self._fit_lbfgs(X, y, activations, deltas, coef_grads,\n",
      "  File \"C:\\Users\\LEm\\Anaconda3\\lib\\site-packages\\sklearn\\neural_network\\_multilayer_perceptron.py\", line 471, in _fit_lbfgs\n",
      "    self.n_iter_ = _check_optimize_result(\"lbfgs\", opt_res, self.max_iter)\n",
      "  File \"C:\\Users\\LEm\\Anaconda3\\lib\\site-packages\\sklearn\\utils\\optimize.py\", line 243, in _check_optimize_result\n",
      "    ).format(solver, result.status, result.message.decode(\"latin1\"))\n",
      "AttributeError: 'str' object has no attribute 'decode'\n",
      "\n",
      "  warnings.warn(\"Estimator fit failed. The score on this train-test\"\n"
     ]
    },
    {
     "name": "stdout",
     "output_type": "stream",
     "text": [
      "[CV]  solver=lbfgs, hidden_layer_sizes=60, alpha=1.5, score=nan, total= 1.2min\n",
      "[CV] solver=lbfgs, hidden_layer_sizes=60, alpha=1.5 ..................\n"
     ]
    },
    {
     "name": "stderr",
     "output_type": "stream",
     "text": [
      "C:\\Users\\LEm\\Anaconda3\\lib\\site-packages\\sklearn\\model_selection\\_validation.py:548: FitFailedWarning: Estimator fit failed. The score on this train-test partition for these parameters will be set to nan. Details: \n",
      "Traceback (most recent call last):\n",
      "  File \"C:\\Users\\LEm\\Anaconda3\\lib\\site-packages\\sklearn\\model_selection\\_validation.py\", line 531, in _fit_and_score\n",
      "    estimator.fit(X_train, y_train, **fit_params)\n",
      "  File \"C:\\Users\\LEm\\Anaconda3\\lib\\site-packages\\sklearn\\neural_network\\_multilayer_perceptron.py\", line 1027, in fit\n",
      "    return self._fit(X, y, incremental=(self.warm_start and\n",
      "  File \"C:\\Users\\LEm\\Anaconda3\\lib\\site-packages\\sklearn\\neural_network\\_multilayer_perceptron.py\", line 375, in _fit\n",
      "    self._fit_lbfgs(X, y, activations, deltas, coef_grads,\n",
      "  File \"C:\\Users\\LEm\\Anaconda3\\lib\\site-packages\\sklearn\\neural_network\\_multilayer_perceptron.py\", line 471, in _fit_lbfgs\n",
      "    self.n_iter_ = _check_optimize_result(\"lbfgs\", opt_res, self.max_iter)\n",
      "  File \"C:\\Users\\LEm\\Anaconda3\\lib\\site-packages\\sklearn\\utils\\optimize.py\", line 243, in _check_optimize_result\n",
      "    ).format(solver, result.status, result.message.decode(\"latin1\"))\n",
      "AttributeError: 'str' object has no attribute 'decode'\n",
      "\n",
      "  warnings.warn(\"Estimator fit failed. The score on this train-test\"\n"
     ]
    },
    {
     "name": "stdout",
     "output_type": "stream",
     "text": [
      "[CV]  solver=lbfgs, hidden_layer_sizes=60, alpha=1.5, score=nan, total= 1.2min\n",
      "[CV] solver=lbfgs, hidden_layer_sizes=60, alpha=1.5 ..................\n"
     ]
    },
    {
     "name": "stderr",
     "output_type": "stream",
     "text": [
      "C:\\Users\\LEm\\Anaconda3\\lib\\site-packages\\sklearn\\model_selection\\_validation.py:548: FitFailedWarning: Estimator fit failed. The score on this train-test partition for these parameters will be set to nan. Details: \n",
      "Traceback (most recent call last):\n",
      "  File \"C:\\Users\\LEm\\Anaconda3\\lib\\site-packages\\sklearn\\model_selection\\_validation.py\", line 531, in _fit_and_score\n",
      "    estimator.fit(X_train, y_train, **fit_params)\n",
      "  File \"C:\\Users\\LEm\\Anaconda3\\lib\\site-packages\\sklearn\\neural_network\\_multilayer_perceptron.py\", line 1027, in fit\n",
      "    return self._fit(X, y, incremental=(self.warm_start and\n",
      "  File \"C:\\Users\\LEm\\Anaconda3\\lib\\site-packages\\sklearn\\neural_network\\_multilayer_perceptron.py\", line 375, in _fit\n",
      "    self._fit_lbfgs(X, y, activations, deltas, coef_grads,\n",
      "  File \"C:\\Users\\LEm\\Anaconda3\\lib\\site-packages\\sklearn\\neural_network\\_multilayer_perceptron.py\", line 471, in _fit_lbfgs\n",
      "    self.n_iter_ = _check_optimize_result(\"lbfgs\", opt_res, self.max_iter)\n",
      "  File \"C:\\Users\\LEm\\Anaconda3\\lib\\site-packages\\sklearn\\utils\\optimize.py\", line 243, in _check_optimize_result\n",
      "    ).format(solver, result.status, result.message.decode(\"latin1\"))\n",
      "AttributeError: 'str' object has no attribute 'decode'\n",
      "\n",
      "  warnings.warn(\"Estimator fit failed. The score on this train-test\"\n"
     ]
    },
    {
     "name": "stdout",
     "output_type": "stream",
     "text": [
      "[CV]  solver=lbfgs, hidden_layer_sizes=60, alpha=1.5, score=nan, total= 1.2min\n",
      "[CV] solver=lbfgs, hidden_layer_sizes=60, alpha=1.5 ..................\n"
     ]
    },
    {
     "name": "stderr",
     "output_type": "stream",
     "text": [
      "C:\\Users\\LEm\\Anaconda3\\lib\\site-packages\\sklearn\\model_selection\\_validation.py:548: FitFailedWarning: Estimator fit failed. The score on this train-test partition for these parameters will be set to nan. Details: \n",
      "Traceback (most recent call last):\n",
      "  File \"C:\\Users\\LEm\\Anaconda3\\lib\\site-packages\\sklearn\\model_selection\\_validation.py\", line 531, in _fit_and_score\n",
      "    estimator.fit(X_train, y_train, **fit_params)\n",
      "  File \"C:\\Users\\LEm\\Anaconda3\\lib\\site-packages\\sklearn\\neural_network\\_multilayer_perceptron.py\", line 1027, in fit\n",
      "    return self._fit(X, y, incremental=(self.warm_start and\n",
      "  File \"C:\\Users\\LEm\\Anaconda3\\lib\\site-packages\\sklearn\\neural_network\\_multilayer_perceptron.py\", line 375, in _fit\n",
      "    self._fit_lbfgs(X, y, activations, deltas, coef_grads,\n",
      "  File \"C:\\Users\\LEm\\Anaconda3\\lib\\site-packages\\sklearn\\neural_network\\_multilayer_perceptron.py\", line 471, in _fit_lbfgs\n",
      "    self.n_iter_ = _check_optimize_result(\"lbfgs\", opt_res, self.max_iter)\n",
      "  File \"C:\\Users\\LEm\\Anaconda3\\lib\\site-packages\\sklearn\\utils\\optimize.py\", line 243, in _check_optimize_result\n",
      "    ).format(solver, result.status, result.message.decode(\"latin1\"))\n",
      "AttributeError: 'str' object has no attribute 'decode'\n",
      "\n",
      "  warnings.warn(\"Estimator fit failed. The score on this train-test\"\n"
     ]
    },
    {
     "name": "stdout",
     "output_type": "stream",
     "text": [
      "[CV]  solver=lbfgs, hidden_layer_sizes=60, alpha=1.5, score=nan, total= 1.2min\n",
      "[CV] solver=lbfgs, hidden_layer_sizes=60, alpha=1.5 ..................\n"
     ]
    },
    {
     "name": "stderr",
     "output_type": "stream",
     "text": [
      "C:\\Users\\LEm\\Anaconda3\\lib\\site-packages\\sklearn\\model_selection\\_validation.py:548: FitFailedWarning: Estimator fit failed. The score on this train-test partition for these parameters will be set to nan. Details: \n",
      "Traceback (most recent call last):\n",
      "  File \"C:\\Users\\LEm\\Anaconda3\\lib\\site-packages\\sklearn\\model_selection\\_validation.py\", line 531, in _fit_and_score\n",
      "    estimator.fit(X_train, y_train, **fit_params)\n",
      "  File \"C:\\Users\\LEm\\Anaconda3\\lib\\site-packages\\sklearn\\neural_network\\_multilayer_perceptron.py\", line 1027, in fit\n",
      "    return self._fit(X, y, incremental=(self.warm_start and\n",
      "  File \"C:\\Users\\LEm\\Anaconda3\\lib\\site-packages\\sklearn\\neural_network\\_multilayer_perceptron.py\", line 375, in _fit\n",
      "    self._fit_lbfgs(X, y, activations, deltas, coef_grads,\n",
      "  File \"C:\\Users\\LEm\\Anaconda3\\lib\\site-packages\\sklearn\\neural_network\\_multilayer_perceptron.py\", line 471, in _fit_lbfgs\n",
      "    self.n_iter_ = _check_optimize_result(\"lbfgs\", opt_res, self.max_iter)\n",
      "  File \"C:\\Users\\LEm\\Anaconda3\\lib\\site-packages\\sklearn\\utils\\optimize.py\", line 243, in _check_optimize_result\n",
      "    ).format(solver, result.status, result.message.decode(\"latin1\"))\n",
      "AttributeError: 'str' object has no attribute 'decode'\n",
      "\n",
      "  warnings.warn(\"Estimator fit failed. The score on this train-test\"\n",
      "[Parallel(n_jobs=1)]: Done  50 out of  50 | elapsed: 35.9min finished\n"
     ]
    },
    {
     "name": "stdout",
     "output_type": "stream",
     "text": [
      "[CV]  solver=lbfgs, hidden_layer_sizes=60, alpha=1.5, score=nan, total= 1.2min\n",
      "Fitting 5 folds for each of 10 candidates, totalling 50 fits\n",
      "[CV] solver=lbfgs, hidden_layer_sizes=69, alpha=1.5 ..................\n"
     ]
    },
    {
     "name": "stderr",
     "output_type": "stream",
     "text": [
      "[Parallel(n_jobs=1)]: Using backend SequentialBackend with 1 concurrent workers.\n",
      "C:\\Users\\LEm\\Anaconda3\\lib\\site-packages\\sklearn\\model_selection\\_validation.py:548: FitFailedWarning: Estimator fit failed. The score on this train-test partition for these parameters will be set to nan. Details: \n",
      "Traceback (most recent call last):\n",
      "  File \"C:\\Users\\LEm\\Anaconda3\\lib\\site-packages\\sklearn\\model_selection\\_validation.py\", line 531, in _fit_and_score\n",
      "    estimator.fit(X_train, y_train, **fit_params)\n",
      "  File \"C:\\Users\\LEm\\Anaconda3\\lib\\site-packages\\sklearn\\neural_network\\_multilayer_perceptron.py\", line 1027, in fit\n",
      "    return self._fit(X, y, incremental=(self.warm_start and\n",
      "  File \"C:\\Users\\LEm\\Anaconda3\\lib\\site-packages\\sklearn\\neural_network\\_multilayer_perceptron.py\", line 375, in _fit\n",
      "    self._fit_lbfgs(X, y, activations, deltas, coef_grads,\n",
      "  File \"C:\\Users\\LEm\\Anaconda3\\lib\\site-packages\\sklearn\\neural_network\\_multilayer_perceptron.py\", line 471, in _fit_lbfgs\n",
      "    self.n_iter_ = _check_optimize_result(\"lbfgs\", opt_res, self.max_iter)\n",
      "  File \"C:\\Users\\LEm\\Anaconda3\\lib\\site-packages\\sklearn\\utils\\optimize.py\", line 243, in _check_optimize_result\n",
      "    ).format(solver, result.status, result.message.decode(\"latin1\"))\n",
      "AttributeError: 'str' object has no attribute 'decode'\n",
      "\n",
      "  warnings.warn(\"Estimator fit failed. The score on this train-test\"\n",
      "[Parallel(n_jobs=1)]: Done   1 out of   1 | elapsed:  1.4min remaining:    0.0s\n"
     ]
    },
    {
     "name": "stdout",
     "output_type": "stream",
     "text": [
      "[CV]  solver=lbfgs, hidden_layer_sizes=69, alpha=1.5, score=nan, total= 1.4min\n",
      "[CV] solver=lbfgs, hidden_layer_sizes=69, alpha=1.5 ..................\n"
     ]
    },
    {
     "name": "stderr",
     "output_type": "stream",
     "text": [
      "C:\\Users\\LEm\\Anaconda3\\lib\\site-packages\\sklearn\\model_selection\\_validation.py:548: FitFailedWarning: Estimator fit failed. The score on this train-test partition for these parameters will be set to nan. Details: \n",
      "Traceback (most recent call last):\n",
      "  File \"C:\\Users\\LEm\\Anaconda3\\lib\\site-packages\\sklearn\\model_selection\\_validation.py\", line 531, in _fit_and_score\n",
      "    estimator.fit(X_train, y_train, **fit_params)\n",
      "  File \"C:\\Users\\LEm\\Anaconda3\\lib\\site-packages\\sklearn\\neural_network\\_multilayer_perceptron.py\", line 1027, in fit\n",
      "    return self._fit(X, y, incremental=(self.warm_start and\n",
      "  File \"C:\\Users\\LEm\\Anaconda3\\lib\\site-packages\\sklearn\\neural_network\\_multilayer_perceptron.py\", line 375, in _fit\n",
      "    self._fit_lbfgs(X, y, activations, deltas, coef_grads,\n",
      "  File \"C:\\Users\\LEm\\Anaconda3\\lib\\site-packages\\sklearn\\neural_network\\_multilayer_perceptron.py\", line 471, in _fit_lbfgs\n",
      "    self.n_iter_ = _check_optimize_result(\"lbfgs\", opt_res, self.max_iter)\n",
      "  File \"C:\\Users\\LEm\\Anaconda3\\lib\\site-packages\\sklearn\\utils\\optimize.py\", line 243, in _check_optimize_result\n",
      "    ).format(solver, result.status, result.message.decode(\"latin1\"))\n",
      "AttributeError: 'str' object has no attribute 'decode'\n",
      "\n",
      "  warnings.warn(\"Estimator fit failed. The score on this train-test\"\n",
      "[Parallel(n_jobs=1)]: Done   2 out of   2 | elapsed:  2.7min remaining:    0.0s\n"
     ]
    },
    {
     "name": "stdout",
     "output_type": "stream",
     "text": [
      "[CV]  solver=lbfgs, hidden_layer_sizes=69, alpha=1.5, score=nan, total= 1.3min\n",
      "[CV] solver=lbfgs, hidden_layer_sizes=69, alpha=1.5 ..................\n"
     ]
    },
    {
     "name": "stderr",
     "output_type": "stream",
     "text": [
      "C:\\Users\\LEm\\Anaconda3\\lib\\site-packages\\sklearn\\model_selection\\_validation.py:548: FitFailedWarning: Estimator fit failed. The score on this train-test partition for these parameters will be set to nan. Details: \n",
      "Traceback (most recent call last):\n",
      "  File \"C:\\Users\\LEm\\Anaconda3\\lib\\site-packages\\sklearn\\model_selection\\_validation.py\", line 531, in _fit_and_score\n",
      "    estimator.fit(X_train, y_train, **fit_params)\n",
      "  File \"C:\\Users\\LEm\\Anaconda3\\lib\\site-packages\\sklearn\\neural_network\\_multilayer_perceptron.py\", line 1027, in fit\n",
      "    return self._fit(X, y, incremental=(self.warm_start and\n",
      "  File \"C:\\Users\\LEm\\Anaconda3\\lib\\site-packages\\sklearn\\neural_network\\_multilayer_perceptron.py\", line 375, in _fit\n",
      "    self._fit_lbfgs(X, y, activations, deltas, coef_grads,\n",
      "  File \"C:\\Users\\LEm\\Anaconda3\\lib\\site-packages\\sklearn\\neural_network\\_multilayer_perceptron.py\", line 471, in _fit_lbfgs\n",
      "    self.n_iter_ = _check_optimize_result(\"lbfgs\", opt_res, self.max_iter)\n",
      "  File \"C:\\Users\\LEm\\Anaconda3\\lib\\site-packages\\sklearn\\utils\\optimize.py\", line 243, in _check_optimize_result\n",
      "    ).format(solver, result.status, result.message.decode(\"latin1\"))\n",
      "AttributeError: 'str' object has no attribute 'decode'\n",
      "\n",
      "  warnings.warn(\"Estimator fit failed. The score on this train-test\"\n"
     ]
    },
    {
     "name": "stdout",
     "output_type": "stream",
     "text": [
      "[CV]  solver=lbfgs, hidden_layer_sizes=69, alpha=1.5, score=nan, total= 1.3min\n",
      "[CV] solver=lbfgs, hidden_layer_sizes=69, alpha=1.5 ..................\n"
     ]
    },
    {
     "name": "stderr",
     "output_type": "stream",
     "text": [
      "C:\\Users\\LEm\\Anaconda3\\lib\\site-packages\\sklearn\\model_selection\\_validation.py:548: FitFailedWarning: Estimator fit failed. The score on this train-test partition for these parameters will be set to nan. Details: \n",
      "Traceback (most recent call last):\n",
      "  File \"C:\\Users\\LEm\\Anaconda3\\lib\\site-packages\\sklearn\\model_selection\\_validation.py\", line 531, in _fit_and_score\n",
      "    estimator.fit(X_train, y_train, **fit_params)\n",
      "  File \"C:\\Users\\LEm\\Anaconda3\\lib\\site-packages\\sklearn\\neural_network\\_multilayer_perceptron.py\", line 1027, in fit\n",
      "    return self._fit(X, y, incremental=(self.warm_start and\n",
      "  File \"C:\\Users\\LEm\\Anaconda3\\lib\\site-packages\\sklearn\\neural_network\\_multilayer_perceptron.py\", line 375, in _fit\n",
      "    self._fit_lbfgs(X, y, activations, deltas, coef_grads,\n",
      "  File \"C:\\Users\\LEm\\Anaconda3\\lib\\site-packages\\sklearn\\neural_network\\_multilayer_perceptron.py\", line 471, in _fit_lbfgs\n",
      "    self.n_iter_ = _check_optimize_result(\"lbfgs\", opt_res, self.max_iter)\n",
      "  File \"C:\\Users\\LEm\\Anaconda3\\lib\\site-packages\\sklearn\\utils\\optimize.py\", line 243, in _check_optimize_result\n",
      "    ).format(solver, result.status, result.message.decode(\"latin1\"))\n",
      "AttributeError: 'str' object has no attribute 'decode'\n",
      "\n",
      "  warnings.warn(\"Estimator fit failed. The score on this train-test\"\n"
     ]
    },
    {
     "name": "stdout",
     "output_type": "stream",
     "text": [
      "[CV]  solver=lbfgs, hidden_layer_sizes=69, alpha=1.5, score=nan, total= 1.5min\n",
      "[CV] solver=lbfgs, hidden_layer_sizes=69, alpha=1.5 ..................\n"
     ]
    },
    {
     "name": "stderr",
     "output_type": "stream",
     "text": [
      "C:\\Users\\LEm\\Anaconda3\\lib\\site-packages\\sklearn\\model_selection\\_validation.py:548: FitFailedWarning: Estimator fit failed. The score on this train-test partition for these parameters will be set to nan. Details: \n",
      "Traceback (most recent call last):\n",
      "  File \"C:\\Users\\LEm\\Anaconda3\\lib\\site-packages\\sklearn\\model_selection\\_validation.py\", line 531, in _fit_and_score\n",
      "    estimator.fit(X_train, y_train, **fit_params)\n",
      "  File \"C:\\Users\\LEm\\Anaconda3\\lib\\site-packages\\sklearn\\neural_network\\_multilayer_perceptron.py\", line 1027, in fit\n",
      "    return self._fit(X, y, incremental=(self.warm_start and\n",
      "  File \"C:\\Users\\LEm\\Anaconda3\\lib\\site-packages\\sklearn\\neural_network\\_multilayer_perceptron.py\", line 375, in _fit\n",
      "    self._fit_lbfgs(X, y, activations, deltas, coef_grads,\n",
      "  File \"C:\\Users\\LEm\\Anaconda3\\lib\\site-packages\\sklearn\\neural_network\\_multilayer_perceptron.py\", line 471, in _fit_lbfgs\n",
      "    self.n_iter_ = _check_optimize_result(\"lbfgs\", opt_res, self.max_iter)\n",
      "  File \"C:\\Users\\LEm\\Anaconda3\\lib\\site-packages\\sklearn\\utils\\optimize.py\", line 243, in _check_optimize_result\n",
      "    ).format(solver, result.status, result.message.decode(\"latin1\"))\n",
      "AttributeError: 'str' object has no attribute 'decode'\n",
      "\n",
      "  warnings.warn(\"Estimator fit failed. The score on this train-test\"\n"
     ]
    },
    {
     "name": "stdout",
     "output_type": "stream",
     "text": [
      "[CV]  solver=lbfgs, hidden_layer_sizes=69, alpha=1.5, score=nan, total= 1.4min\n",
      "[CV] solver=lbfgs, hidden_layer_sizes=62, alpha=1.0 ..................\n"
     ]
    },
    {
     "name": "stderr",
     "output_type": "stream",
     "text": [
      "C:\\Users\\LEm\\Anaconda3\\lib\\site-packages\\sklearn\\model_selection\\_validation.py:548: FitFailedWarning: Estimator fit failed. The score on this train-test partition for these parameters will be set to nan. Details: \n",
      "Traceback (most recent call last):\n",
      "  File \"C:\\Users\\LEm\\Anaconda3\\lib\\site-packages\\sklearn\\model_selection\\_validation.py\", line 531, in _fit_and_score\n",
      "    estimator.fit(X_train, y_train, **fit_params)\n",
      "  File \"C:\\Users\\LEm\\Anaconda3\\lib\\site-packages\\sklearn\\neural_network\\_multilayer_perceptron.py\", line 1027, in fit\n",
      "    return self._fit(X, y, incremental=(self.warm_start and\n",
      "  File \"C:\\Users\\LEm\\Anaconda3\\lib\\site-packages\\sklearn\\neural_network\\_multilayer_perceptron.py\", line 375, in _fit\n",
      "    self._fit_lbfgs(X, y, activations, deltas, coef_grads,\n",
      "  File \"C:\\Users\\LEm\\Anaconda3\\lib\\site-packages\\sklearn\\neural_network\\_multilayer_perceptron.py\", line 471, in _fit_lbfgs\n",
      "    self.n_iter_ = _check_optimize_result(\"lbfgs\", opt_res, self.max_iter)\n",
      "  File \"C:\\Users\\LEm\\Anaconda3\\lib\\site-packages\\sklearn\\utils\\optimize.py\", line 243, in _check_optimize_result\n",
      "    ).format(solver, result.status, result.message.decode(\"latin1\"))\n",
      "AttributeError: 'str' object has no attribute 'decode'\n",
      "\n",
      "  warnings.warn(\"Estimator fit failed. The score on this train-test\"\n"
     ]
    },
    {
     "name": "stdout",
     "output_type": "stream",
     "text": [
      "[CV]  solver=lbfgs, hidden_layer_sizes=62, alpha=1.0, score=nan, total= 1.2min\n",
      "[CV] solver=lbfgs, hidden_layer_sizes=62, alpha=1.0 ..................\n"
     ]
    },
    {
     "name": "stderr",
     "output_type": "stream",
     "text": [
      "C:\\Users\\LEm\\Anaconda3\\lib\\site-packages\\sklearn\\model_selection\\_validation.py:548: FitFailedWarning: Estimator fit failed. The score on this train-test partition for these parameters will be set to nan. Details: \n",
      "Traceback (most recent call last):\n",
      "  File \"C:\\Users\\LEm\\Anaconda3\\lib\\site-packages\\sklearn\\model_selection\\_validation.py\", line 531, in _fit_and_score\n",
      "    estimator.fit(X_train, y_train, **fit_params)\n",
      "  File \"C:\\Users\\LEm\\Anaconda3\\lib\\site-packages\\sklearn\\neural_network\\_multilayer_perceptron.py\", line 1027, in fit\n",
      "    return self._fit(X, y, incremental=(self.warm_start and\n",
      "  File \"C:\\Users\\LEm\\Anaconda3\\lib\\site-packages\\sklearn\\neural_network\\_multilayer_perceptron.py\", line 375, in _fit\n",
      "    self._fit_lbfgs(X, y, activations, deltas, coef_grads,\n",
      "  File \"C:\\Users\\LEm\\Anaconda3\\lib\\site-packages\\sklearn\\neural_network\\_multilayer_perceptron.py\", line 471, in _fit_lbfgs\n",
      "    self.n_iter_ = _check_optimize_result(\"lbfgs\", opt_res, self.max_iter)\n",
      "  File \"C:\\Users\\LEm\\Anaconda3\\lib\\site-packages\\sklearn\\utils\\optimize.py\", line 243, in _check_optimize_result\n",
      "    ).format(solver, result.status, result.message.decode(\"latin1\"))\n",
      "AttributeError: 'str' object has no attribute 'decode'\n",
      "\n",
      "  warnings.warn(\"Estimator fit failed. The score on this train-test\"\n"
     ]
    },
    {
     "name": "stdout",
     "output_type": "stream",
     "text": [
      "[CV]  solver=lbfgs, hidden_layer_sizes=62, alpha=1.0, score=nan, total= 1.2min\n",
      "[CV] solver=lbfgs, hidden_layer_sizes=62, alpha=1.0 ..................\n"
     ]
    },
    {
     "name": "stderr",
     "output_type": "stream",
     "text": [
      "C:\\Users\\LEm\\Anaconda3\\lib\\site-packages\\sklearn\\model_selection\\_validation.py:548: FitFailedWarning: Estimator fit failed. The score on this train-test partition for these parameters will be set to nan. Details: \n",
      "Traceback (most recent call last):\n",
      "  File \"C:\\Users\\LEm\\Anaconda3\\lib\\site-packages\\sklearn\\model_selection\\_validation.py\", line 531, in _fit_and_score\n",
      "    estimator.fit(X_train, y_train, **fit_params)\n",
      "  File \"C:\\Users\\LEm\\Anaconda3\\lib\\site-packages\\sklearn\\neural_network\\_multilayer_perceptron.py\", line 1027, in fit\n",
      "    return self._fit(X, y, incremental=(self.warm_start and\n",
      "  File \"C:\\Users\\LEm\\Anaconda3\\lib\\site-packages\\sklearn\\neural_network\\_multilayer_perceptron.py\", line 375, in _fit\n",
      "    self._fit_lbfgs(X, y, activations, deltas, coef_grads,\n",
      "  File \"C:\\Users\\LEm\\Anaconda3\\lib\\site-packages\\sklearn\\neural_network\\_multilayer_perceptron.py\", line 471, in _fit_lbfgs\n",
      "    self.n_iter_ = _check_optimize_result(\"lbfgs\", opt_res, self.max_iter)\n",
      "  File \"C:\\Users\\LEm\\Anaconda3\\lib\\site-packages\\sklearn\\utils\\optimize.py\", line 243, in _check_optimize_result\n",
      "    ).format(solver, result.status, result.message.decode(\"latin1\"))\n",
      "AttributeError: 'str' object has no attribute 'decode'\n",
      "\n",
      "  warnings.warn(\"Estimator fit failed. The score on this train-test\"\n"
     ]
    },
    {
     "name": "stdout",
     "output_type": "stream",
     "text": [
      "[CV]  solver=lbfgs, hidden_layer_sizes=62, alpha=1.0, score=nan, total= 1.3min\n",
      "[CV] solver=lbfgs, hidden_layer_sizes=62, alpha=1.0 ..................\n"
     ]
    },
    {
     "name": "stderr",
     "output_type": "stream",
     "text": [
      "C:\\Users\\LEm\\Anaconda3\\lib\\site-packages\\sklearn\\model_selection\\_validation.py:548: FitFailedWarning: Estimator fit failed. The score on this train-test partition for these parameters will be set to nan. Details: \n",
      "Traceback (most recent call last):\n",
      "  File \"C:\\Users\\LEm\\Anaconda3\\lib\\site-packages\\sklearn\\model_selection\\_validation.py\", line 531, in _fit_and_score\n",
      "    estimator.fit(X_train, y_train, **fit_params)\n",
      "  File \"C:\\Users\\LEm\\Anaconda3\\lib\\site-packages\\sklearn\\neural_network\\_multilayer_perceptron.py\", line 1027, in fit\n",
      "    return self._fit(X, y, incremental=(self.warm_start and\n",
      "  File \"C:\\Users\\LEm\\Anaconda3\\lib\\site-packages\\sklearn\\neural_network\\_multilayer_perceptron.py\", line 375, in _fit\n",
      "    self._fit_lbfgs(X, y, activations, deltas, coef_grads,\n",
      "  File \"C:\\Users\\LEm\\Anaconda3\\lib\\site-packages\\sklearn\\neural_network\\_multilayer_perceptron.py\", line 471, in _fit_lbfgs\n",
      "    self.n_iter_ = _check_optimize_result(\"lbfgs\", opt_res, self.max_iter)\n",
      "  File \"C:\\Users\\LEm\\Anaconda3\\lib\\site-packages\\sklearn\\utils\\optimize.py\", line 243, in _check_optimize_result\n",
      "    ).format(solver, result.status, result.message.decode(\"latin1\"))\n",
      "AttributeError: 'str' object has no attribute 'decode'\n",
      "\n",
      "  warnings.warn(\"Estimator fit failed. The score on this train-test\"\n"
     ]
    },
    {
     "name": "stdout",
     "output_type": "stream",
     "text": [
      "[CV]  solver=lbfgs, hidden_layer_sizes=62, alpha=1.0, score=nan, total= 1.2min\n",
      "[CV] solver=lbfgs, hidden_layer_sizes=62, alpha=1.0 ..................\n"
     ]
    },
    {
     "name": "stderr",
     "output_type": "stream",
     "text": [
      "C:\\Users\\LEm\\Anaconda3\\lib\\site-packages\\sklearn\\model_selection\\_validation.py:548: FitFailedWarning: Estimator fit failed. The score on this train-test partition for these parameters will be set to nan. Details: \n",
      "Traceback (most recent call last):\n",
      "  File \"C:\\Users\\LEm\\Anaconda3\\lib\\site-packages\\sklearn\\model_selection\\_validation.py\", line 531, in _fit_and_score\n",
      "    estimator.fit(X_train, y_train, **fit_params)\n",
      "  File \"C:\\Users\\LEm\\Anaconda3\\lib\\site-packages\\sklearn\\neural_network\\_multilayer_perceptron.py\", line 1027, in fit\n",
      "    return self._fit(X, y, incremental=(self.warm_start and\n",
      "  File \"C:\\Users\\LEm\\Anaconda3\\lib\\site-packages\\sklearn\\neural_network\\_multilayer_perceptron.py\", line 375, in _fit\n",
      "    self._fit_lbfgs(X, y, activations, deltas, coef_grads,\n",
      "  File \"C:\\Users\\LEm\\Anaconda3\\lib\\site-packages\\sklearn\\neural_network\\_multilayer_perceptron.py\", line 471, in _fit_lbfgs\n",
      "    self.n_iter_ = _check_optimize_result(\"lbfgs\", opt_res, self.max_iter)\n",
      "  File \"C:\\Users\\LEm\\Anaconda3\\lib\\site-packages\\sklearn\\utils\\optimize.py\", line 243, in _check_optimize_result\n",
      "    ).format(solver, result.status, result.message.decode(\"latin1\"))\n",
      "AttributeError: 'str' object has no attribute 'decode'\n",
      "\n",
      "  warnings.warn(\"Estimator fit failed. The score on this train-test\"\n"
     ]
    },
    {
     "name": "stdout",
     "output_type": "stream",
     "text": [
      "[CV]  solver=lbfgs, hidden_layer_sizes=62, alpha=1.0, score=nan, total= 1.2min\n",
      "[CV] solver=adam, hidden_layer_sizes=61, alpha=0.5 ...................\n",
      "[CV]  solver=adam, hidden_layer_sizes=61, alpha=0.5, score=0.915, total=   4.7s\n",
      "[CV] solver=adam, hidden_layer_sizes=61, alpha=0.5 ...................\n",
      "[CV]  solver=adam, hidden_layer_sizes=61, alpha=0.5, score=0.921, total=   5.3s\n",
      "[CV] solver=adam, hidden_layer_sizes=61, alpha=0.5 ...................\n",
      "[CV]  solver=adam, hidden_layer_sizes=61, alpha=0.5, score=0.922, total=   5.0s\n",
      "[CV] solver=adam, hidden_layer_sizes=61, alpha=0.5 ...................\n",
      "[CV]  solver=adam, hidden_layer_sizes=61, alpha=0.5, score=0.917, total=   4.3s\n",
      "[CV] solver=adam, hidden_layer_sizes=61, alpha=0.5 ...................\n",
      "[CV]  solver=adam, hidden_layer_sizes=61, alpha=0.5, score=0.926, total=   4.2s\n",
      "[CV] solver=lbfgs, hidden_layer_sizes=33, alpha=0.0 ..................\n"
     ]
    },
    {
     "name": "stderr",
     "output_type": "stream",
     "text": [
      "C:\\Users\\LEm\\Anaconda3\\lib\\site-packages\\sklearn\\model_selection\\_validation.py:548: FitFailedWarning: Estimator fit failed. The score on this train-test partition for these parameters will be set to nan. Details: \n",
      "Traceback (most recent call last):\n",
      "  File \"C:\\Users\\LEm\\Anaconda3\\lib\\site-packages\\sklearn\\model_selection\\_validation.py\", line 531, in _fit_and_score\n",
      "    estimator.fit(X_train, y_train, **fit_params)\n",
      "  File \"C:\\Users\\LEm\\Anaconda3\\lib\\site-packages\\sklearn\\neural_network\\_multilayer_perceptron.py\", line 1027, in fit\n",
      "    return self._fit(X, y, incremental=(self.warm_start and\n",
      "  File \"C:\\Users\\LEm\\Anaconda3\\lib\\site-packages\\sklearn\\neural_network\\_multilayer_perceptron.py\", line 375, in _fit\n",
      "    self._fit_lbfgs(X, y, activations, deltas, coef_grads,\n",
      "  File \"C:\\Users\\LEm\\Anaconda3\\lib\\site-packages\\sklearn\\neural_network\\_multilayer_perceptron.py\", line 471, in _fit_lbfgs\n",
      "    self.n_iter_ = _check_optimize_result(\"lbfgs\", opt_res, self.max_iter)\n",
      "  File \"C:\\Users\\LEm\\Anaconda3\\lib\\site-packages\\sklearn\\utils\\optimize.py\", line 243, in _check_optimize_result\n",
      "    ).format(solver, result.status, result.message.decode(\"latin1\"))\n",
      "AttributeError: 'str' object has no attribute 'decode'\n",
      "\n",
      "  warnings.warn(\"Estimator fit failed. The score on this train-test\"\n"
     ]
    },
    {
     "name": "stdout",
     "output_type": "stream",
     "text": [
      "[CV]  solver=lbfgs, hidden_layer_sizes=33, alpha=0.0, score=nan, total=  41.7s\n",
      "[CV] solver=lbfgs, hidden_layer_sizes=33, alpha=0.0 ..................\n"
     ]
    },
    {
     "name": "stderr",
     "output_type": "stream",
     "text": [
      "C:\\Users\\LEm\\Anaconda3\\lib\\site-packages\\sklearn\\model_selection\\_validation.py:548: FitFailedWarning: Estimator fit failed. The score on this train-test partition for these parameters will be set to nan. Details: \n",
      "Traceback (most recent call last):\n",
      "  File \"C:\\Users\\LEm\\Anaconda3\\lib\\site-packages\\sklearn\\model_selection\\_validation.py\", line 531, in _fit_and_score\n",
      "    estimator.fit(X_train, y_train, **fit_params)\n",
      "  File \"C:\\Users\\LEm\\Anaconda3\\lib\\site-packages\\sklearn\\neural_network\\_multilayer_perceptron.py\", line 1027, in fit\n",
      "    return self._fit(X, y, incremental=(self.warm_start and\n",
      "  File \"C:\\Users\\LEm\\Anaconda3\\lib\\site-packages\\sklearn\\neural_network\\_multilayer_perceptron.py\", line 375, in _fit\n",
      "    self._fit_lbfgs(X, y, activations, deltas, coef_grads,\n",
      "  File \"C:\\Users\\LEm\\Anaconda3\\lib\\site-packages\\sklearn\\neural_network\\_multilayer_perceptron.py\", line 471, in _fit_lbfgs\n",
      "    self.n_iter_ = _check_optimize_result(\"lbfgs\", opt_res, self.max_iter)\n",
      "  File \"C:\\Users\\LEm\\Anaconda3\\lib\\site-packages\\sklearn\\utils\\optimize.py\", line 243, in _check_optimize_result\n",
      "    ).format(solver, result.status, result.message.decode(\"latin1\"))\n",
      "AttributeError: 'str' object has no attribute 'decode'\n",
      "\n",
      "  warnings.warn(\"Estimator fit failed. The score on this train-test\"\n"
     ]
    },
    {
     "name": "stdout",
     "output_type": "stream",
     "text": [
      "[CV]  solver=lbfgs, hidden_layer_sizes=33, alpha=0.0, score=nan, total=  41.6s\n",
      "[CV] solver=lbfgs, hidden_layer_sizes=33, alpha=0.0 ..................\n",
      "[CV]  solver=lbfgs, hidden_layer_sizes=33, alpha=0.0, score=0.922, total=  41.6s\n",
      "[CV] solver=lbfgs, hidden_layer_sizes=33, alpha=0.0 ..................\n"
     ]
    },
    {
     "name": "stderr",
     "output_type": "stream",
     "text": [
      "C:\\Users\\LEm\\Anaconda3\\lib\\site-packages\\sklearn\\model_selection\\_validation.py:548: FitFailedWarning: Estimator fit failed. The score on this train-test partition for these parameters will be set to nan. Details: \n",
      "Traceback (most recent call last):\n",
      "  File \"C:\\Users\\LEm\\Anaconda3\\lib\\site-packages\\sklearn\\model_selection\\_validation.py\", line 531, in _fit_and_score\n",
      "    estimator.fit(X_train, y_train, **fit_params)\n",
      "  File \"C:\\Users\\LEm\\Anaconda3\\lib\\site-packages\\sklearn\\neural_network\\_multilayer_perceptron.py\", line 1027, in fit\n",
      "    return self._fit(X, y, incremental=(self.warm_start and\n",
      "  File \"C:\\Users\\LEm\\Anaconda3\\lib\\site-packages\\sklearn\\neural_network\\_multilayer_perceptron.py\", line 375, in _fit\n",
      "    self._fit_lbfgs(X, y, activations, deltas, coef_grads,\n",
      "  File \"C:\\Users\\LEm\\Anaconda3\\lib\\site-packages\\sklearn\\neural_network\\_multilayer_perceptron.py\", line 471, in _fit_lbfgs\n",
      "    self.n_iter_ = _check_optimize_result(\"lbfgs\", opt_res, self.max_iter)\n",
      "  File \"C:\\Users\\LEm\\Anaconda3\\lib\\site-packages\\sklearn\\utils\\optimize.py\", line 243, in _check_optimize_result\n",
      "    ).format(solver, result.status, result.message.decode(\"latin1\"))\n",
      "AttributeError: 'str' object has no attribute 'decode'\n",
      "\n",
      "  warnings.warn(\"Estimator fit failed. The score on this train-test\"\n"
     ]
    },
    {
     "name": "stdout",
     "output_type": "stream",
     "text": [
      "[CV]  solver=lbfgs, hidden_layer_sizes=33, alpha=0.0, score=nan, total=  40.1s\n",
      "[CV] solver=lbfgs, hidden_layer_sizes=33, alpha=0.0 ..................\n"
     ]
    },
    {
     "name": "stderr",
     "output_type": "stream",
     "text": [
      "C:\\Users\\LEm\\Anaconda3\\lib\\site-packages\\sklearn\\model_selection\\_validation.py:548: FitFailedWarning: Estimator fit failed. The score on this train-test partition for these parameters will be set to nan. Details: \n",
      "Traceback (most recent call last):\n",
      "  File \"C:\\Users\\LEm\\Anaconda3\\lib\\site-packages\\sklearn\\model_selection\\_validation.py\", line 531, in _fit_and_score\n",
      "    estimator.fit(X_train, y_train, **fit_params)\n",
      "  File \"C:\\Users\\LEm\\Anaconda3\\lib\\site-packages\\sklearn\\neural_network\\_multilayer_perceptron.py\", line 1027, in fit\n",
      "    return self._fit(X, y, incremental=(self.warm_start and\n",
      "  File \"C:\\Users\\LEm\\Anaconda3\\lib\\site-packages\\sklearn\\neural_network\\_multilayer_perceptron.py\", line 375, in _fit\n",
      "    self._fit_lbfgs(X, y, activations, deltas, coef_grads,\n",
      "  File \"C:\\Users\\LEm\\Anaconda3\\lib\\site-packages\\sklearn\\neural_network\\_multilayer_perceptron.py\", line 471, in _fit_lbfgs\n",
      "    self.n_iter_ = _check_optimize_result(\"lbfgs\", opt_res, self.max_iter)\n",
      "  File \"C:\\Users\\LEm\\Anaconda3\\lib\\site-packages\\sklearn\\utils\\optimize.py\", line 243, in _check_optimize_result\n",
      "    ).format(solver, result.status, result.message.decode(\"latin1\"))\n",
      "AttributeError: 'str' object has no attribute 'decode'\n",
      "\n",
      "  warnings.warn(\"Estimator fit failed. The score on this train-test\"\n"
     ]
    },
    {
     "name": "stdout",
     "output_type": "stream",
     "text": [
      "[CV]  solver=lbfgs, hidden_layer_sizes=33, alpha=0.0, score=nan, total=  41.9s\n",
      "[CV] solver=adam, hidden_layer_sizes=47, alpha=0.5 ...................\n",
      "[CV]  solver=adam, hidden_layer_sizes=47, alpha=0.5, score=0.916, total=   4.2s\n",
      "[CV] solver=adam, hidden_layer_sizes=47, alpha=0.5 ...................\n",
      "[CV]  solver=adam, hidden_layer_sizes=47, alpha=0.5, score=0.918, total=   4.0s\n",
      "[CV] solver=adam, hidden_layer_sizes=47, alpha=0.5 ...................\n",
      "[CV]  solver=adam, hidden_layer_sizes=47, alpha=0.5, score=0.919, total=   4.0s\n",
      "[CV] solver=adam, hidden_layer_sizes=47, alpha=0.5 ...................\n",
      "[CV]  solver=adam, hidden_layer_sizes=47, alpha=0.5, score=0.916, total=   5.9s\n",
      "[CV] solver=adam, hidden_layer_sizes=47, alpha=0.5 ...................\n",
      "[CV]  solver=adam, hidden_layer_sizes=47, alpha=0.5, score=0.926, total=   5.0s\n",
      "[CV] solver=adam, hidden_layer_sizes=56, alpha=0.5 ...................\n",
      "[CV]  solver=adam, hidden_layer_sizes=56, alpha=0.5, score=0.915, total=   3.9s\n",
      "[CV] solver=adam, hidden_layer_sizes=56, alpha=0.5 ...................\n",
      "[CV]  solver=adam, hidden_layer_sizes=56, alpha=0.5, score=0.919, total=   4.3s\n",
      "[CV] solver=adam, hidden_layer_sizes=56, alpha=0.5 ...................\n",
      "[CV]  solver=adam, hidden_layer_sizes=56, alpha=0.5, score=0.920, total=   3.7s\n",
      "[CV] solver=adam, hidden_layer_sizes=56, alpha=0.5 ...................\n",
      "[CV]  solver=adam, hidden_layer_sizes=56, alpha=0.5, score=0.916, total=   5.5s\n",
      "[CV] solver=adam, hidden_layer_sizes=56, alpha=0.5 ...................\n",
      "[CV]  solver=adam, hidden_layer_sizes=56, alpha=0.5, score=0.925, total=   4.0s\n",
      "[CV] solver=adam, hidden_layer_sizes=65, alpha=0.5 ...................\n",
      "[CV]  solver=adam, hidden_layer_sizes=65, alpha=0.5, score=0.917, total=   5.1s\n",
      "[CV] solver=adam, hidden_layer_sizes=65, alpha=0.5 ...................\n",
      "[CV]  solver=adam, hidden_layer_sizes=65, alpha=0.5, score=0.920, total=   4.4s\n",
      "[CV] solver=adam, hidden_layer_sizes=65, alpha=0.5 ...................\n",
      "[CV]  solver=adam, hidden_layer_sizes=65, alpha=0.5, score=0.919, total=   5.2s\n",
      "[CV] solver=adam, hidden_layer_sizes=65, alpha=0.5 ...................\n",
      "[CV]  solver=adam, hidden_layer_sizes=65, alpha=0.5, score=0.917, total=   4.6s\n",
      "[CV] solver=adam, hidden_layer_sizes=65, alpha=0.5 ...................\n",
      "[CV]  solver=adam, hidden_layer_sizes=65, alpha=0.5, score=0.926, total=   3.7s\n",
      "[CV] solver=lbfgs, hidden_layer_sizes=30, alpha=0.0 ..................\n",
      "[CV]  solver=lbfgs, hidden_layer_sizes=30, alpha=0.0, score=0.922, total=  27.6s\n",
      "[CV] solver=lbfgs, hidden_layer_sizes=30, alpha=0.0 ..................\n"
     ]
    },
    {
     "name": "stderr",
     "output_type": "stream",
     "text": [
      "C:\\Users\\LEm\\Anaconda3\\lib\\site-packages\\sklearn\\model_selection\\_validation.py:548: FitFailedWarning: Estimator fit failed. The score on this train-test partition for these parameters will be set to nan. Details: \n",
      "Traceback (most recent call last):\n",
      "  File \"C:\\Users\\LEm\\Anaconda3\\lib\\site-packages\\sklearn\\model_selection\\_validation.py\", line 531, in _fit_and_score\n",
      "    estimator.fit(X_train, y_train, **fit_params)\n",
      "  File \"C:\\Users\\LEm\\Anaconda3\\lib\\site-packages\\sklearn\\neural_network\\_multilayer_perceptron.py\", line 1027, in fit\n",
      "    return self._fit(X, y, incremental=(self.warm_start and\n",
      "  File \"C:\\Users\\LEm\\Anaconda3\\lib\\site-packages\\sklearn\\neural_network\\_multilayer_perceptron.py\", line 375, in _fit\n",
      "    self._fit_lbfgs(X, y, activations, deltas, coef_grads,\n",
      "  File \"C:\\Users\\LEm\\Anaconda3\\lib\\site-packages\\sklearn\\neural_network\\_multilayer_perceptron.py\", line 471, in _fit_lbfgs\n",
      "    self.n_iter_ = _check_optimize_result(\"lbfgs\", opt_res, self.max_iter)\n",
      "  File \"C:\\Users\\LEm\\Anaconda3\\lib\\site-packages\\sklearn\\utils\\optimize.py\", line 243, in _check_optimize_result\n",
      "    ).format(solver, result.status, result.message.decode(\"latin1\"))\n",
      "AttributeError: 'str' object has no attribute 'decode'\n",
      "\n",
      "  warnings.warn(\"Estimator fit failed. The score on this train-test\"\n"
     ]
    },
    {
     "name": "stdout",
     "output_type": "stream",
     "text": [
      "[CV]  solver=lbfgs, hidden_layer_sizes=30, alpha=0.0, score=nan, total=  36.9s\n",
      "[CV] solver=lbfgs, hidden_layer_sizes=30, alpha=0.0 ..................\n"
     ]
    },
    {
     "name": "stderr",
     "output_type": "stream",
     "text": [
      "C:\\Users\\LEm\\Anaconda3\\lib\\site-packages\\sklearn\\model_selection\\_validation.py:548: FitFailedWarning: Estimator fit failed. The score on this train-test partition for these parameters will be set to nan. Details: \n",
      "Traceback (most recent call last):\n",
      "  File \"C:\\Users\\LEm\\Anaconda3\\lib\\site-packages\\sklearn\\model_selection\\_validation.py\", line 531, in _fit_and_score\n",
      "    estimator.fit(X_train, y_train, **fit_params)\n",
      "  File \"C:\\Users\\LEm\\Anaconda3\\lib\\site-packages\\sklearn\\neural_network\\_multilayer_perceptron.py\", line 1027, in fit\n",
      "    return self._fit(X, y, incremental=(self.warm_start and\n",
      "  File \"C:\\Users\\LEm\\Anaconda3\\lib\\site-packages\\sklearn\\neural_network\\_multilayer_perceptron.py\", line 375, in _fit\n",
      "    self._fit_lbfgs(X, y, activations, deltas, coef_grads,\n",
      "  File \"C:\\Users\\LEm\\Anaconda3\\lib\\site-packages\\sklearn\\neural_network\\_multilayer_perceptron.py\", line 471, in _fit_lbfgs\n",
      "    self.n_iter_ = _check_optimize_result(\"lbfgs\", opt_res, self.max_iter)\n",
      "  File \"C:\\Users\\LEm\\Anaconda3\\lib\\site-packages\\sklearn\\utils\\optimize.py\", line 243, in _check_optimize_result\n",
      "    ).format(solver, result.status, result.message.decode(\"latin1\"))\n",
      "AttributeError: 'str' object has no attribute 'decode'\n",
      "\n",
      "  warnings.warn(\"Estimator fit failed. The score on this train-test\"\n"
     ]
    },
    {
     "name": "stdout",
     "output_type": "stream",
     "text": [
      "[CV]  solver=lbfgs, hidden_layer_sizes=30, alpha=0.0, score=nan, total=  38.4s\n",
      "[CV] solver=lbfgs, hidden_layer_sizes=30, alpha=0.0 ..................\n",
      "[CV]  solver=lbfgs, hidden_layer_sizes=30, alpha=0.0, score=0.921, total=  37.7s\n",
      "[CV] solver=lbfgs, hidden_layer_sizes=30, alpha=0.0 ..................\n"
     ]
    },
    {
     "name": "stderr",
     "output_type": "stream",
     "text": [
      "C:\\Users\\LEm\\Anaconda3\\lib\\site-packages\\sklearn\\model_selection\\_validation.py:548: FitFailedWarning: Estimator fit failed. The score on this train-test partition for these parameters will be set to nan. Details: \n",
      "Traceback (most recent call last):\n",
      "  File \"C:\\Users\\LEm\\Anaconda3\\lib\\site-packages\\sklearn\\model_selection\\_validation.py\", line 531, in _fit_and_score\n",
      "    estimator.fit(X_train, y_train, **fit_params)\n",
      "  File \"C:\\Users\\LEm\\Anaconda3\\lib\\site-packages\\sklearn\\neural_network\\_multilayer_perceptron.py\", line 1027, in fit\n",
      "    return self._fit(X, y, incremental=(self.warm_start and\n",
      "  File \"C:\\Users\\LEm\\Anaconda3\\lib\\site-packages\\sklearn\\neural_network\\_multilayer_perceptron.py\", line 375, in _fit\n",
      "    self._fit_lbfgs(X, y, activations, deltas, coef_grads,\n",
      "  File \"C:\\Users\\LEm\\Anaconda3\\lib\\site-packages\\sklearn\\neural_network\\_multilayer_perceptron.py\", line 471, in _fit_lbfgs\n",
      "    self.n_iter_ = _check_optimize_result(\"lbfgs\", opt_res, self.max_iter)\n",
      "  File \"C:\\Users\\LEm\\Anaconda3\\lib\\site-packages\\sklearn\\utils\\optimize.py\", line 243, in _check_optimize_result\n",
      "    ).format(solver, result.status, result.message.decode(\"latin1\"))\n",
      "AttributeError: 'str' object has no attribute 'decode'\n",
      "\n",
      "  warnings.warn(\"Estimator fit failed. The score on this train-test\"\n"
     ]
    },
    {
     "name": "stdout",
     "output_type": "stream",
     "text": [
      "[CV]  solver=lbfgs, hidden_layer_sizes=30, alpha=0.0, score=nan, total=  37.3s\n",
      "[CV] solver=adam, hidden_layer_sizes=62, alpha=1.5 ...................\n",
      "[CV]  solver=adam, hidden_layer_sizes=62, alpha=1.5, score=0.909, total=   4.2s\n",
      "[CV] solver=adam, hidden_layer_sizes=62, alpha=1.5 ...................\n",
      "[CV]  solver=adam, hidden_layer_sizes=62, alpha=1.5, score=0.915, total=   5.1s\n",
      "[CV] solver=adam, hidden_layer_sizes=62, alpha=1.5 ...................\n",
      "[CV]  solver=adam, hidden_layer_sizes=62, alpha=1.5, score=0.914, total=   4.9s\n",
      "[CV] solver=adam, hidden_layer_sizes=62, alpha=1.5 ...................\n",
      "[CV]  solver=adam, hidden_layer_sizes=62, alpha=1.5, score=0.911, total=   3.7s\n",
      "[CV] solver=adam, hidden_layer_sizes=62, alpha=1.5 ...................\n",
      "[CV]  solver=adam, hidden_layer_sizes=62, alpha=1.5, score=0.920, total=   3.7s\n",
      "[CV] solver=lbfgs, hidden_layer_sizes=45, alpha=0.5 ..................\n"
     ]
    },
    {
     "name": "stderr",
     "output_type": "stream",
     "text": [
      "C:\\Users\\LEm\\Anaconda3\\lib\\site-packages\\sklearn\\model_selection\\_validation.py:548: FitFailedWarning: Estimator fit failed. The score on this train-test partition for these parameters will be set to nan. Details: \n",
      "Traceback (most recent call last):\n",
      "  File \"C:\\Users\\LEm\\Anaconda3\\lib\\site-packages\\sklearn\\model_selection\\_validation.py\", line 531, in _fit_and_score\n",
      "    estimator.fit(X_train, y_train, **fit_params)\n",
      "  File \"C:\\Users\\LEm\\Anaconda3\\lib\\site-packages\\sklearn\\neural_network\\_multilayer_perceptron.py\", line 1027, in fit\n",
      "    return self._fit(X, y, incremental=(self.warm_start and\n",
      "  File \"C:\\Users\\LEm\\Anaconda3\\lib\\site-packages\\sklearn\\neural_network\\_multilayer_perceptron.py\", line 375, in _fit\n",
      "    self._fit_lbfgs(X, y, activations, deltas, coef_grads,\n",
      "  File \"C:\\Users\\LEm\\Anaconda3\\lib\\site-packages\\sklearn\\neural_network\\_multilayer_perceptron.py\", line 471, in _fit_lbfgs\n",
      "    self.n_iter_ = _check_optimize_result(\"lbfgs\", opt_res, self.max_iter)\n",
      "  File \"C:\\Users\\LEm\\Anaconda3\\lib\\site-packages\\sklearn\\utils\\optimize.py\", line 243, in _check_optimize_result\n",
      "    ).format(solver, result.status, result.message.decode(\"latin1\"))\n",
      "AttributeError: 'str' object has no attribute 'decode'\n",
      "\n",
      "  warnings.warn(\"Estimator fit failed. The score on this train-test\"\n"
     ]
    },
    {
     "name": "stdout",
     "output_type": "stream",
     "text": [
      "[CV]  solver=lbfgs, hidden_layer_sizes=45, alpha=0.5, score=nan, total=  54.0s\n",
      "[CV] solver=lbfgs, hidden_layer_sizes=45, alpha=0.5 ..................\n"
     ]
    },
    {
     "name": "stderr",
     "output_type": "stream",
     "text": [
      "C:\\Users\\LEm\\Anaconda3\\lib\\site-packages\\sklearn\\model_selection\\_validation.py:548: FitFailedWarning: Estimator fit failed. The score on this train-test partition for these parameters will be set to nan. Details: \n",
      "Traceback (most recent call last):\n",
      "  File \"C:\\Users\\LEm\\Anaconda3\\lib\\site-packages\\sklearn\\model_selection\\_validation.py\", line 531, in _fit_and_score\n",
      "    estimator.fit(X_train, y_train, **fit_params)\n",
      "  File \"C:\\Users\\LEm\\Anaconda3\\lib\\site-packages\\sklearn\\neural_network\\_multilayer_perceptron.py\", line 1027, in fit\n",
      "    return self._fit(X, y, incremental=(self.warm_start and\n",
      "  File \"C:\\Users\\LEm\\Anaconda3\\lib\\site-packages\\sklearn\\neural_network\\_multilayer_perceptron.py\", line 375, in _fit\n",
      "    self._fit_lbfgs(X, y, activations, deltas, coef_grads,\n",
      "  File \"C:\\Users\\LEm\\Anaconda3\\lib\\site-packages\\sklearn\\neural_network\\_multilayer_perceptron.py\", line 471, in _fit_lbfgs\n",
      "    self.n_iter_ = _check_optimize_result(\"lbfgs\", opt_res, self.max_iter)\n",
      "  File \"C:\\Users\\LEm\\Anaconda3\\lib\\site-packages\\sklearn\\utils\\optimize.py\", line 243, in _check_optimize_result\n",
      "    ).format(solver, result.status, result.message.decode(\"latin1\"))\n",
      "AttributeError: 'str' object has no attribute 'decode'\n",
      "\n",
      "  warnings.warn(\"Estimator fit failed. The score on this train-test\"\n"
     ]
    },
    {
     "name": "stdout",
     "output_type": "stream",
     "text": [
      "[CV]  solver=lbfgs, hidden_layer_sizes=45, alpha=0.5, score=nan, total=  54.4s\n",
      "[CV] solver=lbfgs, hidden_layer_sizes=45, alpha=0.5 ..................\n"
     ]
    },
    {
     "name": "stderr",
     "output_type": "stream",
     "text": [
      "C:\\Users\\LEm\\Anaconda3\\lib\\site-packages\\sklearn\\model_selection\\_validation.py:548: FitFailedWarning: Estimator fit failed. The score on this train-test partition for these parameters will be set to nan. Details: \n",
      "Traceback (most recent call last):\n",
      "  File \"C:\\Users\\LEm\\Anaconda3\\lib\\site-packages\\sklearn\\model_selection\\_validation.py\", line 531, in _fit_and_score\n",
      "    estimator.fit(X_train, y_train, **fit_params)\n",
      "  File \"C:\\Users\\LEm\\Anaconda3\\lib\\site-packages\\sklearn\\neural_network\\_multilayer_perceptron.py\", line 1027, in fit\n",
      "    return self._fit(X, y, incremental=(self.warm_start and\n",
      "  File \"C:\\Users\\LEm\\Anaconda3\\lib\\site-packages\\sklearn\\neural_network\\_multilayer_perceptron.py\", line 375, in _fit\n",
      "    self._fit_lbfgs(X, y, activations, deltas, coef_grads,\n",
      "  File \"C:\\Users\\LEm\\Anaconda3\\lib\\site-packages\\sklearn\\neural_network\\_multilayer_perceptron.py\", line 471, in _fit_lbfgs\n",
      "    self.n_iter_ = _check_optimize_result(\"lbfgs\", opt_res, self.max_iter)\n",
      "  File \"C:\\Users\\LEm\\Anaconda3\\lib\\site-packages\\sklearn\\utils\\optimize.py\", line 243, in _check_optimize_result\n",
      "    ).format(solver, result.status, result.message.decode(\"latin1\"))\n",
      "AttributeError: 'str' object has no attribute 'decode'\n",
      "\n",
      "  warnings.warn(\"Estimator fit failed. The score on this train-test\"\n"
     ]
    },
    {
     "name": "stdout",
     "output_type": "stream",
     "text": [
      "[CV]  solver=lbfgs, hidden_layer_sizes=45, alpha=0.5, score=nan, total=  54.0s\n",
      "[CV] solver=lbfgs, hidden_layer_sizes=45, alpha=0.5 ..................\n"
     ]
    },
    {
     "name": "stderr",
     "output_type": "stream",
     "text": [
      "C:\\Users\\LEm\\Anaconda3\\lib\\site-packages\\sklearn\\model_selection\\_validation.py:548: FitFailedWarning: Estimator fit failed. The score on this train-test partition for these parameters will be set to nan. Details: \n",
      "Traceback (most recent call last):\n",
      "  File \"C:\\Users\\LEm\\Anaconda3\\lib\\site-packages\\sklearn\\model_selection\\_validation.py\", line 531, in _fit_and_score\n",
      "    estimator.fit(X_train, y_train, **fit_params)\n",
      "  File \"C:\\Users\\LEm\\Anaconda3\\lib\\site-packages\\sklearn\\neural_network\\_multilayer_perceptron.py\", line 1027, in fit\n",
      "    return self._fit(X, y, incremental=(self.warm_start and\n",
      "  File \"C:\\Users\\LEm\\Anaconda3\\lib\\site-packages\\sklearn\\neural_network\\_multilayer_perceptron.py\", line 375, in _fit\n",
      "    self._fit_lbfgs(X, y, activations, deltas, coef_grads,\n",
      "  File \"C:\\Users\\LEm\\Anaconda3\\lib\\site-packages\\sklearn\\neural_network\\_multilayer_perceptron.py\", line 471, in _fit_lbfgs\n",
      "    self.n_iter_ = _check_optimize_result(\"lbfgs\", opt_res, self.max_iter)\n",
      "  File \"C:\\Users\\LEm\\Anaconda3\\lib\\site-packages\\sklearn\\utils\\optimize.py\", line 243, in _check_optimize_result\n",
      "    ).format(solver, result.status, result.message.decode(\"latin1\"))\n",
      "AttributeError: 'str' object has no attribute 'decode'\n",
      "\n",
      "  warnings.warn(\"Estimator fit failed. The score on this train-test\"\n"
     ]
    },
    {
     "name": "stdout",
     "output_type": "stream",
     "text": [
      "[CV]  solver=lbfgs, hidden_layer_sizes=45, alpha=0.5, score=nan, total=  55.2s\n",
      "[CV] solver=lbfgs, hidden_layer_sizes=45, alpha=0.5 ..................\n"
     ]
    },
    {
     "name": "stderr",
     "output_type": "stream",
     "text": [
      "C:\\Users\\LEm\\Anaconda3\\lib\\site-packages\\sklearn\\model_selection\\_validation.py:548: FitFailedWarning: Estimator fit failed. The score on this train-test partition for these parameters will be set to nan. Details: \n",
      "Traceback (most recent call last):\n",
      "  File \"C:\\Users\\LEm\\Anaconda3\\lib\\site-packages\\sklearn\\model_selection\\_validation.py\", line 531, in _fit_and_score\n",
      "    estimator.fit(X_train, y_train, **fit_params)\n",
      "  File \"C:\\Users\\LEm\\Anaconda3\\lib\\site-packages\\sklearn\\neural_network\\_multilayer_perceptron.py\", line 1027, in fit\n",
      "    return self._fit(X, y, incremental=(self.warm_start and\n",
      "  File \"C:\\Users\\LEm\\Anaconda3\\lib\\site-packages\\sklearn\\neural_network\\_multilayer_perceptron.py\", line 375, in _fit\n",
      "    self._fit_lbfgs(X, y, activations, deltas, coef_grads,\n",
      "  File \"C:\\Users\\LEm\\Anaconda3\\lib\\site-packages\\sklearn\\neural_network\\_multilayer_perceptron.py\", line 471, in _fit_lbfgs\n",
      "    self.n_iter_ = _check_optimize_result(\"lbfgs\", opt_res, self.max_iter)\n",
      "  File \"C:\\Users\\LEm\\Anaconda3\\lib\\site-packages\\sklearn\\utils\\optimize.py\", line 243, in _check_optimize_result\n",
      "    ).format(solver, result.status, result.message.decode(\"latin1\"))\n",
      "AttributeError: 'str' object has no attribute 'decode'\n",
      "\n",
      "  warnings.warn(\"Estimator fit failed. The score on this train-test\"\n",
      "[Parallel(n_jobs=1)]: Done  50 out of  50 | elapsed: 26.0min finished\n"
     ]
    },
    {
     "name": "stdout",
     "output_type": "stream",
     "text": [
      "[CV]  solver=lbfgs, hidden_layer_sizes=45, alpha=0.5, score=nan, total=  57.5s\n",
      "Fitting 5 folds for each of 10 candidates, totalling 50 fits\n",
      "[CV] solver=lbfgs, hidden_layer_sizes=37, alpha=1.0 ..................\n"
     ]
    },
    {
     "name": "stderr",
     "output_type": "stream",
     "text": [
      "[Parallel(n_jobs=1)]: Using backend SequentialBackend with 1 concurrent workers.\n",
      "C:\\Users\\LEm\\Anaconda3\\lib\\site-packages\\sklearn\\model_selection\\_validation.py:548: FitFailedWarning: Estimator fit failed. The score on this train-test partition for these parameters will be set to nan. Details: \n",
      "Traceback (most recent call last):\n",
      "  File \"C:\\Users\\LEm\\Anaconda3\\lib\\site-packages\\sklearn\\model_selection\\_validation.py\", line 531, in _fit_and_score\n",
      "    estimator.fit(X_train, y_train, **fit_params)\n",
      "  File \"C:\\Users\\LEm\\Anaconda3\\lib\\site-packages\\sklearn\\neural_network\\_multilayer_perceptron.py\", line 1027, in fit\n",
      "    return self._fit(X, y, incremental=(self.warm_start and\n",
      "  File \"C:\\Users\\LEm\\Anaconda3\\lib\\site-packages\\sklearn\\neural_network\\_multilayer_perceptron.py\", line 375, in _fit\n",
      "    self._fit_lbfgs(X, y, activations, deltas, coef_grads,\n",
      "  File \"C:\\Users\\LEm\\Anaconda3\\lib\\site-packages\\sklearn\\neural_network\\_multilayer_perceptron.py\", line 471, in _fit_lbfgs\n",
      "    self.n_iter_ = _check_optimize_result(\"lbfgs\", opt_res, self.max_iter)\n",
      "  File \"C:\\Users\\LEm\\Anaconda3\\lib\\site-packages\\sklearn\\utils\\optimize.py\", line 243, in _check_optimize_result\n",
      "    ).format(solver, result.status, result.message.decode(\"latin1\"))\n",
      "AttributeError: 'str' object has no attribute 'decode'\n",
      "\n",
      "  warnings.warn(\"Estimator fit failed. The score on this train-test\"\n",
      "[Parallel(n_jobs=1)]: Done   1 out of   1 | elapsed:   45.9s remaining:    0.0s\n"
     ]
    },
    {
     "name": "stdout",
     "output_type": "stream",
     "text": [
      "[CV]  solver=lbfgs, hidden_layer_sizes=37, alpha=1.0, score=nan, total=  46.0s\n",
      "[CV] solver=lbfgs, hidden_layer_sizes=37, alpha=1.0 ..................\n"
     ]
    },
    {
     "name": "stderr",
     "output_type": "stream",
     "text": [
      "C:\\Users\\LEm\\Anaconda3\\lib\\site-packages\\sklearn\\model_selection\\_validation.py:548: FitFailedWarning: Estimator fit failed. The score on this train-test partition for these parameters will be set to nan. Details: \n",
      "Traceback (most recent call last):\n",
      "  File \"C:\\Users\\LEm\\Anaconda3\\lib\\site-packages\\sklearn\\model_selection\\_validation.py\", line 531, in _fit_and_score\n",
      "    estimator.fit(X_train, y_train, **fit_params)\n",
      "  File \"C:\\Users\\LEm\\Anaconda3\\lib\\site-packages\\sklearn\\neural_network\\_multilayer_perceptron.py\", line 1027, in fit\n",
      "    return self._fit(X, y, incremental=(self.warm_start and\n",
      "  File \"C:\\Users\\LEm\\Anaconda3\\lib\\site-packages\\sklearn\\neural_network\\_multilayer_perceptron.py\", line 375, in _fit\n",
      "    self._fit_lbfgs(X, y, activations, deltas, coef_grads,\n",
      "  File \"C:\\Users\\LEm\\Anaconda3\\lib\\site-packages\\sklearn\\neural_network\\_multilayer_perceptron.py\", line 471, in _fit_lbfgs\n",
      "    self.n_iter_ = _check_optimize_result(\"lbfgs\", opt_res, self.max_iter)\n",
      "  File \"C:\\Users\\LEm\\Anaconda3\\lib\\site-packages\\sklearn\\utils\\optimize.py\", line 243, in _check_optimize_result\n",
      "    ).format(solver, result.status, result.message.decode(\"latin1\"))\n",
      "AttributeError: 'str' object has no attribute 'decode'\n",
      "\n",
      "  warnings.warn(\"Estimator fit failed. The score on this train-test\"\n",
      "[Parallel(n_jobs=1)]: Done   2 out of   2 | elapsed:  1.5min remaining:    0.0s\n"
     ]
    },
    {
     "name": "stdout",
     "output_type": "stream",
     "text": [
      "[CV]  solver=lbfgs, hidden_layer_sizes=37, alpha=1.0, score=nan, total=  45.5s\n",
      "[CV] solver=lbfgs, hidden_layer_sizes=37, alpha=1.0 ..................\n"
     ]
    },
    {
     "name": "stderr",
     "output_type": "stream",
     "text": [
      "C:\\Users\\LEm\\Anaconda3\\lib\\site-packages\\sklearn\\model_selection\\_validation.py:548: FitFailedWarning: Estimator fit failed. The score on this train-test partition for these parameters will be set to nan. Details: \n",
      "Traceback (most recent call last):\n",
      "  File \"C:\\Users\\LEm\\Anaconda3\\lib\\site-packages\\sklearn\\model_selection\\_validation.py\", line 531, in _fit_and_score\n",
      "    estimator.fit(X_train, y_train, **fit_params)\n",
      "  File \"C:\\Users\\LEm\\Anaconda3\\lib\\site-packages\\sklearn\\neural_network\\_multilayer_perceptron.py\", line 1027, in fit\n",
      "    return self._fit(X, y, incremental=(self.warm_start and\n",
      "  File \"C:\\Users\\LEm\\Anaconda3\\lib\\site-packages\\sklearn\\neural_network\\_multilayer_perceptron.py\", line 375, in _fit\n",
      "    self._fit_lbfgs(X, y, activations, deltas, coef_grads,\n",
      "  File \"C:\\Users\\LEm\\Anaconda3\\lib\\site-packages\\sklearn\\neural_network\\_multilayer_perceptron.py\", line 471, in _fit_lbfgs\n",
      "    self.n_iter_ = _check_optimize_result(\"lbfgs\", opt_res, self.max_iter)\n",
      "  File \"C:\\Users\\LEm\\Anaconda3\\lib\\site-packages\\sklearn\\utils\\optimize.py\", line 243, in _check_optimize_result\n",
      "    ).format(solver, result.status, result.message.decode(\"latin1\"))\n",
      "AttributeError: 'str' object has no attribute 'decode'\n",
      "\n",
      "  warnings.warn(\"Estimator fit failed. The score on this train-test\"\n"
     ]
    },
    {
     "name": "stdout",
     "output_type": "stream",
     "text": [
      "[CV]  solver=lbfgs, hidden_layer_sizes=37, alpha=1.0, score=nan, total=  45.8s\n",
      "[CV] solver=lbfgs, hidden_layer_sizes=37, alpha=1.0 ..................\n"
     ]
    },
    {
     "name": "stderr",
     "output_type": "stream",
     "text": [
      "C:\\Users\\LEm\\Anaconda3\\lib\\site-packages\\sklearn\\model_selection\\_validation.py:548: FitFailedWarning: Estimator fit failed. The score on this train-test partition for these parameters will be set to nan. Details: \n",
      "Traceback (most recent call last):\n",
      "  File \"C:\\Users\\LEm\\Anaconda3\\lib\\site-packages\\sklearn\\model_selection\\_validation.py\", line 531, in _fit_and_score\n",
      "    estimator.fit(X_train, y_train, **fit_params)\n",
      "  File \"C:\\Users\\LEm\\Anaconda3\\lib\\site-packages\\sklearn\\neural_network\\_multilayer_perceptron.py\", line 1027, in fit\n",
      "    return self._fit(X, y, incremental=(self.warm_start and\n",
      "  File \"C:\\Users\\LEm\\Anaconda3\\lib\\site-packages\\sklearn\\neural_network\\_multilayer_perceptron.py\", line 375, in _fit\n",
      "    self._fit_lbfgs(X, y, activations, deltas, coef_grads,\n",
      "  File \"C:\\Users\\LEm\\Anaconda3\\lib\\site-packages\\sklearn\\neural_network\\_multilayer_perceptron.py\", line 471, in _fit_lbfgs\n",
      "    self.n_iter_ = _check_optimize_result(\"lbfgs\", opt_res, self.max_iter)\n",
      "  File \"C:\\Users\\LEm\\Anaconda3\\lib\\site-packages\\sklearn\\utils\\optimize.py\", line 243, in _check_optimize_result\n",
      "    ).format(solver, result.status, result.message.decode(\"latin1\"))\n",
      "AttributeError: 'str' object has no attribute 'decode'\n",
      "\n",
      "  warnings.warn(\"Estimator fit failed. The score on this train-test\"\n"
     ]
    },
    {
     "name": "stdout",
     "output_type": "stream",
     "text": [
      "[CV]  solver=lbfgs, hidden_layer_sizes=37, alpha=1.0, score=nan, total=  45.6s\n",
      "[CV] solver=lbfgs, hidden_layer_sizes=37, alpha=1.0 ..................\n"
     ]
    },
    {
     "name": "stderr",
     "output_type": "stream",
     "text": [
      "C:\\Users\\LEm\\Anaconda3\\lib\\site-packages\\sklearn\\model_selection\\_validation.py:548: FitFailedWarning: Estimator fit failed. The score on this train-test partition for these parameters will be set to nan. Details: \n",
      "Traceback (most recent call last):\n",
      "  File \"C:\\Users\\LEm\\Anaconda3\\lib\\site-packages\\sklearn\\model_selection\\_validation.py\", line 531, in _fit_and_score\n",
      "    estimator.fit(X_train, y_train, **fit_params)\n",
      "  File \"C:\\Users\\LEm\\Anaconda3\\lib\\site-packages\\sklearn\\neural_network\\_multilayer_perceptron.py\", line 1027, in fit\n",
      "    return self._fit(X, y, incremental=(self.warm_start and\n",
      "  File \"C:\\Users\\LEm\\Anaconda3\\lib\\site-packages\\sklearn\\neural_network\\_multilayer_perceptron.py\", line 375, in _fit\n",
      "    self._fit_lbfgs(X, y, activations, deltas, coef_grads,\n",
      "  File \"C:\\Users\\LEm\\Anaconda3\\lib\\site-packages\\sklearn\\neural_network\\_multilayer_perceptron.py\", line 471, in _fit_lbfgs\n",
      "    self.n_iter_ = _check_optimize_result(\"lbfgs\", opt_res, self.max_iter)\n",
      "  File \"C:\\Users\\LEm\\Anaconda3\\lib\\site-packages\\sklearn\\utils\\optimize.py\", line 243, in _check_optimize_result\n",
      "    ).format(solver, result.status, result.message.decode(\"latin1\"))\n",
      "AttributeError: 'str' object has no attribute 'decode'\n",
      "\n",
      "  warnings.warn(\"Estimator fit failed. The score on this train-test\"\n"
     ]
    },
    {
     "name": "stdout",
     "output_type": "stream",
     "text": [
      "[CV]  solver=lbfgs, hidden_layer_sizes=37, alpha=1.0, score=nan, total=  45.5s\n",
      "[CV] solver=lbfgs, hidden_layer_sizes=49, alpha=1.0 ..................\n"
     ]
    },
    {
     "name": "stderr",
     "output_type": "stream",
     "text": [
      "C:\\Users\\LEm\\Anaconda3\\lib\\site-packages\\sklearn\\model_selection\\_validation.py:548: FitFailedWarning: Estimator fit failed. The score on this train-test partition for these parameters will be set to nan. Details: \n",
      "Traceback (most recent call last):\n",
      "  File \"C:\\Users\\LEm\\Anaconda3\\lib\\site-packages\\sklearn\\model_selection\\_validation.py\", line 531, in _fit_and_score\n",
      "    estimator.fit(X_train, y_train, **fit_params)\n",
      "  File \"C:\\Users\\LEm\\Anaconda3\\lib\\site-packages\\sklearn\\neural_network\\_multilayer_perceptron.py\", line 1027, in fit\n",
      "    return self._fit(X, y, incremental=(self.warm_start and\n",
      "  File \"C:\\Users\\LEm\\Anaconda3\\lib\\site-packages\\sklearn\\neural_network\\_multilayer_perceptron.py\", line 375, in _fit\n",
      "    self._fit_lbfgs(X, y, activations, deltas, coef_grads,\n",
      "  File \"C:\\Users\\LEm\\Anaconda3\\lib\\site-packages\\sklearn\\neural_network\\_multilayer_perceptron.py\", line 471, in _fit_lbfgs\n",
      "    self.n_iter_ = _check_optimize_result(\"lbfgs\", opt_res, self.max_iter)\n",
      "  File \"C:\\Users\\LEm\\Anaconda3\\lib\\site-packages\\sklearn\\utils\\optimize.py\", line 243, in _check_optimize_result\n",
      "    ).format(solver, result.status, result.message.decode(\"latin1\"))\n",
      "AttributeError: 'str' object has no attribute 'decode'\n",
      "\n",
      "  warnings.warn(\"Estimator fit failed. The score on this train-test\"\n"
     ]
    },
    {
     "name": "stdout",
     "output_type": "stream",
     "text": [
      "[CV]  solver=lbfgs, hidden_layer_sizes=49, alpha=1.0, score=nan, total= 1.0min\n",
      "[CV] solver=lbfgs, hidden_layer_sizes=49, alpha=1.0 ..................\n"
     ]
    },
    {
     "name": "stderr",
     "output_type": "stream",
     "text": [
      "C:\\Users\\LEm\\Anaconda3\\lib\\site-packages\\sklearn\\model_selection\\_validation.py:548: FitFailedWarning: Estimator fit failed. The score on this train-test partition for these parameters will be set to nan. Details: \n",
      "Traceback (most recent call last):\n",
      "  File \"C:\\Users\\LEm\\Anaconda3\\lib\\site-packages\\sklearn\\model_selection\\_validation.py\", line 531, in _fit_and_score\n",
      "    estimator.fit(X_train, y_train, **fit_params)\n",
      "  File \"C:\\Users\\LEm\\Anaconda3\\lib\\site-packages\\sklearn\\neural_network\\_multilayer_perceptron.py\", line 1027, in fit\n",
      "    return self._fit(X, y, incremental=(self.warm_start and\n",
      "  File \"C:\\Users\\LEm\\Anaconda3\\lib\\site-packages\\sklearn\\neural_network\\_multilayer_perceptron.py\", line 375, in _fit\n",
      "    self._fit_lbfgs(X, y, activations, deltas, coef_grads,\n",
      "  File \"C:\\Users\\LEm\\Anaconda3\\lib\\site-packages\\sklearn\\neural_network\\_multilayer_perceptron.py\", line 471, in _fit_lbfgs\n",
      "    self.n_iter_ = _check_optimize_result(\"lbfgs\", opt_res, self.max_iter)\n",
      "  File \"C:\\Users\\LEm\\Anaconda3\\lib\\site-packages\\sklearn\\utils\\optimize.py\", line 243, in _check_optimize_result\n",
      "    ).format(solver, result.status, result.message.decode(\"latin1\"))\n",
      "AttributeError: 'str' object has no attribute 'decode'\n",
      "\n",
      "  warnings.warn(\"Estimator fit failed. The score on this train-test\"\n"
     ]
    },
    {
     "name": "stdout",
     "output_type": "stream",
     "text": [
      "[CV]  solver=lbfgs, hidden_layer_sizes=49, alpha=1.0, score=nan, total= 1.0min\n",
      "[CV] solver=lbfgs, hidden_layer_sizes=49, alpha=1.0 ..................\n"
     ]
    },
    {
     "name": "stderr",
     "output_type": "stream",
     "text": [
      "C:\\Users\\LEm\\Anaconda3\\lib\\site-packages\\sklearn\\model_selection\\_validation.py:548: FitFailedWarning: Estimator fit failed. The score on this train-test partition for these parameters will be set to nan. Details: \n",
      "Traceback (most recent call last):\n",
      "  File \"C:\\Users\\LEm\\Anaconda3\\lib\\site-packages\\sklearn\\model_selection\\_validation.py\", line 531, in _fit_and_score\n",
      "    estimator.fit(X_train, y_train, **fit_params)\n",
      "  File \"C:\\Users\\LEm\\Anaconda3\\lib\\site-packages\\sklearn\\neural_network\\_multilayer_perceptron.py\", line 1027, in fit\n",
      "    return self._fit(X, y, incremental=(self.warm_start and\n",
      "  File \"C:\\Users\\LEm\\Anaconda3\\lib\\site-packages\\sklearn\\neural_network\\_multilayer_perceptron.py\", line 375, in _fit\n",
      "    self._fit_lbfgs(X, y, activations, deltas, coef_grads,\n",
      "  File \"C:\\Users\\LEm\\Anaconda3\\lib\\site-packages\\sklearn\\neural_network\\_multilayer_perceptron.py\", line 471, in _fit_lbfgs\n",
      "    self.n_iter_ = _check_optimize_result(\"lbfgs\", opt_res, self.max_iter)\n",
      "  File \"C:\\Users\\LEm\\Anaconda3\\lib\\site-packages\\sklearn\\utils\\optimize.py\", line 243, in _check_optimize_result\n",
      "    ).format(solver, result.status, result.message.decode(\"latin1\"))\n",
      "AttributeError: 'str' object has no attribute 'decode'\n",
      "\n",
      "  warnings.warn(\"Estimator fit failed. The score on this train-test\"\n"
     ]
    },
    {
     "name": "stdout",
     "output_type": "stream",
     "text": [
      "[CV]  solver=lbfgs, hidden_layer_sizes=49, alpha=1.0, score=nan, total= 1.0min\n",
      "[CV] solver=lbfgs, hidden_layer_sizes=49, alpha=1.0 ..................\n"
     ]
    },
    {
     "name": "stderr",
     "output_type": "stream",
     "text": [
      "C:\\Users\\LEm\\Anaconda3\\lib\\site-packages\\sklearn\\model_selection\\_validation.py:548: FitFailedWarning: Estimator fit failed. The score on this train-test partition for these parameters will be set to nan. Details: \n",
      "Traceback (most recent call last):\n",
      "  File \"C:\\Users\\LEm\\Anaconda3\\lib\\site-packages\\sklearn\\model_selection\\_validation.py\", line 531, in _fit_and_score\n",
      "    estimator.fit(X_train, y_train, **fit_params)\n",
      "  File \"C:\\Users\\LEm\\Anaconda3\\lib\\site-packages\\sklearn\\neural_network\\_multilayer_perceptron.py\", line 1027, in fit\n",
      "    return self._fit(X, y, incremental=(self.warm_start and\n",
      "  File \"C:\\Users\\LEm\\Anaconda3\\lib\\site-packages\\sklearn\\neural_network\\_multilayer_perceptron.py\", line 375, in _fit\n",
      "    self._fit_lbfgs(X, y, activations, deltas, coef_grads,\n",
      "  File \"C:\\Users\\LEm\\Anaconda3\\lib\\site-packages\\sklearn\\neural_network\\_multilayer_perceptron.py\", line 471, in _fit_lbfgs\n",
      "    self.n_iter_ = _check_optimize_result(\"lbfgs\", opt_res, self.max_iter)\n",
      "  File \"C:\\Users\\LEm\\Anaconda3\\lib\\site-packages\\sklearn\\utils\\optimize.py\", line 243, in _check_optimize_result\n",
      "    ).format(solver, result.status, result.message.decode(\"latin1\"))\n",
      "AttributeError: 'str' object has no attribute 'decode'\n",
      "\n",
      "  warnings.warn(\"Estimator fit failed. The score on this train-test\"\n"
     ]
    },
    {
     "name": "stdout",
     "output_type": "stream",
     "text": [
      "[CV]  solver=lbfgs, hidden_layer_sizes=49, alpha=1.0, score=nan, total= 1.0min\n",
      "[CV] solver=lbfgs, hidden_layer_sizes=49, alpha=1.0 ..................\n"
     ]
    },
    {
     "name": "stderr",
     "output_type": "stream",
     "text": [
      "C:\\Users\\LEm\\Anaconda3\\lib\\site-packages\\sklearn\\model_selection\\_validation.py:548: FitFailedWarning: Estimator fit failed. The score on this train-test partition for these parameters will be set to nan. Details: \n",
      "Traceback (most recent call last):\n",
      "  File \"C:\\Users\\LEm\\Anaconda3\\lib\\site-packages\\sklearn\\model_selection\\_validation.py\", line 531, in _fit_and_score\n",
      "    estimator.fit(X_train, y_train, **fit_params)\n",
      "  File \"C:\\Users\\LEm\\Anaconda3\\lib\\site-packages\\sklearn\\neural_network\\_multilayer_perceptron.py\", line 1027, in fit\n",
      "    return self._fit(X, y, incremental=(self.warm_start and\n",
      "  File \"C:\\Users\\LEm\\Anaconda3\\lib\\site-packages\\sklearn\\neural_network\\_multilayer_perceptron.py\", line 375, in _fit\n",
      "    self._fit_lbfgs(X, y, activations, deltas, coef_grads,\n",
      "  File \"C:\\Users\\LEm\\Anaconda3\\lib\\site-packages\\sklearn\\neural_network\\_multilayer_perceptron.py\", line 471, in _fit_lbfgs\n",
      "    self.n_iter_ = _check_optimize_result(\"lbfgs\", opt_res, self.max_iter)\n",
      "  File \"C:\\Users\\LEm\\Anaconda3\\lib\\site-packages\\sklearn\\utils\\optimize.py\", line 243, in _check_optimize_result\n",
      "    ).format(solver, result.status, result.message.decode(\"latin1\"))\n",
      "AttributeError: 'str' object has no attribute 'decode'\n",
      "\n",
      "  warnings.warn(\"Estimator fit failed. The score on this train-test\"\n"
     ]
    },
    {
     "name": "stdout",
     "output_type": "stream",
     "text": [
      "[CV]  solver=lbfgs, hidden_layer_sizes=49, alpha=1.0, score=nan, total=  59.5s\n",
      "[CV] solver=lbfgs, hidden_layer_sizes=40, alpha=0.5 ..................\n"
     ]
    },
    {
     "name": "stderr",
     "output_type": "stream",
     "text": [
      "C:\\Users\\LEm\\Anaconda3\\lib\\site-packages\\sklearn\\model_selection\\_validation.py:548: FitFailedWarning: Estimator fit failed. The score on this train-test partition for these parameters will be set to nan. Details: \n",
      "Traceback (most recent call last):\n",
      "  File \"C:\\Users\\LEm\\Anaconda3\\lib\\site-packages\\sklearn\\model_selection\\_validation.py\", line 531, in _fit_and_score\n",
      "    estimator.fit(X_train, y_train, **fit_params)\n",
      "  File \"C:\\Users\\LEm\\Anaconda3\\lib\\site-packages\\sklearn\\neural_network\\_multilayer_perceptron.py\", line 1027, in fit\n",
      "    return self._fit(X, y, incremental=(self.warm_start and\n",
      "  File \"C:\\Users\\LEm\\Anaconda3\\lib\\site-packages\\sklearn\\neural_network\\_multilayer_perceptron.py\", line 375, in _fit\n",
      "    self._fit_lbfgs(X, y, activations, deltas, coef_grads,\n",
      "  File \"C:\\Users\\LEm\\Anaconda3\\lib\\site-packages\\sklearn\\neural_network\\_multilayer_perceptron.py\", line 471, in _fit_lbfgs\n",
      "    self.n_iter_ = _check_optimize_result(\"lbfgs\", opt_res, self.max_iter)\n",
      "  File \"C:\\Users\\LEm\\Anaconda3\\lib\\site-packages\\sklearn\\utils\\optimize.py\", line 243, in _check_optimize_result\n",
      "    ).format(solver, result.status, result.message.decode(\"latin1\"))\n",
      "AttributeError: 'str' object has no attribute 'decode'\n",
      "\n",
      "  warnings.warn(\"Estimator fit failed. The score on this train-test\"\n"
     ]
    },
    {
     "name": "stdout",
     "output_type": "stream",
     "text": [
      "[CV]  solver=lbfgs, hidden_layer_sizes=40, alpha=0.5, score=nan, total=  49.0s\n",
      "[CV] solver=lbfgs, hidden_layer_sizes=40, alpha=0.5 ..................\n"
     ]
    },
    {
     "name": "stderr",
     "output_type": "stream",
     "text": [
      "C:\\Users\\LEm\\Anaconda3\\lib\\site-packages\\sklearn\\model_selection\\_validation.py:548: FitFailedWarning: Estimator fit failed. The score on this train-test partition for these parameters will be set to nan. Details: \n",
      "Traceback (most recent call last):\n",
      "  File \"C:\\Users\\LEm\\Anaconda3\\lib\\site-packages\\sklearn\\model_selection\\_validation.py\", line 531, in _fit_and_score\n",
      "    estimator.fit(X_train, y_train, **fit_params)\n",
      "  File \"C:\\Users\\LEm\\Anaconda3\\lib\\site-packages\\sklearn\\neural_network\\_multilayer_perceptron.py\", line 1027, in fit\n",
      "    return self._fit(X, y, incremental=(self.warm_start and\n",
      "  File \"C:\\Users\\LEm\\Anaconda3\\lib\\site-packages\\sklearn\\neural_network\\_multilayer_perceptron.py\", line 375, in _fit\n",
      "    self._fit_lbfgs(X, y, activations, deltas, coef_grads,\n",
      "  File \"C:\\Users\\LEm\\Anaconda3\\lib\\site-packages\\sklearn\\neural_network\\_multilayer_perceptron.py\", line 471, in _fit_lbfgs\n",
      "    self.n_iter_ = _check_optimize_result(\"lbfgs\", opt_res, self.max_iter)\n",
      "  File \"C:\\Users\\LEm\\Anaconda3\\lib\\site-packages\\sklearn\\utils\\optimize.py\", line 243, in _check_optimize_result\n",
      "    ).format(solver, result.status, result.message.decode(\"latin1\"))\n",
      "AttributeError: 'str' object has no attribute 'decode'\n",
      "\n",
      "  warnings.warn(\"Estimator fit failed. The score on this train-test\"\n"
     ]
    },
    {
     "name": "stdout",
     "output_type": "stream",
     "text": [
      "[CV]  solver=lbfgs, hidden_layer_sizes=40, alpha=0.5, score=nan, total=  49.7s\n",
      "[CV] solver=lbfgs, hidden_layer_sizes=40, alpha=0.5 ..................\n"
     ]
    },
    {
     "name": "stderr",
     "output_type": "stream",
     "text": [
      "C:\\Users\\LEm\\Anaconda3\\lib\\site-packages\\sklearn\\model_selection\\_validation.py:548: FitFailedWarning: Estimator fit failed. The score on this train-test partition for these parameters will be set to nan. Details: \n",
      "Traceback (most recent call last):\n",
      "  File \"C:\\Users\\LEm\\Anaconda3\\lib\\site-packages\\sklearn\\model_selection\\_validation.py\", line 531, in _fit_and_score\n",
      "    estimator.fit(X_train, y_train, **fit_params)\n",
      "  File \"C:\\Users\\LEm\\Anaconda3\\lib\\site-packages\\sklearn\\neural_network\\_multilayer_perceptron.py\", line 1027, in fit\n",
      "    return self._fit(X, y, incremental=(self.warm_start and\n",
      "  File \"C:\\Users\\LEm\\Anaconda3\\lib\\site-packages\\sklearn\\neural_network\\_multilayer_perceptron.py\", line 375, in _fit\n",
      "    self._fit_lbfgs(X, y, activations, deltas, coef_grads,\n",
      "  File \"C:\\Users\\LEm\\Anaconda3\\lib\\site-packages\\sklearn\\neural_network\\_multilayer_perceptron.py\", line 471, in _fit_lbfgs\n",
      "    self.n_iter_ = _check_optimize_result(\"lbfgs\", opt_res, self.max_iter)\n",
      "  File \"C:\\Users\\LEm\\Anaconda3\\lib\\site-packages\\sklearn\\utils\\optimize.py\", line 243, in _check_optimize_result\n",
      "    ).format(solver, result.status, result.message.decode(\"latin1\"))\n",
      "AttributeError: 'str' object has no attribute 'decode'\n",
      "\n",
      "  warnings.warn(\"Estimator fit failed. The score on this train-test\"\n"
     ]
    },
    {
     "name": "stdout",
     "output_type": "stream",
     "text": [
      "[CV]  solver=lbfgs, hidden_layer_sizes=40, alpha=0.5, score=nan, total=  49.3s\n",
      "[CV] solver=lbfgs, hidden_layer_sizes=40, alpha=0.5 ..................\n"
     ]
    },
    {
     "name": "stderr",
     "output_type": "stream",
     "text": [
      "C:\\Users\\LEm\\Anaconda3\\lib\\site-packages\\sklearn\\model_selection\\_validation.py:548: FitFailedWarning: Estimator fit failed. The score on this train-test partition for these parameters will be set to nan. Details: \n",
      "Traceback (most recent call last):\n",
      "  File \"C:\\Users\\LEm\\Anaconda3\\lib\\site-packages\\sklearn\\model_selection\\_validation.py\", line 531, in _fit_and_score\n",
      "    estimator.fit(X_train, y_train, **fit_params)\n",
      "  File \"C:\\Users\\LEm\\Anaconda3\\lib\\site-packages\\sklearn\\neural_network\\_multilayer_perceptron.py\", line 1027, in fit\n",
      "    return self._fit(X, y, incremental=(self.warm_start and\n",
      "  File \"C:\\Users\\LEm\\Anaconda3\\lib\\site-packages\\sklearn\\neural_network\\_multilayer_perceptron.py\", line 375, in _fit\n",
      "    self._fit_lbfgs(X, y, activations, deltas, coef_grads,\n",
      "  File \"C:\\Users\\LEm\\Anaconda3\\lib\\site-packages\\sklearn\\neural_network\\_multilayer_perceptron.py\", line 471, in _fit_lbfgs\n",
      "    self.n_iter_ = _check_optimize_result(\"lbfgs\", opt_res, self.max_iter)\n",
      "  File \"C:\\Users\\LEm\\Anaconda3\\lib\\site-packages\\sklearn\\utils\\optimize.py\", line 243, in _check_optimize_result\n",
      "    ).format(solver, result.status, result.message.decode(\"latin1\"))\n",
      "AttributeError: 'str' object has no attribute 'decode'\n",
      "\n",
      "  warnings.warn(\"Estimator fit failed. The score on this train-test\"\n"
     ]
    },
    {
     "name": "stdout",
     "output_type": "stream",
     "text": [
      "[CV]  solver=lbfgs, hidden_layer_sizes=40, alpha=0.5, score=nan, total=  49.1s\n",
      "[CV] solver=lbfgs, hidden_layer_sizes=40, alpha=0.5 ..................\n"
     ]
    },
    {
     "name": "stderr",
     "output_type": "stream",
     "text": [
      "C:\\Users\\LEm\\Anaconda3\\lib\\site-packages\\sklearn\\model_selection\\_validation.py:548: FitFailedWarning: Estimator fit failed. The score on this train-test partition for these parameters will be set to nan. Details: \n",
      "Traceback (most recent call last):\n",
      "  File \"C:\\Users\\LEm\\Anaconda3\\lib\\site-packages\\sklearn\\model_selection\\_validation.py\", line 531, in _fit_and_score\n",
      "    estimator.fit(X_train, y_train, **fit_params)\n",
      "  File \"C:\\Users\\LEm\\Anaconda3\\lib\\site-packages\\sklearn\\neural_network\\_multilayer_perceptron.py\", line 1027, in fit\n",
      "    return self._fit(X, y, incremental=(self.warm_start and\n",
      "  File \"C:\\Users\\LEm\\Anaconda3\\lib\\site-packages\\sklearn\\neural_network\\_multilayer_perceptron.py\", line 375, in _fit\n",
      "    self._fit_lbfgs(X, y, activations, deltas, coef_grads,\n",
      "  File \"C:\\Users\\LEm\\Anaconda3\\lib\\site-packages\\sklearn\\neural_network\\_multilayer_perceptron.py\", line 471, in _fit_lbfgs\n",
      "    self.n_iter_ = _check_optimize_result(\"lbfgs\", opt_res, self.max_iter)\n",
      "  File \"C:\\Users\\LEm\\Anaconda3\\lib\\site-packages\\sklearn\\utils\\optimize.py\", line 243, in _check_optimize_result\n",
      "    ).format(solver, result.status, result.message.decode(\"latin1\"))\n",
      "AttributeError: 'str' object has no attribute 'decode'\n",
      "\n",
      "  warnings.warn(\"Estimator fit failed. The score on this train-test\"\n"
     ]
    },
    {
     "name": "stdout",
     "output_type": "stream",
     "text": [
      "[CV]  solver=lbfgs, hidden_layer_sizes=40, alpha=0.5, score=nan, total=  49.0s\n",
      "[CV] solver=lbfgs, hidden_layer_sizes=53, alpha=1.5 ..................\n"
     ]
    },
    {
     "name": "stderr",
     "output_type": "stream",
     "text": [
      "C:\\Users\\LEm\\Anaconda3\\lib\\site-packages\\sklearn\\model_selection\\_validation.py:548: FitFailedWarning: Estimator fit failed. The score on this train-test partition for these parameters will be set to nan. Details: \n",
      "Traceback (most recent call last):\n",
      "  File \"C:\\Users\\LEm\\Anaconda3\\lib\\site-packages\\sklearn\\model_selection\\_validation.py\", line 531, in _fit_and_score\n",
      "    estimator.fit(X_train, y_train, **fit_params)\n",
      "  File \"C:\\Users\\LEm\\Anaconda3\\lib\\site-packages\\sklearn\\neural_network\\_multilayer_perceptron.py\", line 1027, in fit\n",
      "    return self._fit(X, y, incremental=(self.warm_start and\n",
      "  File \"C:\\Users\\LEm\\Anaconda3\\lib\\site-packages\\sklearn\\neural_network\\_multilayer_perceptron.py\", line 375, in _fit\n",
      "    self._fit_lbfgs(X, y, activations, deltas, coef_grads,\n",
      "  File \"C:\\Users\\LEm\\Anaconda3\\lib\\site-packages\\sklearn\\neural_network\\_multilayer_perceptron.py\", line 471, in _fit_lbfgs\n",
      "    self.n_iter_ = _check_optimize_result(\"lbfgs\", opt_res, self.max_iter)\n",
      "  File \"C:\\Users\\LEm\\Anaconda3\\lib\\site-packages\\sklearn\\utils\\optimize.py\", line 243, in _check_optimize_result\n",
      "    ).format(solver, result.status, result.message.decode(\"latin1\"))\n",
      "AttributeError: 'str' object has no attribute 'decode'\n",
      "\n",
      "  warnings.warn(\"Estimator fit failed. The score on this train-test\"\n"
     ]
    },
    {
     "name": "stdout",
     "output_type": "stream",
     "text": [
      "[CV]  solver=lbfgs, hidden_layer_sizes=53, alpha=1.5, score=nan, total= 1.1min\n",
      "[CV] solver=lbfgs, hidden_layer_sizes=53, alpha=1.5 ..................\n"
     ]
    },
    {
     "name": "stderr",
     "output_type": "stream",
     "text": [
      "C:\\Users\\LEm\\Anaconda3\\lib\\site-packages\\sklearn\\model_selection\\_validation.py:548: FitFailedWarning: Estimator fit failed. The score on this train-test partition for these parameters will be set to nan. Details: \n",
      "Traceback (most recent call last):\n",
      "  File \"C:\\Users\\LEm\\Anaconda3\\lib\\site-packages\\sklearn\\model_selection\\_validation.py\", line 531, in _fit_and_score\n",
      "    estimator.fit(X_train, y_train, **fit_params)\n",
      "  File \"C:\\Users\\LEm\\Anaconda3\\lib\\site-packages\\sklearn\\neural_network\\_multilayer_perceptron.py\", line 1027, in fit\n",
      "    return self._fit(X, y, incremental=(self.warm_start and\n",
      "  File \"C:\\Users\\LEm\\Anaconda3\\lib\\site-packages\\sklearn\\neural_network\\_multilayer_perceptron.py\", line 375, in _fit\n",
      "    self._fit_lbfgs(X, y, activations, deltas, coef_grads,\n",
      "  File \"C:\\Users\\LEm\\Anaconda3\\lib\\site-packages\\sklearn\\neural_network\\_multilayer_perceptron.py\", line 471, in _fit_lbfgs\n",
      "    self.n_iter_ = _check_optimize_result(\"lbfgs\", opt_res, self.max_iter)\n",
      "  File \"C:\\Users\\LEm\\Anaconda3\\lib\\site-packages\\sklearn\\utils\\optimize.py\", line 243, in _check_optimize_result\n",
      "    ).format(solver, result.status, result.message.decode(\"latin1\"))\n",
      "AttributeError: 'str' object has no attribute 'decode'\n",
      "\n",
      "  warnings.warn(\"Estimator fit failed. The score on this train-test\"\n"
     ]
    },
    {
     "name": "stdout",
     "output_type": "stream",
     "text": [
      "[CV]  solver=lbfgs, hidden_layer_sizes=53, alpha=1.5, score=nan, total= 1.1min\n",
      "[CV] solver=lbfgs, hidden_layer_sizes=53, alpha=1.5 ..................\n"
     ]
    },
    {
     "name": "stderr",
     "output_type": "stream",
     "text": [
      "C:\\Users\\LEm\\Anaconda3\\lib\\site-packages\\sklearn\\model_selection\\_validation.py:548: FitFailedWarning: Estimator fit failed. The score on this train-test partition for these parameters will be set to nan. Details: \n",
      "Traceback (most recent call last):\n",
      "  File \"C:\\Users\\LEm\\Anaconda3\\lib\\site-packages\\sklearn\\model_selection\\_validation.py\", line 531, in _fit_and_score\n",
      "    estimator.fit(X_train, y_train, **fit_params)\n",
      "  File \"C:\\Users\\LEm\\Anaconda3\\lib\\site-packages\\sklearn\\neural_network\\_multilayer_perceptron.py\", line 1027, in fit\n",
      "    return self._fit(X, y, incremental=(self.warm_start and\n",
      "  File \"C:\\Users\\LEm\\Anaconda3\\lib\\site-packages\\sklearn\\neural_network\\_multilayer_perceptron.py\", line 375, in _fit\n",
      "    self._fit_lbfgs(X, y, activations, deltas, coef_grads,\n",
      "  File \"C:\\Users\\LEm\\Anaconda3\\lib\\site-packages\\sklearn\\neural_network\\_multilayer_perceptron.py\", line 471, in _fit_lbfgs\n",
      "    self.n_iter_ = _check_optimize_result(\"lbfgs\", opt_res, self.max_iter)\n",
      "  File \"C:\\Users\\LEm\\Anaconda3\\lib\\site-packages\\sklearn\\utils\\optimize.py\", line 243, in _check_optimize_result\n",
      "    ).format(solver, result.status, result.message.decode(\"latin1\"))\n",
      "AttributeError: 'str' object has no attribute 'decode'\n",
      "\n",
      "  warnings.warn(\"Estimator fit failed. The score on this train-test\"\n"
     ]
    },
    {
     "name": "stdout",
     "output_type": "stream",
     "text": [
      "[CV]  solver=lbfgs, hidden_layer_sizes=53, alpha=1.5, score=nan, total= 1.1min\n",
      "[CV] solver=lbfgs, hidden_layer_sizes=53, alpha=1.5 ..................\n",
      "[CV]  solver=lbfgs, hidden_layer_sizes=53, alpha=1.5, score=0.900, total= 1.2min\n",
      "[CV] solver=lbfgs, hidden_layer_sizes=53, alpha=1.5 ..................\n"
     ]
    },
    {
     "name": "stderr",
     "output_type": "stream",
     "text": [
      "C:\\Users\\LEm\\Anaconda3\\lib\\site-packages\\sklearn\\model_selection\\_validation.py:548: FitFailedWarning: Estimator fit failed. The score on this train-test partition for these parameters will be set to nan. Details: \n",
      "Traceback (most recent call last):\n",
      "  File \"C:\\Users\\LEm\\Anaconda3\\lib\\site-packages\\sklearn\\model_selection\\_validation.py\", line 531, in _fit_and_score\n",
      "    estimator.fit(X_train, y_train, **fit_params)\n",
      "  File \"C:\\Users\\LEm\\Anaconda3\\lib\\site-packages\\sklearn\\neural_network\\_multilayer_perceptron.py\", line 1027, in fit\n",
      "    return self._fit(X, y, incremental=(self.warm_start and\n",
      "  File \"C:\\Users\\LEm\\Anaconda3\\lib\\site-packages\\sklearn\\neural_network\\_multilayer_perceptron.py\", line 375, in _fit\n",
      "    self._fit_lbfgs(X, y, activations, deltas, coef_grads,\n",
      "  File \"C:\\Users\\LEm\\Anaconda3\\lib\\site-packages\\sklearn\\neural_network\\_multilayer_perceptron.py\", line 471, in _fit_lbfgs\n",
      "    self.n_iter_ = _check_optimize_result(\"lbfgs\", opt_res, self.max_iter)\n",
      "  File \"C:\\Users\\LEm\\Anaconda3\\lib\\site-packages\\sklearn\\utils\\optimize.py\", line 243, in _check_optimize_result\n",
      "    ).format(solver, result.status, result.message.decode(\"latin1\"))\n",
      "AttributeError: 'str' object has no attribute 'decode'\n",
      "\n",
      "  warnings.warn(\"Estimator fit failed. The score on this train-test\"\n"
     ]
    },
    {
     "name": "stdout",
     "output_type": "stream",
     "text": [
      "[CV]  solver=lbfgs, hidden_layer_sizes=53, alpha=1.5, score=nan, total= 1.2min\n",
      "[CV] solver=adam, hidden_layer_sizes=66, alpha=1.5 ...................\n",
      "[CV]  solver=adam, hidden_layer_sizes=66, alpha=1.5, score=0.830, total=   5.1s\n",
      "[CV] solver=adam, hidden_layer_sizes=66, alpha=1.5 ...................\n",
      "[CV]  solver=adam, hidden_layer_sizes=66, alpha=1.5, score=0.817, total=   4.3s\n",
      "[CV] solver=adam, hidden_layer_sizes=66, alpha=1.5 ...................\n",
      "[CV]  solver=adam, hidden_layer_sizes=66, alpha=1.5, score=0.828, total=   4.7s\n",
      "[CV] solver=adam, hidden_layer_sizes=66, alpha=1.5 ...................\n",
      "[CV]  solver=adam, hidden_layer_sizes=66, alpha=1.5, score=0.836, total=   5.8s\n",
      "[CV] solver=adam, hidden_layer_sizes=66, alpha=1.5 ...................\n",
      "[CV]  solver=adam, hidden_layer_sizes=66, alpha=1.5, score=0.827, total=   6.3s\n",
      "[CV] solver=adam, hidden_layer_sizes=64, alpha=1.5 ...................\n",
      "[CV]  solver=adam, hidden_layer_sizes=64, alpha=1.5, score=0.830, total=   4.5s\n",
      "[CV] solver=adam, hidden_layer_sizes=64, alpha=1.5 ...................\n",
      "[CV]  solver=adam, hidden_layer_sizes=64, alpha=1.5, score=0.827, total=   4.5s\n",
      "[CV] solver=adam, hidden_layer_sizes=64, alpha=1.5 ...................\n",
      "[CV]  solver=adam, hidden_layer_sizes=64, alpha=1.5, score=0.829, total=   4.9s\n",
      "[CV] solver=adam, hidden_layer_sizes=64, alpha=1.5 ...................\n",
      "[CV]  solver=adam, hidden_layer_sizes=64, alpha=1.5, score=0.832, total=   6.5s\n",
      "[CV] solver=adam, hidden_layer_sizes=64, alpha=1.5 ...................\n",
      "[CV]  solver=adam, hidden_layer_sizes=64, alpha=1.5, score=0.828, total=   5.3s\n",
      "[CV] solver=adam, hidden_layer_sizes=49, alpha=0.5 ...................\n",
      "[CV]  solver=adam, hidden_layer_sizes=49, alpha=0.5, score=0.866, total=   9.8s\n",
      "[CV] solver=adam, hidden_layer_sizes=49, alpha=0.5 ...................\n",
      "[CV]  solver=adam, hidden_layer_sizes=49, alpha=0.5, score=0.871, total=  13.3s\n",
      "[CV] solver=adam, hidden_layer_sizes=49, alpha=0.5 ...................\n",
      "[CV]  solver=adam, hidden_layer_sizes=49, alpha=0.5, score=0.864, total=  11.9s\n",
      "[CV] solver=adam, hidden_layer_sizes=49, alpha=0.5 ...................\n",
      "[CV]  solver=adam, hidden_layer_sizes=49, alpha=0.5, score=0.870, total=   8.8s\n",
      "[CV] solver=adam, hidden_layer_sizes=49, alpha=0.5 ...................\n",
      "[CV]  solver=adam, hidden_layer_sizes=49, alpha=0.5, score=0.871, total=  10.4s\n",
      "[CV] solver=lbfgs, hidden_layer_sizes=47, alpha=1.0 ..................\n"
     ]
    },
    {
     "name": "stderr",
     "output_type": "stream",
     "text": [
      "C:\\Users\\LEm\\Anaconda3\\lib\\site-packages\\sklearn\\model_selection\\_validation.py:548: FitFailedWarning: Estimator fit failed. The score on this train-test partition for these parameters will be set to nan. Details: \n",
      "Traceback (most recent call last):\n",
      "  File \"C:\\Users\\LEm\\Anaconda3\\lib\\site-packages\\sklearn\\model_selection\\_validation.py\", line 531, in _fit_and_score\n",
      "    estimator.fit(X_train, y_train, **fit_params)\n",
      "  File \"C:\\Users\\LEm\\Anaconda3\\lib\\site-packages\\sklearn\\neural_network\\_multilayer_perceptron.py\", line 1027, in fit\n",
      "    return self._fit(X, y, incremental=(self.warm_start and\n",
      "  File \"C:\\Users\\LEm\\Anaconda3\\lib\\site-packages\\sklearn\\neural_network\\_multilayer_perceptron.py\", line 375, in _fit\n",
      "    self._fit_lbfgs(X, y, activations, deltas, coef_grads,\n",
      "  File \"C:\\Users\\LEm\\Anaconda3\\lib\\site-packages\\sklearn\\neural_network\\_multilayer_perceptron.py\", line 471, in _fit_lbfgs\n",
      "    self.n_iter_ = _check_optimize_result(\"lbfgs\", opt_res, self.max_iter)\n",
      "  File \"C:\\Users\\LEm\\Anaconda3\\lib\\site-packages\\sklearn\\utils\\optimize.py\", line 243, in _check_optimize_result\n",
      "    ).format(solver, result.status, result.message.decode(\"latin1\"))\n",
      "AttributeError: 'str' object has no attribute 'decode'\n",
      "\n",
      "  warnings.warn(\"Estimator fit failed. The score on this train-test\"\n"
     ]
    },
    {
     "name": "stdout",
     "output_type": "stream",
     "text": [
      "[CV]  solver=lbfgs, hidden_layer_sizes=47, alpha=1.0, score=nan, total=  57.8s\n",
      "[CV] solver=lbfgs, hidden_layer_sizes=47, alpha=1.0 ..................\n"
     ]
    },
    {
     "name": "stderr",
     "output_type": "stream",
     "text": [
      "C:\\Users\\LEm\\Anaconda3\\lib\\site-packages\\sklearn\\model_selection\\_validation.py:548: FitFailedWarning: Estimator fit failed. The score on this train-test partition for these parameters will be set to nan. Details: \n",
      "Traceback (most recent call last):\n",
      "  File \"C:\\Users\\LEm\\Anaconda3\\lib\\site-packages\\sklearn\\model_selection\\_validation.py\", line 531, in _fit_and_score\n",
      "    estimator.fit(X_train, y_train, **fit_params)\n",
      "  File \"C:\\Users\\LEm\\Anaconda3\\lib\\site-packages\\sklearn\\neural_network\\_multilayer_perceptron.py\", line 1027, in fit\n",
      "    return self._fit(X, y, incremental=(self.warm_start and\n",
      "  File \"C:\\Users\\LEm\\Anaconda3\\lib\\site-packages\\sklearn\\neural_network\\_multilayer_perceptron.py\", line 375, in _fit\n",
      "    self._fit_lbfgs(X, y, activations, deltas, coef_grads,\n",
      "  File \"C:\\Users\\LEm\\Anaconda3\\lib\\site-packages\\sklearn\\neural_network\\_multilayer_perceptron.py\", line 471, in _fit_lbfgs\n",
      "    self.n_iter_ = _check_optimize_result(\"lbfgs\", opt_res, self.max_iter)\n",
      "  File \"C:\\Users\\LEm\\Anaconda3\\lib\\site-packages\\sklearn\\utils\\optimize.py\", line 243, in _check_optimize_result\n",
      "    ).format(solver, result.status, result.message.decode(\"latin1\"))\n",
      "AttributeError: 'str' object has no attribute 'decode'\n",
      "\n",
      "  warnings.warn(\"Estimator fit failed. The score on this train-test\"\n"
     ]
    },
    {
     "name": "stdout",
     "output_type": "stream",
     "text": [
      "[CV]  solver=lbfgs, hidden_layer_sizes=47, alpha=1.0, score=nan, total=  57.9s\n",
      "[CV] solver=lbfgs, hidden_layer_sizes=47, alpha=1.0 ..................\n"
     ]
    },
    {
     "name": "stderr",
     "output_type": "stream",
     "text": [
      "C:\\Users\\LEm\\Anaconda3\\lib\\site-packages\\sklearn\\model_selection\\_validation.py:548: FitFailedWarning: Estimator fit failed. The score on this train-test partition for these parameters will be set to nan. Details: \n",
      "Traceback (most recent call last):\n",
      "  File \"C:\\Users\\LEm\\Anaconda3\\lib\\site-packages\\sklearn\\model_selection\\_validation.py\", line 531, in _fit_and_score\n",
      "    estimator.fit(X_train, y_train, **fit_params)\n",
      "  File \"C:\\Users\\LEm\\Anaconda3\\lib\\site-packages\\sklearn\\neural_network\\_multilayer_perceptron.py\", line 1027, in fit\n",
      "    return self._fit(X, y, incremental=(self.warm_start and\n",
      "  File \"C:\\Users\\LEm\\Anaconda3\\lib\\site-packages\\sklearn\\neural_network\\_multilayer_perceptron.py\", line 375, in _fit\n",
      "    self._fit_lbfgs(X, y, activations, deltas, coef_grads,\n",
      "  File \"C:\\Users\\LEm\\Anaconda3\\lib\\site-packages\\sklearn\\neural_network\\_multilayer_perceptron.py\", line 471, in _fit_lbfgs\n",
      "    self.n_iter_ = _check_optimize_result(\"lbfgs\", opt_res, self.max_iter)\n",
      "  File \"C:\\Users\\LEm\\Anaconda3\\lib\\site-packages\\sklearn\\utils\\optimize.py\", line 243, in _check_optimize_result\n",
      "    ).format(solver, result.status, result.message.decode(\"latin1\"))\n",
      "AttributeError: 'str' object has no attribute 'decode'\n",
      "\n",
      "  warnings.warn(\"Estimator fit failed. The score on this train-test\"\n"
     ]
    },
    {
     "name": "stdout",
     "output_type": "stream",
     "text": [
      "[CV]  solver=lbfgs, hidden_layer_sizes=47, alpha=1.0, score=nan, total=  58.1s\n",
      "[CV] solver=lbfgs, hidden_layer_sizes=47, alpha=1.0 ..................\n"
     ]
    },
    {
     "name": "stderr",
     "output_type": "stream",
     "text": [
      "C:\\Users\\LEm\\Anaconda3\\lib\\site-packages\\sklearn\\model_selection\\_validation.py:548: FitFailedWarning: Estimator fit failed. The score on this train-test partition for these parameters will be set to nan. Details: \n",
      "Traceback (most recent call last):\n",
      "  File \"C:\\Users\\LEm\\Anaconda3\\lib\\site-packages\\sklearn\\model_selection\\_validation.py\", line 531, in _fit_and_score\n",
      "    estimator.fit(X_train, y_train, **fit_params)\n",
      "  File \"C:\\Users\\LEm\\Anaconda3\\lib\\site-packages\\sklearn\\neural_network\\_multilayer_perceptron.py\", line 1027, in fit\n",
      "    return self._fit(X, y, incremental=(self.warm_start and\n",
      "  File \"C:\\Users\\LEm\\Anaconda3\\lib\\site-packages\\sklearn\\neural_network\\_multilayer_perceptron.py\", line 375, in _fit\n",
      "    self._fit_lbfgs(X, y, activations, deltas, coef_grads,\n",
      "  File \"C:\\Users\\LEm\\Anaconda3\\lib\\site-packages\\sklearn\\neural_network\\_multilayer_perceptron.py\", line 471, in _fit_lbfgs\n",
      "    self.n_iter_ = _check_optimize_result(\"lbfgs\", opt_res, self.max_iter)\n",
      "  File \"C:\\Users\\LEm\\Anaconda3\\lib\\site-packages\\sklearn\\utils\\optimize.py\", line 243, in _check_optimize_result\n",
      "    ).format(solver, result.status, result.message.decode(\"latin1\"))\n",
      "AttributeError: 'str' object has no attribute 'decode'\n",
      "\n",
      "  warnings.warn(\"Estimator fit failed. The score on this train-test\"\n"
     ]
    },
    {
     "name": "stdout",
     "output_type": "stream",
     "text": [
      "[CV]  solver=lbfgs, hidden_layer_sizes=47, alpha=1.0, score=nan, total=  57.4s\n",
      "[CV] solver=lbfgs, hidden_layer_sizes=47, alpha=1.0 ..................\n"
     ]
    },
    {
     "name": "stderr",
     "output_type": "stream",
     "text": [
      "C:\\Users\\LEm\\Anaconda3\\lib\\site-packages\\sklearn\\model_selection\\_validation.py:548: FitFailedWarning: Estimator fit failed. The score on this train-test partition for these parameters will be set to nan. Details: \n",
      "Traceback (most recent call last):\n",
      "  File \"C:\\Users\\LEm\\Anaconda3\\lib\\site-packages\\sklearn\\model_selection\\_validation.py\", line 531, in _fit_and_score\n",
      "    estimator.fit(X_train, y_train, **fit_params)\n",
      "  File \"C:\\Users\\LEm\\Anaconda3\\lib\\site-packages\\sklearn\\neural_network\\_multilayer_perceptron.py\", line 1027, in fit\n",
      "    return self._fit(X, y, incremental=(self.warm_start and\n",
      "  File \"C:\\Users\\LEm\\Anaconda3\\lib\\site-packages\\sklearn\\neural_network\\_multilayer_perceptron.py\", line 375, in _fit\n",
      "    self._fit_lbfgs(X, y, activations, deltas, coef_grads,\n",
      "  File \"C:\\Users\\LEm\\Anaconda3\\lib\\site-packages\\sklearn\\neural_network\\_multilayer_perceptron.py\", line 471, in _fit_lbfgs\n",
      "    self.n_iter_ = _check_optimize_result(\"lbfgs\", opt_res, self.max_iter)\n",
      "  File \"C:\\Users\\LEm\\Anaconda3\\lib\\site-packages\\sklearn\\utils\\optimize.py\", line 243, in _check_optimize_result\n",
      "    ).format(solver, result.status, result.message.decode(\"latin1\"))\n",
      "AttributeError: 'str' object has no attribute 'decode'\n",
      "\n",
      "  warnings.warn(\"Estimator fit failed. The score on this train-test\"\n"
     ]
    },
    {
     "name": "stdout",
     "output_type": "stream",
     "text": [
      "[CV]  solver=lbfgs, hidden_layer_sizes=47, alpha=1.0, score=nan, total=  58.4s\n",
      "[CV] solver=adam, hidden_layer_sizes=30, alpha=1.5 ...................\n",
      "[CV]  solver=adam, hidden_layer_sizes=30, alpha=1.5, score=0.826, total=   3.8s\n",
      "[CV] solver=adam, hidden_layer_sizes=30, alpha=1.5 ...................\n",
      "[CV]  solver=adam, hidden_layer_sizes=30, alpha=1.5, score=0.829, total=   3.6s\n",
      "[CV] solver=adam, hidden_layer_sizes=30, alpha=1.5 ...................\n",
      "[CV]  solver=adam, hidden_layer_sizes=30, alpha=1.5, score=0.826, total=   4.7s\n",
      "[CV] solver=adam, hidden_layer_sizes=30, alpha=1.5 ...................\n",
      "[CV]  solver=adam, hidden_layer_sizes=30, alpha=1.5, score=0.831, total=   5.8s\n",
      "[CV] solver=adam, hidden_layer_sizes=30, alpha=1.5 ...................\n",
      "[CV]  solver=adam, hidden_layer_sizes=30, alpha=1.5, score=0.828, total=   5.3s\n",
      "[CV] solver=lbfgs, hidden_layer_sizes=37, alpha=0.0 ..................\n"
     ]
    },
    {
     "name": "stderr",
     "output_type": "stream",
     "text": [
      "C:\\Users\\LEm\\Anaconda3\\lib\\site-packages\\sklearn\\model_selection\\_validation.py:548: FitFailedWarning: Estimator fit failed. The score on this train-test partition for these parameters will be set to nan. Details: \n",
      "Traceback (most recent call last):\n",
      "  File \"C:\\Users\\LEm\\Anaconda3\\lib\\site-packages\\sklearn\\model_selection\\_validation.py\", line 531, in _fit_and_score\n",
      "    estimator.fit(X_train, y_train, **fit_params)\n",
      "  File \"C:\\Users\\LEm\\Anaconda3\\lib\\site-packages\\sklearn\\neural_network\\_multilayer_perceptron.py\", line 1027, in fit\n",
      "    return self._fit(X, y, incremental=(self.warm_start and\n",
      "  File \"C:\\Users\\LEm\\Anaconda3\\lib\\site-packages\\sklearn\\neural_network\\_multilayer_perceptron.py\", line 375, in _fit\n",
      "    self._fit_lbfgs(X, y, activations, deltas, coef_grads,\n",
      "  File \"C:\\Users\\LEm\\Anaconda3\\lib\\site-packages\\sklearn\\neural_network\\_multilayer_perceptron.py\", line 471, in _fit_lbfgs\n",
      "    self.n_iter_ = _check_optimize_result(\"lbfgs\", opt_res, self.max_iter)\n",
      "  File \"C:\\Users\\LEm\\Anaconda3\\lib\\site-packages\\sklearn\\utils\\optimize.py\", line 243, in _check_optimize_result\n",
      "    ).format(solver, result.status, result.message.decode(\"latin1\"))\n",
      "AttributeError: 'str' object has no attribute 'decode'\n",
      "\n",
      "  warnings.warn(\"Estimator fit failed. The score on this train-test\"\n"
     ]
    },
    {
     "name": "stdout",
     "output_type": "stream",
     "text": [
      "[CV]  solver=lbfgs, hidden_layer_sizes=37, alpha=0.0, score=nan, total=  46.2s\n",
      "[CV] solver=lbfgs, hidden_layer_sizes=37, alpha=0.0 ..................\n"
     ]
    },
    {
     "name": "stderr",
     "output_type": "stream",
     "text": [
      "C:\\Users\\LEm\\Anaconda3\\lib\\site-packages\\sklearn\\model_selection\\_validation.py:548: FitFailedWarning: Estimator fit failed. The score on this train-test partition for these parameters will be set to nan. Details: \n",
      "Traceback (most recent call last):\n",
      "  File \"C:\\Users\\LEm\\Anaconda3\\lib\\site-packages\\sklearn\\model_selection\\_validation.py\", line 531, in _fit_and_score\n",
      "    estimator.fit(X_train, y_train, **fit_params)\n",
      "  File \"C:\\Users\\LEm\\Anaconda3\\lib\\site-packages\\sklearn\\neural_network\\_multilayer_perceptron.py\", line 1027, in fit\n",
      "    return self._fit(X, y, incremental=(self.warm_start and\n",
      "  File \"C:\\Users\\LEm\\Anaconda3\\lib\\site-packages\\sklearn\\neural_network\\_multilayer_perceptron.py\", line 375, in _fit\n",
      "    self._fit_lbfgs(X, y, activations, deltas, coef_grads,\n",
      "  File \"C:\\Users\\LEm\\Anaconda3\\lib\\site-packages\\sklearn\\neural_network\\_multilayer_perceptron.py\", line 471, in _fit_lbfgs\n",
      "    self.n_iter_ = _check_optimize_result(\"lbfgs\", opt_res, self.max_iter)\n",
      "  File \"C:\\Users\\LEm\\Anaconda3\\lib\\site-packages\\sklearn\\utils\\optimize.py\", line 243, in _check_optimize_result\n",
      "    ).format(solver, result.status, result.message.decode(\"latin1\"))\n",
      "AttributeError: 'str' object has no attribute 'decode'\n",
      "\n",
      "  warnings.warn(\"Estimator fit failed. The score on this train-test\"\n"
     ]
    },
    {
     "name": "stdout",
     "output_type": "stream",
     "text": [
      "[CV]  solver=lbfgs, hidden_layer_sizes=37, alpha=0.0, score=nan, total=  45.6s\n",
      "[CV] solver=lbfgs, hidden_layer_sizes=37, alpha=0.0 ..................\n"
     ]
    },
    {
     "name": "stderr",
     "output_type": "stream",
     "text": [
      "C:\\Users\\LEm\\Anaconda3\\lib\\site-packages\\sklearn\\model_selection\\_validation.py:548: FitFailedWarning: Estimator fit failed. The score on this train-test partition for these parameters will be set to nan. Details: \n",
      "Traceback (most recent call last):\n",
      "  File \"C:\\Users\\LEm\\Anaconda3\\lib\\site-packages\\sklearn\\model_selection\\_validation.py\", line 531, in _fit_and_score\n",
      "    estimator.fit(X_train, y_train, **fit_params)\n",
      "  File \"C:\\Users\\LEm\\Anaconda3\\lib\\site-packages\\sklearn\\neural_network\\_multilayer_perceptron.py\", line 1027, in fit\n",
      "    return self._fit(X, y, incremental=(self.warm_start and\n",
      "  File \"C:\\Users\\LEm\\Anaconda3\\lib\\site-packages\\sklearn\\neural_network\\_multilayer_perceptron.py\", line 375, in _fit\n",
      "    self._fit_lbfgs(X, y, activations, deltas, coef_grads,\n",
      "  File \"C:\\Users\\LEm\\Anaconda3\\lib\\site-packages\\sklearn\\neural_network\\_multilayer_perceptron.py\", line 471, in _fit_lbfgs\n",
      "    self.n_iter_ = _check_optimize_result(\"lbfgs\", opt_res, self.max_iter)\n",
      "  File \"C:\\Users\\LEm\\Anaconda3\\lib\\site-packages\\sklearn\\utils\\optimize.py\", line 243, in _check_optimize_result\n",
      "    ).format(solver, result.status, result.message.decode(\"latin1\"))\n",
      "AttributeError: 'str' object has no attribute 'decode'\n",
      "\n",
      "  warnings.warn(\"Estimator fit failed. The score on this train-test\"\n"
     ]
    },
    {
     "name": "stdout",
     "output_type": "stream",
     "text": [
      "[CV]  solver=lbfgs, hidden_layer_sizes=37, alpha=0.0, score=nan, total=  48.4s\n",
      "[CV] solver=lbfgs, hidden_layer_sizes=37, alpha=0.0 ..................\n"
     ]
    },
    {
     "name": "stderr",
     "output_type": "stream",
     "text": [
      "C:\\Users\\LEm\\Anaconda3\\lib\\site-packages\\sklearn\\model_selection\\_validation.py:548: FitFailedWarning: Estimator fit failed. The score on this train-test partition for these parameters will be set to nan. Details: \n",
      "Traceback (most recent call last):\n",
      "  File \"C:\\Users\\LEm\\Anaconda3\\lib\\site-packages\\sklearn\\model_selection\\_validation.py\", line 531, in _fit_and_score\n",
      "    estimator.fit(X_train, y_train, **fit_params)\n",
      "  File \"C:\\Users\\LEm\\Anaconda3\\lib\\site-packages\\sklearn\\neural_network\\_multilayer_perceptron.py\", line 1027, in fit\n",
      "    return self._fit(X, y, incremental=(self.warm_start and\n",
      "  File \"C:\\Users\\LEm\\Anaconda3\\lib\\site-packages\\sklearn\\neural_network\\_multilayer_perceptron.py\", line 375, in _fit\n",
      "    self._fit_lbfgs(X, y, activations, deltas, coef_grads,\n",
      "  File \"C:\\Users\\LEm\\Anaconda3\\lib\\site-packages\\sklearn\\neural_network\\_multilayer_perceptron.py\", line 471, in _fit_lbfgs\n",
      "    self.n_iter_ = _check_optimize_result(\"lbfgs\", opt_res, self.max_iter)\n",
      "  File \"C:\\Users\\LEm\\Anaconda3\\lib\\site-packages\\sklearn\\utils\\optimize.py\", line 243, in _check_optimize_result\n",
      "    ).format(solver, result.status, result.message.decode(\"latin1\"))\n",
      "AttributeError: 'str' object has no attribute 'decode'\n",
      "\n",
      "  warnings.warn(\"Estimator fit failed. The score on this train-test\"\n"
     ]
    },
    {
     "name": "stdout",
     "output_type": "stream",
     "text": [
      "[CV]  solver=lbfgs, hidden_layer_sizes=37, alpha=0.0, score=nan, total=  48.1s\n",
      "[CV] solver=lbfgs, hidden_layer_sizes=37, alpha=0.0 ..................\n"
     ]
    },
    {
     "name": "stderr",
     "output_type": "stream",
     "text": [
      "C:\\Users\\LEm\\Anaconda3\\lib\\site-packages\\sklearn\\model_selection\\_validation.py:548: FitFailedWarning: Estimator fit failed. The score on this train-test partition for these parameters will be set to nan. Details: \n",
      "Traceback (most recent call last):\n",
      "  File \"C:\\Users\\LEm\\Anaconda3\\lib\\site-packages\\sklearn\\model_selection\\_validation.py\", line 531, in _fit_and_score\n",
      "    estimator.fit(X_train, y_train, **fit_params)\n",
      "  File \"C:\\Users\\LEm\\Anaconda3\\lib\\site-packages\\sklearn\\neural_network\\_multilayer_perceptron.py\", line 1027, in fit\n",
      "    return self._fit(X, y, incremental=(self.warm_start and\n",
      "  File \"C:\\Users\\LEm\\Anaconda3\\lib\\site-packages\\sklearn\\neural_network\\_multilayer_perceptron.py\", line 375, in _fit\n",
      "    self._fit_lbfgs(X, y, activations, deltas, coef_grads,\n",
      "  File \"C:\\Users\\LEm\\Anaconda3\\lib\\site-packages\\sklearn\\neural_network\\_multilayer_perceptron.py\", line 471, in _fit_lbfgs\n",
      "    self.n_iter_ = _check_optimize_result(\"lbfgs\", opt_res, self.max_iter)\n",
      "  File \"C:\\Users\\LEm\\Anaconda3\\lib\\site-packages\\sklearn\\utils\\optimize.py\", line 243, in _check_optimize_result\n",
      "    ).format(solver, result.status, result.message.decode(\"latin1\"))\n",
      "AttributeError: 'str' object has no attribute 'decode'\n",
      "\n",
      "  warnings.warn(\"Estimator fit failed. The score on this train-test\"\n",
      "[Parallel(n_jobs=1)]: Done  50 out of  50 | elapsed: 29.5min finished\n"
     ]
    },
    {
     "name": "stdout",
     "output_type": "stream",
     "text": [
      "[CV]  solver=lbfgs, hidden_layer_sizes=37, alpha=0.0, score=nan, total=  45.8s\n",
      "Fitting 5 folds for each of 10 candidates, totalling 50 fits\n",
      "[CV] solver=lbfgs, hidden_layer_sizes=44, alpha=0.0 ..................\n"
     ]
    },
    {
     "name": "stderr",
     "output_type": "stream",
     "text": [
      "[Parallel(n_jobs=1)]: Using backend SequentialBackend with 1 concurrent workers.\n",
      "C:\\Users\\LEm\\Anaconda3\\lib\\site-packages\\sklearn\\model_selection\\_validation.py:548: FitFailedWarning: Estimator fit failed. The score on this train-test partition for these parameters will be set to nan. Details: \n",
      "Traceback (most recent call last):\n",
      "  File \"C:\\Users\\LEm\\Anaconda3\\lib\\site-packages\\sklearn\\model_selection\\_validation.py\", line 531, in _fit_and_score\n",
      "    estimator.fit(X_train, y_train, **fit_params)\n",
      "  File \"C:\\Users\\LEm\\Anaconda3\\lib\\site-packages\\sklearn\\neural_network\\_multilayer_perceptron.py\", line 1027, in fit\n",
      "    return self._fit(X, y, incremental=(self.warm_start and\n",
      "  File \"C:\\Users\\LEm\\Anaconda3\\lib\\site-packages\\sklearn\\neural_network\\_multilayer_perceptron.py\", line 375, in _fit\n",
      "    self._fit_lbfgs(X, y, activations, deltas, coef_grads,\n",
      "  File \"C:\\Users\\LEm\\Anaconda3\\lib\\site-packages\\sklearn\\neural_network\\_multilayer_perceptron.py\", line 471, in _fit_lbfgs\n",
      "    self.n_iter_ = _check_optimize_result(\"lbfgs\", opt_res, self.max_iter)\n",
      "  File \"C:\\Users\\LEm\\Anaconda3\\lib\\site-packages\\sklearn\\utils\\optimize.py\", line 243, in _check_optimize_result\n",
      "    ).format(solver, result.status, result.message.decode(\"latin1\"))\n",
      "AttributeError: 'str' object has no attribute 'decode'\n",
      "\n",
      "  warnings.warn(\"Estimator fit failed. The score on this train-test\"\n",
      "[Parallel(n_jobs=1)]: Done   1 out of   1 | elapsed:  1.0min remaining:    0.0s\n"
     ]
    },
    {
     "name": "stdout",
     "output_type": "stream",
     "text": [
      "[CV]  solver=lbfgs, hidden_layer_sizes=44, alpha=0.0, score=nan, total= 1.0min\n",
      "[CV] solver=lbfgs, hidden_layer_sizes=44, alpha=0.0 ..................\n"
     ]
    },
    {
     "name": "stderr",
     "output_type": "stream",
     "text": [
      "C:\\Users\\LEm\\Anaconda3\\lib\\site-packages\\sklearn\\model_selection\\_validation.py:548: FitFailedWarning: Estimator fit failed. The score on this train-test partition for these parameters will be set to nan. Details: \n",
      "Traceback (most recent call last):\n",
      "  File \"C:\\Users\\LEm\\Anaconda3\\lib\\site-packages\\sklearn\\model_selection\\_validation.py\", line 531, in _fit_and_score\n",
      "    estimator.fit(X_train, y_train, **fit_params)\n",
      "  File \"C:\\Users\\LEm\\Anaconda3\\lib\\site-packages\\sklearn\\neural_network\\_multilayer_perceptron.py\", line 1027, in fit\n",
      "    return self._fit(X, y, incremental=(self.warm_start and\n",
      "  File \"C:\\Users\\LEm\\Anaconda3\\lib\\site-packages\\sklearn\\neural_network\\_multilayer_perceptron.py\", line 375, in _fit\n",
      "    self._fit_lbfgs(X, y, activations, deltas, coef_grads,\n",
      "  File \"C:\\Users\\LEm\\Anaconda3\\lib\\site-packages\\sklearn\\neural_network\\_multilayer_perceptron.py\", line 471, in _fit_lbfgs\n",
      "    self.n_iter_ = _check_optimize_result(\"lbfgs\", opt_res, self.max_iter)\n",
      "  File \"C:\\Users\\LEm\\Anaconda3\\lib\\site-packages\\sklearn\\utils\\optimize.py\", line 243, in _check_optimize_result\n",
      "    ).format(solver, result.status, result.message.decode(\"latin1\"))\n",
      "AttributeError: 'str' object has no attribute 'decode'\n",
      "\n",
      "  warnings.warn(\"Estimator fit failed. The score on this train-test\"\n",
      "[Parallel(n_jobs=1)]: Done   2 out of   2 | elapsed:  2.1min remaining:    0.0s\n"
     ]
    },
    {
     "name": "stdout",
     "output_type": "stream",
     "text": [
      "[CV]  solver=lbfgs, hidden_layer_sizes=44, alpha=0.0, score=nan, total= 1.0min\n",
      "[CV] solver=lbfgs, hidden_layer_sizes=44, alpha=0.0 ..................\n"
     ]
    },
    {
     "name": "stderr",
     "output_type": "stream",
     "text": [
      "C:\\Users\\LEm\\Anaconda3\\lib\\site-packages\\sklearn\\model_selection\\_validation.py:548: FitFailedWarning: Estimator fit failed. The score on this train-test partition for these parameters will be set to nan. Details: \n",
      "Traceback (most recent call last):\n",
      "  File \"C:\\Users\\LEm\\Anaconda3\\lib\\site-packages\\sklearn\\model_selection\\_validation.py\", line 531, in _fit_and_score\n",
      "    estimator.fit(X_train, y_train, **fit_params)\n",
      "  File \"C:\\Users\\LEm\\Anaconda3\\lib\\site-packages\\sklearn\\neural_network\\_multilayer_perceptron.py\", line 1027, in fit\n",
      "    return self._fit(X, y, incremental=(self.warm_start and\n",
      "  File \"C:\\Users\\LEm\\Anaconda3\\lib\\site-packages\\sklearn\\neural_network\\_multilayer_perceptron.py\", line 375, in _fit\n",
      "    self._fit_lbfgs(X, y, activations, deltas, coef_grads,\n",
      "  File \"C:\\Users\\LEm\\Anaconda3\\lib\\site-packages\\sklearn\\neural_network\\_multilayer_perceptron.py\", line 471, in _fit_lbfgs\n",
      "    self.n_iter_ = _check_optimize_result(\"lbfgs\", opt_res, self.max_iter)\n",
      "  File \"C:\\Users\\LEm\\Anaconda3\\lib\\site-packages\\sklearn\\utils\\optimize.py\", line 243, in _check_optimize_result\n",
      "    ).format(solver, result.status, result.message.decode(\"latin1\"))\n",
      "AttributeError: 'str' object has no attribute 'decode'\n",
      "\n",
      "  warnings.warn(\"Estimator fit failed. The score on this train-test\"\n"
     ]
    },
    {
     "name": "stdout",
     "output_type": "stream",
     "text": [
      "[CV]  solver=lbfgs, hidden_layer_sizes=44, alpha=0.0, score=nan, total= 1.1min\n",
      "[CV] solver=lbfgs, hidden_layer_sizes=44, alpha=0.0 ..................\n"
     ]
    },
    {
     "name": "stderr",
     "output_type": "stream",
     "text": [
      "C:\\Users\\LEm\\Anaconda3\\lib\\site-packages\\sklearn\\model_selection\\_validation.py:548: FitFailedWarning: Estimator fit failed. The score on this train-test partition for these parameters will be set to nan. Details: \n",
      "Traceback (most recent call last):\n",
      "  File \"C:\\Users\\LEm\\Anaconda3\\lib\\site-packages\\sklearn\\model_selection\\_validation.py\", line 531, in _fit_and_score\n",
      "    estimator.fit(X_train, y_train, **fit_params)\n",
      "  File \"C:\\Users\\LEm\\Anaconda3\\lib\\site-packages\\sklearn\\neural_network\\_multilayer_perceptron.py\", line 1027, in fit\n",
      "    return self._fit(X, y, incremental=(self.warm_start and\n",
      "  File \"C:\\Users\\LEm\\Anaconda3\\lib\\site-packages\\sklearn\\neural_network\\_multilayer_perceptron.py\", line 375, in _fit\n",
      "    self._fit_lbfgs(X, y, activations, deltas, coef_grads,\n",
      "  File \"C:\\Users\\LEm\\Anaconda3\\lib\\site-packages\\sklearn\\neural_network\\_multilayer_perceptron.py\", line 471, in _fit_lbfgs\n",
      "    self.n_iter_ = _check_optimize_result(\"lbfgs\", opt_res, self.max_iter)\n",
      "  File \"C:\\Users\\LEm\\Anaconda3\\lib\\site-packages\\sklearn\\utils\\optimize.py\", line 243, in _check_optimize_result\n",
      "    ).format(solver, result.status, result.message.decode(\"latin1\"))\n",
      "AttributeError: 'str' object has no attribute 'decode'\n",
      "\n",
      "  warnings.warn(\"Estimator fit failed. The score on this train-test\"\n"
     ]
    },
    {
     "name": "stdout",
     "output_type": "stream",
     "text": [
      "[CV]  solver=lbfgs, hidden_layer_sizes=44, alpha=0.0, score=nan, total= 1.1min\n",
      "[CV] solver=lbfgs, hidden_layer_sizes=44, alpha=0.0 ..................\n"
     ]
    },
    {
     "name": "stderr",
     "output_type": "stream",
     "text": [
      "C:\\Users\\LEm\\Anaconda3\\lib\\site-packages\\sklearn\\model_selection\\_validation.py:548: FitFailedWarning: Estimator fit failed. The score on this train-test partition for these parameters will be set to nan. Details: \n",
      "Traceback (most recent call last):\n",
      "  File \"C:\\Users\\LEm\\Anaconda3\\lib\\site-packages\\sklearn\\model_selection\\_validation.py\", line 531, in _fit_and_score\n",
      "    estimator.fit(X_train, y_train, **fit_params)\n",
      "  File \"C:\\Users\\LEm\\Anaconda3\\lib\\site-packages\\sklearn\\neural_network\\_multilayer_perceptron.py\", line 1027, in fit\n",
      "    return self._fit(X, y, incremental=(self.warm_start and\n",
      "  File \"C:\\Users\\LEm\\Anaconda3\\lib\\site-packages\\sklearn\\neural_network\\_multilayer_perceptron.py\", line 375, in _fit\n",
      "    self._fit_lbfgs(X, y, activations, deltas, coef_grads,\n",
      "  File \"C:\\Users\\LEm\\Anaconda3\\lib\\site-packages\\sklearn\\neural_network\\_multilayer_perceptron.py\", line 471, in _fit_lbfgs\n",
      "    self.n_iter_ = _check_optimize_result(\"lbfgs\", opt_res, self.max_iter)\n",
      "  File \"C:\\Users\\LEm\\Anaconda3\\lib\\site-packages\\sklearn\\utils\\optimize.py\", line 243, in _check_optimize_result\n",
      "    ).format(solver, result.status, result.message.decode(\"latin1\"))\n",
      "AttributeError: 'str' object has no attribute 'decode'\n",
      "\n",
      "  warnings.warn(\"Estimator fit failed. The score on this train-test\"\n"
     ]
    },
    {
     "name": "stdout",
     "output_type": "stream",
     "text": [
      "[CV]  solver=lbfgs, hidden_layer_sizes=44, alpha=0.0, score=nan, total= 1.1min\n",
      "[CV] solver=adam, hidden_layer_sizes=41, alpha=0.5 ...................\n",
      "[CV]  solver=adam, hidden_layer_sizes=41, alpha=0.5, score=0.951, total=   4.9s\n",
      "[CV] solver=adam, hidden_layer_sizes=41, alpha=0.5 ...................\n",
      "[CV]  solver=adam, hidden_layer_sizes=41, alpha=0.5, score=0.956, total=   9.3s\n",
      "[CV] solver=adam, hidden_layer_sizes=41, alpha=0.5 ...................\n",
      "[CV]  solver=adam, hidden_layer_sizes=41, alpha=0.5, score=0.955, total=   9.3s\n",
      "[CV] solver=adam, hidden_layer_sizes=41, alpha=0.5 ...................\n",
      "[CV]  solver=adam, hidden_layer_sizes=41, alpha=0.5, score=0.958, total=  10.2s\n",
      "[CV] solver=adam, hidden_layer_sizes=41, alpha=0.5 ...................\n",
      "[CV]  solver=adam, hidden_layer_sizes=41, alpha=0.5, score=0.957, total=  11.4s\n",
      "[CV] solver=adam, hidden_layer_sizes=38, alpha=1.5 ...................\n",
      "[CV]  solver=adam, hidden_layer_sizes=38, alpha=1.5, score=0.939, total=   4.7s\n",
      "[CV] solver=adam, hidden_layer_sizes=38, alpha=1.5 ...................\n",
      "[CV]  solver=adam, hidden_layer_sizes=38, alpha=1.5, score=0.940, total=   4.5s\n",
      "[CV] solver=adam, hidden_layer_sizes=38, alpha=1.5 ...................\n",
      "[CV]  solver=adam, hidden_layer_sizes=38, alpha=1.5, score=0.943, total=   3.9s\n",
      "[CV] solver=adam, hidden_layer_sizes=38, alpha=1.5 ...................\n",
      "[CV]  solver=adam, hidden_layer_sizes=38, alpha=1.5, score=0.942, total=   4.7s\n",
      "[CV] solver=adam, hidden_layer_sizes=38, alpha=1.5 ...................\n",
      "[CV]  solver=adam, hidden_layer_sizes=38, alpha=1.5, score=0.947, total=   4.6s\n",
      "[CV] solver=lbfgs, hidden_layer_sizes=30, alpha=1.5 ..................\n"
     ]
    },
    {
     "name": "stderr",
     "output_type": "stream",
     "text": [
      "C:\\Users\\LEm\\Anaconda3\\lib\\site-packages\\sklearn\\model_selection\\_validation.py:548: FitFailedWarning: Estimator fit failed. The score on this train-test partition for these parameters will be set to nan. Details: \n",
      "Traceback (most recent call last):\n",
      "  File \"C:\\Users\\LEm\\Anaconda3\\lib\\site-packages\\sklearn\\model_selection\\_validation.py\", line 531, in _fit_and_score\n",
      "    estimator.fit(X_train, y_train, **fit_params)\n",
      "  File \"C:\\Users\\LEm\\Anaconda3\\lib\\site-packages\\sklearn\\neural_network\\_multilayer_perceptron.py\", line 1027, in fit\n",
      "    return self._fit(X, y, incremental=(self.warm_start and\n",
      "  File \"C:\\Users\\LEm\\Anaconda3\\lib\\site-packages\\sklearn\\neural_network\\_multilayer_perceptron.py\", line 375, in _fit\n",
      "    self._fit_lbfgs(X, y, activations, deltas, coef_grads,\n",
      "  File \"C:\\Users\\LEm\\Anaconda3\\lib\\site-packages\\sklearn\\neural_network\\_multilayer_perceptron.py\", line 471, in _fit_lbfgs\n",
      "    self.n_iter_ = _check_optimize_result(\"lbfgs\", opt_res, self.max_iter)\n",
      "  File \"C:\\Users\\LEm\\Anaconda3\\lib\\site-packages\\sklearn\\utils\\optimize.py\", line 243, in _check_optimize_result\n",
      "    ).format(solver, result.status, result.message.decode(\"latin1\"))\n",
      "AttributeError: 'str' object has no attribute 'decode'\n",
      "\n",
      "  warnings.warn(\"Estimator fit failed. The score on this train-test\"\n"
     ]
    },
    {
     "name": "stdout",
     "output_type": "stream",
     "text": [
      "[CV]  solver=lbfgs, hidden_layer_sizes=30, alpha=1.5, score=nan, total=  45.5s\n",
      "[CV] solver=lbfgs, hidden_layer_sizes=30, alpha=1.5 ..................\n"
     ]
    },
    {
     "name": "stderr",
     "output_type": "stream",
     "text": [
      "C:\\Users\\LEm\\Anaconda3\\lib\\site-packages\\sklearn\\model_selection\\_validation.py:548: FitFailedWarning: Estimator fit failed. The score on this train-test partition for these parameters will be set to nan. Details: \n",
      "Traceback (most recent call last):\n",
      "  File \"C:\\Users\\LEm\\Anaconda3\\lib\\site-packages\\sklearn\\model_selection\\_validation.py\", line 531, in _fit_and_score\n",
      "    estimator.fit(X_train, y_train, **fit_params)\n",
      "  File \"C:\\Users\\LEm\\Anaconda3\\lib\\site-packages\\sklearn\\neural_network\\_multilayer_perceptron.py\", line 1027, in fit\n",
      "    return self._fit(X, y, incremental=(self.warm_start and\n",
      "  File \"C:\\Users\\LEm\\Anaconda3\\lib\\site-packages\\sklearn\\neural_network\\_multilayer_perceptron.py\", line 375, in _fit\n",
      "    self._fit_lbfgs(X, y, activations, deltas, coef_grads,\n",
      "  File \"C:\\Users\\LEm\\Anaconda3\\lib\\site-packages\\sklearn\\neural_network\\_multilayer_perceptron.py\", line 471, in _fit_lbfgs\n",
      "    self.n_iter_ = _check_optimize_result(\"lbfgs\", opt_res, self.max_iter)\n",
      "  File \"C:\\Users\\LEm\\Anaconda3\\lib\\site-packages\\sklearn\\utils\\optimize.py\", line 243, in _check_optimize_result\n",
      "    ).format(solver, result.status, result.message.decode(\"latin1\"))\n",
      "AttributeError: 'str' object has no attribute 'decode'\n",
      "\n",
      "  warnings.warn(\"Estimator fit failed. The score on this train-test\"\n"
     ]
    },
    {
     "name": "stdout",
     "output_type": "stream",
     "text": [
      "[CV]  solver=lbfgs, hidden_layer_sizes=30, alpha=1.5, score=nan, total=  46.8s\n",
      "[CV] solver=lbfgs, hidden_layer_sizes=30, alpha=1.5 ..................\n"
     ]
    },
    {
     "name": "stderr",
     "output_type": "stream",
     "text": [
      "C:\\Users\\LEm\\Anaconda3\\lib\\site-packages\\sklearn\\model_selection\\_validation.py:548: FitFailedWarning: Estimator fit failed. The score on this train-test partition for these parameters will be set to nan. Details: \n",
      "Traceback (most recent call last):\n",
      "  File \"C:\\Users\\LEm\\Anaconda3\\lib\\site-packages\\sklearn\\model_selection\\_validation.py\", line 531, in _fit_and_score\n",
      "    estimator.fit(X_train, y_train, **fit_params)\n",
      "  File \"C:\\Users\\LEm\\Anaconda3\\lib\\site-packages\\sklearn\\neural_network\\_multilayer_perceptron.py\", line 1027, in fit\n",
      "    return self._fit(X, y, incremental=(self.warm_start and\n",
      "  File \"C:\\Users\\LEm\\Anaconda3\\lib\\site-packages\\sklearn\\neural_network\\_multilayer_perceptron.py\", line 375, in _fit\n",
      "    self._fit_lbfgs(X, y, activations, deltas, coef_grads,\n",
      "  File \"C:\\Users\\LEm\\Anaconda3\\lib\\site-packages\\sklearn\\neural_network\\_multilayer_perceptron.py\", line 471, in _fit_lbfgs\n",
      "    self.n_iter_ = _check_optimize_result(\"lbfgs\", opt_res, self.max_iter)\n",
      "  File \"C:\\Users\\LEm\\Anaconda3\\lib\\site-packages\\sklearn\\utils\\optimize.py\", line 243, in _check_optimize_result\n",
      "    ).format(solver, result.status, result.message.decode(\"latin1\"))\n",
      "AttributeError: 'str' object has no attribute 'decode'\n",
      "\n",
      "  warnings.warn(\"Estimator fit failed. The score on this train-test\"\n"
     ]
    },
    {
     "name": "stdout",
     "output_type": "stream",
     "text": [
      "[CV]  solver=lbfgs, hidden_layer_sizes=30, alpha=1.5, score=nan, total=  45.5s\n",
      "[CV] solver=lbfgs, hidden_layer_sizes=30, alpha=1.5 ..................\n"
     ]
    },
    {
     "name": "stderr",
     "output_type": "stream",
     "text": [
      "C:\\Users\\LEm\\Anaconda3\\lib\\site-packages\\sklearn\\model_selection\\_validation.py:548: FitFailedWarning: Estimator fit failed. The score on this train-test partition for these parameters will be set to nan. Details: \n",
      "Traceback (most recent call last):\n",
      "  File \"C:\\Users\\LEm\\Anaconda3\\lib\\site-packages\\sklearn\\model_selection\\_validation.py\", line 531, in _fit_and_score\n",
      "    estimator.fit(X_train, y_train, **fit_params)\n",
      "  File \"C:\\Users\\LEm\\Anaconda3\\lib\\site-packages\\sklearn\\neural_network\\_multilayer_perceptron.py\", line 1027, in fit\n",
      "    return self._fit(X, y, incremental=(self.warm_start and\n",
      "  File \"C:\\Users\\LEm\\Anaconda3\\lib\\site-packages\\sklearn\\neural_network\\_multilayer_perceptron.py\", line 375, in _fit\n",
      "    self._fit_lbfgs(X, y, activations, deltas, coef_grads,\n",
      "  File \"C:\\Users\\LEm\\Anaconda3\\lib\\site-packages\\sklearn\\neural_network\\_multilayer_perceptron.py\", line 471, in _fit_lbfgs\n",
      "    self.n_iter_ = _check_optimize_result(\"lbfgs\", opt_res, self.max_iter)\n",
      "  File \"C:\\Users\\LEm\\Anaconda3\\lib\\site-packages\\sklearn\\utils\\optimize.py\", line 243, in _check_optimize_result\n",
      "    ).format(solver, result.status, result.message.decode(\"latin1\"))\n",
      "AttributeError: 'str' object has no attribute 'decode'\n",
      "\n",
      "  warnings.warn(\"Estimator fit failed. The score on this train-test\"\n"
     ]
    },
    {
     "name": "stdout",
     "output_type": "stream",
     "text": [
      "[CV]  solver=lbfgs, hidden_layer_sizes=30, alpha=1.5, score=nan, total=  45.7s\n",
      "[CV] solver=lbfgs, hidden_layer_sizes=30, alpha=1.5 ..................\n"
     ]
    },
    {
     "name": "stderr",
     "output_type": "stream",
     "text": [
      "C:\\Users\\LEm\\Anaconda3\\lib\\site-packages\\sklearn\\model_selection\\_validation.py:548: FitFailedWarning: Estimator fit failed. The score on this train-test partition for these parameters will be set to nan. Details: \n",
      "Traceback (most recent call last):\n",
      "  File \"C:\\Users\\LEm\\Anaconda3\\lib\\site-packages\\sklearn\\model_selection\\_validation.py\", line 531, in _fit_and_score\n",
      "    estimator.fit(X_train, y_train, **fit_params)\n",
      "  File \"C:\\Users\\LEm\\Anaconda3\\lib\\site-packages\\sklearn\\neural_network\\_multilayer_perceptron.py\", line 1027, in fit\n",
      "    return self._fit(X, y, incremental=(self.warm_start and\n",
      "  File \"C:\\Users\\LEm\\Anaconda3\\lib\\site-packages\\sklearn\\neural_network\\_multilayer_perceptron.py\", line 375, in _fit\n",
      "    self._fit_lbfgs(X, y, activations, deltas, coef_grads,\n",
      "  File \"C:\\Users\\LEm\\Anaconda3\\lib\\site-packages\\sklearn\\neural_network\\_multilayer_perceptron.py\", line 471, in _fit_lbfgs\n",
      "    self.n_iter_ = _check_optimize_result(\"lbfgs\", opt_res, self.max_iter)\n",
      "  File \"C:\\Users\\LEm\\Anaconda3\\lib\\site-packages\\sklearn\\utils\\optimize.py\", line 243, in _check_optimize_result\n",
      "    ).format(solver, result.status, result.message.decode(\"latin1\"))\n",
      "AttributeError: 'str' object has no attribute 'decode'\n",
      "\n",
      "  warnings.warn(\"Estimator fit failed. The score on this train-test\"\n"
     ]
    },
    {
     "name": "stdout",
     "output_type": "stream",
     "text": [
      "[CV]  solver=lbfgs, hidden_layer_sizes=30, alpha=1.5, score=nan, total=  49.3s\n",
      "[CV] solver=adam, hidden_layer_sizes=45, alpha=0.0 ...................\n",
      "[CV]  solver=adam, hidden_layer_sizes=45, alpha=0.0, score=0.966, total=  57.1s\n",
      "[CV] solver=adam, hidden_layer_sizes=45, alpha=0.0 ...................\n",
      "[CV]  solver=adam, hidden_layer_sizes=45, alpha=0.0, score=0.968, total=  45.3s\n",
      "[CV] solver=adam, hidden_layer_sizes=45, alpha=0.0 ...................\n",
      "[CV]  solver=adam, hidden_layer_sizes=45, alpha=0.0, score=0.963, total=  56.3s\n",
      "[CV] solver=adam, hidden_layer_sizes=45, alpha=0.0 ...................\n",
      "[CV]  solver=adam, hidden_layer_sizes=45, alpha=0.0, score=0.973, total=  52.8s\n",
      "[CV] solver=adam, hidden_layer_sizes=45, alpha=0.0 ...................\n",
      "[CV]  solver=adam, hidden_layer_sizes=45, alpha=0.0, score=0.970, total=  50.4s\n",
      "[CV] solver=lbfgs, hidden_layer_sizes=30, alpha=1.0 ..................\n"
     ]
    },
    {
     "name": "stderr",
     "output_type": "stream",
     "text": [
      "C:\\Users\\LEm\\Anaconda3\\lib\\site-packages\\sklearn\\model_selection\\_validation.py:548: FitFailedWarning: Estimator fit failed. The score on this train-test partition for these parameters will be set to nan. Details: \n",
      "Traceback (most recent call last):\n",
      "  File \"C:\\Users\\LEm\\Anaconda3\\lib\\site-packages\\sklearn\\model_selection\\_validation.py\", line 531, in _fit_and_score\n",
      "    estimator.fit(X_train, y_train, **fit_params)\n",
      "  File \"C:\\Users\\LEm\\Anaconda3\\lib\\site-packages\\sklearn\\neural_network\\_multilayer_perceptron.py\", line 1027, in fit\n",
      "    return self._fit(X, y, incremental=(self.warm_start and\n",
      "  File \"C:\\Users\\LEm\\Anaconda3\\lib\\site-packages\\sklearn\\neural_network\\_multilayer_perceptron.py\", line 375, in _fit\n",
      "    self._fit_lbfgs(X, y, activations, deltas, coef_grads,\n",
      "  File \"C:\\Users\\LEm\\Anaconda3\\lib\\site-packages\\sklearn\\neural_network\\_multilayer_perceptron.py\", line 471, in _fit_lbfgs\n",
      "    self.n_iter_ = _check_optimize_result(\"lbfgs\", opt_res, self.max_iter)\n",
      "  File \"C:\\Users\\LEm\\Anaconda3\\lib\\site-packages\\sklearn\\utils\\optimize.py\", line 243, in _check_optimize_result\n",
      "    ).format(solver, result.status, result.message.decode(\"latin1\"))\n",
      "AttributeError: 'str' object has no attribute 'decode'\n",
      "\n",
      "  warnings.warn(\"Estimator fit failed. The score on this train-test\"\n"
     ]
    },
    {
     "name": "stdout",
     "output_type": "stream",
     "text": [
      "[CV]  solver=lbfgs, hidden_layer_sizes=30, alpha=1.0, score=nan, total=  48.4s\n",
      "[CV] solver=lbfgs, hidden_layer_sizes=30, alpha=1.0 ..................\n"
     ]
    },
    {
     "name": "stderr",
     "output_type": "stream",
     "text": [
      "C:\\Users\\LEm\\Anaconda3\\lib\\site-packages\\sklearn\\model_selection\\_validation.py:548: FitFailedWarning: Estimator fit failed. The score on this train-test partition for these parameters will be set to nan. Details: \n",
      "Traceback (most recent call last):\n",
      "  File \"C:\\Users\\LEm\\Anaconda3\\lib\\site-packages\\sklearn\\model_selection\\_validation.py\", line 531, in _fit_and_score\n",
      "    estimator.fit(X_train, y_train, **fit_params)\n",
      "  File \"C:\\Users\\LEm\\Anaconda3\\lib\\site-packages\\sklearn\\neural_network\\_multilayer_perceptron.py\", line 1027, in fit\n",
      "    return self._fit(X, y, incremental=(self.warm_start and\n",
      "  File \"C:\\Users\\LEm\\Anaconda3\\lib\\site-packages\\sklearn\\neural_network\\_multilayer_perceptron.py\", line 375, in _fit\n",
      "    self._fit_lbfgs(X, y, activations, deltas, coef_grads,\n",
      "  File \"C:\\Users\\LEm\\Anaconda3\\lib\\site-packages\\sklearn\\neural_network\\_multilayer_perceptron.py\", line 471, in _fit_lbfgs\n",
      "    self.n_iter_ = _check_optimize_result(\"lbfgs\", opt_res, self.max_iter)\n",
      "  File \"C:\\Users\\LEm\\Anaconda3\\lib\\site-packages\\sklearn\\utils\\optimize.py\", line 243, in _check_optimize_result\n",
      "    ).format(solver, result.status, result.message.decode(\"latin1\"))\n",
      "AttributeError: 'str' object has no attribute 'decode'\n",
      "\n",
      "  warnings.warn(\"Estimator fit failed. The score on this train-test\"\n"
     ]
    },
    {
     "name": "stdout",
     "output_type": "stream",
     "text": [
      "[CV]  solver=lbfgs, hidden_layer_sizes=30, alpha=1.0, score=nan, total=  48.4s\n",
      "[CV] solver=lbfgs, hidden_layer_sizes=30, alpha=1.0 ..................\n"
     ]
    },
    {
     "name": "stderr",
     "output_type": "stream",
     "text": [
      "C:\\Users\\LEm\\Anaconda3\\lib\\site-packages\\sklearn\\model_selection\\_validation.py:548: FitFailedWarning: Estimator fit failed. The score on this train-test partition for these parameters will be set to nan. Details: \n",
      "Traceback (most recent call last):\n",
      "  File \"C:\\Users\\LEm\\Anaconda3\\lib\\site-packages\\sklearn\\model_selection\\_validation.py\", line 531, in _fit_and_score\n",
      "    estimator.fit(X_train, y_train, **fit_params)\n",
      "  File \"C:\\Users\\LEm\\Anaconda3\\lib\\site-packages\\sklearn\\neural_network\\_multilayer_perceptron.py\", line 1027, in fit\n",
      "    return self._fit(X, y, incremental=(self.warm_start and\n",
      "  File \"C:\\Users\\LEm\\Anaconda3\\lib\\site-packages\\sklearn\\neural_network\\_multilayer_perceptron.py\", line 375, in _fit\n",
      "    self._fit_lbfgs(X, y, activations, deltas, coef_grads,\n",
      "  File \"C:\\Users\\LEm\\Anaconda3\\lib\\site-packages\\sklearn\\neural_network\\_multilayer_perceptron.py\", line 471, in _fit_lbfgs\n",
      "    self.n_iter_ = _check_optimize_result(\"lbfgs\", opt_res, self.max_iter)\n",
      "  File \"C:\\Users\\LEm\\Anaconda3\\lib\\site-packages\\sklearn\\utils\\optimize.py\", line 243, in _check_optimize_result\n",
      "    ).format(solver, result.status, result.message.decode(\"latin1\"))\n",
      "AttributeError: 'str' object has no attribute 'decode'\n",
      "\n",
      "  warnings.warn(\"Estimator fit failed. The score on this train-test\"\n"
     ]
    },
    {
     "name": "stdout",
     "output_type": "stream",
     "text": [
      "[CV]  solver=lbfgs, hidden_layer_sizes=30, alpha=1.0, score=nan, total=  45.7s\n",
      "[CV] solver=lbfgs, hidden_layer_sizes=30, alpha=1.0 ..................\n"
     ]
    },
    {
     "name": "stderr",
     "output_type": "stream",
     "text": [
      "C:\\Users\\LEm\\Anaconda3\\lib\\site-packages\\sklearn\\model_selection\\_validation.py:548: FitFailedWarning: Estimator fit failed. The score on this train-test partition for these parameters will be set to nan. Details: \n",
      "Traceback (most recent call last):\n",
      "  File \"C:\\Users\\LEm\\Anaconda3\\lib\\site-packages\\sklearn\\model_selection\\_validation.py\", line 531, in _fit_and_score\n",
      "    estimator.fit(X_train, y_train, **fit_params)\n",
      "  File \"C:\\Users\\LEm\\Anaconda3\\lib\\site-packages\\sklearn\\neural_network\\_multilayer_perceptron.py\", line 1027, in fit\n",
      "    return self._fit(X, y, incremental=(self.warm_start and\n",
      "  File \"C:\\Users\\LEm\\Anaconda3\\lib\\site-packages\\sklearn\\neural_network\\_multilayer_perceptron.py\", line 375, in _fit\n",
      "    self._fit_lbfgs(X, y, activations, deltas, coef_grads,\n",
      "  File \"C:\\Users\\LEm\\Anaconda3\\lib\\site-packages\\sklearn\\neural_network\\_multilayer_perceptron.py\", line 471, in _fit_lbfgs\n",
      "    self.n_iter_ = _check_optimize_result(\"lbfgs\", opt_res, self.max_iter)\n",
      "  File \"C:\\Users\\LEm\\Anaconda3\\lib\\site-packages\\sklearn\\utils\\optimize.py\", line 243, in _check_optimize_result\n",
      "    ).format(solver, result.status, result.message.decode(\"latin1\"))\n",
      "AttributeError: 'str' object has no attribute 'decode'\n",
      "\n",
      "  warnings.warn(\"Estimator fit failed. The score on this train-test\"\n"
     ]
    },
    {
     "name": "stdout",
     "output_type": "stream",
     "text": [
      "[CV]  solver=lbfgs, hidden_layer_sizes=30, alpha=1.0, score=nan, total=  44.0s\n",
      "[CV] solver=lbfgs, hidden_layer_sizes=30, alpha=1.0 ..................\n"
     ]
    },
    {
     "name": "stderr",
     "output_type": "stream",
     "text": [
      "C:\\Users\\LEm\\Anaconda3\\lib\\site-packages\\sklearn\\model_selection\\_validation.py:548: FitFailedWarning: Estimator fit failed. The score on this train-test partition for these parameters will be set to nan. Details: \n",
      "Traceback (most recent call last):\n",
      "  File \"C:\\Users\\LEm\\Anaconda3\\lib\\site-packages\\sklearn\\model_selection\\_validation.py\", line 531, in _fit_and_score\n",
      "    estimator.fit(X_train, y_train, **fit_params)\n",
      "  File \"C:\\Users\\LEm\\Anaconda3\\lib\\site-packages\\sklearn\\neural_network\\_multilayer_perceptron.py\", line 1027, in fit\n",
      "    return self._fit(X, y, incremental=(self.warm_start and\n",
      "  File \"C:\\Users\\LEm\\Anaconda3\\lib\\site-packages\\sklearn\\neural_network\\_multilayer_perceptron.py\", line 375, in _fit\n",
      "    self._fit_lbfgs(X, y, activations, deltas, coef_grads,\n",
      "  File \"C:\\Users\\LEm\\Anaconda3\\lib\\site-packages\\sklearn\\neural_network\\_multilayer_perceptron.py\", line 471, in _fit_lbfgs\n",
      "    self.n_iter_ = _check_optimize_result(\"lbfgs\", opt_res, self.max_iter)\n",
      "  File \"C:\\Users\\LEm\\Anaconda3\\lib\\site-packages\\sklearn\\utils\\optimize.py\", line 243, in _check_optimize_result\n",
      "    ).format(solver, result.status, result.message.decode(\"latin1\"))\n",
      "AttributeError: 'str' object has no attribute 'decode'\n",
      "\n",
      "  warnings.warn(\"Estimator fit failed. The score on this train-test\"\n"
     ]
    },
    {
     "name": "stdout",
     "output_type": "stream",
     "text": [
      "[CV]  solver=lbfgs, hidden_layer_sizes=30, alpha=1.0, score=nan, total=  44.9s\n",
      "[CV] solver=lbfgs, hidden_layer_sizes=43, alpha=1.0 ..................\n"
     ]
    },
    {
     "name": "stderr",
     "output_type": "stream",
     "text": [
      "C:\\Users\\LEm\\Anaconda3\\lib\\site-packages\\sklearn\\model_selection\\_validation.py:548: FitFailedWarning: Estimator fit failed. The score on this train-test partition for these parameters will be set to nan. Details: \n",
      "Traceback (most recent call last):\n",
      "  File \"C:\\Users\\LEm\\Anaconda3\\lib\\site-packages\\sklearn\\model_selection\\_validation.py\", line 531, in _fit_and_score\n",
      "    estimator.fit(X_train, y_train, **fit_params)\n",
      "  File \"C:\\Users\\LEm\\Anaconda3\\lib\\site-packages\\sklearn\\neural_network\\_multilayer_perceptron.py\", line 1027, in fit\n",
      "    return self._fit(X, y, incremental=(self.warm_start and\n",
      "  File \"C:\\Users\\LEm\\Anaconda3\\lib\\site-packages\\sklearn\\neural_network\\_multilayer_perceptron.py\", line 375, in _fit\n",
      "    self._fit_lbfgs(X, y, activations, deltas, coef_grads,\n",
      "  File \"C:\\Users\\LEm\\Anaconda3\\lib\\site-packages\\sklearn\\neural_network\\_multilayer_perceptron.py\", line 471, in _fit_lbfgs\n",
      "    self.n_iter_ = _check_optimize_result(\"lbfgs\", opt_res, self.max_iter)\n",
      "  File \"C:\\Users\\LEm\\Anaconda3\\lib\\site-packages\\sklearn\\utils\\optimize.py\", line 243, in _check_optimize_result\n",
      "    ).format(solver, result.status, result.message.decode(\"latin1\"))\n",
      "AttributeError: 'str' object has no attribute 'decode'\n",
      "\n",
      "  warnings.warn(\"Estimator fit failed. The score on this train-test\"\n"
     ]
    },
    {
     "name": "stdout",
     "output_type": "stream",
     "text": [
      "[CV]  solver=lbfgs, hidden_layer_sizes=43, alpha=1.0, score=nan, total= 1.0min\n",
      "[CV] solver=lbfgs, hidden_layer_sizes=43, alpha=1.0 ..................\n"
     ]
    },
    {
     "name": "stderr",
     "output_type": "stream",
     "text": [
      "C:\\Users\\LEm\\Anaconda3\\lib\\site-packages\\sklearn\\model_selection\\_validation.py:548: FitFailedWarning: Estimator fit failed. The score on this train-test partition for these parameters will be set to nan. Details: \n",
      "Traceback (most recent call last):\n",
      "  File \"C:\\Users\\LEm\\Anaconda3\\lib\\site-packages\\sklearn\\model_selection\\_validation.py\", line 531, in _fit_and_score\n",
      "    estimator.fit(X_train, y_train, **fit_params)\n",
      "  File \"C:\\Users\\LEm\\Anaconda3\\lib\\site-packages\\sklearn\\neural_network\\_multilayer_perceptron.py\", line 1027, in fit\n",
      "    return self._fit(X, y, incremental=(self.warm_start and\n",
      "  File \"C:\\Users\\LEm\\Anaconda3\\lib\\site-packages\\sklearn\\neural_network\\_multilayer_perceptron.py\", line 375, in _fit\n",
      "    self._fit_lbfgs(X, y, activations, deltas, coef_grads,\n",
      "  File \"C:\\Users\\LEm\\Anaconda3\\lib\\site-packages\\sklearn\\neural_network\\_multilayer_perceptron.py\", line 471, in _fit_lbfgs\n",
      "    self.n_iter_ = _check_optimize_result(\"lbfgs\", opt_res, self.max_iter)\n",
      "  File \"C:\\Users\\LEm\\Anaconda3\\lib\\site-packages\\sklearn\\utils\\optimize.py\", line 243, in _check_optimize_result\n",
      "    ).format(solver, result.status, result.message.decode(\"latin1\"))\n",
      "AttributeError: 'str' object has no attribute 'decode'\n",
      "\n",
      "  warnings.warn(\"Estimator fit failed. The score on this train-test\"\n"
     ]
    },
    {
     "name": "stdout",
     "output_type": "stream",
     "text": [
      "[CV]  solver=lbfgs, hidden_layer_sizes=43, alpha=1.0, score=nan, total= 1.1min\n",
      "[CV] solver=lbfgs, hidden_layer_sizes=43, alpha=1.0 ..................\n"
     ]
    },
    {
     "name": "stderr",
     "output_type": "stream",
     "text": [
      "C:\\Users\\LEm\\Anaconda3\\lib\\site-packages\\sklearn\\model_selection\\_validation.py:548: FitFailedWarning: Estimator fit failed. The score on this train-test partition for these parameters will be set to nan. Details: \n",
      "Traceback (most recent call last):\n",
      "  File \"C:\\Users\\LEm\\Anaconda3\\lib\\site-packages\\sklearn\\model_selection\\_validation.py\", line 531, in _fit_and_score\n",
      "    estimator.fit(X_train, y_train, **fit_params)\n",
      "  File \"C:\\Users\\LEm\\Anaconda3\\lib\\site-packages\\sklearn\\neural_network\\_multilayer_perceptron.py\", line 1027, in fit\n",
      "    return self._fit(X, y, incremental=(self.warm_start and\n",
      "  File \"C:\\Users\\LEm\\Anaconda3\\lib\\site-packages\\sklearn\\neural_network\\_multilayer_perceptron.py\", line 375, in _fit\n",
      "    self._fit_lbfgs(X, y, activations, deltas, coef_grads,\n",
      "  File \"C:\\Users\\LEm\\Anaconda3\\lib\\site-packages\\sklearn\\neural_network\\_multilayer_perceptron.py\", line 471, in _fit_lbfgs\n",
      "    self.n_iter_ = _check_optimize_result(\"lbfgs\", opt_res, self.max_iter)\n",
      "  File \"C:\\Users\\LEm\\Anaconda3\\lib\\site-packages\\sklearn\\utils\\optimize.py\", line 243, in _check_optimize_result\n",
      "    ).format(solver, result.status, result.message.decode(\"latin1\"))\n",
      "AttributeError: 'str' object has no attribute 'decode'\n",
      "\n",
      "  warnings.warn(\"Estimator fit failed. The score on this train-test\"\n"
     ]
    },
    {
     "name": "stdout",
     "output_type": "stream",
     "text": [
      "[CV]  solver=lbfgs, hidden_layer_sizes=43, alpha=1.0, score=nan, total= 1.0min\n",
      "[CV] solver=lbfgs, hidden_layer_sizes=43, alpha=1.0 ..................\n"
     ]
    },
    {
     "name": "stderr",
     "output_type": "stream",
     "text": [
      "C:\\Users\\LEm\\Anaconda3\\lib\\site-packages\\sklearn\\model_selection\\_validation.py:548: FitFailedWarning: Estimator fit failed. The score on this train-test partition for these parameters will be set to nan. Details: \n",
      "Traceback (most recent call last):\n",
      "  File \"C:\\Users\\LEm\\Anaconda3\\lib\\site-packages\\sklearn\\model_selection\\_validation.py\", line 531, in _fit_and_score\n",
      "    estimator.fit(X_train, y_train, **fit_params)\n",
      "  File \"C:\\Users\\LEm\\Anaconda3\\lib\\site-packages\\sklearn\\neural_network\\_multilayer_perceptron.py\", line 1027, in fit\n",
      "    return self._fit(X, y, incremental=(self.warm_start and\n",
      "  File \"C:\\Users\\LEm\\Anaconda3\\lib\\site-packages\\sklearn\\neural_network\\_multilayer_perceptron.py\", line 375, in _fit\n",
      "    self._fit_lbfgs(X, y, activations, deltas, coef_grads,\n",
      "  File \"C:\\Users\\LEm\\Anaconda3\\lib\\site-packages\\sklearn\\neural_network\\_multilayer_perceptron.py\", line 471, in _fit_lbfgs\n",
      "    self.n_iter_ = _check_optimize_result(\"lbfgs\", opt_res, self.max_iter)\n",
      "  File \"C:\\Users\\LEm\\Anaconda3\\lib\\site-packages\\sklearn\\utils\\optimize.py\", line 243, in _check_optimize_result\n",
      "    ).format(solver, result.status, result.message.decode(\"latin1\"))\n",
      "AttributeError: 'str' object has no attribute 'decode'\n",
      "\n",
      "  warnings.warn(\"Estimator fit failed. The score on this train-test\"\n"
     ]
    },
    {
     "name": "stdout",
     "output_type": "stream",
     "text": [
      "[CV]  solver=lbfgs, hidden_layer_sizes=43, alpha=1.0, score=nan, total= 1.0min\n",
      "[CV] solver=lbfgs, hidden_layer_sizes=43, alpha=1.0 ..................\n"
     ]
    },
    {
     "name": "stderr",
     "output_type": "stream",
     "text": [
      "C:\\Users\\LEm\\Anaconda3\\lib\\site-packages\\sklearn\\model_selection\\_validation.py:548: FitFailedWarning: Estimator fit failed. The score on this train-test partition for these parameters will be set to nan. Details: \n",
      "Traceback (most recent call last):\n",
      "  File \"C:\\Users\\LEm\\Anaconda3\\lib\\site-packages\\sklearn\\model_selection\\_validation.py\", line 531, in _fit_and_score\n",
      "    estimator.fit(X_train, y_train, **fit_params)\n",
      "  File \"C:\\Users\\LEm\\Anaconda3\\lib\\site-packages\\sklearn\\neural_network\\_multilayer_perceptron.py\", line 1027, in fit\n",
      "    return self._fit(X, y, incremental=(self.warm_start and\n",
      "  File \"C:\\Users\\LEm\\Anaconda3\\lib\\site-packages\\sklearn\\neural_network\\_multilayer_perceptron.py\", line 375, in _fit\n",
      "    self._fit_lbfgs(X, y, activations, deltas, coef_grads,\n",
      "  File \"C:\\Users\\LEm\\Anaconda3\\lib\\site-packages\\sklearn\\neural_network\\_multilayer_perceptron.py\", line 471, in _fit_lbfgs\n",
      "    self.n_iter_ = _check_optimize_result(\"lbfgs\", opt_res, self.max_iter)\n",
      "  File \"C:\\Users\\LEm\\Anaconda3\\lib\\site-packages\\sklearn\\utils\\optimize.py\", line 243, in _check_optimize_result\n",
      "    ).format(solver, result.status, result.message.decode(\"latin1\"))\n",
      "AttributeError: 'str' object has no attribute 'decode'\n",
      "\n",
      "  warnings.warn(\"Estimator fit failed. The score on this train-test\"\n"
     ]
    },
    {
     "name": "stdout",
     "output_type": "stream",
     "text": [
      "[CV]  solver=lbfgs, hidden_layer_sizes=43, alpha=1.0, score=nan, total= 1.0min\n",
      "[CV] solver=lbfgs, hidden_layer_sizes=61, alpha=0.5 ..................\n"
     ]
    },
    {
     "name": "stderr",
     "output_type": "stream",
     "text": [
      "C:\\Users\\LEm\\Anaconda3\\lib\\site-packages\\sklearn\\model_selection\\_validation.py:548: FitFailedWarning: Estimator fit failed. The score on this train-test partition for these parameters will be set to nan. Details: \n",
      "Traceback (most recent call last):\n",
      "  File \"C:\\Users\\LEm\\Anaconda3\\lib\\site-packages\\sklearn\\model_selection\\_validation.py\", line 531, in _fit_and_score\n",
      "    estimator.fit(X_train, y_train, **fit_params)\n",
      "  File \"C:\\Users\\LEm\\Anaconda3\\lib\\site-packages\\sklearn\\neural_network\\_multilayer_perceptron.py\", line 1027, in fit\n",
      "    return self._fit(X, y, incremental=(self.warm_start and\n",
      "  File \"C:\\Users\\LEm\\Anaconda3\\lib\\site-packages\\sklearn\\neural_network\\_multilayer_perceptron.py\", line 375, in _fit\n",
      "    self._fit_lbfgs(X, y, activations, deltas, coef_grads,\n",
      "  File \"C:\\Users\\LEm\\Anaconda3\\lib\\site-packages\\sklearn\\neural_network\\_multilayer_perceptron.py\", line 471, in _fit_lbfgs\n",
      "    self.n_iter_ = _check_optimize_result(\"lbfgs\", opt_res, self.max_iter)\n",
      "  File \"C:\\Users\\LEm\\Anaconda3\\lib\\site-packages\\sklearn\\utils\\optimize.py\", line 243, in _check_optimize_result\n",
      "    ).format(solver, result.status, result.message.decode(\"latin1\"))\n",
      "AttributeError: 'str' object has no attribute 'decode'\n",
      "\n",
      "  warnings.warn(\"Estimator fit failed. The score on this train-test\"\n"
     ]
    },
    {
     "name": "stdout",
     "output_type": "stream",
     "text": [
      "[CV]  solver=lbfgs, hidden_layer_sizes=61, alpha=0.5, score=nan, total= 1.5min\n",
      "[CV] solver=lbfgs, hidden_layer_sizes=61, alpha=0.5 ..................\n"
     ]
    },
    {
     "name": "stderr",
     "output_type": "stream",
     "text": [
      "C:\\Users\\LEm\\Anaconda3\\lib\\site-packages\\sklearn\\model_selection\\_validation.py:548: FitFailedWarning: Estimator fit failed. The score on this train-test partition for these parameters will be set to nan. Details: \n",
      "Traceback (most recent call last):\n",
      "  File \"C:\\Users\\LEm\\Anaconda3\\lib\\site-packages\\sklearn\\model_selection\\_validation.py\", line 531, in _fit_and_score\n",
      "    estimator.fit(X_train, y_train, **fit_params)\n",
      "  File \"C:\\Users\\LEm\\Anaconda3\\lib\\site-packages\\sklearn\\neural_network\\_multilayer_perceptron.py\", line 1027, in fit\n",
      "    return self._fit(X, y, incremental=(self.warm_start and\n",
      "  File \"C:\\Users\\LEm\\Anaconda3\\lib\\site-packages\\sklearn\\neural_network\\_multilayer_perceptron.py\", line 375, in _fit\n",
      "    self._fit_lbfgs(X, y, activations, deltas, coef_grads,\n",
      "  File \"C:\\Users\\LEm\\Anaconda3\\lib\\site-packages\\sklearn\\neural_network\\_multilayer_perceptron.py\", line 471, in _fit_lbfgs\n",
      "    self.n_iter_ = _check_optimize_result(\"lbfgs\", opt_res, self.max_iter)\n",
      "  File \"C:\\Users\\LEm\\Anaconda3\\lib\\site-packages\\sklearn\\utils\\optimize.py\", line 243, in _check_optimize_result\n",
      "    ).format(solver, result.status, result.message.decode(\"latin1\"))\n",
      "AttributeError: 'str' object has no attribute 'decode'\n",
      "\n",
      "  warnings.warn(\"Estimator fit failed. The score on this train-test\"\n"
     ]
    },
    {
     "name": "stdout",
     "output_type": "stream",
     "text": [
      "[CV]  solver=lbfgs, hidden_layer_sizes=61, alpha=0.5, score=nan, total= 1.5min\n",
      "[CV] solver=lbfgs, hidden_layer_sizes=61, alpha=0.5 ..................\n"
     ]
    },
    {
     "name": "stderr",
     "output_type": "stream",
     "text": [
      "C:\\Users\\LEm\\Anaconda3\\lib\\site-packages\\sklearn\\model_selection\\_validation.py:548: FitFailedWarning: Estimator fit failed. The score on this train-test partition for these parameters will be set to nan. Details: \n",
      "Traceback (most recent call last):\n",
      "  File \"C:\\Users\\LEm\\Anaconda3\\lib\\site-packages\\sklearn\\model_selection\\_validation.py\", line 531, in _fit_and_score\n",
      "    estimator.fit(X_train, y_train, **fit_params)\n",
      "  File \"C:\\Users\\LEm\\Anaconda3\\lib\\site-packages\\sklearn\\neural_network\\_multilayer_perceptron.py\", line 1027, in fit\n",
      "    return self._fit(X, y, incremental=(self.warm_start and\n",
      "  File \"C:\\Users\\LEm\\Anaconda3\\lib\\site-packages\\sklearn\\neural_network\\_multilayer_perceptron.py\", line 375, in _fit\n",
      "    self._fit_lbfgs(X, y, activations, deltas, coef_grads,\n",
      "  File \"C:\\Users\\LEm\\Anaconda3\\lib\\site-packages\\sklearn\\neural_network\\_multilayer_perceptron.py\", line 471, in _fit_lbfgs\n",
      "    self.n_iter_ = _check_optimize_result(\"lbfgs\", opt_res, self.max_iter)\n",
      "  File \"C:\\Users\\LEm\\Anaconda3\\lib\\site-packages\\sklearn\\utils\\optimize.py\", line 243, in _check_optimize_result\n",
      "    ).format(solver, result.status, result.message.decode(\"latin1\"))\n",
      "AttributeError: 'str' object has no attribute 'decode'\n",
      "\n",
      "  warnings.warn(\"Estimator fit failed. The score on this train-test\"\n"
     ]
    },
    {
     "name": "stdout",
     "output_type": "stream",
     "text": [
      "[CV]  solver=lbfgs, hidden_layer_sizes=61, alpha=0.5, score=nan, total= 1.5min\n",
      "[CV] solver=lbfgs, hidden_layer_sizes=61, alpha=0.5 ..................\n"
     ]
    },
    {
     "name": "stderr",
     "output_type": "stream",
     "text": [
      "C:\\Users\\LEm\\Anaconda3\\lib\\site-packages\\sklearn\\model_selection\\_validation.py:548: FitFailedWarning: Estimator fit failed. The score on this train-test partition for these parameters will be set to nan. Details: \n",
      "Traceback (most recent call last):\n",
      "  File \"C:\\Users\\LEm\\Anaconda3\\lib\\site-packages\\sklearn\\model_selection\\_validation.py\", line 531, in _fit_and_score\n",
      "    estimator.fit(X_train, y_train, **fit_params)\n",
      "  File \"C:\\Users\\LEm\\Anaconda3\\lib\\site-packages\\sklearn\\neural_network\\_multilayer_perceptron.py\", line 1027, in fit\n",
      "    return self._fit(X, y, incremental=(self.warm_start and\n",
      "  File \"C:\\Users\\LEm\\Anaconda3\\lib\\site-packages\\sklearn\\neural_network\\_multilayer_perceptron.py\", line 375, in _fit\n",
      "    self._fit_lbfgs(X, y, activations, deltas, coef_grads,\n",
      "  File \"C:\\Users\\LEm\\Anaconda3\\lib\\site-packages\\sklearn\\neural_network\\_multilayer_perceptron.py\", line 471, in _fit_lbfgs\n",
      "    self.n_iter_ = _check_optimize_result(\"lbfgs\", opt_res, self.max_iter)\n",
      "  File \"C:\\Users\\LEm\\Anaconda3\\lib\\site-packages\\sklearn\\utils\\optimize.py\", line 243, in _check_optimize_result\n",
      "    ).format(solver, result.status, result.message.decode(\"latin1\"))\n",
      "AttributeError: 'str' object has no attribute 'decode'\n",
      "\n",
      "  warnings.warn(\"Estimator fit failed. The score on this train-test\"\n"
     ]
    },
    {
     "name": "stdout",
     "output_type": "stream",
     "text": [
      "[CV]  solver=lbfgs, hidden_layer_sizes=61, alpha=0.5, score=nan, total= 1.4min\n",
      "[CV] solver=lbfgs, hidden_layer_sizes=61, alpha=0.5 ..................\n"
     ]
    },
    {
     "name": "stderr",
     "output_type": "stream",
     "text": [
      "C:\\Users\\LEm\\Anaconda3\\lib\\site-packages\\sklearn\\model_selection\\_validation.py:548: FitFailedWarning: Estimator fit failed. The score on this train-test partition for these parameters will be set to nan. Details: \n",
      "Traceback (most recent call last):\n",
      "  File \"C:\\Users\\LEm\\Anaconda3\\lib\\site-packages\\sklearn\\model_selection\\_validation.py\", line 531, in _fit_and_score\n",
      "    estimator.fit(X_train, y_train, **fit_params)\n",
      "  File \"C:\\Users\\LEm\\Anaconda3\\lib\\site-packages\\sklearn\\neural_network\\_multilayer_perceptron.py\", line 1027, in fit\n",
      "    return self._fit(X, y, incremental=(self.warm_start and\n",
      "  File \"C:\\Users\\LEm\\Anaconda3\\lib\\site-packages\\sklearn\\neural_network\\_multilayer_perceptron.py\", line 375, in _fit\n",
      "    self._fit_lbfgs(X, y, activations, deltas, coef_grads,\n",
      "  File \"C:\\Users\\LEm\\Anaconda3\\lib\\site-packages\\sklearn\\neural_network\\_multilayer_perceptron.py\", line 471, in _fit_lbfgs\n",
      "    self.n_iter_ = _check_optimize_result(\"lbfgs\", opt_res, self.max_iter)\n",
      "  File \"C:\\Users\\LEm\\Anaconda3\\lib\\site-packages\\sklearn\\utils\\optimize.py\", line 243, in _check_optimize_result\n",
      "    ).format(solver, result.status, result.message.decode(\"latin1\"))\n",
      "AttributeError: 'str' object has no attribute 'decode'\n",
      "\n",
      "  warnings.warn(\"Estimator fit failed. The score on this train-test\"\n"
     ]
    },
    {
     "name": "stdout",
     "output_type": "stream",
     "text": [
      "[CV]  solver=lbfgs, hidden_layer_sizes=61, alpha=0.5, score=nan, total= 1.6min\n",
      "[CV] solver=lbfgs, hidden_layer_sizes=63, alpha=0.5 ..................\n"
     ]
    },
    {
     "name": "stderr",
     "output_type": "stream",
     "text": [
      "C:\\Users\\LEm\\Anaconda3\\lib\\site-packages\\sklearn\\model_selection\\_validation.py:548: FitFailedWarning: Estimator fit failed. The score on this train-test partition for these parameters will be set to nan. Details: \n",
      "Traceback (most recent call last):\n",
      "  File \"C:\\Users\\LEm\\Anaconda3\\lib\\site-packages\\sklearn\\model_selection\\_validation.py\", line 531, in _fit_and_score\n",
      "    estimator.fit(X_train, y_train, **fit_params)\n",
      "  File \"C:\\Users\\LEm\\Anaconda3\\lib\\site-packages\\sklearn\\neural_network\\_multilayer_perceptron.py\", line 1027, in fit\n",
      "    return self._fit(X, y, incremental=(self.warm_start and\n",
      "  File \"C:\\Users\\LEm\\Anaconda3\\lib\\site-packages\\sklearn\\neural_network\\_multilayer_perceptron.py\", line 375, in _fit\n",
      "    self._fit_lbfgs(X, y, activations, deltas, coef_grads,\n",
      "  File \"C:\\Users\\LEm\\Anaconda3\\lib\\site-packages\\sklearn\\neural_network\\_multilayer_perceptron.py\", line 471, in _fit_lbfgs\n",
      "    self.n_iter_ = _check_optimize_result(\"lbfgs\", opt_res, self.max_iter)\n",
      "  File \"C:\\Users\\LEm\\Anaconda3\\lib\\site-packages\\sklearn\\utils\\optimize.py\", line 243, in _check_optimize_result\n",
      "    ).format(solver, result.status, result.message.decode(\"latin1\"))\n",
      "AttributeError: 'str' object has no attribute 'decode'\n",
      "\n",
      "  warnings.warn(\"Estimator fit failed. The score on this train-test\"\n"
     ]
    },
    {
     "name": "stdout",
     "output_type": "stream",
     "text": [
      "[CV]  solver=lbfgs, hidden_layer_sizes=63, alpha=0.5, score=nan, total= 1.9min\n",
      "[CV] solver=lbfgs, hidden_layer_sizes=63, alpha=0.5 ..................\n"
     ]
    },
    {
     "name": "stderr",
     "output_type": "stream",
     "text": [
      "C:\\Users\\LEm\\Anaconda3\\lib\\site-packages\\sklearn\\model_selection\\_validation.py:548: FitFailedWarning: Estimator fit failed. The score on this train-test partition for these parameters will be set to nan. Details: \n",
      "Traceback (most recent call last):\n",
      "  File \"C:\\Users\\LEm\\Anaconda3\\lib\\site-packages\\sklearn\\model_selection\\_validation.py\", line 531, in _fit_and_score\n",
      "    estimator.fit(X_train, y_train, **fit_params)\n",
      "  File \"C:\\Users\\LEm\\Anaconda3\\lib\\site-packages\\sklearn\\neural_network\\_multilayer_perceptron.py\", line 1027, in fit\n",
      "    return self._fit(X, y, incremental=(self.warm_start and\n",
      "  File \"C:\\Users\\LEm\\Anaconda3\\lib\\site-packages\\sklearn\\neural_network\\_multilayer_perceptron.py\", line 375, in _fit\n",
      "    self._fit_lbfgs(X, y, activations, deltas, coef_grads,\n",
      "  File \"C:\\Users\\LEm\\Anaconda3\\lib\\site-packages\\sklearn\\neural_network\\_multilayer_perceptron.py\", line 471, in _fit_lbfgs\n",
      "    self.n_iter_ = _check_optimize_result(\"lbfgs\", opt_res, self.max_iter)\n",
      "  File \"C:\\Users\\LEm\\Anaconda3\\lib\\site-packages\\sklearn\\utils\\optimize.py\", line 243, in _check_optimize_result\n",
      "    ).format(solver, result.status, result.message.decode(\"latin1\"))\n",
      "AttributeError: 'str' object has no attribute 'decode'\n",
      "\n",
      "  warnings.warn(\"Estimator fit failed. The score on this train-test\"\n"
     ]
    },
    {
     "name": "stdout",
     "output_type": "stream",
     "text": [
      "[CV]  solver=lbfgs, hidden_layer_sizes=63, alpha=0.5, score=nan, total= 1.7min\n",
      "[CV] solver=lbfgs, hidden_layer_sizes=63, alpha=0.5 ..................\n"
     ]
    },
    {
     "name": "stderr",
     "output_type": "stream",
     "text": [
      "C:\\Users\\LEm\\Anaconda3\\lib\\site-packages\\sklearn\\model_selection\\_validation.py:548: FitFailedWarning: Estimator fit failed. The score on this train-test partition for these parameters will be set to nan. Details: \n",
      "Traceback (most recent call last):\n",
      "  File \"C:\\Users\\LEm\\Anaconda3\\lib\\site-packages\\sklearn\\model_selection\\_validation.py\", line 531, in _fit_and_score\n",
      "    estimator.fit(X_train, y_train, **fit_params)\n",
      "  File \"C:\\Users\\LEm\\Anaconda3\\lib\\site-packages\\sklearn\\neural_network\\_multilayer_perceptron.py\", line 1027, in fit\n",
      "    return self._fit(X, y, incremental=(self.warm_start and\n",
      "  File \"C:\\Users\\LEm\\Anaconda3\\lib\\site-packages\\sklearn\\neural_network\\_multilayer_perceptron.py\", line 375, in _fit\n",
      "    self._fit_lbfgs(X, y, activations, deltas, coef_grads,\n",
      "  File \"C:\\Users\\LEm\\Anaconda3\\lib\\site-packages\\sklearn\\neural_network\\_multilayer_perceptron.py\", line 471, in _fit_lbfgs\n",
      "    self.n_iter_ = _check_optimize_result(\"lbfgs\", opt_res, self.max_iter)\n",
      "  File \"C:\\Users\\LEm\\Anaconda3\\lib\\site-packages\\sklearn\\utils\\optimize.py\", line 243, in _check_optimize_result\n",
      "    ).format(solver, result.status, result.message.decode(\"latin1\"))\n",
      "AttributeError: 'str' object has no attribute 'decode'\n",
      "\n",
      "  warnings.warn(\"Estimator fit failed. The score on this train-test\"\n"
     ]
    },
    {
     "name": "stdout",
     "output_type": "stream",
     "text": [
      "[CV]  solver=lbfgs, hidden_layer_sizes=63, alpha=0.5, score=nan, total= 1.7min\n",
      "[CV] solver=lbfgs, hidden_layer_sizes=63, alpha=0.5 ..................\n"
     ]
    },
    {
     "name": "stderr",
     "output_type": "stream",
     "text": [
      "C:\\Users\\LEm\\Anaconda3\\lib\\site-packages\\sklearn\\model_selection\\_validation.py:548: FitFailedWarning: Estimator fit failed. The score on this train-test partition for these parameters will be set to nan. Details: \n",
      "Traceback (most recent call last):\n",
      "  File \"C:\\Users\\LEm\\Anaconda3\\lib\\site-packages\\sklearn\\model_selection\\_validation.py\", line 531, in _fit_and_score\n",
      "    estimator.fit(X_train, y_train, **fit_params)\n",
      "  File \"C:\\Users\\LEm\\Anaconda3\\lib\\site-packages\\sklearn\\neural_network\\_multilayer_perceptron.py\", line 1027, in fit\n",
      "    return self._fit(X, y, incremental=(self.warm_start and\n",
      "  File \"C:\\Users\\LEm\\Anaconda3\\lib\\site-packages\\sklearn\\neural_network\\_multilayer_perceptron.py\", line 375, in _fit\n",
      "    self._fit_lbfgs(X, y, activations, deltas, coef_grads,\n",
      "  File \"C:\\Users\\LEm\\Anaconda3\\lib\\site-packages\\sklearn\\neural_network\\_multilayer_perceptron.py\", line 471, in _fit_lbfgs\n",
      "    self.n_iter_ = _check_optimize_result(\"lbfgs\", opt_res, self.max_iter)\n",
      "  File \"C:\\Users\\LEm\\Anaconda3\\lib\\site-packages\\sklearn\\utils\\optimize.py\", line 243, in _check_optimize_result\n",
      "    ).format(solver, result.status, result.message.decode(\"latin1\"))\n",
      "AttributeError: 'str' object has no attribute 'decode'\n",
      "\n",
      "  warnings.warn(\"Estimator fit failed. The score on this train-test\"\n"
     ]
    },
    {
     "name": "stdout",
     "output_type": "stream",
     "text": [
      "[CV]  solver=lbfgs, hidden_layer_sizes=63, alpha=0.5, score=nan, total= 1.7min\n",
      "[CV] solver=lbfgs, hidden_layer_sizes=63, alpha=0.5 ..................\n"
     ]
    },
    {
     "name": "stderr",
     "output_type": "stream",
     "text": [
      "C:\\Users\\LEm\\Anaconda3\\lib\\site-packages\\sklearn\\model_selection\\_validation.py:548: FitFailedWarning: Estimator fit failed. The score on this train-test partition for these parameters will be set to nan. Details: \n",
      "Traceback (most recent call last):\n",
      "  File \"C:\\Users\\LEm\\Anaconda3\\lib\\site-packages\\sklearn\\model_selection\\_validation.py\", line 531, in _fit_and_score\n",
      "    estimator.fit(X_train, y_train, **fit_params)\n",
      "  File \"C:\\Users\\LEm\\Anaconda3\\lib\\site-packages\\sklearn\\neural_network\\_multilayer_perceptron.py\", line 1027, in fit\n",
      "    return self._fit(X, y, incremental=(self.warm_start and\n",
      "  File \"C:\\Users\\LEm\\Anaconda3\\lib\\site-packages\\sklearn\\neural_network\\_multilayer_perceptron.py\", line 375, in _fit\n",
      "    self._fit_lbfgs(X, y, activations, deltas, coef_grads,\n",
      "  File \"C:\\Users\\LEm\\Anaconda3\\lib\\site-packages\\sklearn\\neural_network\\_multilayer_perceptron.py\", line 471, in _fit_lbfgs\n",
      "    self.n_iter_ = _check_optimize_result(\"lbfgs\", opt_res, self.max_iter)\n",
      "  File \"C:\\Users\\LEm\\Anaconda3\\lib\\site-packages\\sklearn\\utils\\optimize.py\", line 243, in _check_optimize_result\n",
      "    ).format(solver, result.status, result.message.decode(\"latin1\"))\n",
      "AttributeError: 'str' object has no attribute 'decode'\n",
      "\n",
      "  warnings.warn(\"Estimator fit failed. The score on this train-test\"\n"
     ]
    },
    {
     "name": "stdout",
     "output_type": "stream",
     "text": [
      "[CV]  solver=lbfgs, hidden_layer_sizes=63, alpha=0.5, score=nan, total= 1.7min\n",
      "[CV] solver=adam, hidden_layer_sizes=54, alpha=1.0 ...................\n",
      "[CV]  solver=adam, hidden_layer_sizes=54, alpha=1.0, score=0.945, total=   9.5s\n",
      "[CV] solver=adam, hidden_layer_sizes=54, alpha=1.0 ...................\n",
      "[CV]  solver=adam, hidden_layer_sizes=54, alpha=1.0, score=0.947, total=   9.9s\n",
      "[CV] solver=adam, hidden_layer_sizes=54, alpha=1.0 ...................\n",
      "[CV]  solver=adam, hidden_layer_sizes=54, alpha=1.0, score=0.949, total=   9.6s\n",
      "[CV] solver=adam, hidden_layer_sizes=54, alpha=1.0 ...................\n",
      "[CV]  solver=adam, hidden_layer_sizes=54, alpha=1.0, score=0.949, total=   7.7s\n",
      "[CV] solver=adam, hidden_layer_sizes=54, alpha=1.0 ...................\n",
      "[CV]  solver=adam, hidden_layer_sizes=54, alpha=1.0, score=0.954, total=   7.1s\n"
     ]
    },
    {
     "name": "stderr",
     "output_type": "stream",
     "text": [
      "[Parallel(n_jobs=1)]: Done  50 out of  50 | elapsed: 40.8min finished\n"
     ]
    }
   ],
   "source": [
    "best_params = []\n",
    "cv_results = []\n",
    "best_score = []\n",
    "\n",
    "for i in feature_combinations:\n",
    "    \n",
    "    X_train = train_X[i]\n",
    "    \n",
    "    \n",
    "    AUTO_SCALING = True\n",
    "    if AUTO_SCALING:\n",
    "        scaler = StandardScaler()\n",
    "        scaler.fit(X_train)\n",
    "        X_training = scaler.transform(X_train)\n",
    "        #validation_X = scaler.transform(validation_X)\n",
    "        \n",
    "        \n",
    "    nnetwork = MLPClassifier(max_iter=1000)\n",
    "\n",
    "    \n",
    "    param_grid = {\"hidden_layer_sizes\": np.arange(30, 70, 1),\n",
    "              \"alpha\": np.arange(0,2, 0.5),\n",
    "                'solver': ['lbfgs', 'adam']}\n",
    "    \n",
    "    nnetwork = RandomizedSearchCV(estimator=nnetwork, param_distributions=param_grid,verbose=3, cv = 5, scoring = 'f1')\n",
    "    nnetwork.fit(X_training, train_y)\n",
    "    \n",
    "    best_params.append(nnetwork.best_params_)\n",
    "    cv_results.append(nnetwork.cv_results_)\n",
    "    best_score.append(nnetwork.best_score_)"
   ]
  },
  {
   "cell_type": "code",
   "execution_count": 7,
   "metadata": {},
   "outputs": [],
   "source": [
    "best_params_df = pd.DataFrame(best_params)\n",
    "best_params_df.to_excel('MLP_best_params_RandomSearch.xlsx')"
   ]
  },
  {
   "cell_type": "code",
   "execution_count": 8,
   "metadata": {},
   "outputs": [],
   "source": [
    "cv_results_df = pd.DataFrame(cv_results)\n",
    "cv_results_df.to_excel('MLP_cv_scores_RandomSearch.xlsx')"
   ]
  },
  {
   "cell_type": "code",
   "execution_count": 9,
   "metadata": {},
   "outputs": [],
   "source": [
    "best_score_df = pd.DataFrame(best_score)\n",
    "best_score_df.to_excel('MLP_best_cv_scores_RandomSearch.xlsx')"
   ]
  },
  {
   "cell_type": "code",
   "execution_count": null,
   "metadata": {},
   "outputs": [],
   "source": []
  }
 ],
 "metadata": {
  "kernelspec": {
   "display_name": "Python 3",
   "language": "python",
   "name": "python3"
  },
  "language_info": {
   "codemirror_mode": {
    "name": "ipython",
    "version": 3
   },
   "file_extension": ".py",
   "mimetype": "text/x-python",
   "name": "python",
   "nbconvert_exporter": "python",
   "pygments_lexer": "ipython3",
   "version": "3.8.3"
  }
 },
 "nbformat": 4,
 "nbformat_minor": 4
}
